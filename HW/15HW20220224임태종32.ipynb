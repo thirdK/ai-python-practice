{
 "cells": [
  {
   "cell_type": "code",
   "execution_count": 1,
   "id": "beb266a7",
   "metadata": {},
   "outputs": [],
   "source": [
    "# 1.\n",
    "# d"
   ]
  },
  {
   "cell_type": "code",
   "execution_count": 2,
   "id": "cd9a5d6d",
   "metadata": {},
   "outputs": [],
   "source": [
    "# 2\n",
    "# b"
   ]
  },
  {
   "cell_type": "code",
   "execution_count": 3,
   "id": "1b063f21",
   "metadata": {},
   "outputs": [],
   "source": [
    "# 3\n",
    "# c"
   ]
  },
  {
   "cell_type": "code",
   "execution_count": 4,
   "id": "48bed2e3",
   "metadata": {},
   "outputs": [],
   "source": [
    "# 4\n",
    "# d"
   ]
  },
  {
   "cell_type": "code",
   "execution_count": 6,
   "id": "f972f3bf",
   "metadata": {},
   "outputs": [],
   "source": [
    "# 5\n",
    "# c"
   ]
  },
  {
   "cell_type": "code",
   "execution_count": 7,
   "id": "57d96c98",
   "metadata": {},
   "outputs": [],
   "source": [
    "# 6\n",
    "# b"
   ]
  },
  {
   "cell_type": "code",
   "execution_count": 8,
   "id": "9bd3c961",
   "metadata": {},
   "outputs": [],
   "source": [
    "# 7\n",
    "# b"
   ]
  },
  {
   "cell_type": "code",
   "execution_count": 9,
   "id": "6b20dd4c",
   "metadata": {},
   "outputs": [],
   "source": [
    "# 8\n",
    "# a"
   ]
  },
  {
   "cell_type": "code",
   "execution_count": 10,
   "id": "15a94734",
   "metadata": {},
   "outputs": [],
   "source": [
    "# 9\n",
    "# d"
   ]
  },
  {
   "cell_type": "code",
   "execution_count": 13,
   "id": "b95ced38",
   "metadata": {},
   "outputs": [],
   "source": [
    "# 10\n",
    "# b"
   ]
  },
  {
   "cell_type": "code",
   "execution_count": 25,
   "id": "d207692a",
   "metadata": {},
   "outputs": [
    {
     "name": "stdout",
     "output_type": "stream",
     "text": [
      "43 is Odd\n"
     ]
    }
   ],
   "source": [
    "check = lambda a:True if a%2 == 0 else False\n",
    "a=43\n",
    "\n",
    "if check(a):\n",
    "    print(f'{a} is Even')\n",
    "else:\n",
    "    print(f'{a} is Odd')"
   ]
  },
  {
   "cell_type": "code",
   "execution_count": null,
   "id": "ce2c01a7",
   "metadata": {},
   "outputs": [],
   "source": []
  },
  {
   "cell_type": "code",
   "execution_count": null,
   "id": "a86ff575",
   "metadata": {},
   "outputs": [],
   "source": []
  },
  {
   "cell_type": "code",
   "execution_count": null,
   "id": "f329a31b",
   "metadata": {},
   "outputs": [],
   "source": []
  }
 ],
 "metadata": {
  "kernelspec": {
   "display_name": "Python 3 (ipykernel)",
   "language": "python",
   "name": "python3"
  },
  "language_info": {
   "codemirror_mode": {
    "name": "ipython",
    "version": 3
   },
   "file_extension": ".py",
   "mimetype": "text/x-python",
   "name": "python",
   "nbconvert_exporter": "python",
   "pygments_lexer": "ipython3",
   "version": "3.9.7"
  }
 },
 "nbformat": 4,
 "nbformat_minor": 5
}
