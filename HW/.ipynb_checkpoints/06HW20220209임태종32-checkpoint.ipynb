{
 "cells": [
  {
   "cell_type": "code",
   "execution_count": 13,
   "id": "ee36b5dc",
   "metadata": {},
   "outputs": [],
   "source": [
    "# 436\n",
    "# c. No\n",
    "\n",
    "# x='' 이므로 아무 값이 없어서 boolean타입으로 변경시 False가 반환된다."
   ]
  },
  {
   "cell_type": "code",
   "execution_count": 14,
   "id": "fb24fcff",
   "metadata": {},
   "outputs": [],
   "source": [
    "# 437\n",
    "# b. Yes\n",
    "\n",
    "# x=' ' 이므로 공백이 있어서 boolean타입으로 변경시 True가 반환된다."
   ]
  },
  {
   "cell_type": "code",
   "execution_count": 15,
   "id": "44c8a33f",
   "metadata": {},
   "outputs": [],
   "source": [
    "# 438\n",
    "# a. No\n",
    "\n",
    "# x=[] 리스트에 값이 없으므로 False가 반환된다."
   ]
  },
  {
   "cell_type": "code",
   "execution_count": 16,
   "id": "228f4d4f",
   "metadata": {},
   "outputs": [],
   "source": [
    "# 439\n",
    "# b. Yes\n",
    "\n",
    "# x=[1,2,3] 리스트에 값이 존재하므로 True가 반환된다."
   ]
  },
  {
   "cell_type": "code",
   "execution_count": 17,
   "id": "b98b308d",
   "metadata": {},
   "outputs": [],
   "source": [
    "# 440\n",
    "# a. Yes\n",
    "\n",
    "# x는 비어있어서 False가 반환되는데 \n",
    "# not(논리부정)연산자에 의해 True로 바뀐다."
   ]
  },
  {
   "cell_type": "code",
   "execution_count": 18,
   "id": "a452169d",
   "metadata": {},
   "outputs": [],
   "source": [
    "# 441\n",
    "# c. Python\n",
    "\n",
    "# eval()함수는 String타입의 인수를 받아 ''나 \"\" 사이의 식이나 함수등을 실행시킨다.\n",
    "# 즉 String타입으로 만든 식이나 함수등을 eval()를 이용하면 실행이된다."
   ]
  },
  {
   "cell_type": "code",
   "execution_count": 19,
   "id": "f4c867d2",
   "metadata": {},
   "outputs": [],
   "source": [
    "# 442\n",
    "# c. 90\n",
    "\n",
    "# input() 함수는 입력받은 값을 문자열로 저장한다.\n",
    "# eval()함수는 들어온 문자열 식을 실행시키므로 45*2가 연산되어 90이 나올것이다."
   ]
  },
  {
   "cell_type": "code",
   "execution_count": 21,
   "id": "a238c22c",
   "metadata": {},
   "outputs": [],
   "source": [
    "# 443\n",
    "# b. Python 3 is Good\n",
    "\n",
    "# exec() 함수는 문자열을 인수로 받아. 실행시킨다\n",
    "# eval()과 차이는 eval()은 expression(수식) 처리가 가능하고 \n",
    "# exec()는 statement(문) 처리가 가능하다\n",
    "# 즉 eval()은 'a=1+3'같은 문 처리가 불가능하고 exec()은 가능하다\n",
    "# eval()은 '5*2' 같은 식 처리가 가능하고 exec()도 식 처리가 가능하다.\n",
    "# 식 < 문"
   ]
  },
  {
   "cell_type": "code",
   "execution_count": 22,
   "id": "e5bdfb49",
   "metadata": {},
   "outputs": [],
   "source": [
    "# 444\n",
    "# d. c\n",
    "\n",
    "# max()함수는 가장 큰 값을 찾아내 반환하며\n",
    "# '문자'의 크기 비교는 아스키코드를 비교한다 알파벳의 아스키코드는 \n",
    "# 대문자가 소문자보다 작으므로 소문자중 가장 큰 c가 반환된다."
   ]
  },
  {
   "cell_type": "code",
   "execution_count": 23,
   "id": "0f2b900c",
   "metadata": {},
   "outputs": [],
   "source": [
    "# 445\n",
    "# b. A\n",
    "\n",
    "# min() 함수는 가장 작은 값을 찾아내 반환한다."
   ]
  },
  {
   "cell_type": "code",
   "execution_count": 24,
   "id": "c8d47d9a",
   "metadata": {},
   "outputs": [],
   "source": [
    "# 446\n",
    "# d. c\n",
    "\n",
    "# 정수와 문자의 비교는 -> 정수와 문자의 아스키코드 의 비교이다.\n",
    "# 1과 'a'를 비교하면 'a'아스키 코드는 97 -> 1 < 97 이다."
   ]
  },
  {
   "cell_type": "code",
   "execution_count": 25,
   "id": "8ed27267",
   "metadata": {},
   "outputs": [],
   "source": [
    "# 447\n",
    "# c. 1\n",
    "\n",
    "# 문제의 리스트에서 문자중 제일 작은 'A'는 65이다."
   ]
  },
  {
   "cell_type": "code",
   "execution_count": 26,
   "id": "e7089da1",
   "metadata": {},
   "outputs": [],
   "source": [
    "# 448\n",
    "# d. 6\n",
    "\n",
    "# sum()함수는 요소들을 합하여 반환한다."
   ]
  },
  {
   "cell_type": "code",
   "execution_count": 27,
   "id": "1f151e54",
   "metadata": {},
   "outputs": [],
   "source": [
    "# 449\n",
    "# c. 18\n",
    "\n",
    "# list의 요소는 [0, 3, 6, 9] 이다."
   ]
  },
  {
   "cell_type": "code",
   "execution_count": 28,
   "id": "592c66e0",
   "metadata": {},
   "outputs": [],
   "source": [
    "# 450\n",
    "# b. 0\n",
    "\n",
    "# range(10,-10,3) -> 10부터 -10이전 까지 3씩 증가시켜라\n",
    "# 불가능하다 리스트에 값이 존재하지 않을것이다."
   ]
  },
  {
   "cell_type": "code",
   "execution_count": 29,
   "id": "3f57bc79",
   "metadata": {},
   "outputs": [],
   "source": [
    "# 451\n",
    "# a. -24\n",
    "\n",
    "# list의 요소는 [-10, -8, -6, -4, -2, 0, 2, 4]"
   ]
  },
  {
   "cell_type": "code",
   "execution_count": 37,
   "id": "808cefbd",
   "metadata": {},
   "outputs": [
    {
     "name": "stdout",
     "output_type": "stream",
     "text": [
      "[[1, 500], 3, 4]\n",
      "[[1, 500], 3, 4]\n"
     ]
    }
   ],
   "source": [
    "# 452\n",
    "# c. [5,4,3,2,1]\n",
    "\n",
    "# copy()함수는 얕은복사를 실행하지만 리스트의 요소가 int 같은 immutable은 영향을 받지 않는다.\n",
    "# immutalbe 값은 어차피 값이 변경되면 주소가 바뀌기 때문이다\n",
    "\n",
    "# x = [5, 4, 3, 2, 1]\n",
    "\n",
    "# y = x \n",
    "# y와 x는 같은 참조값을 가진다. 즉, 같은 메모리 주소(list의 시작지점)를 가리키고있다\n",
    "\n",
    "# y = x.copy()      # copy()와 copy.copy()는 얕은복사이다. \n",
    "# x와 y는 다른 참조값을 가지지만 list내부의 객체는 같은 참조값을 가진다.\n",
    "# 즉, x[0] 과 y[0]은 같은 참조값을 가진다. 그렇기 때문에 요소가 mutable인\n",
    "# collection 타입이 들어오면 내부 요소를 공유한다.\n",
    "x = [[1,2],3,4] \n",
    "y= x.copy()\n",
    "y[0][1] = 500\n",
    "print(x)\n",
    "print(y)\n",
    "# 하지만 immutable인 int 값은 어차피 값이 바뀌면 참조값도 바뀌기때문에 영향이 없다.\n",
    "\n",
    "# 내부객체도 다른 참조값을 가지게 하려면 깊은 복사인 copy.deepcopy()를 사용하면 된다."
   ]
  },
  {
   "cell_type": "code",
   "execution_count": 33,
   "id": "de4bb937",
   "metadata": {},
   "outputs": [],
   "source": [
    "# 453\n",
    "# d. 5\n",
    "\n",
    "# append()로 값을 추가하면 배열의 끝에추가되므로 y[0] 에는 영향이 없을 것이다."
   ]
  },
  {
   "cell_type": "code",
   "execution_count": 38,
   "id": "72b1a945",
   "metadata": {},
   "outputs": [],
   "source": [
    "# 454\n",
    "# d. False\n",
    "\n",
    "# iskeyword()메소드는 키워드의 존재 여부를 boolean형태로 반환한다. 'IS'는 키워드가 아니다."
   ]
  },
  {
   "cell_type": "code",
   "execution_count": 39,
   "id": "93e84254",
   "metadata": {},
   "outputs": [],
   "source": [
    "# 455\n",
    "# a. True\n",
    "\n",
    "# 'for'는 키워드이므로 True"
   ]
  },
  {
   "cell_type": "code",
   "execution_count": 94,
   "id": "3f8556f6",
   "metadata": {},
   "outputs": [
    {
     "name": "stdout",
     "output_type": "stream",
     "text": [
      "4000\n"
     ]
    }
   ],
   "source": [
    "# Algorithm Homework\n",
    "lst = [i for i in range(1,10001)] #1~10000까지 값을 같는 리스트 생성\n",
    "cnt = 0 #카운트할 변수\n",
    "\n",
    "for i in lst: #반복문을 통해 lst의 요소를 불러옴\n",
    "    st = str(i) #각 자리수마다 검사하기위해 문자열로 형변환\n",
    "    for j in st: #각 자리수를 j로 순차적으로 넘김\n",
    "        if j == '8': #j가 '8'이면\n",
    "            cnt += 1 #cnt 1증가\n",
    "print(cnt)"
   ]
  }
 ],
 "metadata": {
  "kernelspec": {
   "display_name": "Python 3 (ipykernel)",
   "language": "python",
   "name": "python3"
  },
  "language_info": {
   "codemirror_mode": {
    "name": "ipython",
    "version": 3
   },
   "file_extension": ".py",
   "mimetype": "text/x-python",
   "name": "python",
   "nbconvert_exporter": "python",
   "pygments_lexer": "ipython3",
   "version": "3.9.7"
  }
 },
 "nbformat": 4,
 "nbformat_minor": 5
}
