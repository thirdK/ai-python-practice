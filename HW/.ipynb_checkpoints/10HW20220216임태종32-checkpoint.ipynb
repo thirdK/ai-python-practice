{
 "cells": [
  {
   "cell_type": "code",
   "execution_count": null,
   "id": "039dd451",
   "metadata": {},
   "outputs": [],
   "source": [
    "# 516\n",
    "\n",
    "# c. Tuple"
   ]
  },
  {
   "cell_type": "code",
   "execution_count": null,
   "id": "1c45a831",
   "metadata": {},
   "outputs": [],
   "source": [
    "# 517\n",
    "\n",
    "# d. List"
   ]
  },
  {
   "cell_type": "code",
   "execution_count": null,
   "id": "f144a741",
   "metadata": {},
   "outputs": [],
   "source": [
    "# 518\n",
    "# d. List"
   ]
  },
  {
   "cell_type": "code",
   "execution_count": null,
   "id": "93f6a5a9",
   "metadata": {},
   "outputs": [],
   "source": [
    "# 519\n",
    "# c. Tuple"
   ]
  },
  {
   "cell_type": "code",
   "execution_count": null,
   "id": "006172fd",
   "metadata": {},
   "outputs": [],
   "source": [
    "# 520\n",
    "# b. Python"
   ]
  },
  {
   "cell_type": "code",
   "execution_count": null,
   "id": "3e205888",
   "metadata": {},
   "outputs": [],
   "source": [
    "# 521\n",
    "# a. ('Python',)"
   ]
  },
  {
   "cell_type": "code",
   "execution_count": null,
   "id": "28dea829",
   "metadata": {},
   "outputs": [],
   "source": [
    "# 522\n",
    "# b. (0, 2, 4, 6)"
   ]
  },
  {
   "cell_type": "code",
   "execution_count": null,
   "id": "9273a37d",
   "metadata": {},
   "outputs": [],
   "source": [
    "# 523\n",
    "# a. [0, 2, 4, 6] "
   ]
  },
  {
   "cell_type": "code",
   "execution_count": null,
   "id": "bd4b5e2e",
   "metadata": {},
   "outputs": [],
   "source": [
    "# 524\n",
    "# c. ['P', 'y', 't', 'h', 'o', 'n']"
   ]
  },
  {
   "cell_type": "code",
   "execution_count": 19,
   "id": "d5432d65",
   "metadata": {},
   "outputs": [],
   "source": [
    "# 525\n",
    "# a. ('P', 'y', 't', 'h', 'o', 'n')"
   ]
  },
  {
   "cell_type": "code",
   "execution_count": null,
   "id": "34b79671",
   "metadata": {},
   "outputs": [],
   "source": [
    "# 526\n",
    "# c. [4, 6, 7, 8, 9]"
   ]
  },
  {
   "cell_type": "code",
   "execution_count": null,
   "id": "506e6445",
   "metadata": {},
   "outputs": [],
   "source": [
    "# 527\n",
    "# c. [4, 6, 7, 8, 9]"
   ]
  },
  {
   "cell_type": "code",
   "execution_count": null,
   "id": "8c6824ab",
   "metadata": {},
   "outputs": [],
   "source": [
    "# 528\n",
    "# b. [7, 8, 9, 44]"
   ]
  },
  {
   "cell_type": "code",
   "execution_count": null,
   "id": "8609deda",
   "metadata": {},
   "outputs": [],
   "source": [
    "# 529\n",
    "# d. 1"
   ]
  },
  {
   "cell_type": "code",
   "execution_count": null,
   "id": "d28ec215",
   "metadata": {},
   "outputs": [],
   "source": [
    "# 530\n",
    "# a. 3"
   ]
  },
  {
   "cell_type": "code",
   "execution_count": null,
   "id": "2bce43b5",
   "metadata": {},
   "outputs": [],
   "source": [
    "# 531\n",
    "#  b. [[5, 4, 6, 2, 1], [7, 8, 9]]"
   ]
  },
  {
   "cell_type": "code",
   "execution_count": null,
   "id": "7dfd05fc",
   "metadata": {},
   "outputs": [],
   "source": [
    "# 532\n",
    "# a. [[5, 4, 3, 2, 1], [7, 8, 9]]"
   ]
  },
  {
   "cell_type": "code",
   "execution_count": null,
   "id": "e62dd4d0",
   "metadata": {},
   "outputs": [],
   "source": [
    "# 533\n",
    "# b. KeyError"
   ]
  },
  {
   "cell_type": "code",
   "execution_count": 25,
   "id": "d448a2c2",
   "metadata": {},
   "outputs": [],
   "source": [
    "# 534\n",
    "# a. Sunday 10 "
   ]
  },
  {
   "cell_type": "code",
   "execution_count": 32,
   "id": "55f28cbd",
   "metadata": {},
   "outputs": [],
   "source": [
    "# 535\n",
    "# b. day week"
   ]
  },
  {
   "cell_type": "code",
   "execution_count": null,
   "id": "a635f53f",
   "metadata": {},
   "outputs": [],
   "source": []
  },
  {
   "cell_type": "code",
   "execution_count": 42,
   "id": "cfefbf6a",
   "metadata": {},
   "outputs": [
    {
     "name": "stdout",
     "output_type": "stream",
     "text": [
      "숫자를 입력하세요 : 1234.7\n",
      "1234.0\n",
      "0.7000000000000455\n"
     ]
    }
   ],
   "source": [
    "iNum = input('숫자를 입력하세요 : ')\n",
    "a = float(iNum)\n",
    "print(a//1)\n",
    "print(a%1)"
   ]
  },
  {
   "cell_type": "code",
   "execution_count": 62,
   "id": "f48eaa50",
   "metadata": {},
   "outputs": [
    {
     "name": "stdout",
     "output_type": "stream",
     "text": [
      "숫자를 입력하세요 : 1.2001\n",
      "소수입니다.\n"
     ]
    }
   ],
   "source": [
    "try:\n",
    "    iNum = float(input('숫자를 입력하세요 : '))\n",
    "    if iNum%1 == 0:\n",
    "        print('정수입니다.')\n",
    "    else:\n",
    "        print('소수입니다.')\n",
    "except:\n",
    "    print('math error')\n",
    "\n"
   ]
  }
 ],
 "metadata": {
  "kernelspec": {
   "display_name": "Python 3 (ipykernel)",
   "language": "python",
   "name": "python3"
  },
  "language_info": {
   "codemirror_mode": {
    "name": "ipython",
    "version": 3
   },
   "file_extension": ".py",
   "mimetype": "text/x-python",
   "name": "python",
   "nbconvert_exporter": "python",
   "pygments_lexer": "ipython3",
   "version": "3.9.7"
  }
 },
 "nbformat": 4,
 "nbformat_minor": 5
}
