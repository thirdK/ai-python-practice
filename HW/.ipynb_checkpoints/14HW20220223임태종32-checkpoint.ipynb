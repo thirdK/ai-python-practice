{
 "cells": [
  {
   "cell_type": "code",
   "execution_count": 2,
   "id": "427c4d22",
   "metadata": {},
   "outputs": [],
   "source": [
    "# 1\n",
    "# a. 17"
   ]
  },
  {
   "cell_type": "code",
   "execution_count": 3,
   "id": "82f51e5c",
   "metadata": {},
   "outputs": [],
   "source": [
    "# 2\n",
    "# d. A function"
   ]
  },
  {
   "cell_type": "code",
   "execution_count": 4,
   "id": "916fa397",
   "metadata": {},
   "outputs": [],
   "source": [
    "# 3.\n",
    "# b. 01234"
   ]
  },
  {
   "cell_type": "code",
   "execution_count": 5,
   "id": "f4480812",
   "metadata": {},
   "outputs": [],
   "source": [
    "# 4.\n",
    "# a. 123"
   ]
  },
  {
   "cell_type": "code",
   "execution_count": 6,
   "id": "06c453d3",
   "metadata": {},
   "outputs": [],
   "source": [
    "# 5\n",
    "# a. x y z"
   ]
  },
  {
   "cell_type": "code",
   "execution_count": 9,
   "id": "ac62498f",
   "metadata": {},
   "outputs": [],
   "source": [
    "# 6\n",
    "# d."
   ]
  },
  {
   "cell_type": "code",
   "execution_count": 10,
   "id": "dd5160b9",
   "metadata": {},
   "outputs": [],
   "source": [
    "# 7\n",
    "# a. 1 6 11 16 21"
   ]
  },
  {
   "cell_type": "code",
   "execution_count": 11,
   "id": "4acf95c4",
   "metadata": {},
   "outputs": [],
   "source": [
    "# 8\n",
    "# a"
   ]
  },
  {
   "cell_type": "code",
   "execution_count": 13,
   "id": "ca4f79a1",
   "metadata": {},
   "outputs": [],
   "source": [
    "# 9\n",
    "# b.10 45"
   ]
  },
  {
   "cell_type": "code",
   "execution_count": 14,
   "id": "c782943e",
   "metadata": {},
   "outputs": [],
   "source": [
    "# 10\n",
    "# b. false"
   ]
  },
  {
   "cell_type": "code",
   "execution_count": 28,
   "id": "b81ec576",
   "metadata": {},
   "outputs": [
    {
     "name": "stdout",
     "output_type": "stream",
     "text": [
      "정수입력 : 0\n",
      "input: n = 0\n",
      "output: False\n"
     ]
    }
   ],
   "source": [
    "import math\n",
    "def isPrime(n):\n",
    "    if n<2:\n",
    "        return False\n",
    "    sqrtN = int(math.sqrt(n))\n",
    "    for i in range(2, sqrtN+1):\n",
    "        if n%i == 0:\n",
    "            return False\n",
    "    return True\n",
    "        \n",
    "    \n",
    "n = int(input('정수입력 : '))\n",
    "print(f'input: n = {n}')\n",
    "print(f'output: {isPrime(n)}')\n"
   ]
  }
 ],
 "metadata": {
  "kernelspec": {
   "display_name": "Python 3 (ipykernel)",
   "language": "python",
   "name": "python3"
  },
  "language_info": {
   "codemirror_mode": {
    "name": "ipython",
    "version": 3
   },
   "file_extension": ".py",
   "mimetype": "text/x-python",
   "name": "python",
   "nbconvert_exporter": "python",
   "pygments_lexer": "ipython3",
   "version": "3.9.7"
  }
 },
 "nbformat": 4,
 "nbformat_minor": 5
}
