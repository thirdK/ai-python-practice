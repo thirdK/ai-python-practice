{
 "cells": [
  {
   "cell_type": "code",
   "execution_count": 1,
   "id": "0c2da0e1",
   "metadata": {},
   "outputs": [],
   "source": [
    "# 1\n",
    "# d.#"
   ]
  },
  {
   "cell_type": "code",
   "execution_count": null,
   "id": "2f0b994a",
   "metadata": {},
   "outputs": [],
   "source": [
    "# 2.\n",
    "# d. sep = '!'"
   ]
  },
  {
   "cell_type": "code",
   "execution_count": null,
   "id": "54d3fe9f",
   "metadata": {},
   "outputs": [],
   "source": [
    "# 3.\n",
    "# b. False"
   ]
  },
  {
   "cell_type": "code",
   "execution_count": null,
   "id": "c023effa",
   "metadata": {},
   "outputs": [],
   "source": [
    "# 4\n",
    "# b. 2416"
   ]
  },
  {
   "cell_type": "code",
   "execution_count": null,
   "id": "d16e2b82",
   "metadata": {},
   "outputs": [],
   "source": [
    "# 5\n",
    "# a. Integer"
   ]
  },
  {
   "cell_type": "code",
   "execution_count": 2,
   "id": "f03012ae",
   "metadata": {},
   "outputs": [],
   "source": [
    "# 6.\n",
    "# c. x will have the value of 3, y will have the value 4 and z will have the value of 5 "
   ]
  },
  {
   "cell_type": "code",
   "execution_count": null,
   "id": "26ef2bc6",
   "metadata": {},
   "outputs": [],
   "source": [
    "# 7\n",
    "# d. [5,4,3,2,1]"
   ]
  },
  {
   "cell_type": "code",
   "execution_count": null,
   "id": "ce922da7",
   "metadata": {},
   "outputs": [],
   "source": [
    "# 8\n",
    "# a. []"
   ]
  },
  {
   "cell_type": "code",
   "execution_count": 4,
   "id": "6d3d3b44",
   "metadata": {},
   "outputs": [],
   "source": [
    "# 9\n",
    "# d.Boolean"
   ]
  },
  {
   "cell_type": "code",
   "execution_count": 5,
   "id": "537e36ea",
   "metadata": {},
   "outputs": [],
   "source": [
    "# 10\n",
    "# b. String"
   ]
  },
  {
   "cell_type": "code",
   "execution_count": null,
   "id": "bd064fbe",
   "metadata": {},
   "outputs": [],
   "source": [
    "#"
   ]
  },
  {
   "cell_type": "code",
   "execution_count": 23,
   "id": "2ac55951",
   "metadata": {},
   "outputs": [
    {
     "name": "stdout",
     "output_type": "stream",
     "text": [
      "result >> 234168\n"
     ]
    }
   ],
   "source": [
    "# 3의 배수의 합\n",
    "# 5의 배수의 합\n",
    "# 15의 배수는 중복됨\n",
    "num = [i for i in range(3, 1000, 3)] + [i for i in range(5, 1000, 5)]\n",
    "print(f'result >> {sum(list(set(num)))}')"
   ]
  },
  {
   "cell_type": "code",
   "execution_count": 25,
   "id": "18c99005",
   "metadata": {},
   "outputs": [
    {
     "name": "stdout",
     "output_type": "stream",
     "text": [
      "result >> 233168\n"
     ]
    }
   ],
   "source": [
    "num = [i for i in range(3, 1000, 3)] + [i for i in range(5, 1000, 5)]\n",
    "print(f'result >> {sum(set(num))}')"
   ]
  },
  {
   "cell_type": "code",
   "execution_count": 27,
   "id": "d1797076",
   "metadata": {},
   "outputs": [
    {
     "name": "stdout",
     "output_type": "stream",
     "text": [
      "result >> 233168\n"
     ]
    }
   ],
   "source": [
    "print(f'result >> {sum(set([i for i in range(3, 1000, 3)] + [i for i in range(5, 1000, 5)]))}')"
   ]
  }
 ],
 "metadata": {
  "kernelspec": {
   "display_name": "Python 3 (ipykernel)",
   "language": "python",
   "name": "python3"
  },
  "language_info": {
   "codemirror_mode": {
    "name": "ipython",
    "version": 3
   },
   "file_extension": ".py",
   "mimetype": "text/x-python",
   "name": "python",
   "nbconvert_exporter": "python",
   "pygments_lexer": "ipython3",
   "version": "3.9.7"
  }
 },
 "nbformat": 4,
 "nbformat_minor": 5
}
