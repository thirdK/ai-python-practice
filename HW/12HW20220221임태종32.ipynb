{
 "cells": [
  {
   "cell_type": "code",
   "execution_count": null,
   "id": "75e6ebde",
   "metadata": {},
   "outputs": [],
   "source": [
    "# 556\n",
    "# b. Python jobs"
   ]
  },
  {
   "cell_type": "code",
   "execution_count": null,
   "id": "471a691d",
   "metadata": {},
   "outputs": [],
   "source": [
    "# 557\n",
    "# a. python 3 jobs"
   ]
  },
  {
   "cell_type": "code",
   "execution_count": null,
   "id": "a28b26a9",
   "metadata": {},
   "outputs": [],
   "source": [
    "# 558\n",
    "# b. PYTHON JOBS"
   ]
  },
  {
   "cell_type": "code",
   "execution_count": null,
   "id": "68703403",
   "metadata": {},
   "outputs": [],
   "source": [
    "# 559\n",
    "# c. False"
   ]
  },
  {
   "cell_type": "code",
   "execution_count": null,
   "id": "b7bd65df",
   "metadata": {},
   "outputs": [],
   "source": [
    "# 560\n",
    "# b. Python is interesting"
   ]
  },
  {
   "cell_type": "code",
   "execution_count": 5,
   "id": "be4314b7",
   "metadata": {},
   "outputs": [],
   "source": [
    "# 561\n",
    "# d. ['Python', 'is', 'interesting’] "
   ]
  },
  {
   "cell_type": "code",
   "execution_count": null,
   "id": "f81c5cc0",
   "metadata": {},
   "outputs": [],
   "source": [
    "# 562\n",
    "# a. ['Today is a nice day.', \"Let's go for a walk.\", \"We'll also go to the park.\"]"
   ]
  },
  {
   "cell_type": "code",
   "execution_count": null,
   "id": "d002d8c2",
   "metadata": {},
   "outputs": [],
   "source": [
    "# 563\n",
    "#  c. Python 2 and Python 3"
   ]
  },
  {
   "cell_type": "code",
   "execution_count": null,
   "id": "14dcc57d",
   "metadata": {},
   "outputs": [],
   "source": [
    "# 564\n",
    "#  b. Python 2 and Py "
   ]
  },
  {
   "cell_type": "code",
   "execution_count": null,
   "id": "e230fd6b",
   "metadata": {},
   "outputs": [],
   "source": [
    "# 565\n",
    "# a. A comment"
   ]
  },
  {
   "cell_type": "code",
   "execution_count": null,
   "id": "23e69524",
   "metadata": {},
   "outputs": [],
   "source": [
    "# 566\n",
    "# c. 444-4444"
   ]
  },
  {
   "cell_type": "code",
   "execution_count": 47,
   "id": "82b1ae06",
   "metadata": {},
   "outputs": [],
   "source": [
    "# 567\n",
    "#  b. 4444"
   ]
  },
  {
   "cell_type": "code",
   "execution_count": null,
   "id": "7b5fee85",
   "metadata": {},
   "outputs": [],
   "source": [
    "# 568\n",
    "# d. 444"
   ]
  },
  {
   "cell_type": "code",
   "execution_count": null,
   "id": "75edd072",
   "metadata": {},
   "outputs": [],
   "source": [
    "# 569\n",
    "# c. 444-4444"
   ]
  },
  {
   "cell_type": "code",
   "execution_count": null,
   "id": "899c9689",
   "metadata": {},
   "outputs": [],
   "source": [
    "# 570\n",
    "# c. 444-4444"
   ]
  },
  {
   "cell_type": "code",
   "execution_count": 59,
   "id": "d9ad4713",
   "metadata": {},
   "outputs": [],
   "source": [
    "# 571\n",
    "# d. (444)"
   ]
  },
  {
   "cell_type": "code",
   "execution_count": null,
   "id": "df685f45",
   "metadata": {},
   "outputs": [],
   "source": [
    "# 572\n",
    "# c. Python 3"
   ]
  },
  {
   "cell_type": "code",
   "execution_count": null,
   "id": "f290dc36",
   "metadata": {},
   "outputs": [],
   "source": [
    "# 573\n",
    "#  b. Python 2"
   ]
  },
  {
   "cell_type": "code",
   "execution_count": 62,
   "id": "d9f69ffb",
   "metadata": {},
   "outputs": [],
   "source": [
    "# 574\n",
    "# a. day"
   ]
  },
  {
   "cell_type": "code",
   "execution_count": null,
   "id": "d5f66176",
   "metadata": {},
   "outputs": [],
   "source": [
    "# 575\n",
    "# a. day"
   ]
  },
  {
   "cell_type": "code",
   "execution_count": 73,
   "id": "f1ddfe7d",
   "metadata": {},
   "outputs": [
    {
     "name": "stdout",
     "output_type": "stream",
     "text": [
      "2 6\n"
     ]
    }
   ],
   "source": [
    "names =\"이유덕,이재영,권종표,이재영,박민호,강상희,이재영,김지완,최승혁,이성연,박영서,박민호,전경헌,송정환,김재성,이유덕,전경헌\".split(\",\")\n",
    "kim=0\n",
    "lee=0\n",
    "for i in range(len(names)):\n",
    "    if names[i][0] in '김':\n",
    "        kim += 1\n",
    "    elif names[i][0] in '이':\n",
    "        lee += 1\n",
    "        \n",
    "print(kim, lee)"
   ]
  },
  {
   "cell_type": "code",
   "execution_count": 91,
   "id": "d2d09c16",
   "metadata": {},
   "outputs": [
    {
     "name": "stdout",
     "output_type": "stream",
     "text": [
      "김씨 >> 2, 이씨 >> 6\n",
      "이재영 >> 3\n",
      "['전경헌', '송정환', '강상희', '이재영', '박영서', '김지완', '이성연', '권종표', '이유덕', '김재성', '최승혁', '박민호']\n",
      "['강상희', '권종표', '김재성', '김지완', '박민호', '박영서', '송정환', '이성연', '이유덕', '이재영', '전경헌', '최승혁']\n"
     ]
    }
   ],
   "source": [
    "import re\n",
    "\n",
    "names =\"이유덕,이재영,권종표,이재영,박민호,강상희,이재영,김지완,최승혁,이성연,박영서,박민호,전경헌,송정환,김재성,이유덕,전경헌\".split(\",\")\n",
    "kcount = 0\n",
    "lcount = 0\n",
    "kim= re.compile('김\\D\\D')\n",
    "lee= re.compile('이\\D\\D')\n",
    "\n",
    "for i in range(len(names)):\n",
    "    if kim.match(names[i]):\n",
    "        kcount += 1\n",
    "    elif lee.match(names[i]):\n",
    "        lcount += 1\n",
    "\n",
    "print(f'김씨 >> {kcount}, 이씨 >> {lcount}')\n",
    "\n",
    "cnt = 0\n",
    "for i in names:\n",
    "    if i == '이재영':\n",
    "        cnt += 1\n",
    "print(f'이재영 >> {cnt}')\n",
    "\n",
    "\n",
    "sName = list(set(names))\n",
    "print(sName)\n",
    "\n",
    "sName.sort()\n",
    "print(sName)\n",
    "\n",
    "\n",
    "    "
   ]
  }
 ],
 "metadata": {
  "kernelspec": {
   "display_name": "Python 3 (ipykernel)",
   "language": "python",
   "name": "python3"
  },
  "language_info": {
   "codemirror_mode": {
    "name": "ipython",
    "version": 3
   },
   "file_extension": ".py",
   "mimetype": "text/x-python",
   "name": "python",
   "nbconvert_exporter": "python",
   "pygments_lexer": "ipython3",
   "version": "3.9.7"
  }
 },
 "nbformat": 4,
 "nbformat_minor": 5
}
