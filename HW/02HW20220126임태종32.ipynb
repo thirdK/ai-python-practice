{
  "nbformat": 4,
  "nbformat_minor": 0,
  "metadata": {
    "colab": {
      "name": "02HW20220126임태종32.ipynb",
      "provenance": [],
      "collapsed_sections": [],
      "authorship_tag": "ABX9TyMZw8o5m0CaNxrWQjN8fyf+",
      "include_colab_link": true
    },
    "kernelspec": {
      "name": "python3",
      "display_name": "Python 3"
    },
    "language_info": {
      "name": "python"
    }
  },
  "cells": [
    {
      "cell_type": "markdown",
      "metadata": {
        "id": "view-in-github",
        "colab_type": "text"
      },
      "source": [
        "<a href=\"https://colab.research.google.com/github/thirdK/ai/blob/main/02HW20220126%EC%9E%84%ED%83%9C%EC%A2%8532.ipynb\" target=\"_parent\"><img src=\"https://colab.research.google.com/assets/colab-badge.svg\" alt=\"Open In Colab\"/></a>"
      ]
    },
    {
      "cell_type": "code",
      "execution_count": 12,
      "metadata": {
        "colab": {
          "base_uri": "https://localhost:8080/"
        },
        "id": "T5zJ-WYvaYZp",
        "outputId": "49fab496-4db4-4226-a180-967659485f88"
      },
      "outputs": [
        {
          "output_type": "stream",
          "name": "stdout",
          "text": [
            "['닥터 스트레인지', '스플릿', '럭키']\n"
          ]
        }
      ],
      "source": [
        "#051\n",
        "movie_rank = [\"닥터 스트레인지\", \"스플릿\", \"럭키\"]\n",
        "print(movie_rank)"
      ]
    },
    {
      "cell_type": "code",
      "source": [
        "#052\n",
        "movie_rank = [\"닥터 스트레인지\", \"스플릿\", \"럭키\"]\n",
        "movie_rank.append(\"배트맨\")\n",
        "print(movie_rank)"
      ],
      "metadata": {
        "colab": {
          "base_uri": "https://localhost:8080/"
        },
        "id": "R0UgUi29bEUu",
        "outputId": "2a18cb6b-6c63-4694-cbb8-c8ba6e0ead9d"
      },
      "execution_count": 11,
      "outputs": [
        {
          "output_type": "stream",
          "name": "stdout",
          "text": [
            "['닥터 스트레인지', '스플릿', '럭키', '배트맨']\n"
          ]
        }
      ]
    },
    {
      "cell_type": "code",
      "source": [
        "#053\n",
        "movie_rank = [\"닥터 스트레인지\", \"스플릿\", \"럭키\", \"배트맨\"]\n",
        "movie_rank.insert(1,\"슈퍼맨\")\n",
        "print(movie_rank)"
      ],
      "metadata": {
        "colab": {
          "base_uri": "https://localhost:8080/"
        },
        "id": "RF8bE9rzbVMs",
        "outputId": "4f84c79e-0c80-4872-c324-d886d2bc5808"
      },
      "execution_count": 13,
      "outputs": [
        {
          "output_type": "stream",
          "name": "stdout",
          "text": [
            "['닥터 스트레인지', '슈퍼맨', '스플릿', '럭키', '배트맨']\n"
          ]
        }
      ]
    },
    {
      "cell_type": "code",
      "source": [
        "#054\n",
        "movie_rank = [\"닥터 스트레인지\", \"슈퍼맨\", \"스플릿\", \"럭키\", \"배트맨\"]\n",
        "movie_rank.remove(\"럭키\")\n",
        "print(movie_rank)"
      ],
      "metadata": {
        "colab": {
          "base_uri": "https://localhost:8080/"
        },
        "id": "9ORvmxmkbl3b",
        "outputId": "f3436a03-3497-4132-ffdf-40bdecb1942d"
      },
      "execution_count": 17,
      "outputs": [
        {
          "output_type": "stream",
          "name": "stdout",
          "text": [
            "['닥터 스트레인지', '슈퍼맨', '스플릿', '배트맨']\n"
          ]
        }
      ]
    },
    {
      "cell_type": "code",
      "source": [
        "#055\n",
        "movie_rank = [\"닥터 스트레인지\", \"슈퍼맨\", \"스플릿\", \"배트맨\"]\n",
        "del movie_rank[2]\n",
        "del movie_rank[-1]\n",
        "\n",
        "print(movie_rank)"
      ],
      "metadata": {
        "colab": {
          "base_uri": "https://localhost:8080/"
        },
        "id": "S7lvkZ9DcTKD",
        "outputId": "6a94ea1e-4b05-42cf-c815-fa14e196a56d"
      },
      "execution_count": 21,
      "outputs": [
        {
          "output_type": "stream",
          "name": "stdout",
          "text": [
            "['닥터 스트레인지', '슈퍼맨']\n"
          ]
        }
      ]
    },
    {
      "cell_type": "code",
      "source": [
        "#056\n",
        "lang1 = [\"C\", \"C++\", \"JAVA\"]\n",
        "lang2 = [\"Python\", \"Go\", \"C#\"]\n",
        "\n",
        "langs = lang1 + lang2\n",
        "print(langs)"
      ],
      "metadata": {
        "colab": {
          "base_uri": "https://localhost:8080/"
        },
        "id": "sxPHr_3RcvUc",
        "outputId": "a83147b7-4a29-4e36-db82-22f5c42dccc9"
      },
      "execution_count": 23,
      "outputs": [
        {
          "output_type": "stream",
          "name": "stdout",
          "text": [
            "['C', 'C++', 'JAVA', 'Python', 'Go', 'C#']\n"
          ]
        }
      ]
    },
    {
      "cell_type": "code",
      "source": [
        "#057\n",
        "nums = [1,2,3,4,5,6,7]\n",
        "\n",
        "print(\"max:\",max(nums))\n",
        "print(\"min:\",min(nums))"
      ],
      "metadata": {
        "colab": {
          "base_uri": "https://localhost:8080/"
        },
        "id": "D6UWTeE3dRZ7",
        "outputId": "368959ee-9e3b-4a32-d7d3-1e7c6956670b"
      },
      "execution_count": 28,
      "outputs": [
        {
          "output_type": "stream",
          "name": "stdout",
          "text": [
            "max: 7\n",
            "min: 1\n"
          ]
        }
      ]
    },
    {
      "cell_type": "code",
      "source": [
        "#058\n",
        "nums = [1,2,3,4,5]\n",
        "\n",
        "#sum_nums = sum(nums)\n",
        "sum_nums = nums[0] + nums[1] + nums[2] + nums[3] + nums[4]\n",
        "\n",
        "print(sum_nums)"
      ],
      "metadata": {
        "colab": {
          "base_uri": "https://localhost:8080/"
        },
        "id": "78yjDzgudoCa",
        "outputId": "3da207cd-3564-4a73-894f-2e0107ca1743"
      },
      "execution_count": 14,
      "outputs": [
        {
          "output_type": "stream",
          "name": "stdout",
          "text": [
            "15\n"
          ]
        }
      ]
    },
    {
      "cell_type": "code",
      "source": [
        "#059\n",
        "cook = [\"피자\", \"김밥\", \"만두\", \"양념치킨\", \"족발\", \"피자\", \"김치만두\", \"쫄면\", \"쏘세지\", \"라면\", \"팥빙수\", \"김치전\"]\n",
        "print(len(cook))"
      ],
      "metadata": {
        "colab": {
          "base_uri": "https://localhost:8080/"
        },
        "id": "mgvtOSl2e1ER",
        "outputId": "01b65370-1d38-4621-bc42-6520978d30df"
      },
      "execution_count": 11,
      "outputs": [
        {
          "output_type": "stream",
          "name": "stdout",
          "text": [
            "12\n"
          ]
        }
      ]
    },
    {
      "cell_type": "code",
      "source": [
        "#060\n",
        "nums = [1,2,3,4,5]\n",
        "sum_nums = sum(nums)\n",
        "aver = sum_nums / len(nums)\n",
        "\n",
        "print(aver)"
      ],
      "metadata": {
        "colab": {
          "base_uri": "https://localhost:8080/"
        },
        "id": "1skWpp-XfJS7",
        "outputId": "54843276-cc7e-435d-e43e-52a4804d8f4d"
      },
      "execution_count": 4,
      "outputs": [
        {
          "output_type": "stream",
          "name": "stdout",
          "text": [
            "3.0\n"
          ]
        }
      ]
    },
    {
      "cell_type": "code",
      "source": [
        "#121\n",
        "eng = input(\"영문자 입력 >> \")\n",
        "if eng.islower():\n",
        "  print(eng.upper())\n",
        "else:\n",
        "  print(eng.lower())"
      ],
      "metadata": {
        "colab": {
          "base_uri": "https://localhost:8080/"
        },
        "id": "Y6fXk0-3gVAp",
        "outputId": "dac7272d-923e-4f72-fc2f-10163422a16d"
      },
      "execution_count": 15,
      "outputs": [
        {
          "output_type": "stream",
          "name": "stdout",
          "text": [
            "영문자 입력 >> A\n",
            "a\n"
          ]
        }
      ]
    },
    {
      "cell_type": "code",
      "source": [
        "#122\n",
        "score = int(input(\"score : \"))\n",
        "\n",
        "if score > 80:\n",
        "  grade = 'A'\n",
        "elif score >60:\n",
        "  grade = 'B'\n",
        "elif score >40:\n",
        "  grade = 'C'\n",
        "elif score >20:\n",
        "  grade = 'D'\n",
        "else:\n",
        "  grade = 'E'\n",
        "\n",
        "print(f\"grade is {grade}\")"
      ],
      "metadata": {
        "colab": {
          "base_uri": "https://localhost:8080/"
        },
        "id": "d82a7JedhjqI",
        "outputId": "6fbeb6ff-de4e-41e4-b865-b446f66f9038"
      },
      "execution_count": 20,
      "outputs": [
        {
          "output_type": "stream",
          "name": "stdout",
          "text": [
            "score : 12\n",
            "grade is E\n"
          ]
        }
      ]
    },
    {
      "cell_type": "code",
      "source": [
        "#123\n",
        "money = input(\"입력 >> \")\n",
        "\n",
        "num = int(money[:-2]) #공백을 이용하여 뒤에서 2번째까지 제외하고 나머지는 정수로 형변환\n",
        "\n",
        "if \"달러\" in money:\n",
        "  ex = 1167\n",
        "elif \"엔\" in money:\n",
        "  ex = 1096\n",
        "elif \"유로\" in money:\n",
        "  ex = 1268\n",
        "elif \"위안\" in money:\n",
        "  ex = 171\n",
        "else:\n",
        "  print(\"잘못입력됨!\")\n",
        "  num=0               #잘못입력되면 0원으로 표시되도록 num에 0\n",
        "\n",
        "print(f\"{num*ex}원\")\n",
        "\n",
        "\n",
        "\n",
        "\n"
      ],
      "metadata": {
        "colab": {
          "base_uri": "https://localhost:8080/"
        },
        "id": "gngl_gXQiVag",
        "outputId": "4138ad2a-9d95-47ed-b176-fd6dd641416f"
      },
      "execution_count": 2,
      "outputs": [
        {
          "output_type": "stream",
          "name": "stdout",
          "text": [
            "입력 >> 100 달러\n",
            "116700원\n"
          ]
        }
      ]
    },
    {
      "cell_type": "code",
      "source": [
        "#124\n",
        "num1 = int(input(\"input number1 >> \"))\n",
        "num2 = int(input(\"input number2 >> \"))\n",
        "num3 = int(input(\"input number3 >> \"))\n",
        "\n",
        "# List와 max()함수 사용\n",
        "num_list = [num1, num2, num3]\n",
        "print(max(num_list))\n",
        "\n",
        "# if문 사용\n",
        "\n",
        "# max = num1\n",
        "\n",
        "# if num2 > max:\n",
        "#   max = num2\n",
        "\n",
        "# if num3 > max:\n",
        "#   max = num3\n",
        "\n",
        "# print(max)"
      ],
      "metadata": {
        "colab": {
          "base_uri": "https://localhost:8080/"
        },
        "id": "6DY6Cz1xqD3Q",
        "outputId": "1a5bf8dd-7ffc-41c7-dd9c-e343fe1932dc"
      },
      "execution_count": 3,
      "outputs": [
        {
          "output_type": "stream",
          "name": "stdout",
          "text": [
            "input number1 >> 4\n",
            "input number2 >> 9\n",
            "input number3 >> 2\n",
            "9\n"
          ]
        }
      ]
    },
    {
      "cell_type": "code",
      "source": [
        "#125\n",
        "phone_num = input(\"휴대전화 번호 입력 >> \")\n",
        "\n",
        "num_key = phone_num[:3]\n",
        "\n",
        "dict_com = {\"011\": \"SKT\",\n",
        "            \"016\": \"KT\",\n",
        "            \"019\": \"LGU\",\n",
        "            \"010\": \"알수없음\"\n",
        "            }\n",
        "print(f\"당신은 {dict_com[num_key]} 사용자입니다.\")\n",
        "\n",
        "\n",
        "\n",
        "\n",
        "  "
      ],
      "metadata": {
        "colab": {
          "base_uri": "https://localhost:8080/"
        },
        "id": "cHKwKioIrbWv",
        "outputId": "36b30c1d-bdf1-4d17-edf8-0e377594b1dc"
      },
      "execution_count": 7,
      "outputs": [
        {
          "output_type": "stream",
          "name": "stdout",
          "text": [
            "휴대전화 번호 입력 >> 011-123-1234\n",
            "당신은 SKT 사용자입니다.\n"
          ]
        }
      ]
    },
    {
      "cell_type": "code",
      "source": [
        "#126\n",
        "p_num = input(\"우편번호 >> \")\n",
        "\n",
        "if int(p_num[2]) < 3:\n",
        "  print(\"강북구\")\n",
        "elif int(p_num[2]) < 6:\n",
        "  print(\"도봉구\")\n",
        "elif int(p_num[2]) < 10:\n",
        "  print(\"노원구\")"
      ],
      "metadata": {
        "colab": {
          "base_uri": "https://localhost:8080/"
        },
        "id": "1TVrh0If3D6S",
        "outputId": "d8e47c3d-e858-4c09-a159-e6998ece7012"
      },
      "execution_count": 15,
      "outputs": [
        {
          "output_type": "stream",
          "name": "stdout",
          "text": [
            "우편번호 >> 01234\n",
            "강북구\n"
          ]
        }
      ]
    },
    {
      "cell_type": "code",
      "source": [
        "#127\n",
        "id_num = input(\"주민등록번호 >> \")\n",
        "\n",
        "check = int(id_num[-7])\n",
        "\n",
        "if check == 1 or check ==3:\n",
        "  print(\"남자\")\n",
        "elif check ==2 or check ==4:\n",
        "  print(\"여자\")\n",
        "else:\n",
        "  print(\"잘못된입력!\")"
      ],
      "metadata": {
        "colab": {
          "base_uri": "https://localhost:8080/"
        },
        "id": "OCSHhSLP4WDa",
        "outputId": "c8c582c6-a327-4c53-9e97-b4992b8bea48"
      },
      "execution_count": 25,
      "outputs": [
        {
          "output_type": "stream",
          "name": "stdout",
          "text": [
            "주민등록번호 >> 1231233\n",
            "1\n",
            "남자\n"
          ]
        }
      ]
    },
    {
      "cell_type": "code",
      "source": [
        "#128\n",
        "id_num = input(\"주민등록번호 >> \")\n",
        "\n",
        "check = int(id_num[-6:-4])\n",
        "\n",
        "if check < 9:\n",
        "  print(\"서울 입니다.\")\n",
        "else:\n",
        "  print(\"서울이 아닙니다.\")"
      ],
      "metadata": {
        "colab": {
          "base_uri": "https://localhost:8080/"
        },
        "id": "PW6Q5A6A6M15",
        "outputId": "ec90cec3-e9ec-4258-94d8-0488b7bd0707"
      },
      "execution_count": 31,
      "outputs": [
        {
          "output_type": "stream",
          "name": "stdout",
          "text": [
            "주민등록번호 >> 910625-1234567\n",
            "23\n",
            "서울이 아닙니다.\n"
          ]
        }
      ]
    },
    {
      "cell_type": "code",
      "source": [
        "#129 반복문필요"
      ],
      "metadata": {
        "id": "eeW-hweH7Mhx"
      },
      "execution_count": 32,
      "outputs": []
    },
    {
      "cell_type": "code",
      "source": [
        "#130\n",
        "import requests\n",
        "btc = requests.get(\"https://api.bithumb.com/public/ticker/\").json()['data']\n",
        "\n",
        "# btc[\"opening_price\"]  #시가\n",
        "# btc[\"closing_price\"]  #종가\n",
        "# btc[\"min_price\"]      #저가\n",
        "# btc[\"max_price\"]      #고가\n",
        "\n",
        "check = int(btc[\"max_price\"]) - int(btc[\"min_price\"]) #변동폭 정수형\n",
        "open_p = int(btc[\"opening_price\"])  #시가 정수형\n",
        "max_p = int(btc[\"max_price\"]) #고가 정수형\n",
        "\n",
        "if (check + open_p) > max_p:\n",
        "  print(\"상승장\")\n",
        "else:\n",
        "  print(\"하락장\")\n",
        "\n"
      ],
      "metadata": {
        "colab": {
          "base_uri": "https://localhost:8080/"
        },
        "id": "1wws-Uzs9O2G",
        "outputId": "fdacca95-1552-4b61-e40d-78ff8572f356"
      },
      "execution_count": 40,
      "outputs": [
        {
          "output_type": "stream",
          "name": "stdout",
          "text": [
            "상승장\n"
          ]
        }
      ]
    }
  ]
}