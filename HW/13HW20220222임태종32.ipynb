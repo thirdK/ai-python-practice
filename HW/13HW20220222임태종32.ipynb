{
 "cells": [
  {
   "cell_type": "code",
   "execution_count": 1,
   "id": "e6813941",
   "metadata": {},
   "outputs": [],
   "source": [
    "# 1\n",
    "# d.#"
   ]
  },
  {
   "cell_type": "code",
   "execution_count": null,
   "id": "20192678",
   "metadata": {},
   "outputs": [],
   "source": [
    "# 2.\n",
    "# d. sep = '!'"
   ]
  },
  {
   "cell_type": "code",
   "execution_count": null,
   "id": "159ec50b",
   "metadata": {},
   "outputs": [],
   "source": [
    "# 3.\n",
    "# b. False"
   ]
  },
  {
   "cell_type": "code",
   "execution_count": null,
   "id": "397722ff",
   "metadata": {},
   "outputs": [],
   "source": [
    "# 4\n",
    "# b. 2416"
   ]
  },
  {
   "cell_type": "code",
   "execution_count": null,
   "id": "258d32a9",
   "metadata": {},
   "outputs": [],
   "source": [
    "# 5\n",
    "# a. Integer"
   ]
  },
  {
   "cell_type": "code",
   "execution_count": 2,
   "id": "46527f45",
   "metadata": {},
   "outputs": [],
   "source": [
    "# 6.\n",
    "# c. x will have the value of 3, y will have the value 4 and z will have the value of 5 "
   ]
  },
  {
   "cell_type": "code",
   "execution_count": null,
   "id": "517c900d",
   "metadata": {},
   "outputs": [],
   "source": [
    "# 7\n",
    "# d. [5,4,3,2,1]"
   ]
  },
  {
   "cell_type": "code",
   "execution_count": null,
   "id": "d9afecbf",
   "metadata": {},
   "outputs": [],
   "source": [
    "# 8\n",
    "# a. []"
   ]
  },
  {
   "cell_type": "code",
   "execution_count": 4,
   "id": "025478ee",
   "metadata": {},
   "outputs": [],
   "source": [
    "# 9\n",
    "# d.Boolean"
   ]
  },
  {
   "cell_type": "code",
   "execution_count": 5,
   "id": "465044f7",
   "metadata": {},
   "outputs": [],
   "source": [
    "# 10\n",
    "# b. String"
   ]
  },
  {
   "cell_type": "code",
   "execution_count": null,
   "id": "1118508b",
   "metadata": {},
   "outputs": [],
   "source": [
    "#"
   ]
  },
  {
   "cell_type": "code",
   "execution_count": 23,
   "id": "2cd95eef",
   "metadata": {},
   "outputs": [
    {
     "name": "stdout",
     "output_type": "stream",
     "text": [
      "result >> 234168\n"
     ]
    }
   ],
   "source": [
    "# 3의 배수의 합\n",
    "# 5의 배수의 합\n",
    "# 15의 배수는 중복됨\n",
    "num = [i for i in range(3, 1001, 3)] + [i for i in range(5, 1001, 5)]\n",
    "print(f'result >> {sum(list(set(num)))}')"
   ]
  },
  {
   "cell_type": "code",
   "execution_count": 25,
   "id": "ce734a74",
   "metadata": {},
   "outputs": [
    {
     "name": "stdout",
     "output_type": "stream",
     "text": [
      "result >> 233168\n"
     ]
    }
   ],
   "source": [
    "num = [i for i in range(3, 1000, 3)] + [i for i in range(5, 1000, 5)]\n",
    "print(f'result >> {sum(set(num))}')"
   ]
  },
  {
   "cell_type": "code",
   "execution_count": 27,
   "id": "f9110417",
   "metadata": {},
   "outputs": [
    {
     "name": "stdout",
     "output_type": "stream",
     "text": [
      "result >> 233168\n"
     ]
    }
   ],
   "source": [
    "print(f'result >> {sum(set([i for i in range(3, 1000, 3)] + [i for i in range(5, 1000, 5)]))}')"
   ]
  }
 ],
 "metadata": {
  "kernelspec": {
   "display_name": "Python 3 (ipykernel)",
   "language": "python",
   "name": "python3"
  },
  "language_info": {
   "codemirror_mode": {
    "name": "ipython",
    "version": 3
   },
   "file_extension": ".py",
   "mimetype": "text/x-python",
   "name": "python",
   "nbconvert_exporter": "python",
   "pygments_lexer": "ipython3",
   "version": "3.9.7"
  }
 },
 "nbformat": 4,
 "nbformat_minor": 5
}
