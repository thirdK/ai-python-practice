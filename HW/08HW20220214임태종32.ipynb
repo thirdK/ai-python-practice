{
 "cells": [
  {
   "cell_type": "code",
   "execution_count": 3,
   "id": "782abb80",
   "metadata": {},
   "outputs": [],
   "source": [
    "#476\n",
    "# a. NameError\n",
    "\n",
    "#함수 내부의 변수는 지역변수 이므로 함수 밖에서는 또는 다른 함수에서는 사용불가능"
   ]
  },
  {
   "cell_type": "code",
   "execution_count": 13,
   "id": "22bc5298",
   "metadata": {},
   "outputs": [],
   "source": [
    "# 477\n",
    "# c. 10"
   ]
  },
  {
   "cell_type": "code",
   "execution_count": 18,
   "id": "72317728",
   "metadata": {},
   "outputs": [],
   "source": [
    "# 478.\n",
    "# a. NameError"
   ]
  },
  {
   "cell_type": "code",
   "execution_count": 19,
   "id": "e7ee643e",
   "metadata": {},
   "outputs": [],
   "source": [
    "# 479\n",
    "# b. 12"
   ]
  },
  {
   "cell_type": "code",
   "execution_count": 20,
   "id": "42692253",
   "metadata": {},
   "outputs": [],
   "source": [
    "# 480\n",
    "# c. 10"
   ]
  },
  {
   "cell_type": "code",
   "execution_count": 21,
   "id": "e0026f29",
   "metadata": {},
   "outputs": [],
   "source": [
    "# 481\n",
    "# c. 10\n",
    "\n",
    "# global변수는 전역변수이며 전역변수는 어느곳에서든 사용가능하다."
   ]
  },
  {
   "cell_type": "code",
   "execution_count": 22,
   "id": "122dc3a5",
   "metadata": {},
   "outputs": [],
   "source": [
    "# 482\n",
    "# d. UnboundLocalError\n",
    "\n",
    "# 함수 밖의 지역변수를 함수 내부에서 사용하려하면 UnboundLocalError가 발생한다."
   ]
  },
  {
   "cell_type": "code",
   "execution_count": 29,
   "id": "65195f8e",
   "metadata": {},
   "outputs": [],
   "source": [
    "# 483\n",
    "# c. 5.0\n",
    "\n",
    "# 인수로 4를 넘겨주었고 함수는 매개변수로 4를 받아 20/4를 반환한다.\n",
    "# 정수/정수는 실수형으로 반환된다."
   ]
  },
  {
   "cell_type": "code",
   "execution_count": 30,
   "id": "781caeea",
   "metadata": {},
   "outputs": [],
   "source": [
    "# 484\n",
    "# d. ZeroDivisionError\n",
    "\n",
    "# 정수/0 은 ZeroDivisionError 발생"
   ]
  },
  {
   "cell_type": "code",
   "execution_count": 31,
   "id": "b69f3015",
   "metadata": {},
   "outputs": [],
   "source": [
    "# 485\n",
    "# c. Not a valid argument None \n",
    "# 0으로 나눴을 때 ZeroDivisionError가 발생하는데 \n",
    "# 예외처리를 사용하여 어떤 오류가 발생하든 Not a valid argument를 출력하고 이어서(end = '')\n",
    "# 연산 결과가 나타나는데 나누기에 실패했으므로 None이라고 나올것 이다."
   ]
  },
  {
   "cell_type": "code",
   "execution_count": 33,
   "id": "f975fa6e",
   "metadata": {},
   "outputs": [],
   "source": [
    "# 486\n",
    "# a. Not a valid argument 0 None\n",
    "\n",
    "# finally는 오류 여부와 상관없이 무조건 실행된다."
   ]
  },
  {
   "cell_type": "code",
   "execution_count": null,
   "id": "281d6003",
   "metadata": {},
   "outputs": [],
   "source": [
    "# 487\n",
    "# d. IndexError\n",
    "\n",
    "# x의 인덱스는 3까지만 존재한다."
   ]
  },
  {
   "cell_type": "code",
   "execution_count": 35,
   "id": "3c731aaa",
   "metadata": {},
   "outputs": [],
   "source": [
    "# 488\n",
    "# d. IndexError\n",
    "\n",
    "# []안에는 존재하는 index번호를 넣어야 한다."
   ]
  },
  {
   "cell_type": "code",
   "execution_count": 36,
   "id": "0dc427ff",
   "metadata": {},
   "outputs": [],
   "source": [
    "# 489\n",
    "#  c. TypeError \n",
    "\n",
    "# []안에는 정수형을 넣어야한다."
   ]
  },
  {
   "cell_type": "code",
   "execution_count": 38,
   "id": "d2356e7d",
   "metadata": {},
   "outputs": [],
   "source": [
    "# 490\n",
    "#  b. 3.0\n",
    "\n",
    "# int(2.0) 은 2 이므로"
   ]
  },
  {
   "cell_type": "code",
   "execution_count": 41,
   "id": "399b9f56",
   "metadata": {},
   "outputs": [],
   "source": [
    "# 491\n",
    "# a. Today is a niceday\n",
    "\n",
    "# +를 사용하여 문자열을 연결하면 띄어쓰기는 따로 설정해야한다."
   ]
  },
  {
   "cell_type": "code",
   "execution_count": 42,
   "id": "b1276515",
   "metadata": {},
   "outputs": [],
   "source": [
    "# 492\n",
    "# a. Today was a great day"
   ]
  },
  {
   "cell_type": "code",
   "execution_count": null,
   "id": "2a4978f6",
   "metadata": {},
   "outputs": [],
   "source": [
    "# 493\n",
    "# c. Monday was a great day \n",
    "\n",
    "# index가 -1이면 가장 마지막 index를 의미한다."
   ]
  },
  {
   "cell_type": "code",
   "execution_count": 43,
   "id": "a8319a5d",
   "metadata": {},
   "outputs": [],
   "source": [
    "# 494\n",
    "# a. Today was a great day \n",
    "\n",
    "# index번호 -1은 가장 마지막이고 -2, -3... 으로 증가하면 뒤에서부터 요소를 선택가능하다."
   ]
  },
  {
   "cell_type": "code",
   "execution_count": 44,
   "id": "a9a25ed8",
   "metadata": {},
   "outputs": [],
   "source": [
    "# 495\n",
    "#  d. Yesterday was a great day\n",
    "\n",
    "# index번호를 이용하여 값을 변경하고 사용한 문제"
   ]
  },
  {
   "cell_type": "code",
   "execution_count": 55,
   "id": "ae00e3de",
   "metadata": {},
   "outputs": [
    {
     "name": "stdout",
     "output_type": "stream",
     "text": [
      "[3, 4, 5, 6, 7] = 홀수 3개, 짝수 2개\n",
      "[12, 16, 22, 24, 29] = 홀수 1개, 짝수 4개\n",
      "[41, 43, 45, 47, 49] = 홀수 5개, 짝수 0개\n"
     ]
    }
   ],
   "source": [
    "#Algorithm Homework(#27)\n",
    "\n",
    "# 홀수와 짝수의 개수를 구하는 func함수를 만들기\n",
    "def func(numlist):\n",
    "    cnt = 0\n",
    "    for i in numlist:\n",
    "        if(i%2==0):\n",
    "            cnt += 1\n",
    "    print(f'{numlist} = 홀수 {len(numlist)-cnt}개, 짝수 {cnt}개')\n",
    "\n",
    "func([3, 4, 5, 6, 7])\n",
    "func([12, 16, 22, 24, 29])\n",
    "func([41, 43, 45, 47, 49])\n"
   ]
  }
 ],
 "metadata": {
  "kernelspec": {
   "display_name": "Python 3 (ipykernel)",
   "language": "python",
   "name": "python3"
  },
  "language_info": {
   "codemirror_mode": {
    "name": "ipython",
    "version": 3
   },
   "file_extension": ".py",
   "mimetype": "text/x-python",
   "name": "python",
   "nbconvert_exporter": "python",
   "pygments_lexer": "ipython3",
   "version": "3.9.7"
  }
 },
 "nbformat": 4,
 "nbformat_minor": 5
}
