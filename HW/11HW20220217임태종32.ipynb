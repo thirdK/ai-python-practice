{
 "cells": [
  {
   "cell_type": "code",
   "execution_count": 1,
   "id": "fec22057",
   "metadata": {},
   "outputs": [],
   "source": [
    "# 536\n",
    "# b. day week"
   ]
  },
  {
   "cell_type": "code",
   "execution_count": null,
   "id": "d8821323",
   "metadata": {},
   "outputs": [],
   "source": [
    "# 537\n",
    "# a. ('day', 'Sunday') ('week', 10)"
   ]
  },
  {
   "cell_type": "code",
   "execution_count": null,
   "id": "47cd1298",
   "metadata": {},
   "outputs": [],
   "source": [
    "# 538\n",
    "# c. ['day', 'week']"
   ]
  },
  {
   "cell_type": "code",
   "execution_count": null,
   "id": "b3a39be1",
   "metadata": {},
   "outputs": [],
   "source": [
    "# 539\n",
    "# a. (('week', 10), ('day', 'Sunday'))"
   ]
  },
  {
   "cell_type": "code",
   "execution_count": null,
   "id": "e51b0e45",
   "metadata": {},
   "outputs": [],
   "source": [
    "# 540\n",
    "#  b. ('Sunday', 10) "
   ]
  },
  {
   "cell_type": "code",
   "execution_count": null,
   "id": "28a8ebc7",
   "metadata": {},
   "outputs": [],
   "source": [
    "# 541\n",
    "# d. day Sunday week 10"
   ]
  },
  {
   "cell_type": "code",
   "execution_count": null,
   "id": "cb34e062",
   "metadata": {},
   "outputs": [],
   "source": [
    "# 542\n",
    "# c. False"
   ]
  },
  {
   "cell_type": "code",
   "execution_count": null,
   "id": "5dac4402",
   "metadata": {},
   "outputs": [],
   "source": [
    "# 543\n",
    "# b. True"
   ]
  },
  {
   "cell_type": "code",
   "execution_count": 7,
   "id": "3341e5a4",
   "metadata": {},
   "outputs": [],
   "source": [
    "# 544\n",
    "#  c. Sunday"
   ]
  },
  {
   "cell_type": "code",
   "execution_count": 10,
   "id": "a56f6a2d",
   "metadata": {},
   "outputs": [],
   "source": [
    "# 545\n",
    "# a. Friday"
   ]
  },
  {
   "cell_type": "code",
   "execution_count": null,
   "id": "50c775be",
   "metadata": {},
   "outputs": [],
   "source": [
    "# 546\n",
    "# b. 5 "
   ]
  },
  {
   "cell_type": "code",
   "execution_count": null,
   "id": "9d669524",
   "metadata": {},
   "outputs": [],
   "source": [
    "# 547\n",
    "# a. 10 "
   ]
  },
  {
   "cell_type": "code",
   "execution_count": null,
   "id": "f6622caf",
   "metadata": {},
   "outputs": [],
   "source": [
    "# 548\n",
    "# b. 2016"
   ]
  },
  {
   "cell_type": "code",
   "execution_count": null,
   "id": "d8973bc7",
   "metadata": {},
   "outputs": [],
   "source": [
    "# 549\n",
    "# d. {'year': 2016, 'month': 'March', 'day':'Tuesday' } "
   ]
  },
  {
   "cell_type": "code",
   "execution_count": 20,
   "id": "7a1194c6",
   "metadata": {},
   "outputs": [],
   "source": [
    "# 550\n",
    "# d. {'year': 2016, 'month': 'March', 'day':'Tuesday' } "
   ]
  },
  {
   "cell_type": "code",
   "execution_count": null,
   "id": "6a191030",
   "metadata": {},
   "outputs": [],
   "source": [
    "# 551\n",
    "# c. {'year': 2016, 'month': 'March', 'day':'Tuesday' } "
   ]
  },
  {
   "cell_type": "code",
   "execution_count": null,
   "id": "1702834f",
   "metadata": {},
   "outputs": [],
   "source": [
    "# 552\n",
    "#  d. Dictionary"
   ]
  },
  {
   "cell_type": "code",
   "execution_count": null,
   "id": "ab133c84",
   "metadata": {},
   "outputs": [],
   "source": [
    "# 553\n",
    "# a. Today is a \\n nice day"
   ]
  },
  {
   "cell_type": "code",
   "execution_count": 24,
   "id": "385a55ea",
   "metadata": {},
   "outputs": [],
   "source": [
    "# 554\n",
    "# a. PYTHON JOBS"
   ]
  },
  {
   "cell_type": "code",
   "execution_count": 25,
   "id": "cac41050",
   "metadata": {},
   "outputs": [],
   "source": [
    "# 555\n",
    "# d. python jobs"
   ]
  },
  {
   "cell_type": "code",
   "execution_count": 31,
   "id": "302c3e2f",
   "metadata": {},
   "outputs": [
    {
     "name": "stdout",
     "output_type": "stream",
     "text": [
      "아무 문자열을 입력 : 1krw0541o\n",
      "str : krwo\n",
      "int : 10541\n"
     ]
    }
   ],
   "source": [
    "in_str = input('아무 문자열을 입력 : ')\n",
    "\n",
    "st1 = ''\n",
    "st2 = ''\n",
    "\n",
    "for i in in_str:\n",
    "    if i.isalpha():\n",
    "        st1 += i\n",
    "    elif i >= '0' and i<='9':\n",
    "        st2 += i\n",
    "print('str :', st1)\n",
    "print('int :', st2)"
   ]
  }
 ],
 "metadata": {
  "kernelspec": {
   "display_name": "Python 3 (ipykernel)",
   "language": "python",
   "name": "python3"
  },
  "language_info": {
   "codemirror_mode": {
    "name": "ipython",
    "version": 3
   },
   "file_extension": ".py",
   "mimetype": "text/x-python",
   "name": "python",
   "nbconvert_exporter": "python",
   "pygments_lexer": "ipython3",
   "version": "3.9.7"
  }
 },
 "nbformat": 4,
 "nbformat_minor": 5
}
