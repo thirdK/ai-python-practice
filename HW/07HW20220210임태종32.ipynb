{
 "cells": [
  {
   "cell_type": "code",
   "execution_count": 61,
   "id": "0e84142d",
   "metadata": {},
   "outputs": [],
   "source": [
    "# 456\n",
    "# d. False\n",
    "\n",
    "# Python이라는 키워드는 없다."
   ]
  },
  {
   "cell_type": "code",
   "execution_count": 62,
   "id": "5d8867ef",
   "metadata": {},
   "outputs": [],
   "source": [
    "# 457\n",
    "# a. A random element from the list x\n",
    "\n",
    "# choice()는 일반적으로 사용시 매개변수로 받은 값중 1개를 랜덤으로 뽑는다."
   ]
  },
  {
   "cell_type": "code",
   "execution_count": 63,
   "id": "a3fe6821",
   "metadata": {},
   "outputs": [],
   "source": [
    "# 458\n",
    "# b. The shuffled list x whith the elements mixed up\n",
    "\n",
    "# shuffle()은 매개변수로 받은 값들을 섞어준다."
   ]
  },
  {
   "cell_type": "code",
   "execution_count": 64,
   "id": "03a78006",
   "metadata": {},
   "outputs": [],
   "source": [
    "# 459\n",
    "# c. None\n",
    "\n",
    "# random.shuffle()은 매개변수로 들어간 리스트 x 자체를 섞어버리므로 반환되는 값이 없다.\n",
    "# random.shuffle()이 파괴적인 함수이기 때문이다"
   ]
  },
  {
   "cell_type": "code",
   "execution_count": 65,
   "id": "66bd56f1",
   "metadata": {},
   "outputs": [],
   "source": [
    "# 460\n",
    "#  b. Python Jobs\n",
    "\n",
    "# sys.stdout.write()는 출력하는 함수이다.(print()와 다르게 자동 \\n는 없다)"
   ]
  },
  {
   "cell_type": "code",
   "execution_count": 66,
   "id": "deab1db3",
   "metadata": {},
   "outputs": [],
   "source": [
    "# 461\n",
    "# a. Current time in seconds since the Epoch at 00:00:00 GMT on January 1, 1970"
   ]
  },
  {
   "cell_type": "code",
   "execution_count": 67,
   "id": "9a61119e",
   "metadata": {},
   "outputs": [],
   "source": [
    "# 462\n",
    "# d. Float\n",
    "\n",
    "# 소수점까지 나타나므로 실수"
   ]
  },
  {
   "cell_type": "code",
   "execution_count": 68,
   "id": "c619652d",
   "metadata": {},
   "outputs": [],
   "source": [
    "# 463\n",
    "# a. String"
   ]
  },
  {
   "cell_type": "code",
   "execution_count": 69,
   "id": "b8955778",
   "metadata": {},
   "outputs": [],
   "source": [
    "# 464\n",
    "# b. Current date and time"
   ]
  },
  {
   "cell_type": "code",
   "execution_count": 70,
   "id": "1415f73f",
   "metadata": {},
   "outputs": [],
   "source": [
    "# 465\n",
    "# c. Sat Feb 10 12:45:32 2016"
   ]
  },
  {
   "cell_type": "code",
   "execution_count": 71,
   "id": "c3566040",
   "metadata": {},
   "outputs": [],
   "source": [
    "# 466\n",
    "# c. Mon\n",
    "\n",
    "# 요일이 먼저나온다."
   ]
  },
  {
   "cell_type": "code",
   "execution_count": 73,
   "id": "39089b4e",
   "metadata": {},
   "outputs": [],
   "source": [
    "# 467\n",
    "# b.A random integer number within the range of 0 to 9\n",
    "\n",
    "# random()은 0부터 1사이의 랜덤함 실수가 나오는데 10을 곱하고 정수형으로 형변환 했기때문"
   ]
  },
  {
   "cell_type": "code",
   "execution_count": 74,
   "id": "d949c63b",
   "metadata": {},
   "outputs": [],
   "source": [
    "# 468\n",
    "# d. A random whole number within the range of 1 to 10\n",
    "\n",
    "# 0~9 에 1을 더하면 1~10이다."
   ]
  },
  {
   "cell_type": "code",
   "execution_count": 75,
   "id": "866260b3",
   "metadata": {},
   "outputs": [],
   "source": [
    "# 469\n",
    "# a. A list of 5 unique numbers within the range of 0 to 19\n",
    "\n",
    "# sample()은 여러 요소중 원하는 수만큼 리스트로 반환한다.\n",
    "# range()는 인수를 하나만 넣으면 0~해당숫자 까지 반환한다."
   ]
  },
  {
   "cell_type": "code",
   "execution_count": 76,
   "id": "70b32d94",
   "metadata": {},
   "outputs": [],
   "source": [
    "# 470\n",
    "# c. A list of 4 unique numbers within the range of 5 to 19\n",
    "\n",
    "# range(5,20) -> 5부터 19까지\n",
    "# random.sample(x,4) -> x중에 4개를 리스트로 반환"
   ]
  },
  {
   "cell_type": "code",
   "execution_count": 77,
   "id": "106e78bf",
   "metadata": {},
   "outputs": [],
   "source": [
    "# 471\n",
    "# d. NameError\n",
    "\n",
    "# a변수의 선언이 없음"
   ]
  },
  {
   "cell_type": "code",
   "execution_count": 78,
   "id": "1556a957",
   "metadata": {},
   "outputs": [],
   "source": [
    "# 472\n",
    "# a. SyntaxError\n",
    "\n",
    "# 처음과 끝의 따옴표가 다름 -> 문법오류"
   ]
  },
  {
   "cell_type": "code",
   "execution_count": 79,
   "id": "e7c5eb37",
   "metadata": {},
   "outputs": [],
   "source": [
    "# 473\n",
    "# d. NameError\n",
    "\n",
    "# 파이썬에서 참은 true가 아닌 True이다"
   ]
  },
  {
   "cell_type": "code",
   "execution_count": 80,
   "id": "7d2bf931",
   "metadata": {},
   "outputs": [],
   "source": [
    "# 474\n",
    "# d. None\n",
    "\n",
    "# 파이썬에서는 null대신 None이 나온다"
   ]
  },
  {
   "cell_type": "code",
   "execution_count": 81,
   "id": "6d7c8f83",
   "metadata": {},
   "outputs": [],
   "source": [
    "# 475\n",
    "# a. NameError\n",
    "\n",
    "# 함수 내부의 변수는 함수 밖의 변수와는 무관하다(지역변수)"
   ]
  },
  {
   "cell_type": "code",
   "execution_count": null,
   "id": "6dd96d2b",
   "metadata": {},
   "outputs": [],
   "source": []
  },
  {
   "cell_type": "code",
   "execution_count": 112,
   "id": "2f00d2a3",
   "metadata": {},
   "outputs": [
    {
     "name": "stdout",
     "output_type": "stream",
     "text": [
      "num? : 600\n",
      "[0, 1, 1, 2, 3, 5, 8, 13, 21, 34, 55, 89, 144, 233, 377]\n"
     ]
    }
   ],
   "source": [
    "class MyError(Exception): #오류만들고 처리하기위해 Exception 상속받은 MyError 클래스 생성\n",
    "    pass\n",
    "\n",
    "def fibo(n):  #fibo() 함수만들기\n",
    "    arr = [0,1]    #피보나치 초기값 [0,1]\n",
    "             \n",
    "    while True:    #무한반복 하며 원하는 결과가 나오면 나가기\n",
    "        i = len(arr)-1     #항상 마지막 index를 알려주는 역할을 할 변수 i생성\n",
    "        if arr[i] + arr[i-1] > n:  #마지막 index(i) + 마지막 이전 index(i-1)을 더하여\n",
    "            return arr             #입력받은 n보다 크면 함수를 빠져나가며 arr반환\n",
    "        \n",
    "        arr.append(arr[i-1] + arr[i]) #n보다 크지 않으면 두 항의 합을 끝에 추가함\n",
    "\n",
    "try:   #오류처리\n",
    "    n = int(input('num? : '))\n",
    "    if n < 1:   # 1보다 작은수는 오류만들기\n",
    "        raise MyError\n",
    "except ValueError as e:    #ValueError예외처리\n",
    "    print('정수 입력!!', e)\n",
    "except MyError:           #만든 오류 예외처리\n",
    "    print('1 이상의 정수를 입력하세요!!')\n",
    "else:\n",
    "    print(fibo(n)) #오류가 안나면 결과물 출력"
   ]
  },
  {
   "cell_type": "code",
   "execution_count": 4,
   "id": "ca96ce4e",
   "metadata": {},
   "outputs": [
    {
     "name": "stdout",
     "output_type": "stream",
     "text": [
      "num? : 80\n",
      "0, 1, 1, 2, 3, 5, 8, 13, 21, 34, 55"
     ]
    }
   ],
   "source": [
    "#정답\n",
    "n = int(input('num? : '))\n",
    "a=0; b=1\n",
    "print('0', end='')\n",
    "while b<=n:\n",
    "    print(', %d'%b, end='')\n",
    "    a,b = b, a+b"
   ]
  }
 ],
 "metadata": {
  "kernelspec": {
   "display_name": "Python 3 (ipykernel)",
   "language": "python",
   "name": "python3"
  },
  "language_info": {
   "codemirror_mode": {
    "name": "ipython",
    "version": 3
   },
   "file_extension": ".py",
   "mimetype": "text/x-python",
   "name": "python",
   "nbconvert_exporter": "python",
   "pygments_lexer": "ipython3",
   "version": "3.9.7"
  }
 },
 "nbformat": 4,
 "nbformat_minor": 5
}
