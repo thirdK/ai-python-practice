{
 "cells": [
  {
   "cell_type": "code",
   "execution_count": 6,
   "id": "5bec8185",
   "metadata": {},
   "outputs": [
    {
     "name": "stdout",
     "output_type": "stream",
     "text": [
      "1) Addition\n",
      "2) Subtraction\n",
      "Enter 1 or 2 :2\n",
      "41-6 = 11\n",
      "Incorrect, the answer is 35\n"
     ]
    }
   ],
   "source": [
    "import random\n",
    "def rs(num, ans):\n",
    "    if num == ans:\n",
    "        print(f'Correct')\n",
    "    else:\n",
    "        print(f'Incorrect, the answer is {ans}')\n",
    "\n",
    "def menu_ch(n):\n",
    "    if n==1:\n",
    "        num1 = random.randint(5,20)\n",
    "        num2 = random.randint(5,20)\n",
    "        a = int(input(f'{num1}+{num2} = '))\n",
    "        rs(a, num1+num2)\n",
    "    elif n==2:\n",
    "        num1 = random.randint(25,50)\n",
    "        num2 = random.randint(1,25)\n",
    "        a = int(input(f'{num1}-{num2} = '))\n",
    "        rs(a, num1-num2)\n",
    "    else:\n",
    "        print('Enter 1 or 2 : ')\n",
    "        \n",
    "def main():\n",
    "    print('1) Addition')\n",
    "    print('2) Subtraction')\n",
    "    menu = int(input('Enter 1 or 2 :'))\n",
    "    menu_ch(menu)\n",
    "    \n",
    "main()\n",
    "    "
   ]
  },
  {
   "cell_type": "code",
   "execution_count": 37,
   "id": "1f483901",
   "metadata": {},
   "outputs": [
    {
     "name": "stdout",
     "output_type": "stream",
     "text": [
      "1) add name\n",
      "2) chage name\n",
      "3) delete name\n",
      "4) view names\n",
      "0) Exit\n",
      "menu : 0\n"
     ]
    }
   ],
   "source": [
    "\n",
    "def menu(num, lst):\n",
    "    if num == 0:\n",
    "        return num, lst\n",
    "    elif num == 1:\n",
    "        lst.append(d1())\n",
    "    elif num == 2:\n",
    "        lst = d2(lst)\n",
    "    elif num == 3:\n",
    "        d3(lst)\n",
    "    elif num == 4:\n",
    "        d4(lst)\n",
    "    else:\n",
    "        print('Incorrect selection')\n",
    "        print()\n",
    "    return num, lst\n",
    "\n",
    "def d1():\n",
    "    name = input('Enter a name :')\n",
    "    return name\n",
    "\n",
    "def d2(lst):\n",
    "    name = d1()\n",
    "    ch = input('change : ')\n",
    "    lst[lst.index(name)] = ch\n",
    "    return lst\n",
    "\n",
    "def d3(lst):\n",
    "    lst.remove(d1())\n",
    "\n",
    "def d4(lst):\n",
    "    print(lst)\n",
    "\n",
    "def main():\n",
    "    lst=[]\n",
    "    num = 1\n",
    "    while num!=0:\n",
    "        print('1) add name')\n",
    "        print('2) chage name')\n",
    "        print('3) delete name')\n",
    "        print('4) view names')\n",
    "        print('0) Exit')\n",
    "        num = int(input('menu : '))\n",
    "        num, lst = menu(num, lst)\n",
    "\n",
    "main()"
   ]
  },
  {
   "cell_type": "code",
   "execution_count": 40,
   "id": "bd890c97",
   "metadata": {},
   "outputs": [],
   "source": [
    "#Tkinter (colab에서는 실행 불가, 로컬에서 실행할 것)\n",
    "\n",
    "# GUI (graphical user interface) makes the program easier to use. It allows you,\n",
    "# as the programmer, to create screens, text boxes and buttons to help the user\n",
    "# navigate through the program in a more user-friendly way\n",
    "# Tkinter is a libray of features in Python that allows you to do this.\n",
    "\n",
    "from tkinter import *\n",
    "\n",
    "def Call():\n",
    "    msg = Label(window, text = 'You pressed the button')\n",
    "    msg.place(x=30, y=50)\n",
    "    button['bg'] = 'blue'\n",
    "    button['fg'] = 'white'\n",
    "    \n",
    "window = Tk()\n",
    "window.geometry('200x110')\n",
    "button = Button(text='Press me', command = Call)\n",
    "button.place(x = 30, y = 20, width=120, height = 25)\n",
    "window.mainloop()"
   ]
  },
  {
   "cell_type": "code",
   "execution_count": null,
   "id": "b0674e40",
   "metadata": {},
   "outputs": [],
   "source": []
  },
  {
   "cell_type": "code",
   "execution_count": 41,
   "id": "ae0fdcca",
   "metadata": {},
   "outputs": [],
   "source": [
    "# input and diplay data\n",
    "# lists\n",
    "# splitting and jining strings\n",
    "# if statements\n",
    "# loops (while and for)\n",
    "# subprograms\n",
    "\n",
    "# Shift Code\n",
    "\n",
    "# A shift code is where a message can be easily encoded and is one of the simplest codes to use.\n",
    "# Each letter is moved forwards through the alphabet \n",
    "# a set number of letters to be represented by a new letter.\n",
    "# For instance, 'abc' becomes 'bcd' when the code is shifted by one.\n",
    "\n",
    "# 1) Make a code \n",
    "# 2) Decode a message \n",
    "# 3) Quit\n",
    "\n",
    "# Enter your selection :\n",
    "\n",
    "# Problems you will have to overcome...\n",
    "# 1) Decide if you want to allow both upper and lower case letters or \n",
    "#    if you want to convert all the data into one case -> lowercase()\n",
    "# 2) Decide if you are allowing punctuation. "
   ]
  },
  {
   "cell_type": "code",
   "execution_count": 52,
   "id": "b6737254",
   "metadata": {},
   "outputs": [
    {
     "name": "stdout",
     "output_type": "stream",
     "text": [
      "1) Make a code\n",
      "2) Decode a message\n",
      "3) Quit\n",
      "Enter your selection : 1\n",
      "Enter your message : abc\n",
      "Enter a number(1-26) :1\n",
      "bcd\n",
      "\n",
      "1) Make a code\n",
      "2) Decode a message\n",
      "3) Quit\n",
      "Enter your selection : 2\n",
      "Enter your message : bcd\n",
      "Enter a number(1-26) :1\n",
      "abc\n",
      "1) Make a code\n",
      "2) Decode a message\n",
      "3) Quit\n",
      "Enter your selection : 3\n"
     ]
    }
   ],
   "source": [
    "def get_data():\n",
    "    word = input('Enter your message : ')\n",
    "    word = word.lower()\n",
    "    num = int(input('Enter a number(1-26) :'))\n",
    "#     if num > 26 or num == 0:\n",
    "    while num > 26 or num == 0:\n",
    "        num = int(input('Enter a number(1-26) :'))\n",
    "    return word, num\n",
    "\n",
    "def make_code(word, num):\n",
    "    new_word = ''\n",
    "    for x in word:\n",
    "        y = alphabet.index(x)\n",
    "        y = y+num\n",
    "        if y > 26:\n",
    "            y=y-27\n",
    "        char = alphabet[y]\n",
    "        new_word = new_word + char\n",
    "    print(new_word)\n",
    "    print()\n",
    "\n",
    "def decode(word, num):\n",
    "    new_word = ''\n",
    "    for x in word:\n",
    "        y = alphabet.index(x)\n",
    "        y = y-num\n",
    "        char = alphabet[y]\n",
    "        new_word = new_word + char\n",
    "    print(new_word)\n",
    "    print()\n",
    "\n",
    "def main():\n",
    "    again = True\n",
    "    while again:\n",
    "        print('1) Make a code')\n",
    "        print('2) Decode a message')\n",
    "        print('3) Quit')\n",
    "        selection = int(input('Enter your selection : '))\n",
    "        if selection == 1:\n",
    "            word, num = get_data()\n",
    "            make_code(word, num)\n",
    "        elif selection == 2:\n",
    "            word, num = get_data()\n",
    "            decode(word, num)\n",
    "        elif selection == 3:\n",
    "            again = False\n",
    "        else:\n",
    "            print('Incorrect selection')\n",
    "            \n",
    "alphabet = ['a','b','c','d','e','f','g','h','i','j','k','l','m','n','o','p','q','r','s','t','u','v','w','x','y','z',' ']\n",
    "\n",
    "main()"
   ]
  },
  {
   "cell_type": "code",
   "execution_count": 59,
   "id": "f438e0da",
   "metadata": {},
   "outputs": [
    {
     "ename": "ValueError",
     "evalue": "empty separator",
     "output_type": "error",
     "traceback": [
      "\u001b[1;31m---------------------------------------------------------------------------\u001b[0m",
      "\u001b[1;31mValueError\u001b[0m                                Traceback (most recent call last)",
      "\u001b[1;32m~\\AppData\\Local\\Temp/ipykernel_20224/1284317102.py\u001b[0m in \u001b[0;36m<module>\u001b[1;34m\u001b[0m\n\u001b[0;32m      1\u001b[0m \u001b[0maa\u001b[0m \u001b[1;33m=\u001b[0m \u001b[1;34m'abc'\u001b[0m\u001b[1;33m\u001b[0m\u001b[1;33m\u001b[0m\u001b[0m\n\u001b[1;32m----> 2\u001b[1;33m \u001b[0maa\u001b[0m\u001b[1;33m.\u001b[0m\u001b[0msplit\u001b[0m\u001b[1;33m(\u001b[0m\u001b[1;34m''\u001b[0m\u001b[1;33m)\u001b[0m\u001b[1;33m\u001b[0m\u001b[1;33m\u001b[0m\u001b[0m\n\u001b[0m\u001b[0;32m      3\u001b[0m \u001b[1;31m# print(aa)\u001b[0m\u001b[1;33m\u001b[0m\u001b[1;33m\u001b[0m\u001b[0m\n",
      "\u001b[1;31mValueError\u001b[0m: empty separator"
     ]
    }
   ],
   "source": [
    "aa = 'abc'\n",
    "aa.split('')\n",
    "# print(aa)"
   ]
  },
  {
   "cell_type": "code",
   "execution_count": null,
   "id": "a41c18ad",
   "metadata": {},
   "outputs": [],
   "source": []
  },
  {
   "cell_type": "code",
   "execution_count": null,
   "id": "971f1580",
   "metadata": {},
   "outputs": [],
   "source": []
  },
  {
   "cell_type": "code",
   "execution_count": null,
   "id": "db61b570",
   "metadata": {},
   "outputs": [],
   "source": []
  },
  {
   "cell_type": "code",
   "execution_count": null,
   "id": "37749f9b",
   "metadata": {},
   "outputs": [],
   "source": []
  },
  {
   "cell_type": "code",
   "execution_count": null,
   "id": "5b5b6f2c",
   "metadata": {},
   "outputs": [],
   "source": []
  },
  {
   "cell_type": "code",
   "execution_count": null,
   "id": "2b45dcc6",
   "metadata": {},
   "outputs": [],
   "source": []
  },
  {
   "cell_type": "code",
   "execution_count": null,
   "id": "5a320d02",
   "metadata": {},
   "outputs": [],
   "source": []
  },
  {
   "cell_type": "code",
   "execution_count": null,
   "id": "db9b5415",
   "metadata": {},
   "outputs": [],
   "source": []
  },
  {
   "cell_type": "code",
   "execution_count": null,
   "id": "905bc9a0",
   "metadata": {},
   "outputs": [],
   "source": []
  },
  {
   "cell_type": "code",
   "execution_count": null,
   "id": "ffff8128",
   "metadata": {},
   "outputs": [],
   "source": []
  },
  {
   "cell_type": "code",
   "execution_count": null,
   "id": "e6650dbf",
   "metadata": {},
   "outputs": [],
   "source": []
  },
  {
   "cell_type": "code",
   "execution_count": null,
   "id": "8b994072",
   "metadata": {},
   "outputs": [],
   "source": []
  },
  {
   "cell_type": "code",
   "execution_count": null,
   "id": "d865aca7",
   "metadata": {},
   "outputs": [],
   "source": []
  },
  {
   "cell_type": "code",
   "execution_count": null,
   "id": "99f1475b",
   "metadata": {},
   "outputs": [],
   "source": []
  },
  {
   "cell_type": "code",
   "execution_count": null,
   "id": "c653475b",
   "metadata": {},
   "outputs": [],
   "source": []
  },
  {
   "cell_type": "code",
   "execution_count": null,
   "id": "9519e76d",
   "metadata": {},
   "outputs": [],
   "source": []
  },
  {
   "cell_type": "code",
   "execution_count": null,
   "id": "4adb7a8b",
   "metadata": {},
   "outputs": [],
   "source": []
  },
  {
   "cell_type": "code",
   "execution_count": null,
   "id": "5605c600",
   "metadata": {},
   "outputs": [],
   "source": []
  }
 ],
 "metadata": {
  "kernelspec": {
   "display_name": "Python 3 (ipykernel)",
   "language": "python",
   "name": "python3"
  },
  "language_info": {
   "codemirror_mode": {
    "name": "ipython",
    "version": 3
   },
   "file_extension": ".py",
   "mimetype": "text/x-python",
   "name": "python",
   "nbconvert_exporter": "python",
   "pygments_lexer": "ipython3",
   "version": "3.9.7"
  }
 },
 "nbformat": 4,
 "nbformat_minor": 5
}
