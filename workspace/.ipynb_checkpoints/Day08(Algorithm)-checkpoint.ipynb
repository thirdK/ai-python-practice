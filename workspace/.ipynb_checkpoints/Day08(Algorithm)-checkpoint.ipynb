{
 "cells": [
  {
   "cell_type": "code",
   "execution_count": 1,
   "id": "0e53b1da",
   "metadata": {},
   "outputs": [],
   "source": [
    "# 정렬 알고리즘 sort algorithms\n",
    "\n",
    "# 데이터를 오름차순 또는 내림차순으로 나열하는 알고리즘\n",
    "# 검색엔진 엑셀 워드... 이미 많이 사용하고 있다."
   ]
  },
  {
   "cell_type": "code",
   "execution_count": null,
   "id": "1ff4a1ce",
   "metadata": {},
   "outputs": [],
   "source": [
    "# 단순 선택법 - 정렬되지 않은 데이터 중 가장 작은 데이터를 선택하여 맨 앞부터 순서대로\n",
    "#             정렬해 나가는 알고리즘이다. (선택정렬, 선택법, 단순 선택법...)"
   ]
  },
  {
   "cell_type": "code",
   "execution_count": null,
   "id": "cad7add6",
   "metadata": {},
   "outputs": [],
   "source": [
    "#  0  1  2  3  4\n",
    "# 12 13 11 14 10\n",
    "\n",
    "# 우선 가장 작은 숫자와 첫번째 숫자와 교환한다.\n",
    "\n",
    "# 10 <--고정 13 11 14 12\n",
    "# 교환된 숫자는 고정되며 나머지 숫자중 가장 작은 숫자를 찾는다.\n",
    "# 10 11 <--고정 13 14 12\n",
    "# 반복한다.\n",
    "\n",
    "# 단순 선택법 알고리즘\n",
    "# 1. 탐색 범위에서 최소값을 찾는 처리\n",
    "# 2. 탐색 범위의 맨 앞 요소와 최소값을 교환하는 처리"
   ]
  }
 ],
 "metadata": {
  "kernelspec": {
   "display_name": "Python 3 (ipykernel)",
   "language": "python",
   "name": "python3"
  },
  "language_info": {
   "codemirror_mode": {
    "name": "ipython",
    "version": 3
   },
   "file_extension": ".py",
   "mimetype": "text/x-python",
   "name": "python",
   "nbconvert_exporter": "python",
   "pygments_lexer": "ipython3",
   "version": "3.9.7"
  }
 },
 "nbformat": 4,
 "nbformat_minor": 5
}
