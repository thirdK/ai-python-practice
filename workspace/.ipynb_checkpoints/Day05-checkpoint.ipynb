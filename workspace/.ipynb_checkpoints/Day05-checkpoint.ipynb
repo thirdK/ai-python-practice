{
 "cells": [
  {
   "cell_type": "code",
   "execution_count": 1,
   "id": "5de91845",
   "metadata": {},
   "outputs": [
    {
     "name": "stdout",
     "output_type": "stream",
     "text": [
      "hi\n",
      "hi\n",
      "hi\n"
     ]
    }
   ],
   "source": [
    "def print_3():\n",
    "    print('hi')\n",
    "    print('hi')\n",
    "    print('hi')\n",
    "    \n",
    "print_3()"
   ]
  },
  {
   "cell_type": "code",
   "execution_count": 2,
   "id": "57e27fe9",
   "metadata": {},
   "outputs": [
    {
     "name": "stdout",
     "output_type": "stream",
     "text": [
      "hello\n",
      "hello\n",
      "hello\n"
     ]
    }
   ],
   "source": [
    "def print_3(val):\n",
    "    print(val)\n",
    "    print(val)\n",
    "    print(val)\n",
    "    \n",
    "print_3('hello')"
   ]
  },
  {
   "cell_type": "code",
   "execution_count": 3,
   "id": "7af028b7",
   "metadata": {},
   "outputs": [
    {
     "name": "stdout",
     "output_type": "stream",
     "text": [
      "hello\n",
      "hello\n",
      "hello\n",
      "hello\n",
      "hello\n"
     ]
    }
   ],
   "source": [
    "def print_3(val,n):\n",
    "    for i in range(n):\n",
    "        print(val)\n",
    "    \n",
    "print_3('hello',5)"
   ]
  },
  {
   "cell_type": "code",
   "execution_count": 4,
   "id": "e2b7fd59",
   "metadata": {},
   "outputs": [
    {
     "name": "stdout",
     "output_type": "stream",
     "text": [
      "hi\n",
      "hello\n",
      "good morning\n",
      "\n",
      "hi\n",
      "hello\n",
      "good morning\n",
      "\n",
      "hi\n",
      "hello\n",
      "good morning\n",
      "\n",
      "hi\n",
      "\n",
      "hi\n",
      "\n",
      "hi\n",
      "\n"
     ]
    }
   ],
   "source": [
    "#가변 매개 변수\n",
    "\n",
    "def print_n_times(n,*val):\n",
    "    for i in range(n):\n",
    "        for v in val:\n",
    "            print(v)\n",
    "        print()\n",
    "\n",
    "print_n_times(3,'hi', 'hello', 'good morning')\n",
    "print_n_times(3,'hi')"
   ]
  },
  {
   "cell_type": "code",
   "execution_count": 34,
   "id": "53db4e4b",
   "metadata": {},
   "outputs": [
    {
     "name": "stdout",
     "output_type": "stream",
     "text": [
      "10\n",
      "10\n"
     ]
    }
   ],
   "source": [
    "def sum_all(*val):\n",
    "    total = 0\n",
    "    print(sum(val))\n",
    "    \n",
    "    for i in val:\n",
    "        total += i\n",
    "    print(total)\n",
    "\n",
    "sum_all(1,2,3,4)"
   ]
  },
  {
   "cell_type": "code",
   "execution_count": 19,
   "id": "ef52f1f9",
   "metadata": {},
   "outputs": [
    {
     "name": "stdout",
     "output_type": "stream",
     "text": [
      "good morning\n",
      "good morning\n",
      "good morning\n",
      "hi\n",
      "hi\n"
     ]
    }
   ],
   "source": [
    "def print_n_times(val, n=2):\n",
    "    for i in range(n):\n",
    "        print(val)\n",
    "    \n",
    "\n",
    "print_n_times('good morning',3)\n",
    "print_n_times('hi')"
   ]
  },
  {
   "cell_type": "code",
   "execution_count": 38,
   "id": "f5ffe66d",
   "metadata": {},
   "outputs": [
    {
     "name": "stdout",
     "output_type": "stream",
     "text": [
      "60\n",
      "60\n",
      "60\n",
      "50\n"
     ]
    }
   ],
   "source": [
    "def test(a, b=10, c=100):\n",
    "    print(a+b+c)\n",
    "\n",
    "#기본형태\n",
    "test(10,20,30)\n",
    "#모든 매개변수 지정\n",
    "test(a=10, b=20, c=30)\n",
    "#순서를 섞어도 지정해서 상관 없음\n",
    "test(c=30, a=10, b=20)\n",
    "\n",
    "#일부만 지정\n",
    "test(10,c=30)"
   ]
  },
  {
   "cell_type": "code",
   "execution_count": 41,
   "id": "ba79d4f5",
   "metadata": {},
   "outputs": [
    {
     "name": "stdout",
     "output_type": "stream",
     "text": [
      "A위치입니다.\n"
     ]
    }
   ],
   "source": [
    "def return_test():\n",
    "    print('A위치입니다.')\n",
    "    return    #return에서 끝난다.\n",
    "    print('B위치입니다.')\n",
    "    \n",
    "return_test()"
   ]
  },
  {
   "cell_type": "code",
   "execution_count": 43,
   "id": "3d567066",
   "metadata": {},
   "outputs": [
    {
     "data": {
      "text/plain": [
       "100"
      ]
     },
     "execution_count": 43,
     "metadata": {},
     "output_type": "execute_result"
    }
   ],
   "source": [
    "def return_test():\n",
    "    return 100    #100반환\n",
    "\n",
    "return_test()"
   ]
  },
  {
   "cell_type": "code",
   "execution_count": 50,
   "id": "2de301fc",
   "metadata": {},
   "outputs": [
    {
     "data": {
      "text/plain": [
       "15"
      ]
     },
     "execution_count": 50,
     "metadata": {},
     "output_type": "execute_result"
    }
   ],
   "source": [
    "def sum_all(start, end):\n",
    "    output = 0;\n",
    "    for i in range(start, end+1):\n",
    "        output += i\n",
    "    return output\n",
    "\n",
    "sum_all(1,100)\n",
    "sum_all(1,5)"
   ]
  },
  {
   "cell_type": "code",
   "execution_count": 51,
   "id": "04879931",
   "metadata": {},
   "outputs": [],
   "source": [
    "#재귀함수 (권장하지 않음)\n",
    "def hello():    #무한 반복\n",
    "    print('hi')\n",
    "    return hello()"
   ]
  },
  {
   "cell_type": "code",
   "execution_count": 54,
   "id": "3cb46a86",
   "metadata": {},
   "outputs": [
    {
     "name": "stdout",
     "output_type": "stream",
     "text": [
      "3!: 24\n"
     ]
    }
   ],
   "source": [
    "#팩토리얼\n",
    "def facto(n):\n",
    "    total = 1\n",
    "    for i in range(1,n+1):\n",
    "        total *= i\n",
    "    return total\n",
    "\n",
    "print('3!:', facto(4))"
   ]
  },
  {
   "cell_type": "code",
   "execution_count": 57,
   "id": "436e4231",
   "metadata": {},
   "outputs": [
    {
     "name": "stdout",
     "output_type": "stream",
     "text": [
      "120\n"
     ]
    }
   ],
   "source": [
    "def facto2(n):\n",
    "    if n == 0:\n",
    "        return 1\n",
    "\n",
    "    return n*facto2(n-1)\n",
    "\n",
    "print(facto2(5))\n",
    "#개발자들 사이에서는 재귀함수를 절대 사용하지 말자는 의견도 있다.(예쁜 쓰레기)"
   ]
  },
  {
   "cell_type": "code",
   "execution_count": 73,
   "id": "9f38ea12",
   "metadata": {},
   "outputs": [
    {
     "data": {
      "text/plain": [
       "55"
      ]
     },
     "execution_count": 73,
     "metadata": {},
     "output_type": "execute_result"
    }
   ],
   "source": [
    "#피보나치 수열\n",
    "\n",
    "def fibo(n):\n",
    "#     if n == 1 or n == 2:\n",
    "#         return 1\n",
    "    if n <= 1:\n",
    "        return n\n",
    "    return fibo(n-1) + fibo(n-2)\n",
    "    \n",
    "fibo(10)"
   ]
  },
  {
   "cell_type": "code",
   "execution_count": 76,
   "id": "acb79a9c",
   "metadata": {},
   "outputs": [
    {
     "name": "stdout",
     "output_type": "stream",
     "text": [
      "10\n",
      "20\n"
     ]
    }
   ],
   "source": [
    "#튜플과 함수\n",
    "# 튜플은 함수의 리턴에 많이 사용된다. 함수의 리턴에 튜플을 사용하게 되면 여러개의 값을\n",
    "# 리턴하고 할당 할 수 있기 때문이다.\n",
    "\n",
    "def test():\n",
    "    return (10,20) #튜플의 소괄호는 생략이 가능하다.\n",
    "\n",
    "a, b = test()\n",
    "\n",
    "print(a)\n",
    "print(b)"
   ]
  },
  {
   "cell_type": "code",
   "execution_count": 83,
   "id": "a4781231",
   "metadata": {},
   "outputs": [
    {
     "name": "stdout",
     "output_type": "stream",
     "text": [
      "7\n",
      "10\n"
     ]
    }
   ],
   "source": [
    "def add(a,b):\n",
    "    return a+b\n",
    "a=3\n",
    "b=4\n",
    "c= add(a,b)\n",
    "print(c)\n",
    "\n",
    "print(add(3,7))"
   ]
  },
  {
   "cell_type": "code",
   "execution_count": 89,
   "id": "61c75b4e",
   "metadata": {},
   "outputs": [
    {
     "name": "stdout",
     "output_type": "stream",
     "text": [
      "6\n"
     ]
    }
   ],
   "source": [
    "def add_many(*args):\n",
    "    result = 0\n",
    "    \n",
    "    for arg in args:\n",
    "        result += arg\n",
    "    return result\n",
    "\n",
    "print(add_many(1,2,3))\n"
   ]
  },
  {
   "cell_type": "code",
   "execution_count": 112,
   "id": "3677abfc",
   "metadata": {},
   "outputs": [
    {
     "name": "stdout",
     "output_type": "stream",
     "text": [
      "15\n",
      "6\n"
     ]
    }
   ],
   "source": [
    "def add_mul(choice, *args):\n",
    "    if choice == 'add':\n",
    "        result = 0\n",
    "        for i in args:\n",
    "            result+= i\n",
    "    elif choice == 'mul':\n",
    "        result = 1\n",
    "        for i in args:\n",
    "            result *= i\n",
    "            \n",
    "    return result\n",
    "    \n",
    "print(add_mul('add',1,2,3,4,5))\n",
    "print(add_mul('mul',1,2,3))"
   ]
  },
  {
   "cell_type": "code",
   "execution_count": 114,
   "id": "6378593e",
   "metadata": {},
   "outputs": [
    {
     "name": "stdout",
     "output_type": "stream",
     "text": [
      "7\n",
      "12\n"
     ]
    }
   ],
   "source": [
    "#함수의 결과는 언제나 하나이다.(여러개는 튜플 하나)\n",
    "\n",
    "def add_and_mul(a,b):\n",
    "    return a+b, a*b\n",
    "\n",
    "result1, result2 = add_and_mul(3,4)\n",
    "print(result1)\n",
    "print(result2)"
   ]
  },
  {
   "cell_type": "code",
   "execution_count": 125,
   "id": "7eb4981a",
   "metadata": {},
   "outputs": [
    {
     "name": "stdout",
     "output_type": "stream",
     "text": [
      "나의 이름은 박을용 입니다.\n",
      "나의 이름은 박을용 입니다.\n",
      "나는 27살입니다.\n",
      "나의 이름은 27 입니다.\n",
      "남자입니다.\n",
      "\n",
      "나의 이름은 박을용 입니다.\n",
      "나의 이름은 박을용 입니다.\n",
      "나는 27살입니다.\n",
      "나의 이름은 27 입니다.\n",
      "남자입니다.\n",
      "\n",
      "나의 이름은 박응선 입니다.\n",
      "나의 이름은 박응선 입니다.\n",
      "나는 27살입니다.\n",
      "나의 이름은 27 입니다.\n",
      "여자입니다.\n",
      "\n"
     ]
    }
   ],
   "source": [
    "def say_myself(name, old, man=True):\n",
    "    print(\"나의 이름은 %s 입니다.\" %name)\n",
    "    print(f'나의 이름은 {name} 입니다.')\n",
    "    print('나는 %d살입니다.' %old)\n",
    "    print(f'나의 이름은 {old} 입니다.')\n",
    "    if man:\n",
    "        print('남자입니다.\\n')\n",
    "    else:\n",
    "        print('여자입니다.\\n')\n",
    "        \n",
    "say_myself(\"박을용\", 27)\n",
    "say_myself(\"박을용\", 27, True)\n",
    "say_myself(\"박응선\", 27, False)"
   ]
  },
  {
   "cell_type": "code",
   "execution_count": 130,
   "id": "7c55bf1f",
   "metadata": {},
   "outputs": [
    {
     "name": "stdout",
     "output_type": "stream",
     "text": [
      "2\n",
      "1\n"
     ]
    }
   ],
   "source": [
    "# 지역 변수 local variable 와 전역변수 global vaiable\n",
    "\n",
    "a = 1\n",
    "def vartest(a):\n",
    "    a = a+1\n",
    "    return a\n",
    "\n",
    "print(vartest(a))\n",
    "print(a)"
   ]
  },
  {
   "cell_type": "code",
   "execution_count": 132,
   "id": "e9396a6e",
   "metadata": {},
   "outputs": [
    {
     "name": "stdout",
     "output_type": "stream",
     "text": [
      "2\n"
     ]
    }
   ],
   "source": [
    "a=1\n",
    "def vartest():\n",
    "    global a\n",
    "    a = a+1\n",
    "    \n",
    "vartest()\n",
    "print(a)"
   ]
  },
  {
   "cell_type": "code",
   "execution_count": 134,
   "id": "bc6f7651",
   "metadata": {},
   "outputs": [
    {
     "name": "stdout",
     "output_type": "stream",
     "text": [
      "7\n"
     ]
    }
   ],
   "source": [
    "add = lambda a, b: a+b\n",
    "result = add(3,4)\n",
    "print(result)"
   ]
  }
 ],
 "metadata": {
  "kernelspec": {
   "display_name": "Python 3 (ipykernel)",
   "language": "python",
   "name": "python3"
  },
  "language_info": {
   "codemirror_mode": {
    "name": "ipython",
    "version": 3
   },
   "file_extension": ".py",
   "mimetype": "text/x-python",
   "name": "python",
   "nbconvert_exporter": "python",
   "pygments_lexer": "ipython3",
   "version": "3.9.7"
  }
 },
 "nbformat": 4,
 "nbformat_minor": 5
}
