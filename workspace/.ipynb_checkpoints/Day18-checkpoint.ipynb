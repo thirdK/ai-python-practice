{
 "cells": [
  {
   "cell_type": "code",
   "execution_count": 6,
   "id": "70e0bc36",
   "metadata": {},
   "outputs": [
    {
     "name": "stdout",
     "output_type": "stream",
     "text": [
      "1) Addition\n",
      "2) Subtraction\n",
      "Enter 1 or 2 :2\n",
      "41-6 = 11\n",
      "Incorrect, the answer is 35\n"
     ]
    }
   ],
   "source": [
    "import random\n",
    "def rs(num, ans):\n",
    "    if num == ans:\n",
    "        print(f'Correct')\n",
    "    else:\n",
    "        print(f'Incorrect, the answer is {ans}')\n",
    "\n",
    "def menu_ch(n):\n",
    "    if n==1:\n",
    "        num1 = random.randint(5,20)\n",
    "        num2 = random.randint(5,20)\n",
    "        a = int(input(f'{num1}+{num2} = '))\n",
    "        rs(a, num1+num2)\n",
    "    elif n==2:\n",
    "        num1 = random.randint(25,50)\n",
    "        num2 = random.randint(1,25)\n",
    "        a = int(input(f'{num1}-{num2} = '))\n",
    "        rs(a, num1-num2)\n",
    "    else:\n",
    "        print('Enter 1 or 2 : ')\n",
    "        \n",
    "def main():\n",
    "    print('1) Addition')\n",
    "    print('2) Subtraction')\n",
    "    menu = int(input('Enter 1 or 2 :'))\n",
    "    menu_ch(menu)\n",
    "    \n",
    "main()\n",
    "    "
   ]
  },
  {
   "cell_type": "code",
   "execution_count": 36,
   "id": "453d2aa5",
   "metadata": {},
   "outputs": [
    {
     "name": "stdout",
     "output_type": "stream",
     "text": [
      "1) add name\n",
      "2) chage name\n",
      "3) delete name\n",
      "4) view names\n",
      "0) Exit\n",
      "menu : 1\n",
      "Enter a name :a\n",
      "1) add name\n",
      "2) chage name\n",
      "3) delete name\n",
      "4) view names\n",
      "0) Exit\n",
      "menu : 1\n",
      "Enter a name :b\n",
      "1) add name\n",
      "2) chage name\n",
      "3) delete name\n",
      "4) view names\n",
      "0) Exit\n",
      "menu : 2\n",
      "Enter a name :a\n",
      "change : c\n",
      "1) add name\n",
      "2) chage name\n",
      "3) delete name\n",
      "4) view names\n",
      "0) Exit\n",
      "menu : 4\n",
      "['c', 'b']\n",
      "1) add name\n",
      "2) chage name\n",
      "3) delete name\n",
      "4) view names\n",
      "0) Exit\n",
      "menu : 3\n",
      "Enter a name :c\n",
      "1) add name\n",
      "2) chage name\n",
      "3) delete name\n",
      "4) view names\n",
      "0) Exit\n",
      "menu : 4\n",
      "['b']\n",
      "1) add name\n",
      "2) chage name\n",
      "3) delete name\n",
      "4) view names\n",
      "0) Exit\n",
      "menu : 0\n"
     ]
    }
   ],
   "source": [
    "\n",
    "def menu(num, lst):\n",
    "    if num == 0:\n",
    "        return num, lst\n",
    "    elif num == 1:\n",
    "        lst.append(d1())\n",
    "    elif num == 2:\n",
    "        lst = d2(lst)\n",
    "    elif num == 3:\n",
    "        d3(lst)\n",
    "    elif num == 4:\n",
    "        d4(lst)\n",
    "    else:\n",
    "        print('Incorrect selection')\n",
    "        print()\n",
    "    return num, lst\n",
    "\n",
    "def d1():\n",
    "    name = input('Enter a name :')\n",
    "    return name\n",
    "\n",
    "def d2(lst):\n",
    "    name = d1()\n",
    "    ch = input('change : ')\n",
    "    lst[lst.index(name)] = ch\n",
    "    return lst\n",
    "\n",
    "def d3(lst):\n",
    "    lst.remove(d1())\n",
    "\n",
    "def d4(lst):\n",
    "    print(lst)\n",
    "\n",
    "def main():\n",
    "    lst=[]\n",
    "    num = 1\n",
    "    while num!=0:\n",
    "        print('1) add name')\n",
    "        print('2) chage name')\n",
    "        print('3) delete name')\n",
    "        print('4) view names')\n",
    "        print('0) Exit')\n",
    "        num = int(input('menu : '))\n",
    "        num, lst = menu(num, lst)\n",
    "\n",
    "main()"
   ]
  },
  {
   "cell_type": "code",
   "execution_count": null,
   "id": "6d87e85f",
   "metadata": {},
   "outputs": [],
   "source": []
  },
  {
   "cell_type": "code",
   "execution_count": null,
   "id": "27fadbab",
   "metadata": {},
   "outputs": [],
   "source": []
  },
  {
   "cell_type": "code",
   "execution_count": null,
   "id": "590ed017",
   "metadata": {},
   "outputs": [],
   "source": []
  },
  {
   "cell_type": "code",
   "execution_count": null,
   "id": "d5a9e524",
   "metadata": {},
   "outputs": [],
   "source": []
  },
  {
   "cell_type": "code",
   "execution_count": null,
   "id": "da629c93",
   "metadata": {},
   "outputs": [],
   "source": []
  },
  {
   "cell_type": "code",
   "execution_count": null,
   "id": "099d30d4",
   "metadata": {},
   "outputs": [],
   "source": []
  },
  {
   "cell_type": "code",
   "execution_count": null,
   "id": "109d83d3",
   "metadata": {},
   "outputs": [],
   "source": []
  },
  {
   "cell_type": "code",
   "execution_count": null,
   "id": "4948543d",
   "metadata": {},
   "outputs": [],
   "source": []
  },
  {
   "cell_type": "code",
   "execution_count": null,
   "id": "d02514b2",
   "metadata": {},
   "outputs": [],
   "source": []
  },
  {
   "cell_type": "code",
   "execution_count": null,
   "id": "6f0556fd",
   "metadata": {},
   "outputs": [],
   "source": []
  },
  {
   "cell_type": "code",
   "execution_count": null,
   "id": "e6ddb414",
   "metadata": {},
   "outputs": [],
   "source": []
  },
  {
   "cell_type": "code",
   "execution_count": null,
   "id": "05ecb39b",
   "metadata": {},
   "outputs": [],
   "source": []
  },
  {
   "cell_type": "code",
   "execution_count": null,
   "id": "2074d42c",
   "metadata": {},
   "outputs": [],
   "source": []
  },
  {
   "cell_type": "code",
   "execution_count": null,
   "id": "5c6072c2",
   "metadata": {},
   "outputs": [],
   "source": []
  },
  {
   "cell_type": "code",
   "execution_count": null,
   "id": "a32b2ba2",
   "metadata": {},
   "outputs": [],
   "source": []
  },
  {
   "cell_type": "code",
   "execution_count": null,
   "id": "0d0ad1cb",
   "metadata": {},
   "outputs": [],
   "source": []
  },
  {
   "cell_type": "code",
   "execution_count": null,
   "id": "0969f87c",
   "metadata": {},
   "outputs": [],
   "source": []
  },
  {
   "cell_type": "code",
   "execution_count": null,
   "id": "8d55e794",
   "metadata": {},
   "outputs": [],
   "source": []
  },
  {
   "cell_type": "code",
   "execution_count": null,
   "id": "381c208a",
   "metadata": {},
   "outputs": [],
   "source": []
  },
  {
   "cell_type": "code",
   "execution_count": null,
   "id": "9fe93686",
   "metadata": {},
   "outputs": [],
   "source": []
  },
  {
   "cell_type": "code",
   "execution_count": null,
   "id": "7e457756",
   "metadata": {},
   "outputs": [],
   "source": []
  },
  {
   "cell_type": "code",
   "execution_count": null,
   "id": "8ae0b15a",
   "metadata": {},
   "outputs": [],
   "source": []
  }
 ],
 "metadata": {
  "kernelspec": {
   "display_name": "Python 3 (ipykernel)",
   "language": "python",
   "name": "python3"
  },
  "language_info": {
   "codemirror_mode": {
    "name": "ipython",
    "version": 3
   },
   "file_extension": ".py",
   "mimetype": "text/x-python",
   "name": "python",
   "nbconvert_exporter": "python",
   "pygments_lexer": "ipython3",
   "version": "3.9.7"
  }
 },
 "nbformat": 4,
 "nbformat_minor": 5
}
