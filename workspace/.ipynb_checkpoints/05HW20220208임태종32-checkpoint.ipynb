{
 "cells": [
  {
   "cell_type": "code",
   "execution_count": 3,
   "id": "824636cb",
   "metadata": {},
   "outputs": [],
   "source": [
    "#231\n",
    "#에러가 난다.\n",
    "#result 변수는 n_plus_1() 함수의 지역변수이기 때문에 함수 밖에서는 유효하지 않는다."
   ]
  },
  {
   "cell_type": "code",
   "execution_count": 7,
   "id": "f727f3b0",
   "metadata": {},
   "outputs": [
    {
     "data": {
      "text/plain": [
       "'www.naver.com'"
      ]
     },
     "execution_count": 7,
     "metadata": {},
     "output_type": "execute_result"
    }
   ],
   "source": [
    "#232\n",
    "def make_url(args):\n",
    "    st = f'www.{args}.com'\n",
    "    return st\n",
    "\n",
    "make_url('naver')\n",
    "\n",
    "# make_url2 = lambda args: f'www.{args}.com'\n",
    "# make_url2('naver')"
   ]
  },
  {
   "cell_type": "code",
   "execution_count": 41,
   "id": "1969b3bd",
   "metadata": {},
   "outputs": [
    {
     "data": {
      "text/plain": [
       "['a', 'b', 'c', 'd']"
      ]
     },
     "execution_count": 41,
     "metadata": {},
     "output_type": "execute_result"
    }
   ],
   "source": [
    "#233\n",
    "\n",
    "def make_list(args):\n",
    "    result = []\n",
    "    for i in args:\n",
    "        result.append(i)\n",
    "    return result\n",
    "\n",
    "make_list('abcd')\n",
    "\n",
    "\n",
    "# def make_list(args):\n",
    "#     result = list(args)\n",
    "#     return result\n",
    "\n",
    "\n",
    "# make_list1 = lambda args: list(args)\n",
    "\n"
   ]
  },
  {
   "cell_type": "code",
   "execution_count": 40,
   "id": "507b25da",
   "metadata": {},
   "outputs": [
    {
     "data": {
      "text/plain": [
       "[4, 6, 8]"
      ]
     },
     "execution_count": 40,
     "metadata": {},
     "output_type": "execute_result"
    }
   ],
   "source": [
    "#234\n",
    "def pickup_even(lst):\n",
    "    result = [i for i in lst if i%2==0]\n",
    "    return result\n",
    "\n",
    "pickup_even([3,4,5,6,7,8])\n",
    "\n",
    "\n",
    "# lst_test = [i for i in range(100)]\n",
    "# test = lambda lst: [i for i in lst if i%2==0]\n",
    "# print(test(lst_test))"
   ]
  },
  {
   "cell_type": "code",
   "execution_count": 71,
   "id": "c8b7b0ea",
   "metadata": {},
   "outputs": [
    {
     "data": {
      "text/plain": [
       "1234567"
      ]
     },
     "execution_count": 71,
     "metadata": {},
     "output_type": "execute_result"
    }
   ],
   "source": [
    "#235\n",
    "\n",
    "def convert_int(args):\n",
    "    result = ''\n",
    "    \n",
    "    for i in args:\n",
    "        if i != ',':\n",
    "            result += i\n",
    "    return int(result)\n",
    "convert_int('1,234,567')\n",
    "\n",
    "# def convert_int(args):\n",
    "#     result = ''\n",
    "    \n",
    "#     for i in args:\n",
    "#         try:\n",
    "#             int(i)\n",
    "#             result += i\n",
    "#         except:\n",
    "#             pass\n",
    "#     return int(result)\n",
    "# convert_int('1,234,567')\n"
   ]
  },
  {
   "cell_type": "code",
   "execution_count": 55,
   "id": "4c7f58bc",
   "metadata": {},
   "outputs": [],
   "source": [
    "#236\n",
    "#출력결과 예측\n",
    "# 22"
   ]
  },
  {
   "cell_type": "code",
   "execution_count": 56,
   "id": "b58adf2b",
   "metadata": {},
   "outputs": [],
   "source": [
    "#237\n",
    "#출력결과 예측\n",
    "# 22"
   ]
  },
  {
   "cell_type": "code",
   "execution_count": 62,
   "id": "95652dbc",
   "metadata": {},
   "outputs": [],
   "source": [
    "#238\n",
    "#출력결과 예측\n",
    "# 140"
   ]
  },
  {
   "cell_type": "code",
   "execution_count": 63,
   "id": "65a0c0a6",
   "metadata": {},
   "outputs": [],
   "source": [
    "#239\n",
    "#출력결과 예측\n",
    "# 16"
   ]
  },
  {
   "cell_type": "code",
   "execution_count": 64,
   "id": "49cc0415",
   "metadata": {},
   "outputs": [],
   "source": [
    "#240\n",
    "#출력결과 예측\n",
    "# 28"
   ]
  },
  {
   "cell_type": "code",
   "execution_count": 118,
   "id": "485d0835",
   "metadata": {},
   "outputs": [],
   "source": [
    "#291~295는 파일처리\n",
    "# f = open(\"C:/Users/dla06/OneDrive/바탕 화면/매수종목1.txt\", 'w') 생성 확인\n",
    "# w는 쓰기 r은 읽기 a는 추가\n",
    "# 파일 경로 \\면 r사용\n",
    "# f = open(r\"C:\\Users\\dla06\\OneDrive\\바탕 화면\")\n",
    "# f.write() 작성\n",
    "# f.close() 열면 닫아야됨\n"
   ]
  },
  {
   "cell_type": "code",
   "execution_count": 124,
   "id": "fbfcea67",
   "metadata": {},
   "outputs": [],
   "source": [
    "#291\n",
    "f = open(r\"C:\\Users\\dla06\\OneDrive\\바탕 화면\\매수종목1.txt\", 'w')\n",
    "f.write('005930\\n\\n005380\\n\\n035420')\n",
    "f.close()"
   ]
  },
  {
   "cell_type": "code",
   "execution_count": 125,
   "id": "528b8a69",
   "metadata": {},
   "outputs": [],
   "source": [
    "#292\n",
    "with open(r\"C:\\Users\\dla06\\OneDrive\\바탕 화면\\매수종목2.txt\", 'w') as f:\n",
    "    f.write('005930 삼성전자\\n\\n005380 현대차\\n\\n035420 NAVER')\n",
    "#with는 알아서 닫아줌"
   ]
  },
  {
   "cell_type": "code",
   "execution_count": 126,
   "id": "f1534817",
   "metadata": {},
   "outputs": [],
   "source": [
    "#293 엑셀 작성\n",
    "\n",
    "\n"
   ]
  },
  {
   "cell_type": "code",
   "execution_count": 140,
   "id": "048bc3af",
   "metadata": {},
   "outputs": [
    {
     "name": "stdout",
     "output_type": "stream",
     "text": [
      "['005930', '005380', '035420']\n"
     ]
    }
   ],
   "source": [
    "#294\n",
    "lst = list()\n",
    "f = open(r\"C:\\Users\\dla06\\OneDrive\\바탕 화면\\매수종목1.txt\", 'r')\n",
    "\n",
    "lines = f.readlines()\n",
    "for i in lines:\n",
    "    if i != '\\n':\n",
    "        lst.append(i.strip())\n",
    "\n",
    "print(lst)\n",
    "\n",
    "\n",
    "# while True:\n",
    "#     line = f.readline()\n",
    "#     if not line: \n",
    "#         break\n",
    "#     lst.append(line.strip())\n",
    "\n",
    "# lines = f.readlines()\n",
    "# for i in lines:\n",
    "#     lst.append(i.strip())\n",
    "\n",
    "# data = f.read()\n",
    "# print(data)\n",
    "# f.close()"
   ]
  },
  {
   "cell_type": "code",
   "execution_count": 145,
   "id": "4efd6aa8",
   "metadata": {},
   "outputs": [
    {
     "name": "stdout",
     "output_type": "stream",
     "text": [
      "{'005930': '삼성전자', '005380': '현대차', '035420': 'NAVER'}\n"
     ]
    }
   ],
   "source": [
    "# 295\n",
    "lst = list()\n",
    "dc = dict()\n",
    "f = open(r\"C:\\Users\\dla06\\OneDrive\\바탕 화면\\매수종목2.txt\", 'r')\n",
    "\n",
    "lines = f.readlines()\n",
    "for i in lines:\n",
    "    if i != '\\n':\n",
    "        lst = i.strip().split(' ')\n",
    "        dc[lst[0]] = lst[1]\n",
    "\n",
    "print(dc)"
   ]
  },
  {
   "cell_type": "code",
   "execution_count": 75,
   "id": "53ed3a0e",
   "metadata": {},
   "outputs": [
    {
     "name": "stdout",
     "output_type": "stream",
     "text": [
      "10.31\n",
      "0\n",
      "8.0\n"
     ]
    }
   ],
   "source": [
    "#296\n",
    "per = ['10.31', '', '8.00']\n",
    "\n",
    "for i in per:\n",
    "    try:\n",
    "        print(float(i))\n",
    "    except:\n",
    "        print('0')\n",
    "        \n",
    "# def fc_per(lst):\n",
    "#     for i in lst:\n",
    "#         try:\n",
    "#             print(float(i))\n",
    "#         except:\n",
    "#             print('0')\n",
    "\n",
    "# fc_per(per)"
   ]
  },
  {
   "cell_type": "code",
   "execution_count": 86,
   "id": "4b0a324f",
   "metadata": {},
   "outputs": [
    {
     "name": "stdout",
     "output_type": "stream",
     "text": [
      "10.31\n",
      "8.0\n",
      "[10.31, 8.0]\n"
     ]
    }
   ],
   "source": [
    "# 297\n",
    "per = ['10.31', '', '8.00']\n",
    "lst = []\n",
    "for i in per:\n",
    "    try:\n",
    "        print(float(i))\n",
    "        lst.append(float(i))\n",
    "    except:\n",
    "        pass\n",
    "\n",
    "print(lst)\n",
    "\n",
    "# def fc_per(per):\n",
    "#     lst = list()\n",
    "#     for i in per:\n",
    "#         try:\n",
    "#             print(float(i))\n",
    "#             lst.append(float(i))\n",
    "#         except:\n",
    "#             pass\n",
    "#     return lst\n",
    "\n",
    "# print(fc_per(per))"
   ]
  },
  {
   "cell_type": "code",
   "execution_count": 91,
   "id": "d4890e17",
   "metadata": {},
   "outputs": [
    {
     "name": "stdout",
     "output_type": "stream",
     "text": [
      "0~10으로 나눌 정수입력 >> 4\n",
      "0으로는 나눌 수 없습니다.\n",
      "4/1 >> 4.0\n",
      "4/2 >> 2.0\n",
      "4/3 >> 1.3\n",
      "4/4 >> 1.0\n",
      "4/5 >> 0.8\n",
      "4/6 >> 0.67\n",
      "4/7 >> 0.57\n",
      "4/8 >> 0.5\n",
      "4/9 >> 0.44\n"
     ]
    }
   ],
   "source": [
    "#298\n",
    "def fc_zero(num):\n",
    "    lst = [i for i in range(10)]\n",
    "    for i in lst:\n",
    "        try:\n",
    "            print(f'{num}/{i} >> {num/i:0.2}')\n",
    "        except ZeroDivisionError:\n",
    "            print('0으로는 나눌 수 없습니다.')\n",
    "\n",
    "num = int(input('0~10으로 나눌 정수입력 >> '))\n",
    "fc_zero(num)\n"
   ]
  },
  {
   "cell_type": "code",
   "execution_count": 95,
   "id": "d31f3efb",
   "metadata": {},
   "outputs": [
    {
     "name": "stdout",
     "output_type": "stream",
     "text": [
      "1\n",
      "2\n",
      "3\n",
      "list index out of range --> 인덱스 범위 초과!!\n",
      "list index out of range --> 인덱스 범위 초과!!\n"
     ]
    }
   ],
   "source": [
    "#299\n",
    "\n",
    "data = [1,2,3]\n",
    "\n",
    "for i in range(5):\n",
    "    try:\n",
    "        print(data[i])\n",
    "    except IndexError as e:\n",
    "        print(f'{e} --> 인덱스 범위 초과!!')"
   ]
  },
  {
   "cell_type": "code",
   "execution_count": 117,
   "id": "5b56fb4c",
   "metadata": {},
   "outputs": [
    {
     "name": "stdout",
     "output_type": "stream",
     "text": [
      "10.31는 실수입니다!\n",
      "누적 결과 >> [10.31]\n",
      "\n",
      "는 실수가 아닙니다!\n",
      "누적 결과 >> [10.31]\n",
      "\n",
      "8.00는 실수입니다!\n",
      "누적 결과 >> [10.31, 8.0]\n",
      "\n",
      "aa는 실수가 아닙니다!\n",
      "누적 결과 >> [10.31, 8.0]\n",
      "\n",
      "12.5는 실수입니다!\n",
      "누적 결과 >> [10.31, 8.0, 12.5]\n",
      "\n",
      "바보는 실수가 아닙니다!\n",
      "누적 결과 >> [10.31, 8.0, 12.5]\n",
      "\n",
      "98.45는 실수입니다!\n",
      "누적 결과 >> [10.31, 8.0, 12.5, 98.45]\n",
      "\n"
     ]
    }
   ],
   "source": [
    "#300\n",
    "per = ['10.31', '', '8.00', 'aa', '12.5', '바보','98.45']\n",
    "lst = list()\n",
    "for i in per:\n",
    "    try:\n",
    "        float(i)\n",
    "    except:\n",
    "        print(f'{i}는 실수가 아닙니다!')\n",
    "    else:\n",
    "        print(f'{i}는 실수입니다!')\n",
    "        lst.append(float(i))\n",
    "    finally:\n",
    "        print(f'누적 결과 >> {lst}\\n')\n"
   ]
  },
  {
   "cell_type": "code",
   "execution_count": 170,
   "id": "fb610fd2",
   "metadata": {},
   "outputs": [
    {
     "name": "stdout",
     "output_type": "stream",
     "text": [
      "24~99까지의 데이터\n",
      "찾을 정수를 입력 >> 55\n",
      "31번 index요소와 일치\n"
     ]
    }
   ],
   "source": [
    "#이진탐색\n",
    "#정렬이 되어있고 반으로 나눠서 비교\n",
    "def b_search(lst, target):\n",
    "    head = 0\n",
    "    tail = len(lst)-1\n",
    "\n",
    "    while head <= tail:\n",
    "        center = int((head+tail)/2)\n",
    "        if target == lst[center]:\n",
    "            result = f'{center}번 index요소와 일치'\n",
    "            return result\n",
    "        elif target > lst[center]:\n",
    "            head = center + 1\n",
    "        else:\n",
    "            tail = center - 1\n",
    "    result = \"찾지 못했습니다.\"        \n",
    "    return result\n",
    "\n",
    "\n",
    "lst = [i for i in range(24,100)]\n",
    "print(f'{lst[0]}~{lst[-1]}까지의 데이터')\n",
    "target = int(input('찾을 정수를 입력 >> '))\n",
    "\n",
    "print(b_search(lst, target))"
   ]
  }
 ],
 "metadata": {
  "kernelspec": {
   "display_name": "Python 3 (ipykernel)",
   "language": "python",
   "name": "python3"
  },
  "language_info": {
   "codemirror_mode": {
    "name": "ipython",
    "version": 3
   },
   "file_extension": ".py",
   "mimetype": "text/x-python",
   "name": "python",
   "nbconvert_exporter": "python",
   "pygments_lexer": "ipython3",
   "version": "3.9.7"
  }
 },
 "nbformat": 4,
 "nbformat_minor": 5
}
