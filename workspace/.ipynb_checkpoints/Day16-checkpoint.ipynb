{
 "cells": [
  {
   "cell_type": "code",
   "execution_count": 4,
   "id": "9bf9d0a3",
   "metadata": {},
   "outputs": [
    {
     "data": {
      "text/plain": [
       "2"
      ]
     },
     "execution_count": 4,
     "metadata": {},
     "output_type": "execute_result"
    }
   ],
   "source": [
    "# Fivonacci\n",
    "\n",
    "# 1\n",
    "def fib(n): # n번째의 피보나치 수열 값을 찾는 함수\n",
    "    a,b = 1,1\n",
    "    if n == 1 or n == 2: # 1번째와 2번째의 값은 1\n",
    "        return 1\n",
    "    for i in range(1,n): # 1번째 부터 n번째 까지\n",
    "        a,b = b, a+b\n",
    "    return a\n",
    "\n",
    "fib(3)"
   ]
  },
  {
   "cell_type": "code",
   "execution_count": 21,
   "id": "b94da86c",
   "metadata": {},
   "outputs": [
    {
     "data": {
      "text/plain": [
       "55"
      ]
     },
     "execution_count": 21,
     "metadata": {},
     "output_type": "execute_result"
    }
   ],
   "source": [
    "# 2 재귀\n",
    "def fib(n):\n",
    "    if n==1 or n==2:\n",
    "        return 1\n",
    "    else:\n",
    "        return fib(n-1) + fib(n-2)\n",
    "fib(10)"
   ]
  },
  {
   "cell_type": "code",
   "execution_count": 14,
   "id": "0b660d99",
   "metadata": {},
   "outputs": [
    {
     "data": {
      "text/plain": [
       "55"
      ]
     },
     "execution_count": 14,
     "metadata": {},
     "output_type": "execute_result"
    }
   ],
   "source": [
    "# 3 람다\n",
    "fib = lambda n:1 if n==1 or n==2 else fib(n-1) + fib(n-2)\n",
    "fib(10)"
   ]
  },
  {
   "cell_type": "code",
   "execution_count": 30,
   "id": "e0fccf15",
   "metadata": {},
   "outputs": [
    {
     "name": "stdout",
     "output_type": "stream",
     "text": [
      "1\n",
      "1\n",
      "2\n",
      "3\n",
      "5\n",
      "8\n",
      "13\n",
      "21\n",
      "34\n",
      "55\n"
     ]
    },
    {
     "data": {
      "text/plain": [
       "55"
      ]
     },
     "execution_count": 30,
     "metadata": {},
     "output_type": "execute_result"
    }
   ],
   "source": [
    "def fib(n): \n",
    "    a,b = 1,1\n",
    "    if n == 1 or n == 2: \n",
    "        return 1\n",
    "    for i in range(1,n):\n",
    "        print(a)\n",
    "        a,b = b, a+b\n",
    "    print(a)\n",
    "    return a\n",
    "\n",
    "fib(10)"
   ]
  },
  {
   "cell_type": "code",
   "execution_count": 47,
   "id": "3594d671",
   "metadata": {},
   "outputs": [
    {
     "data": {
      "text/plain": [
       "[1, 1, 2]"
      ]
     },
     "execution_count": 47,
     "metadata": {},
     "output_type": "execute_result"
    }
   ],
   "source": [
    "def fib(n):\n",
    "    result = [1,1]\n",
    "    if n < 2:\n",
    "        return [1]\n",
    "    for i in range(2,n):\n",
    "        result.append(result[i-2]+result[i-1])\n",
    "    return result\n",
    "\n",
    "fib(3)"
   ]
  },
  {
   "cell_type": "code",
   "execution_count": null,
   "id": "71082a67",
   "metadata": {},
   "outputs": [],
   "source": []
  },
  {
   "cell_type": "code",
   "execution_count": 59,
   "id": "8c4eaddf",
   "metadata": {},
   "outputs": [
    {
     "name": "stdout",
     "output_type": "stream",
     "text": [
      "[[90, 80], [80, 85], [20, 70]]\n"
     ]
    }
   ],
   "source": [
    "# 2D lists 2차원 리스트\n",
    "#     math korean\n",
    "# a    90    80\n",
    "# b    80    85\n",
    "# c   100    70\n",
    "\n",
    "grade = [[90,80], [80,85], [100,70]]\n",
    "\n",
    "grade[2][0] =20\n",
    "grade[2][0]\n",
    "print(grade)"
   ]
  },
  {
   "cell_type": "code",
   "execution_count": 69,
   "id": "34094078",
   "metadata": {},
   "outputs": [
    {
     "name": "stdout",
     "output_type": "stream",
     "text": [
      "Enter your name :a\n",
      "Enter your shoe size :1\n",
      "Enter your name :b\n",
      "Enter your shoe size :2\n",
      "Enter your name :c\n",
      "Enter your shoe size :3\n",
      "Enter your name :d\n",
      "Enter your shoe size :4\n",
      "[['a', '1'], ['b', '2'], ['c', '3'], ['d', '4']]\n"
     ]
    }
   ],
   "source": [
    "info=[]\n",
    "for i in range(0,4):\n",
    "    lst=[]\n",
    "    lst.append(input('Enter your name :'))\n",
    "    lst.append(input('Enter your shoe size :'))\n",
    "    info.append(lst)\n",
    "print(info)"
   ]
  },
  {
   "cell_type": "code",
   "execution_count": 80,
   "id": "4eeb3523",
   "metadata": {},
   "outputs": [
    {
     "name": "stdout",
     "output_type": "stream",
     "text": [
      "Enter name : a\n",
      "Enter age : 1\n",
      "Enter shoe : 1\n",
      "Enter name : b\n",
      "Enter age : 2\n",
      "Enter shoe : 2\n",
      "Enter name : c\n",
      "Enter age : 3\n",
      "Enter shoe : 3\n",
      "Enter name : d\n",
      "Enter age : 4\n",
      "Enter shoe : 4\n",
      "Enter a name : c\n",
      "{'Age': '3', 'Shoe': '3'}\n"
     ]
    }
   ],
   "source": [
    "lst = {}\n",
    "for i in range(0,4):\n",
    "    name = input('Enter name : ')\n",
    "    age = input('Enter age : ')\n",
    "    shoe = input('Enter shoe : ')\n",
    "    lst[name] = {'Age':age , 'Shoe':shoe} \n",
    "    \n",
    "who = input('Enter a name : ')\n",
    "print(lst[who])"
   ]
  },
  {
   "cell_type": "code",
   "execution_count": 79,
   "id": "f3dd3066",
   "metadata": {},
   "outputs": [
    {
     "name": "stdout",
     "output_type": "stream",
     "text": [
      "Enter name : a\n",
      "Enter age : 1\n",
      "Enter shoe : 1\n",
      "Enter name : b\n",
      "Enter age : 2\n",
      "Enter shoe : 2\n",
      "Enter name : c\n",
      "Enter age : 3\n",
      "Enter shoe : 3\n",
      "Enter name : d\n",
      "Enter age : 4\n",
      "Enter shoe : 4\n",
      "remove >> a\n",
      "b {'Age': '2', 'Shoe': '2'}\n",
      "c {'Age': '3', 'Shoe': '3'}\n",
      "d {'Age': '4', 'Shoe': '4'}\n"
     ]
    }
   ],
   "source": [
    "info = {}\n",
    "for i in range(4):\n",
    "    name = input('Enter name : ')\n",
    "    age = input('Enter age : ')\n",
    "    shoe = input('Enter shoe : ')\n",
    "    info[name] = {'Age':age , 'Shoe':shoe} \n",
    "rm = input('Who do you want to remove from the dict? ')\n",
    "del info[rm]\n",
    "\n",
    "for i in info:\n",
    "    print(i,info[i])"
   ]
  },
  {
   "cell_type": "code",
   "execution_count": 89,
   "id": "8b5a0f1c",
   "metadata": {},
   "outputs": [],
   "source": [
    "# Reading and Writing to a File\n",
    "\n",
    "# It is all very well being able to define a list, make chages and add new data,\n",
    "# but if the next time the program is run it returns to the orginal data and your\n",
    "# changes are lost then it is not a lot of use. Therefore It is sometimes necessary\n",
    "# to save the data outside of the program and this way the data can be stored,\n",
    "# along with any changes that are made.\n",
    "\n",
    "file = open('Countries.txt', 'w')\n",
    "file.write('Italy\\n')\n",
    "file.write('Germany\\n')\n",
    "file.write('Spain\\n')\n",
    "file.close()"
   ]
  },
  {
   "cell_type": "code",
   "execution_count": 90,
   "id": "dd8a1713",
   "metadata": {},
   "outputs": [
    {
     "name": "stdout",
     "output_type": "stream",
     "text": [
      "Italy\n",
      "Germany\n",
      "Spain\n",
      "\n"
     ]
    }
   ],
   "source": [
    "file = open('Countries.txt', 'r')\n",
    "print(file.read())"
   ]
  },
  {
   "cell_type": "code",
   "execution_count": 91,
   "id": "0eb53b46",
   "metadata": {},
   "outputs": [],
   "source": [
    "file = open('Countries.txt','a')\n",
    "file.write('France\\n')\n",
    "file.close()"
   ]
  },
  {
   "cell_type": "code",
   "execution_count": 92,
   "id": "27b30fe3",
   "metadata": {},
   "outputs": [
    {
     "name": "stdout",
     "output_type": "stream",
     "text": [
      "Italy\n",
      "Germany\n",
      "Spain\n",
      "France\n",
      "\n"
     ]
    }
   ],
   "source": [
    "file = open('Countries.txt', 'r')\n",
    "print(file.read())"
   ]
  },
  {
   "cell_type": "code",
   "execution_count": null,
   "id": "f15d9a0d",
   "metadata": {},
   "outputs": [
    {
     "name": "stdout",
     "output_type": "stream",
     "text": [
      "1) Create a new file\n",
      "2) Display the file\n",
      "3) Add a new item to the file\n"
     ]
    }
   ],
   "source": [
    "print('1) Create a new file')\n",
    "print('2) Display the file')\n",
    "print('3) Add a new item to the file')\n",
    "menu = int(input('menu(1-3) >> '))\n",
    "if menu == 1:\n",
    "    s = input('Enter a school subject : ')\n",
    "    file = open(f'{s}.txt', 'w')\n",
    "    file.close()\n",
    "elif menu == 2:\n",
    "    s = input('Enter a school subject : ')\n",
    "    file = open(f'{s}.txt', 'r')\n",
    "    print(file.read())\n",
    "elif menu == 3:\n",
    "    s = input('Enter a school subject : ')\n",
    "    file = open('Subject.txt','a')\n",
    "    file.write(f'{s}\\n')\n",
    "    file.close()\n",
    "else:\n",
    "    print('e')"
   ]
  },
  {
   "cell_type": "code",
   "execution_count": null,
   "id": "3d43855a",
   "metadata": {},
   "outputs": [],
   "source": []
  },
  {
   "cell_type": "code",
   "execution_count": null,
   "id": "5fa263ae",
   "metadata": {},
   "outputs": [],
   "source": []
  },
  {
   "cell_type": "code",
   "execution_count": null,
   "id": "9042c738",
   "metadata": {},
   "outputs": [],
   "source": []
  }
 ],
 "metadata": {
  "kernelspec": {
   "display_name": "Python 3 (ipykernel)",
   "language": "python",
   "name": "python3"
  },
  "language_info": {
   "codemirror_mode": {
    "name": "ipython",
    "version": 3
   },
   "file_extension": ".py",
   "mimetype": "text/x-python",
   "name": "python",
   "nbconvert_exporter": "python",
   "pygments_lexer": "ipython3",
   "version": "3.9.7"
  }
 },
 "nbformat": 4,
 "nbformat_minor": 5
}
