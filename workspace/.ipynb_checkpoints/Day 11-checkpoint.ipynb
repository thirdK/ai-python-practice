{
 "cells": [
  {
   "cell_type": "code",
   "execution_count": 3,
   "id": "0f25b707",
   "metadata": {},
   "outputs": [
    {
     "name": "stdout",
     "output_type": "stream",
     "text": [
      "First Name:qkdi\n",
      "Hello qkdi\n"
     ]
    }
   ],
   "source": [
    "# 001\n",
    "fname = input('First Name:')\n",
    "print(f'Hello {fname}')"
   ]
  },
  {
   "cell_type": "code",
   "execution_count": 4,
   "id": "fccb24e3",
   "metadata": {},
   "outputs": [
    {
     "name": "stdout",
     "output_type": "stream",
     "text": [
      "First Name :IM\n",
      "Surname :TAJONG\n",
      "Hello IM TAJONG\n"
     ]
    }
   ],
   "source": [
    "# 002\n",
    "fname = input('First Name :')\n",
    "sname = input('Surname :')\n",
    "print(f'Hello {fname} {sname}')"
   ]
  },
  {
   "cell_type": "code",
   "execution_count": 8,
   "id": "5a2e1dab",
   "metadata": {},
   "outputs": [
    {
     "name": "stdout",
     "output_type": "stream",
     "text": [
      "정수1 >>4\n",
      "정수2 >>2\n",
      "The total is 6\n"
     ]
    }
   ],
   "source": [
    "num1 = int(input('Please enter your first number >>'))\n",
    "num2 = int(input('Please enter your second number >>'))\n",
    "\n",
    "print(f'The total is {num1+num2}')"
   ]
  },
  {
   "cell_type": "code",
   "execution_count": 11,
   "id": "30558c4b",
   "metadata": {},
   "outputs": [
    {
     "name": "stdout",
     "output_type": "stream",
     "text": [
      "Enter the number of slices of pizza you started whith >>8\n",
      "How many slices have you eaten?4\n",
      "The answer if 4\n"
     ]
    }
   ],
   "source": [
    "num1 = int(input('Enter the number of slices of pizza you started whith >> '))\n",
    "num2 = int(input('How many slices have you eaten? '))\n",
    "print(f'The answer if {num1-num2}')"
   ]
  },
  {
   "cell_type": "code",
   "execution_count": null,
   "id": "bb8ae6cd",
   "metadata": {},
   "outputs": [],
   "source": []
  },
  {
   "cell_type": "code",
   "execution_count": 9,
   "id": "232e3855",
   "metadata": {},
   "outputs": [
    {
     "data": {
      "text/plain": [
       "[0, 1, 4, 9, 16]"
      ]
     },
     "execution_count": 9,
     "metadata": {},
     "output_type": "execute_result"
    }
   ],
   "source": [
    "list(map(lambda x: x ** 2, range(5)))"
   ]
  }
 ],
 "metadata": {
  "kernelspec": {
   "display_name": "Python 3 (ipykernel)",
   "language": "python",
   "name": "python3"
  },
  "language_info": {
   "codemirror_mode": {
    "name": "ipython",
    "version": 3
   },
   "file_extension": ".py",
   "mimetype": "text/x-python",
   "name": "python",
   "nbconvert_exporter": "python",
   "pygments_lexer": "ipython3",
   "version": "3.9.7"
  }
 },
 "nbformat": 4,
 "nbformat_minor": 5
}
