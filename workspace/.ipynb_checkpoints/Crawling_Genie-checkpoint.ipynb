{
 "cells": [
  {
   "cell_type": "code",
   "execution_count": 6,
   "id": "b474882b",
   "metadata": {},
   "outputs": [],
   "source": [
    "# 지니는 차트를 못퍼가게 막아놨는데\n",
    "# 어차피 유저가 차트를 보려면 그 데이터는 내 컴퓨터로 날아오게되어 있다.\n",
    "# 그 정보를 내가 가져올 수 있다면 사용이가능하다.\n",
    "# 즉, 브라우저에 뜬 정보를 컨트롤하는 것인데 파이썬으로 브라우저를 컨트롤할 수 있다.\n",
    "\n",
    "# import requests 웹사이트에서 접근하는 모듈\n",
    "# !pip install selenium\n",
    "from selenium import webdriver #파이썬으로 웹 브라우저 컨트롤하는 모듈\n",
    "\n",
    "from bs4 import BeautifulSoup as bs #분석을 용이하게 정제"
   ]
  },
  {
   "cell_type": "code",
   "execution_count": 7,
   "id": "11a18247",
   "metadata": {},
   "outputs": [
    {
     "name": "stderr",
     "output_type": "stream",
     "text": [
      "C:\\Users\\dla06\\AppData\\Local\\Temp/ipykernel_14864/59011745.py:2: DeprecationWarning: executable_path has been deprecated, please pass in a Service object\n",
      "  driver = webdriver.Chrome('chromedriver.exe')#chromedriver.exe가 다운받은 실행파일\n"
     ]
    }
   ],
   "source": [
    "# 크롬드라이버를 구글 버전에 맞게 다운받아서 현재 작업중인 파일과 같은 dir에 넣고 아래 코드 실행\n",
    "driver = webdriver.Chrome('chromedriver.exe')#chromedriver.exe가 다운받은 실행파일\n",
    "driver.get('https://www.genie.co.kr/chart/top200')"
   ]
  },
  {
   "cell_type": "code",
   "execution_count": 11,
   "id": "6611f7cf",
   "metadata": {
    "scrolled": false
   },
   "outputs": [],
   "source": [
    "html = driver.page_source\n",
    "soup = bs(html) #정제작업\n",
    "# soup"
   ]
  },
  {
   "cell_type": "code",
   "execution_count": 49,
   "id": "df31a9c0",
   "metadata": {},
   "outputs": [
    {
     "data": {
      "text/plain": [
       "'태연 (TAEYEON)'"
      ]
     },
     "execution_count": 49,
     "metadata": {},
     "output_type": "execute_result"
    }
   ],
   "source": [
    "len(soup.select('tbody > tr'))\n",
    "songs = soup.select('tbody > tr')\n",
    "singer = songs[0].select('a.artist')[0].text.strip()\n",
    "title = songs[0].select('a.title')[0].text.strip()"
   ]
  },
  {
   "cell_type": "code",
   "execution_count": 53,
   "id": "a4c2ac7d",
   "metadata": {},
   "outputs": [],
   "source": [
    "song_data = []\n",
    "rank = 1\n",
    "\n",
    "songs = soup.select('tr.list')\n",
    "for song in songs:\n",
    "    title = song.select('a.title')[0].text.strip()\n",
    "    singer = song.select('a.artist')[0].text.strip()\n",
    "    song_data.append([rank,title,singer])\n",
    "    rank += 1"
   ]
  },
  {
   "cell_type": "code",
   "execution_count": 56,
   "id": "cdb9c567",
   "metadata": {},
   "outputs": [],
   "source": [
    "import pandas as pd\n",
    "df = pd.DataFrame(song_data, columns = ['순위', '타이틀', '가수'])\n",
    "\n",
    "df.to_excel('Genie.xlsx', index = False)"
   ]
  }
 ],
 "metadata": {
  "kernelspec": {
   "display_name": "Python 3 (ipykernel)",
   "language": "python",
   "name": "python3"
  },
  "language_info": {
   "codemirror_mode": {
    "name": "ipython",
    "version": 3
   },
   "file_extension": ".py",
   "mimetype": "text/x-python",
   "name": "python",
   "nbconvert_exporter": "python",
   "pygments_lexer": "ipython3",
   "version": "3.9.7"
  }
 },
 "nbformat": 4,
 "nbformat_minor": 5
}
