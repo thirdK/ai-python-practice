{
 "cells": [
  {
   "cell_type": "code",
   "execution_count": 3,
   "id": "0fdd7ac7",
   "metadata": {},
   "outputs": [],
   "source": [
    "#211\n",
    "#결과 예측\n",
    "\n",
    "#안녕\n",
    "#Hi"
   ]
  },
  {
   "cell_type": "code",
   "execution_count": 5,
   "id": "00f40d1a",
   "metadata": {},
   "outputs": [],
   "source": [
    "#212\n",
    "#결과 예측\n",
    "\n",
    "# 7\n",
    "# 15"
   ]
  },
  {
   "cell_type": "code",
   "execution_count": 6,
   "id": "99418aaf",
   "metadata": {},
   "outputs": [],
   "source": [
    "#213\n",
    "#함수의 선언에서 1개의 문자열 매개변수를 받도록 했는데\n",
    "#함수 호출을 할 때 인수를 넘겨주지 않았다."
   ]
  },
  {
   "cell_type": "code",
   "execution_count": 11,
   "id": "e34f35b4",
   "metadata": {},
   "outputs": [],
   "source": [
    "# 214\n",
    "#예제에서 선언한 함수의 기능은 2개의 값을 받아 더해서 출력을 하는데\n",
    "#함수 호출에서 정수, 문자열 형태의 값을 넘겨주어  + 연산이 불가능하다."
   ]
  },
  {
   "cell_type": "code",
   "execution_count": 15,
   "id": "0a525e32",
   "metadata": {},
   "outputs": [],
   "source": [
    "#215\n",
    "def print_with_smile(args):\n",
    "    print(args+\":D\")"
   ]
  },
  {
   "cell_type": "code",
   "execution_count": 17,
   "id": "484e4c75",
   "metadata": {},
   "outputs": [
    {
     "name": "stdout",
     "output_type": "stream",
     "text": [
      "안녕하세요:D\n"
     ]
    }
   ],
   "source": [
    "#216\n",
    "print_with_smile(\"안녕하세요\")"
   ]
  },
  {
   "cell_type": "code",
   "execution_count": 27,
   "id": "cfe79a6c",
   "metadata": {},
   "outputs": [
    {
     "name": "stdout",
     "output_type": "stream",
     "text": [
      "13000.0원\n"
     ]
    }
   ],
   "source": [
    "# 217\n",
    "def print_upper_price(args):\n",
    "    print(f'{args*1.3}원')\n",
    "\n",
    "print_upper_price(10000)"
   ]
  },
  {
   "cell_type": "code",
   "execution_count": 28,
   "id": "f5d3b8bc",
   "metadata": {},
   "outputs": [
    {
     "name": "stdout",
     "output_type": "stream",
     "text": [
      "9\n"
     ]
    }
   ],
   "source": [
    "#218\n",
    "def print_sum(a,b):\n",
    "    print(a+b)\n",
    "    \n",
    "print_sum(4,5)"
   ]
  },
  {
   "cell_type": "code",
   "execution_count": 30,
   "id": "b1476114",
   "metadata": {},
   "outputs": [
    {
     "name": "stdout",
     "output_type": "stream",
     "text": [
      "13\n",
      "-3\n",
      "40\n",
      "0.625\n"
     ]
    }
   ],
   "source": [
    "# 219\n",
    "def print_arithmetic_operation(a,b):\n",
    "    print(a+b)\n",
    "    print(a-b)\n",
    "    print(a*b)\n",
    "    print(a/b)\n",
    "\n",
    "print_arithmetic_operation(5,8)"
   ]
  },
  {
   "cell_type": "code",
   "execution_count": 33,
   "id": "5b5cd229",
   "metadata": {},
   "outputs": [
    {
     "name": "stdout",
     "output_type": "stream",
     "text": [
      "7\n"
     ]
    }
   ],
   "source": [
    "#220\n",
    "def print_max(a,b,c):\n",
    "    maxN = a\n",
    "    if maxN < b:\n",
    "        maxN = b\n",
    "    if maxN < c:\n",
    "        maxN = c\n",
    "    print(maxN)\n",
    "    \n",
    "print_max(4,5,7)"
   ]
  },
  {
   "cell_type": "code",
   "execution_count": 57,
   "id": "f72b1b66",
   "metadata": {},
   "outputs": [
    {
     "name": "stdout",
     "output_type": "stream",
     "text": [
      "nohtyp\n"
     ]
    }
   ],
   "source": [
    "#221\n",
    "def print_reverse(st):\n",
    "    rv = ''\n",
    "#     for i in range(len(st)-1,-1,-1):\n",
    "#         rv += st[i]\n",
    "#     print(rv)\n",
    "    for i in st:\n",
    "        rv = i + rv\n",
    "    print(rv)\n",
    "    \n",
    "print_reverse('python')"
   ]
  },
  {
   "cell_type": "code",
   "execution_count": 74,
   "id": "5f083677",
   "metadata": {},
   "outputs": [
    {
     "name": "stdout",
     "output_type": "stream",
     "text": [
      "3.0\n"
     ]
    }
   ],
   "source": [
    "#222\n",
    "def print_score(args):\n",
    "    total=0\n",
    "    for i in args:\n",
    "        total += i\n",
    "    print(total/len(args))\n",
    "\n",
    "    \n",
    "print_score([1,2,3,4,5])"
   ]
  },
  {
   "cell_type": "code",
   "execution_count": 76,
   "id": "704b7b24",
   "metadata": {},
   "outputs": [
    {
     "name": "stdout",
     "output_type": "stream",
     "text": [
      "2\n",
      "10\n",
      "12\n"
     ]
    }
   ],
   "source": [
    "#223\n",
    "def print_even(lst):\n",
    "    for i in lst:\n",
    "        if i%2 == 0:\n",
    "            print(i)\n",
    "\n",
    "print_even([1, 3, 2, 10, 12, 11, 15])"
   ]
  },
  {
   "cell_type": "code",
   "execution_count": 88,
   "id": "1494bdb9",
   "metadata": {},
   "outputs": [
    {
     "name": "stdout",
     "output_type": "stream",
     "text": [
      "이름\n",
      "나이\n",
      "성별\n"
     ]
    }
   ],
   "source": [
    "#224\n",
    "def print_keys(dt):\n",
    "    lst = list(dt.keys())\n",
    "    for i in lst:\n",
    "        print(i)\n",
    "    \n",
    "print_keys({\"이름\" : \"김말똥\", \"나이\":30,\"성별\":0})"
   ]
  },
  {
   "cell_type": "code",
   "execution_count": 90,
   "id": "82607891",
   "metadata": {},
   "outputs": [
    {
     "name": "stdout",
     "output_type": "stream",
     "text": [
      "[100, 130, 100, 100]\n"
     ]
    }
   ],
   "source": [
    "#225\n",
    "def print_value_by_key(args1, args2):\n",
    "    print(args1[args2])\n",
    "    \n",
    "    \n",
    "my_dict = {\"10/26\":[100, 130, 100, 100],\n",
    "          \"10/27\":[10,12,10,11]}\n",
    "\n",
    "print_value_by_key(my_dict, '10/26')"
   ]
  },
  {
   "cell_type": "code",
   "execution_count": 109,
   "id": "36ef1b43",
   "metadata": {},
   "outputs": [
    {
     "name": "stdout",
     "output_type": "stream",
     "text": [
      "아이엠어보\n",
      "이유알어걸\n",
      "d\n"
     ]
    }
   ],
   "source": [
    "#226\n",
    "def print_5xn(args):\n",
    "    st=''\n",
    "    for i in args:\n",
    "        st += i\n",
    "        if len(st) == 5:\n",
    "            print(st)\n",
    "            st=''\n",
    "    if(st != None):\n",
    "        print(st)\n",
    "    \n",
    "    \n",
    "print_5xn(\"아이엠어보이유알어걸\")"
   ]
  },
  {
   "cell_type": "code",
   "execution_count": 117,
   "id": "847ff7e4",
   "metadata": {},
   "outputs": [
    {
     "name": "stdout",
     "output_type": "stream",
     "text": [
      "아이엠\n",
      "어보이\n",
      "유알어\n",
      "걸\n"
     ]
    }
   ],
   "source": [
    "#227\n",
    "def print_mxn(args,m):\n",
    "    st=''\n",
    "    for i in args:\n",
    "        st += i\n",
    "        if len(st) == m:\n",
    "            print(st)\n",
    "            st=''\n",
    "    if(st != None):\n",
    "        print(st)\n",
    "        \n",
    "print_mxn(\"아이엠어보이유알어걸\",3)"
   ]
  },
  {
   "cell_type": "code",
   "execution_count": 126,
   "id": "1fbe7105",
   "metadata": {},
   "outputs": [
    {
     "name": "stdout",
     "output_type": "stream",
     "text": [
      "100000원\n"
     ]
    }
   ],
   "source": [
    "#228\n",
    "def calc_monthly_salary(annual_salary):\n",
    "    print(f'{int(annual_salary/12)}원')\n",
    "    \n",
    "calc_monthly_salary(1200000)"
   ]
  },
  {
   "cell_type": "code",
   "execution_count": 127,
   "id": "c76e3331",
   "metadata": {},
   "outputs": [],
   "source": [
    "#229\n",
    "#왼쪽: 100\n",
    "#오른쪽: 200"
   ]
  },
  {
   "cell_type": "code",
   "execution_count": 129,
   "id": "9a7d3f8b",
   "metadata": {},
   "outputs": [],
   "source": [
    "# 230\n",
    "# 왼쪽: 200\n",
    "# 오른쪽: 100"
   ]
  }
 ],
 "metadata": {
  "kernelspec": {
   "display_name": "Python 3 (ipykernel)",
   "language": "python",
   "name": "python3"
  },
  "language_info": {
   "codemirror_mode": {
    "name": "ipython",
    "version": 3
   },
   "file_extension": ".py",
   "mimetype": "text/x-python",
   "name": "python",
   "nbconvert_exporter": "python",
   "pygments_lexer": "ipython3",
   "version": "3.9.7"
  }
 },
 "nbformat": 4,
 "nbformat_minor": 5
}
