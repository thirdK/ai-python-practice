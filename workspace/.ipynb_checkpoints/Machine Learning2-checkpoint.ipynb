{
 "cells": [
  {
   "cell_type": "code",
   "execution_count": 5,
   "id": "b30a6289",
   "metadata": {},
   "outputs": [],
   "source": [
    "import pandas as pd #데이터 분석 모듈\n",
    "import numpy as np #데이터 계산 모듈\n",
    "\n",
    "from sklearn import datasets   #머신러닝 관련 모듈\n",
    "iris = datasets.load_iris()    #내장 데이터셋 읽어오기\n",
    "\n",
    "df = pd.DataFrame(iris['data'], columns = iris['feature_names'])\n",
    "df.columns = ['sepal_length', 'sepal_width', 'petal_length', 'petal_width']\n",
    "df['target'] = iris['target']"
   ]
  },
  {
   "cell_type": "code",
   "execution_count": 6,
   "id": "335d4627",
   "metadata": {},
   "outputs": [
    {
     "data": {
      "text/plain": [
       "<AxesSubplot:>"
      ]
     },
     "execution_count": 6,
     "metadata": {},
     "output_type": "execute_result"
    },
    {
     "data": {
      "image/png": "[encoded data removed]",
      "text/plain": [
       "<Figure size 432x288 with 2 Axes>"
      ]
     },
     "metadata": {
      "needs_background": "light"
     },
     "output_type": "display_data"
    }
   ],
   "source": [
    "# 상관 관계 시각화\n",
    "import seaborn as sns #시각화 관련 모듈\n",
    "\n",
    "sns.heatmap(data = df.corr(), annot=True)"
   ]
  },
  {
   "cell_type": "code",
   "execution_count": 11,
   "id": "95b5f55b",
   "metadata": {},
   "outputs": [],
   "source": [
    "from sklearn.neighbors import KNeighborsClassifier #KNN불러오기\n",
    "knn = KNeighborsClassifier(n_neighbors = 20)"
   ]
  },
  {
   "cell_type": "code",
   "execution_count": 12,
   "id": "fd1e0c71",
   "metadata": {},
   "outputs": [],
   "source": [
    "from sklearn.svm import SVC\n",
    "svc = SVC(kernel = 'rbf') "
   ]
  },
  {
   "cell_type": "code",
   "execution_count": 13,
   "id": "190bc7b3",
   "metadata": {},
   "outputs": [],
   "source": [
    "from sklearn.tree import DecisionTreeClassifier\n",
    "dtc = DecisionTreeClassifier(max_depth = 20, random_state=20)"
   ]
  },
  {
   "cell_type": "code",
   "execution_count": 16,
   "id": "0d60844f",
   "metadata": {},
   "outputs": [],
   "source": [
    "# 훈련용 train 과 검증용 test 데이터 셋 분할\n",
    "# 모델 학습에 사용할 훈련용 데이터와 모델 성능 평가로 사용할 검증용 test 데이터로 분리하자.\n",
    "# 일반적으로 8:2로 분할 비율을 사용한다.\n",
    "\n",
    "# df 을 문제지와 답안지 형태로 다시 분할한다.\n",
    "# 문제지\n",
    "X_data = df.loc[:,'sepal_length':'petal_width']\n",
    "# 가장 효과적이였던 petal_length:petal_width을 사용\n",
    "# 'sepal_length':'petal_width' 는 4개 column 다 사용 (a부터 b까지니까)\n",
    "\n",
    "# 답안지\n",
    "y_data = df.loc[:,'target']"
   ]
  },
  {
   "cell_type": "code",
   "execution_count": 17,
   "id": "b1cda4b3",
   "metadata": {},
   "outputs": [],
   "source": [
    "from sklearn.model_selection import train_test_split\n",
    "# 8:2로 분리를 해야함 (섞어서)\n",
    "X_train, X_test, y_train, y_test = train_test_split(X_data, y_data, test_size=0.2, shuffle=True, random_state=20)"
   ]
  },
  {
   "cell_type": "code",
   "execution_count": 19,
   "id": "021d9b4e",
   "metadata": {},
   "outputs": [],
   "source": [
    "from sklearn.metrics import accuracy_score"
   ]
  },
  {
   "cell_type": "code",
   "execution_count": null,
   "id": "3f0c059a",
   "metadata": {},
   "outputs": [],
   "source": []
  },
  {
   "cell_type": "code",
   "execution_count": 22,
   "id": "a66172a0",
   "metadata": {},
   "outputs": [
    {
     "data": {
      "text/plain": [
       "1.0"
      ]
     },
     "execution_count": 22,
     "metadata": {},
     "output_type": "execute_result"
    }
   ],
   "source": [
    "# Machine Learning2\n",
    "# 앙상블 모델 ensemble model - voting\n",
    "# 여러 모델을 결합하여 성능 높이는 방법이다.\n",
    "# voting은 여러개의 모델이 예측한 값 중에서 다수결로 최종 결과를 정한다.\n",
    "# 단, 앙상블 학습을 하게되면 개별 모델에 비해 학습 시간이 오래 걸리는 단점이 있다.\n",
    "\n",
    "from sklearn.ensemble import VotingClassifier\n",
    "\n",
    "hvc = VotingClassifier(estimators = [('KNN', knn),('SVM',svc), ('DT',dtc)], voting='hard')\n",
    "\n",
    "# 학습\n",
    "hvc.fit(X_train, y_train)\n",
    "\n",
    "# 예측\n",
    "y_hvc_pred = hvc.predict(X_test)\n",
    "\n",
    "# 평가\n",
    "hvc_acc = accuracy_score(y_test, y_hvc_pred)\n",
    "hvc_acc"
   ]
  },
  {
   "cell_type": "code",
   "execution_count": 28,
   "id": "01768d97",
   "metadata": {},
   "outputs": [
    {
     "data": {
      "text/plain": [
       "0.9"
      ]
     },
     "execution_count": 28,
     "metadata": {},
     "output_type": "execute_result"
    }
   ],
   "source": [
    "# 앙상블 모델 ensemble model - bagging\n",
    "\n",
    "# Decision Tree 는 한개의 트리를 사용한다. 여러개의 트리를 사용하여 각 모델의 개별\n",
    "# 예측 값을 코팅을 통해 결정한다. 이처럼 같은 알고리즘 모델을 여러번 돌려 예측하는 방법을\n",
    "# bagging이라고 한다.\n",
    "from sklearn.ensemble import RandomForestClassifier\n",
    "\n",
    "rfc = RandomForestClassifier(n_estimators = 100, max_depth=10, random_state = 20)\n",
    "\n",
    "# 학습\n",
    "rfc.fit(X_train, y_train)\n",
    "\n",
    "#예측\n",
    "y_rfc_pred = rfc.predict(X_test)\n",
    "\n",
    "# 평가\n",
    "rfc_acc = accuracy_score(y_test, y_rfc_pred)\n",
    "rfc_acc"
   ]
  },
  {
   "cell_type": "code",
   "execution_count": 33,
   "id": "df87b21c",
   "metadata": {},
   "outputs": [
    {
     "name": "stdout",
     "output_type": "stream",
     "text": [
      "[10:30:54] WARNING: C:/Users/Administrator/workspace/xgboost-win64_release_1.5.1/src/learner.cc:1115: Starting in XGBoost 1.3.0, the default evaluation metric used with the objective 'multi:softprob' was changed from 'merror' to 'mlogloss'. Explicitly set eval_metric if you'd like to restore the old behavior.\n"
     ]
    },
    {
     "name": "stderr",
     "output_type": "stream",
     "text": [
      "C:\\Users\\dla06\\anaconda3\\lib\\site-packages\\xgboost\\sklearn.py:1224: UserWarning: The use of label encoder in XGBClassifier is deprecated and will be removed in a future release. To remove this warning, do the following: 1) Pass option use_label_encoder=False when constructing XGBClassifier object; and 2) Encode your labels (y) as integers starting with 0, i.e. 0, 1, 2, ..., [num_class - 1].\n",
      "  warnings.warn(label_encoder_deprecation_msg, UserWarning)\n"
     ]
    },
    {
     "data": {
      "text/plain": [
       "0.9333333333333333"
      ]
     },
     "execution_count": 33,
     "metadata": {},
     "output_type": "execute_result"
    }
   ],
   "source": [
    "# 앙상블 모델 ensemble model - boosting\n",
    "# 부스팅은 여러개의 약한 학습기(가벼운 모델)를 순차적으로 학습한다. \n",
    "# 잘못 예측한 데이터에 대한 예측 오차를 줄이는 방향으로 모델을 계속 업데이트 한다. \n",
    "# 여러 모델을 동시에 학습하지 않고 순서대로 학습하는 점에서 배깅과는 다르다. \n",
    "\n",
    "# 캐글, 데이콘 등 경진대회에서 가장 많이 사용되는 알고리즘이다. \n",
    "# 모델 학습 속도 빠르고 예측력이 상당히 좋은 편으로 알려져 있다. \n",
    "# !pip install xgboost\n",
    "from xgboost import XGBClassifier\n",
    "\n",
    "xgbc = XGBClassifier(n_estimators=50, max_depth=3, random_state=20)\n",
    "\n",
    "#학습\n",
    "xgbc.fit(X_train, y_train) \n",
    "\n",
    "#예측\n",
    "y_xgbc_pred = xgbc.predict(X_test)\n",
    "\n",
    "#평가\n",
    "xgbc_acc = accuracy_score(y_test, y_xgbc_pred)\n",
    "xgbc_acc\n",
    "\n"
   ]
  },
  {
   "cell_type": "code",
   "execution_count": 34,
   "id": "d3285a93",
   "metadata": {},
   "outputs": [],
   "source": [
    "# 과대 적합 overfitting & 과소 적합 underfitting\n",
    "\n",
    "# 과소 적합 underfitting - 머신 러닝을 진행할때 학습 시킬 데이터가 현저히 적을때\n",
    "#                        현저히 적을때 예측력이 떨어지는 증상\n",
    "\n",
    "# 과대 적합 overfitting - 학습 시킨 데이터와 비슷한 것은 예측력이 우수하게 판단하지만\n",
    "#                        새로운 데이터에는 예측력이 떨어지는 증상\n",
    "\n",
    "# solution : 데이터의 양을 엄청나게 늘린다."
   ]
  },
  {
   "cell_type": "code",
   "execution_count": 38,
   "id": "03231552",
   "metadata": {},
   "outputs": [
    {
     "name": "stdout",
     "output_type": "stream",
     "text": [
      "1 Fold -----------------------------------------------\n",
      "훈련 : 96 [ 0  3  4  6  7  8  9 10 11 12]\n",
      "검증 : 24 [ 1  2  5 35 37 38 44 49 50 51]\n",
      "2 Fold -----------------------------------------------\n",
      "훈련 : 96 [ 1  2  3  4  5  6  7  8  9 10]\n",
      "검증 : 24 [ 0 12 19 21 23 31 36 39 46 47]\n",
      "3 Fold -----------------------------------------------\n",
      "훈련 : 96 [ 0  1  2  3  5  6  7  9 10 12]\n",
      "검증 : 24 [ 4  8 11 14 24 27 29 30 33 41]\n",
      "4 Fold -----------------------------------------------\n",
      "훈련 : 96 [ 0  1  2  4  5  6  7  8  9 11]\n",
      "검증 : 24 [ 3 10 13 17 18 25 32 43 57 58]\n",
      "5 Fold -----------------------------------------------\n",
      "훈련 : 96 [ 0  1  2  3  4  5  8 10 11 12]\n",
      "검증 : 24 [ 6  7  9 15 16 20 22 26 28 34]\n"
     ]
    }
   ],
   "source": [
    "# K-fold 교차검증\n",
    "\n",
    "# 데이터 셋을 5개의 Fold로 분할\n",
    "# !pip install k\n",
    "from sklearn.model_selection import KFold\n",
    "\n",
    "kfold = KFold(n_splits = 5, shuffle = True, random_state = 20)\n",
    "# 훈련용 데이터와 검증용 데이터 행 인덱스를 각각의 Fold별로 구분하여 확인해보자\n",
    "num_fold = 1\n",
    "for tr_idx, val_idx in kfold.split(X_train):\n",
    "    print('%s Fold -----------------------------------------------' % num_fold)\n",
    "    print('훈련 :', len(tr_idx), tr_idx[:10])\n",
    "    print('검증 :', len(val_idx), val_idx[:10])\n",
    "    num_fold = num_fold + 1"
   ]
  },
  {
   "cell_type": "code",
   "execution_count": 46,
   "id": "85d580f9",
   "metadata": {},
   "outputs": [
    {
     "name": "stdout",
     "output_type": "stream",
     "text": [
      "1 Fold Accuracy : 0.8750\n",
      "2 Fold Accuracy : 1.0000\n",
      "3 Fold Accuracy : 0.9583\n",
      "4 Fold Accuracy : 1.0000\n",
      "5 Fold Accuracy : 1.0000\n",
      "\n",
      "평균 정확도 :  97.0 %\n"
     ]
    }
   ],
   "source": [
    "# 훈련용 데이터와 검증용 데이터의 행 인덱스를 각 fold별로 구분하여 생성\n",
    "\n",
    "val_scores = [] # 5번의 예측 정확도를 담을 리스트\n",
    "\n",
    "num_fold = 1\n",
    "\n",
    "for tr_idx, val_idx in kfold.split(X_train, y_train):\n",
    "    # 훈련용 데이터와 검증용 데이터를 행 인덱스 기준으로 추출\n",
    "    X_tr, X_val = X_train.iloc[tr_idx, :], X_train.iloc[val_idx, :] # X 문제지\n",
    "    y_tr, y_val = y_train.iloc[tr_idx], y_train.iloc[val_idx]       # y 답안지\n",
    "    \n",
    "    # 학습\n",
    "    rfc = RandomForestClassifier(max_depth = 5, random_state = 20)\n",
    "    rfc.fit(X_tr,y_tr)\n",
    "    \n",
    "    # 예측\n",
    "    y_val_pred = rfc.predict(X_val)\n",
    "    \n",
    "    # 검증\n",
    "    val_acc = accuracy_score(y_val, y_val_pred)\n",
    "    \n",
    "    # 결과 출력\n",
    "    print('%d Fold Accuracy : %.4f' % (num_fold, val_acc)) # 각각의 폴드마다의 정확도\n",
    "    val_scores.append(val_acc)\n",
    "    num_fold += 1\n",
    "    \n",
    "# 평균 정확도 계산\n",
    "\n",
    "mean_score = np.mean(val_scores)\n",
    "print()\n",
    "print('평균 정확도 : ', np.round(mean_score,2) * 100, '%')\n",
    "    "
   ]
  },
  {
   "cell_type": "code",
   "execution_count": 45,
   "id": "281cc498",
   "metadata": {},
   "outputs": [
    {
     "name": "stdout",
     "output_type": "stream",
     "text": [
      "평균 정확도 :  97.0 %\n"
     ]
    }
   ],
   "source": []
  },
  {
   "cell_type": "code",
   "execution_count": null,
   "id": "d54cfb36",
   "metadata": {},
   "outputs": [],
   "source": []
  },
  {
   "cell_type": "code",
   "execution_count": null,
   "id": "d6f16560",
   "metadata": {},
   "outputs": [],
   "source": []
  },
  {
   "cell_type": "code",
   "execution_count": null,
   "id": "c4301bcd",
   "metadata": {},
   "outputs": [],
   "source": []
  }
 ],
 "metadata": {
  "kernelspec": {
   "display_name": "Python 3 (ipykernel)",
   "language": "python",
   "name": "python3"
  },
  "language_info": {
   "codemirror_mode": {
    "name": "ipython",
    "version": 3
   },
   "file_extension": ".py",
   "mimetype": "text/x-python",
   "name": "python",
   "nbconvert_exporter": "python",
   "pygments_lexer": "ipython3",
   "version": "3.9.7"
  }
 },
 "nbformat": 4,
 "nbformat_minor": 5
}
