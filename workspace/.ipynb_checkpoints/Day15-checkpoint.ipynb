{
 "cells": [
  {
   "cell_type": "code",
   "execution_count": 8,
   "id": "4a44253b",
   "metadata": {},
   "outputs": [
    {
     "name": "stdout",
     "output_type": "stream",
     "text": [
      "['a', 'b', 'c', 'd']\n",
      "Enter another TV show >> ㅁ\n",
      "Enter a number between 0 and 3 >> 3\n",
      "['a', 'b', 'c', 'ㅁ', 'd']\n"
     ]
    }
   ],
   "source": [
    "lst = ['a', 'b', 'c', 'd']\n",
    "print(lst)\n",
    "n = input('Enter another TV show >> ')\n",
    "idx = int(input('Enter a number between 0 and 3 >> '))\n",
    "lst.insert(idx, n)\n",
    "print(lst)"
   ]
  },
  {
   "cell_type": "code",
   "execution_count": 15,
   "id": "7e5e73b5",
   "metadata": {},
   "outputs": [
    {
     "name": "stdout",
     "output_type": "stream",
     "text": [
      "Enter a nuber : 1\n",
      "[1]\n",
      "Enter a nuber : 2\n",
      "[1, 2]\n",
      "Enter a nuber : 3\n",
      "[1, 2, 3]\n",
      "Do you want the last number save?(y/n) : n\n",
      "[1, 2]\n"
     ]
    }
   ],
   "source": [
    "nums = []\n",
    "for i in range(3):\n",
    "    nums.append(int(input('Enter a nuber : ')))\n",
    "    print(nums)\n",
    "ans = input('Do you want the last number saved?(y/n) : ')\n",
    "\n",
    "if ans == 'n':\n",
    "    nums.pop()\n",
    "\n",
    "print(nums)\n",
    "    \n",
    "\n",
    "    "
   ]
  }
 ],
 "metadata": {
  "kernelspec": {
   "display_name": "Python 3 (ipykernel)",
   "language": "python",
   "name": "python3"
  },
  "language_info": {
   "codemirror_mode": {
    "name": "ipython",
    "version": 3
   },
   "file_extension": ".py",
   "mimetype": "text/x-python",
   "name": "python",
   "nbconvert_exporter": "python",
   "pygments_lexer": "ipython3",
   "version": "3.9.7"
  }
 },
 "nbformat": 4,
 "nbformat_minor": 5
}
