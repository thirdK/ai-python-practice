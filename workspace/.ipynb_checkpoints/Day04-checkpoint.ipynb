{
 "cells": [
  {
   "cell_type": "code",
   "execution_count": 2,
   "id": "f5ed3bfb",
   "metadata": {},
   "outputs": [
    {
     "name": "stdout",
     "output_type": "stream",
     "text": [
      "안녕하세요\n"
     ]
    }
   ],
   "source": [
    "print(\"안녕하세요\")"
   ]
  },
  {
   "cell_type": "code",
   "execution_count": 7,
   "id": "0666ead0",
   "metadata": {},
   "outputs": [
    {
     "name": "stdout",
     "output_type": "stream",
     "text": [
      "True\n",
      "False\n",
      "True\n",
      "False\n"
     ]
    }
   ],
   "source": [
    "print(\"가방\" == \"가방\")\n",
    "print(\"가방\" == \"백\")\n",
    "print(\"가방\" != \"백\")\n",
    "print(\"가방\" > \"백\") #한글은 사전순서\n"
   ]
  },
  {
   "cell_type": "code",
   "execution_count": 14,
   "id": "635cb6ba",
   "metadata": {},
   "outputs": [
    {
     "name": "stdout",
     "output_type": "stream",
     "text": [
      "정수를 입력 하세요 >>> 1\n",
      "양수입니다.\n"
     ]
    }
   ],
   "source": [
    "num = int(input(\"정수를 입력 하세요 >>> \"))\n",
    "if num > 0:\n",
    "    print(\"양수입니다.\")\n",
    "if num < 0:\n",
    "    print(\"음수입니다.\")\n",
    "if num == 0:\n",
    "    print(\"0입니다.\")"
   ]
  },
  {
   "cell_type": "code",
   "execution_count": 21,
   "id": "641e010d",
   "metadata": {},
   "outputs": [
    {
     "name": "stdout",
     "output_type": "stream",
     "text": [
      "2022-01-28 14:33:00.320004\n",
      "2022 년\n",
      "1 월\n",
      "28\n",
      "14\n",
      "33\n",
      "0\n"
     ]
    }
   ],
   "source": [
    "#날짜/시간과 관련된 기능을 가져온다.\n",
    "import datetime\n",
    "now = datetime.datetime.now()\n",
    "print(now)\n",
    "print(now.year, '년')\n",
    "print(now.month, '월')\n",
    "print(now.day)\n",
    "print(now.hour)\n",
    "print(now.minute)\n",
    "print(now.second)"
   ]
  },
  {
   "cell_type": "code",
   "execution_count": 26,
   "id": "a7f8b093",
   "metadata": {},
   "outputs": [
    {
     "name": "stdout",
     "output_type": "stream",
     "text": [
      "현재 시각은 14시 40분 오후입니다.\n"
     ]
    }
   ],
   "source": [
    "import datetime\n",
    "now = datetime.datetime.now()\n",
    "check = \"오전\"\n",
    "if now.hour >= 12:\n",
    "    check = \"오후\"\n",
    "\n",
    "print(f\"현재 시각은 {now.hour}시 {now.minute}분 {check}입니다.\")"
   ]
  },
  {
   "cell_type": "code",
   "execution_count": 31,
   "id": "fcc0b186",
   "metadata": {},
   "outputs": [
    {
     "name": "stdout",
     "output_type": "stream",
     "text": [
      "이번 달은 1월로 겨울입니다.\n"
     ]
    }
   ],
   "source": [
    "import datetime\n",
    "now = datetime.datetime.now()\n",
    "check = \"\"\n",
    "if now.month <=3:\n",
    "    check = \"겨울\"\n",
    "if 3< now.month < 6:\n",
    "    check = \"봄\"\n",
    "if 6< now.month < 9:\n",
    "    check = \"여름\"\n",
    "if 9< now.month < 13:\n",
    "    check = \"가을\"\n",
    "print(f\"이번 달은 {now.month}월로 {check}입니다.\")"
   ]
  },
  {
   "cell_type": "code",
   "execution_count": 45,
   "id": "883b2f17",
   "metadata": {},
   "outputs": [
    {
     "name": "stdout",
     "output_type": "stream",
     "text": [
      "정수 입력 >> 22\n",
      "짝수\n"
     ]
    }
   ],
   "source": [
    "num = int(input(\"정수 입력 >> \")) # %연산자를 쓰지 않고 만들기\n",
    "check = 1\n",
    "cnt = 0\n",
    "while cnt < num:\n",
    "    cnt += 1\n",
    "    check *= -1\n",
    "\n",
    "if check == 1:\n",
    "    print(\"짝수\")\n",
    "else:\n",
    "    print(\"홀수\")"
   ]
  },
  {
   "cell_type": "code",
   "execution_count": 48,
   "id": "498fd4d8",
   "metadata": {},
   "outputs": [
    {
     "name": "stdout",
     "output_type": "stream",
     "text": [
      "정수 입력 >> 1\n"
     ]
    }
   ],
   "source": [
    "#pass\n",
    "\n",
    "number = int(input(\"정수 입력 >> \"))\n",
    "if number > 0:  #나중에 구현하고 싶어서 넘어갈때 0을 사용해도 되지만\n",
    "    pass        #pass를 사용한다.(직관적)\n",
    "else:\n",
    "    0"
   ]
  },
  {
   "cell_type": "code",
   "execution_count": 55,
   "id": "54fd25bf",
   "metadata": {},
   "outputs": [
    {
     "name": "stdout",
     "output_type": "stream",
     "text": [
      "0\n",
      "1\n",
      "2\n",
      "3\n",
      "4\n",
      "5\n",
      "6\n",
      "7\n",
      "8\n",
      "9\n",
      "3\n",
      "4\n",
      "5\n"
     ]
    }
   ],
   "source": [
    "#list와 반복문\n",
    "li = [1,2,3,4,5]\n",
    "\n",
    "for i in range(10):\n",
    "    print(i)\n",
    "    \n",
    "for i in li:\n",
    "    if i >= 3:\n",
    "        print(i)"
   ]
  },
  {
   "cell_type": "code",
   "execution_count": 59,
   "id": "ce12c363",
   "metadata": {},
   "outputs": [
    {
     "name": "stdout",
     "output_type": "stream",
     "text": [
      "이몽룡\n",
      "\n",
      "1 홍길동\n",
      "2 이몽룡\n"
     ]
    }
   ],
   "source": [
    "#딕셔너리와 반복문\n",
    "\n",
    "dict1 = {\n",
    "    1:'홍길동',\n",
    "    2:'이몽룡'\n",
    "}\n",
    "print(dict1[2])\n",
    "print()\n",
    "for i in dict1:\n",
    "    print(i, dict1[i])"
   ]
  },
  {
   "cell_type": "code",
   "execution_count": 2,
   "id": "7804522e",
   "metadata": {},
   "outputs": [
    {
     "name": "stdout",
     "output_type": "stream",
     "text": [
      "입력 >> a\n"
     ]
    },
    {
     "ename": "ValueError",
     "evalue": "invalid literal for int() with base 10: 'a'",
     "output_type": "error",
     "traceback": [
      "\u001b[1;31m---------------------------------------------------------------------------\u001b[0m",
      "\u001b[1;31mValueError\u001b[0m                                Traceback (most recent call last)",
      "\u001b[1;32m~\\AppData\\Local\\Temp/ipykernel_17432/1324791405.py\u001b[0m in \u001b[0;36m<module>\u001b[1;34m\u001b[0m\n\u001b[1;32m----> 1\u001b[1;33m \u001b[0mnum\u001b[0m \u001b[1;33m=\u001b[0m \u001b[0mint\u001b[0m\u001b[1;33m(\u001b[0m\u001b[0minput\u001b[0m\u001b[1;33m(\u001b[0m\u001b[1;34m\"입력 >> \"\u001b[0m\u001b[1;33m)\u001b[0m\u001b[1;33m)\u001b[0m\u001b[1;33m\u001b[0m\u001b[1;33m\u001b[0m\u001b[0m\n\u001b[0m\u001b[0;32m      2\u001b[0m \u001b[0mcnt\u001b[0m\u001b[1;33m=\u001b[0m\u001b[1;36m0\u001b[0m\u001b[1;33m\u001b[0m\u001b[1;33m\u001b[0m\u001b[0m\n\u001b[0;32m      3\u001b[0m \u001b[1;32mfor\u001b[0m \u001b[0mi\u001b[0m \u001b[1;32min\u001b[0m \u001b[0mrange\u001b[0m\u001b[1;33m(\u001b[0m\u001b[0mnum\u001b[0m\u001b[1;33m)\u001b[0m\u001b[1;33m:\u001b[0m\u001b[1;33m\u001b[0m\u001b[1;33m\u001b[0m\u001b[0m\n\u001b[0;32m      4\u001b[0m     \u001b[0mprint\u001b[0m\u001b[1;33m(\u001b[0m\u001b[1;34mf\"{i}번째 반복\"\u001b[0m\u001b[1;33m)\u001b[0m\u001b[1;33m\u001b[0m\u001b[1;33m\u001b[0m\u001b[0m\n\u001b[0;32m      5\u001b[0m \u001b[1;33m\u001b[0m\u001b[0m\n",
      "\u001b[1;31mValueError\u001b[0m: invalid literal for int() with base 10: 'a'"
     ]
    }
   ],
   "source": [
    "num = int(input(\"입력 >> \"))\n",
    "cnt=0\n",
    "for i in range(num):\n",
    "    print(f\"{i}번째 반복\")\n",
    "\n",
    "while cnt < num:\n",
    "    print(f\"{cnt}번째 반복\")\n",
    "    cnt += 1\n",
    "    \n",
    "    "
   ]
  },
  {
   "cell_type": "code",
   "execution_count": 1,
   "id": "dfdf17ce",
   "metadata": {},
   "outputs": [
    {
     "name": "stdout",
     "output_type": "stream",
     "text": [
      "0번째 반복입니다.\n",
      "종료할까요(y) >> 1\n",
      "1번째 반복입니다.\n",
      "종료할까요(y) >> 1\n",
      "2번째 반복입니다.\n",
      "종료할까요(y) >> 4\n",
      "3번째 반복입니다.\n",
      "종료할까요(y) >> 5\n",
      "4번째 반복입니다.\n",
      "종료할까요(y) >> y\n",
      "반복을 종료합니다.\n"
     ]
    }
   ],
   "source": [
    "#break\n",
    "i = 0\n",
    "while True:\n",
    "    print(f\"{i}번째 반복입니다.\")\n",
    "    i += 1\n",
    "    inp = input(\"종료할까요(y) >> \")\n",
    "    \n",
    "    if inp in ['Y', 'y']:\n",
    "        print(\"반복을 종료합니다.\")\n",
    "        break\n",
    "        \n",
    "    "
   ]
  },
  {
   "cell_type": "code",
   "execution_count": 8,
   "id": "8a4a57a9",
   "metadata": {},
   "outputs": [
    {
     "name": "stdout",
     "output_type": "stream",
     "text": [
      "1\n",
      "3\n",
      "5\n",
      "7\n",
      "9\n"
     ]
    }
   ],
   "source": [
    "#continue\n",
    "for num in range(1,11):\n",
    "    if num % 2== 0:\n",
    "        continue\n",
    "    print(num)\n",
    "    "
   ]
  },
  {
   "cell_type": "code",
   "execution_count": 11,
   "id": "36f1bb0d",
   "metadata": {},
   "outputs": [
    {
     "name": "stdout",
     "output_type": "stream",
     "text": [
      "0번 진구\n",
      "1번 철수\n",
      "2번 미애\n",
      "3번 형구\n",
      "4번 진수\n",
      "0번 진구\n",
      "1번 철수\n",
      "2번 미애\n",
      "3번 형구\n",
      "4번 진수\n"
     ]
    }
   ],
   "source": [
    "# enumerate() \n",
    "\n",
    "student = [\"진구\", \"철수\", \"미애\", \"형구\", \"진수\"]\n",
    "\n",
    "for i in range(5):\n",
    "    print(f\"{i}번 {student[i]}\")\n",
    "\n",
    "for i, name in enumerate(student):\n",
    "    print(f\"{i}번 {name}\")"
   ]
  },
  {
   "cell_type": "code",
   "execution_count": 20,
   "id": "3b717bc4",
   "metadata": {},
   "outputs": [
    {
     "name": "stdout",
     "output_type": "stream",
     "text": [
      "홍길동의 키는 185입니다.\n",
      "이몽룡의 키는 189입니다.\n",
      "성춘향의 키는 168입니다.\n",
      "홍길동의 키는 185입니다.\n",
      "이몽룡의 키는 189입니다.\n",
      "성춘향의 키는 168입니다.\n"
     ]
    }
   ],
   "source": [
    "#items()\n",
    "dict1 = {\n",
    "    '홍길동' : 185,\n",
    "    '이몽룡' : 189,\n",
    "    '성춘향' : 168\n",
    "}\n",
    "for i in dict1:\n",
    "    print(f\"{i}의 키는 {dict1[i]}입니다.\")\n",
    "\n",
    "for name, height in dict1.items():\n",
    "    print(f\"{name}의 키는 {height}입니다.\")"
   ]
  },
  {
   "cell_type": "code",
   "execution_count": 25,
   "id": "6e63433b",
   "metadata": {},
   "outputs": [
    {
     "name": "stdout",
     "output_type": "stream",
     "text": [
      "[0, 2, 4, 6, 8, 10, 12, 14, 16, 18]\n"
     ]
    }
   ],
   "source": [
    "#리스트 내포 list comprehensions\n",
    "\n",
    "array = []\n",
    "\n",
    "for i in range(0, 20, 2):\n",
    "    array.append(i)\n",
    "print(array)\n",
    "\n"
   ]
  },
  {
   "cell_type": "code",
   "execution_count": 28,
   "id": "8c26df22",
   "metadata": {},
   "outputs": [
    {
     "name": "stdout",
     "output_type": "stream",
     "text": [
      "[0, 2, 4, 6, 8, 10, 12, 14, 16, 18]\n"
     ]
    }
   ],
   "source": [
    "array = [i for i in range(0,20,2)]\n",
    "print(array)"
   ]
  },
  {
   "cell_type": "code",
   "execution_count": 30,
   "id": "67cac2f7",
   "metadata": {},
   "outputs": [
    {
     "name": "stdout",
     "output_type": "stream",
     "text": [
      "['사과', '체리', '바나나']\n"
     ]
    }
   ],
   "source": [
    "array = ['사과', '체리', '바나나', '과자']\n",
    "\n",
    "output = [i for i in array if i !='과자']\n",
    "\n",
    "print(output)"
   ]
  },
  {
   "cell_type": "code",
   "execution_count": 45,
   "id": "56fe627b",
   "metadata": {},
   "outputs": [
    {
     "name": "stdout",
     "output_type": "stream",
     "text": [
      "[0, 2, 4, 6, 8]\n",
      "[0, 2, 4, 6, 8]\n"
     ]
    }
   ],
   "source": [
    "arr1 = [i for i in range(0,10,2)]\n",
    "arr2 = [i for i in range(0,10) if i%2 == 0]\n",
    "print(arr1)\n",
    "print(arr2)"
   ]
  },
  {
   "cell_type": "code",
   "execution_count": null,
   "id": "474c90b4",
   "metadata": {},
   "outputs": [],
   "source": []
  },
  {
   "cell_type": "code",
   "execution_count": null,
   "id": "707d68bd",
   "metadata": {},
   "outputs": [],
   "source": []
  },
  {
   "cell_type": "code",
   "execution_count": null,
   "id": "41e83eee",
   "metadata": {},
   "outputs": [],
   "source": []
  },
  {
   "cell_type": "code",
   "execution_count": null,
   "id": "291eac9b",
   "metadata": {},
   "outputs": [],
   "source": []
  },
  {
   "cell_type": "code",
   "execution_count": null,
   "id": "66a45885",
   "metadata": {},
   "outputs": [],
   "source": []
  }
 ],
 "metadata": {
  "kernelspec": {
   "display_name": "Python 3 (ipykernel)",
   "language": "python",
   "name": "python3"
  },
  "language_info": {
   "codemirror_mode": {
    "name": "ipython",
    "version": 3
   },
   "file_extension": ".py",
   "mimetype": "text/x-python",
   "name": "python",
   "nbconvert_exporter": "python",
   "pygments_lexer": "ipython3",
   "version": "3.9.7"
  }
 },
 "nbformat": 4,
 "nbformat_minor": 5
}
