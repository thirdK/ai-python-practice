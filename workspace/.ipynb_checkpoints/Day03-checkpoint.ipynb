{
 "cells": [
  {
   "cell_type": "markdown",
   "metadata": {
    "colab_type": "text",
    "id": "view-in-github"
   },
   "source": [
    "<a href=\"https://colab.research.google.com/github/thirdK/ai/blob/main/Day03.ipynb\" target=\"_parent\"><img src=\"https://colab.research.google.com/assets/colab-badge.svg\" alt=\"Open In Colab\"/></a>"
   ]
  },
  {
   "cell_type": "code",
   "execution_count": null,
   "metadata": {
    "colab": {
     "base_uri": "https://localhost:8080/"
    },
    "id": "rPkYgt28INdQ",
    "outputId": "d3f12bd1-9013-4c2f-fc0d-ad5737c760a6"
   },
   "outputs": [
    {
     "name": "stdout",
     "output_type": "stream",
     "text": [
      "당신의 점수를 입력하세요 >> 89\n",
      "당신의 점수는 89이고 학점은 B+입니다.\n"
     ]
    }
   ],
   "source": [
    "score = int(input(\"당신의 점수를 입력하세요 >> \"))\n",
    "\n",
    "if score >= 90:\n",
    "  gr = 'A'\n",
    "elif score >= 80:\n",
    "  gr = 'B'\n",
    "elif score >= 70:\n",
    "  gr = 'C'\n",
    "elif score >= 60:\n",
    "  gr = 'D'\n",
    "else:\n",
    "  gr = 'F'\n",
    "\n",
    "if score == 100:\n",
    "  check = '+'\n",
    "elif score%10 < 4:\n",
    "  check = '-'\n",
    "elif score%10 < 7:\n",
    "  check = '0'\n",
    "else:\n",
    "  check = '+'\n",
    "\n",
    "print(f\"당신의 점수는 {score}이고 학점은 {gr}{check}입니다.\")"
   ]
  },
  {
   "cell_type": "code",
   "execution_count": null,
   "metadata": {
    "colab": {
     "base_uri": "https://localhost:8080/"
    },
    "id": "z8gslv03Sz9g",
    "outputId": "ce759913-53c7-4b29-c811-960f06c17918"
   },
   "outputs": [
    {
     "name": "stdout",
     "output_type": "stream",
     "text": [
      "1\n",
      "2\n",
      "3\n",
      "4\n",
      "5\n",
      "6\n",
      "7\n",
      "8\n",
      "9\n",
      "10\n"
     ]
    }
   ],
   "source": [
    "n = 1\n",
    "while n <= 10:\n",
    "  print(n) \n",
    "  n += 1"
   ]
  },
  {
   "cell_type": "code",
   "execution_count": null,
   "metadata": {
    "colab": {
     "base_uri": "https://localhost:8080/"
    },
    "id": "cjmDR9UFUYAG",
    "outputId": "5cfa1fce-77de-4d8a-88ac-021e58a242f3"
   },
   "outputs": [
    {
     "name": "stdout",
     "output_type": "stream",
     "text": [
      "10\n",
      "8\n",
      "6\n",
      "4\n",
      "2\n"
     ]
    }
   ],
   "source": [
    "n = 10\n",
    "while n>0:\n",
    "  print(n)\n",
    "  n -= 2"
   ]
  },
  {
   "cell_type": "code",
   "execution_count": null,
   "metadata": {
    "colab": {
     "base_uri": "https://localhost:8080/"
    },
    "id": "2Qs9B6mlVXVR",
    "outputId": "9c4e2017-9eca-4336-ef7e-701df3ac6d71"
   },
   "outputs": [
    {
     "name": "stdout",
     "output_type": "stream",
     "text": [
      "정수 입력 >> 1\n",
      "정수 입력 >> 2\n",
      "정수 입력 >> 3\n",
      "정수 입력 >> 4\n",
      "정수 입력 >> 5\n",
      "정수 입력 >> 0\n",
      "[1, 2, 3, 4, 5]\n"
     ]
    }
   ],
   "source": [
    "list_n = []\n",
    "num = 1\n",
    "while num != 0:\n",
    "  num = int(input(\"정수 입력 >> \"))\n",
    "  if num!=0:\n",
    "    list_n.append(num)\n",
    "\n",
    "print(list_n)\n",
    "  "
   ]
  },
  {
   "cell_type": "code",
   "execution_count": null,
   "metadata": {
    "id": "QIiGArakYmRB"
   },
   "outputs": [],
   "source": [
    "num1 = 0\n",
    "\n",
    "\n",
    "while num1 < 4:\n",
    "  num1 += 1\n",
    "  num2 = 0\n",
    "  while num2 < 4:\n",
    "    num2 += 1\n",
    "    if num2 < 4:\n",
    "      print(f\"{num1}일차 {num2}교시 입니다.\")"
   ]
  },
  {
   "cell_type": "code",
   "execution_count": 19,
   "metadata": {
    "colab": {
     "base_uri": "https://localhost:8080/"
    },
    "id": "PAssPUkwuXzB",
    "outputId": "cdbf83e4-9570-44da-e8c3-cbfdd36d642b"
   },
   "outputs": [
    {
     "name": "stdout",
     "output_type": "stream",
     "text": [
      "2 X 1 = 2\n",
      "2 X 2 = 4\n",
      "2 X 3 = 6\n",
      "2 X 4 = 8\n",
      "2 X 5 = 10\n",
      "2 X 6 = 12\n",
      "2 X 7 = 14\n",
      "2 X 8 = 16\n",
      "2 X 9 = 18\n",
      "3 X 1 = 3\n",
      "3 X 2 = 6\n",
      "3 X 3 = 9\n",
      "3 X 4 = 12\n",
      "3 X 5 = 15\n",
      "3 X 6 = 18\n",
      "3 X 7 = 21\n",
      "3 X 8 = 24\n",
      "3 X 9 = 27\n",
      "4 X 1 = 4\n",
      "4 X 2 = 8\n",
      "4 X 3 = 12\n",
      "4 X 4 = 16\n",
      "4 X 5 = 20\n",
      "4 X 6 = 24\n",
      "4 X 7 = 28\n",
      "4 X 8 = 32\n",
      "4 X 9 = 36\n",
      "5 X 1 = 5\n",
      "5 X 2 = 10\n",
      "5 X 3 = 15\n",
      "5 X 4 = 20\n",
      "5 X 5 = 25\n",
      "5 X 6 = 30\n",
      "5 X 7 = 35\n",
      "5 X 8 = 40\n",
      "5 X 9 = 45\n",
      "6 X 1 = 6\n",
      "6 X 2 = 12\n",
      "6 X 3 = 18\n",
      "6 X 4 = 24\n",
      "6 X 5 = 30\n",
      "6 X 6 = 36\n",
      "6 X 7 = 42\n",
      "6 X 8 = 48\n",
      "6 X 9 = 54\n",
      "7 X 1 = 7\n",
      "7 X 2 = 14\n",
      "7 X 3 = 21\n",
      "7 X 4 = 28\n",
      "7 X 5 = 35\n",
      "7 X 6 = 42\n",
      "7 X 7 = 49\n",
      "7 X 8 = 56\n",
      "7 X 9 = 63\n",
      "8 X 1 = 8\n",
      "8 X 2 = 16\n",
      "8 X 3 = 24\n",
      "8 X 4 = 32\n",
      "8 X 5 = 40\n",
      "8 X 6 = 48\n",
      "8 X 7 = 56\n",
      "8 X 8 = 64\n",
      "8 X 9 = 72\n",
      "9 X 1 = 9\n",
      "9 X 2 = 18\n",
      "9 X 3 = 27\n",
      "9 X 4 = 36\n",
      "9 X 5 = 45\n",
      "9 X 6 = 54\n",
      "9 X 7 = 63\n",
      "9 X 8 = 72\n",
      "9 X 9 = 81\n"
     ]
    }
   ],
   "source": [
    "num1 = 2\n",
    "\n",
    "while num1 <= 9:\n",
    "  num2 = 1\n",
    "  while num2 <= 9:\n",
    "    if num2 <= 9:\n",
    "      print(f\"{num1} X {num2} = {num1*num2}\")\n",
    "    num2 += 1\n",
    "  num1 += 1"
   ]
  },
  {
   "cell_type": "code",
   "execution_count": 29,
   "metadata": {
    "colab": {
     "base_uri": "https://localhost:8080/"
    },
    "id": "w7TlYC5DwRFc",
    "outputId": "21f09a2d-b8d6-4e22-ce92-868b8ec7e6ed"
   },
   "outputs": [
    {
     "name": "stdout",
     "output_type": "stream",
     "text": [
      "정수 입력 >> 4\n",
      "1번째 Hello\n",
      "2번째 Hello\n",
      "3번째 Hello\n",
      "4번째 Hello\n"
     ]
    }
   ],
   "source": [
    "num1 = int(input(\"정수 입력 >> \"))\n",
    "flag = 0\n",
    "if num1 <= 0:\n",
    "  print(\"잘못된 입력입니다.\")\n",
    "else:\n",
    "  while flag < num1:\n",
    "    flag += 1\n",
    "    print(f\"{flag}번째 Hello\")"
   ]
  },
  {
   "cell_type": "code",
   "execution_count": 31,
   "metadata": {
    "colab": {
     "base_uri": "https://localhost:8080/"
    },
    "id": "Omwa5LMy0uHr",
    "outputId": "866c5644-bb66-4ab9-d07b-1018e2d472c7"
   },
   "outputs": [
    {
     "name": "stdout",
     "output_type": "stream",
     "text": [
      "7\n",
      "14\n",
      "21\n",
      "28\n",
      "35\n",
      "42\n",
      "49\n",
      "56\n",
      "63\n",
      "70\n",
      "77\n",
      "84\n",
      "91\n",
      "98\n"
     ]
    }
   ],
   "source": [
    "num1 = 1\n",
    "\n",
    "while num1 <= 100:\n",
    "  if num1%7 == 0:\n",
    "    print(num1)\n",
    "  num1 += 1"
   ]
  },
  {
   "cell_type": "code",
   "execution_count": 37,
   "metadata": {
    "colab": {
     "base_uri": "https://localhost:8080/"
    },
    "id": "vXtq8LWa3EY0",
    "outputId": "d1d7dae7-ba4a-4863-d715-4d8f6f8a7411"
   },
   "outputs": [
    {
     "name": "stdout",
     "output_type": "stream",
     "text": [
      "돈을 넣어주세요 >> 123\n"
     ]
    }
   ],
   "source": [
    "money = int(input(\"돈을 넣어주세요 >> \"))\n",
    "cnt = 0\n",
    "while money >= 300:\n",
    "  money -= 300;\n",
    "  cnt += 1\n",
    "  print(f\"커피 {cnt}잔 잔돈 {money}원\")\n"
   ]
  },
  {
   "cell_type": "code",
   "execution_count": 45,
   "metadata": {
    "colab": {
     "base_uri": "https://localhost:8080/",
     "height": 565
    },
    "id": "93MLO4qq84er",
    "outputId": "54fb09ba-c027-4d48-b031-546612e22e4f"
   },
   "outputs": [
    {
     "ename": "KeyboardInterrupt",
     "evalue": "ignored",
     "output_type": "error",
     "traceback": [
      "\u001b[0;31m---------------------------------------------------------------------------\u001b[0m",
      "\u001b[0;31mKeyboardInterrupt\u001b[0m                         Traceback (most recent call last)",
      "\u001b[0;32m/usr/local/lib/python3.7/dist-packages/ipykernel/kernelbase.py\u001b[0m in \u001b[0;36m_input_request\u001b[0;34m(self, prompt, ident, parent, password)\u001b[0m\n\u001b[1;32m    728\u001b[0m             \u001b[0;32mtry\u001b[0m\u001b[0;34m:\u001b[0m\u001b[0;34m\u001b[0m\u001b[0;34m\u001b[0m\u001b[0m\n\u001b[0;32m--> 729\u001b[0;31m                 \u001b[0mident\u001b[0m\u001b[0;34m,\u001b[0m \u001b[0mreply\u001b[0m \u001b[0;34m=\u001b[0m \u001b[0mself\u001b[0m\u001b[0;34m.\u001b[0m\u001b[0msession\u001b[0m\u001b[0;34m.\u001b[0m\u001b[0mrecv\u001b[0m\u001b[0;34m(\u001b[0m\u001b[0mself\u001b[0m\u001b[0;34m.\u001b[0m\u001b[0mstdin_socket\u001b[0m\u001b[0;34m,\u001b[0m \u001b[0;36m0\u001b[0m\u001b[0;34m)\u001b[0m\u001b[0;34m\u001b[0m\u001b[0;34m\u001b[0m\u001b[0m\n\u001b[0m\u001b[1;32m    730\u001b[0m             \u001b[0;32mexcept\u001b[0m \u001b[0mException\u001b[0m\u001b[0;34m:\u001b[0m\u001b[0;34m\u001b[0m\u001b[0;34m\u001b[0m\u001b[0m\n",
      "\u001b[0;32m/usr/local/lib/python3.7/dist-packages/jupyter_client/session.py\u001b[0m in \u001b[0;36mrecv\u001b[0;34m(self, socket, mode, content, copy)\u001b[0m\n\u001b[1;32m    802\u001b[0m         \u001b[0;32mtry\u001b[0m\u001b[0;34m:\u001b[0m\u001b[0;34m\u001b[0m\u001b[0;34m\u001b[0m\u001b[0m\n\u001b[0;32m--> 803\u001b[0;31m             \u001b[0mmsg_list\u001b[0m \u001b[0;34m=\u001b[0m \u001b[0msocket\u001b[0m\u001b[0;34m.\u001b[0m\u001b[0mrecv_multipart\u001b[0m\u001b[0;34m(\u001b[0m\u001b[0mmode\u001b[0m\u001b[0;34m,\u001b[0m \u001b[0mcopy\u001b[0m\u001b[0;34m=\u001b[0m\u001b[0mcopy\u001b[0m\u001b[0;34m)\u001b[0m\u001b[0;34m\u001b[0m\u001b[0;34m\u001b[0m\u001b[0m\n\u001b[0m\u001b[1;32m    804\u001b[0m         \u001b[0;32mexcept\u001b[0m \u001b[0mzmq\u001b[0m\u001b[0;34m.\u001b[0m\u001b[0mZMQError\u001b[0m \u001b[0;32mas\u001b[0m \u001b[0me\u001b[0m\u001b[0;34m:\u001b[0m\u001b[0;34m\u001b[0m\u001b[0;34m\u001b[0m\u001b[0m\n",
      "\u001b[0;32m/usr/local/lib/python3.7/dist-packages/zmq/sugar/socket.py\u001b[0m in \u001b[0;36mrecv_multipart\u001b[0;34m(self, flags, copy, track)\u001b[0m\n\u001b[1;32m    624\u001b[0m         \"\"\"\n\u001b[0;32m--> 625\u001b[0;31m         \u001b[0mparts\u001b[0m \u001b[0;34m=\u001b[0m \u001b[0;34m[\u001b[0m\u001b[0mself\u001b[0m\u001b[0;34m.\u001b[0m\u001b[0mrecv\u001b[0m\u001b[0;34m(\u001b[0m\u001b[0mflags\u001b[0m\u001b[0;34m,\u001b[0m \u001b[0mcopy\u001b[0m\u001b[0;34m=\u001b[0m\u001b[0mcopy\u001b[0m\u001b[0;34m,\u001b[0m \u001b[0mtrack\u001b[0m\u001b[0;34m=\u001b[0m\u001b[0mtrack\u001b[0m\u001b[0;34m)\u001b[0m\u001b[0;34m]\u001b[0m\u001b[0;34m\u001b[0m\u001b[0;34m\u001b[0m\u001b[0m\n\u001b[0m\u001b[1;32m    626\u001b[0m         \u001b[0;31m# have first part already, only loop while more to receive\u001b[0m\u001b[0;34m\u001b[0m\u001b[0;34m\u001b[0m\u001b[0;34m\u001b[0m\u001b[0m\n",
      "\u001b[0;32mzmq/backend/cython/socket.pyx\u001b[0m in \u001b[0;36mzmq.backend.cython.socket.Socket.recv\u001b[0;34m()\u001b[0m\n",
      "\u001b[0;32mzmq/backend/cython/socket.pyx\u001b[0m in \u001b[0;36mzmq.backend.cython.socket.Socket.recv\u001b[0;34m()\u001b[0m\n",
      "\u001b[0;32mzmq/backend/cython/socket.pyx\u001b[0m in \u001b[0;36mzmq.backend.cython.socket._recv_copy\u001b[0;34m()\u001b[0m\n",
      "\u001b[0;32m/usr/local/lib/python3.7/dist-packages/zmq/backend/cython/checkrc.pxd\u001b[0m in \u001b[0;36mzmq.backend.cython.checkrc._check_rc\u001b[0;34m()\u001b[0m\n",
      "\u001b[0;31mKeyboardInterrupt\u001b[0m: ",
      "\nDuring handling of the above exception, another exception occurred:\n",
      "\u001b[0;31mKeyboardInterrupt\u001b[0m                         Traceback (most recent call last)",
      "\u001b[0;32m<ipython-input-45-c0db5e2799e0>\u001b[0m in \u001b[0;36m<module>\u001b[0;34m()\u001b[0m\n\u001b[1;32m      1\u001b[0m \u001b[0mset1\u001b[0m \u001b[0;34m=\u001b[0m \u001b[0mset\u001b[0m\u001b[0;34m(\u001b[0m\u001b[0;34m)\u001b[0m\u001b[0;34m\u001b[0m\u001b[0;34m\u001b[0m\u001b[0m\n\u001b[1;32m      2\u001b[0m \u001b[0;32mwhile\u001b[0m \u001b[0mlen\u001b[0m\u001b[0;34m(\u001b[0m\u001b[0mset1\u001b[0m\u001b[0;34m)\u001b[0m \u001b[0;34m<\u001b[0m \u001b[0;36m5\u001b[0m\u001b[0;34m:\u001b[0m\u001b[0;34m\u001b[0m\u001b[0;34m\u001b[0m\u001b[0m\n\u001b[0;32m----> 3\u001b[0;31m   \u001b[0mnum\u001b[0m \u001b[0;34m=\u001b[0m \u001b[0mint\u001b[0m\u001b[0;34m(\u001b[0m\u001b[0minput\u001b[0m\u001b[0;34m(\u001b[0m\u001b[0;34m\"0~9까지의 정수를 입력 >> \"\u001b[0m\u001b[0;34m)\u001b[0m\u001b[0;34m)\u001b[0m\u001b[0;34m\u001b[0m\u001b[0;34m\u001b[0m\u001b[0m\n\u001b[0m\u001b[1;32m      4\u001b[0m   \u001b[0mset1\u001b[0m\u001b[0;34m.\u001b[0m\u001b[0madd\u001b[0m\u001b[0;34m(\u001b[0m\u001b[0mnum\u001b[0m\u001b[0;34m)\u001b[0m\u001b[0;34m\u001b[0m\u001b[0;34m\u001b[0m\u001b[0m\n\u001b[1;32m      5\u001b[0m \u001b[0;34m\u001b[0m\u001b[0m\n",
      "\u001b[0;32m/usr/local/lib/python3.7/dist-packages/ipykernel/kernelbase.py\u001b[0m in \u001b[0;36mraw_input\u001b[0;34m(self, prompt)\u001b[0m\n\u001b[1;32m    702\u001b[0m             \u001b[0mself\u001b[0m\u001b[0;34m.\u001b[0m\u001b[0m_parent_ident\u001b[0m\u001b[0;34m,\u001b[0m\u001b[0;34m\u001b[0m\u001b[0;34m\u001b[0m\u001b[0m\n\u001b[1;32m    703\u001b[0m             \u001b[0mself\u001b[0m\u001b[0;34m.\u001b[0m\u001b[0m_parent_header\u001b[0m\u001b[0;34m,\u001b[0m\u001b[0;34m\u001b[0m\u001b[0;34m\u001b[0m\u001b[0m\n\u001b[0;32m--> 704\u001b[0;31m             \u001b[0mpassword\u001b[0m\u001b[0;34m=\u001b[0m\u001b[0;32mFalse\u001b[0m\u001b[0;34m,\u001b[0m\u001b[0;34m\u001b[0m\u001b[0;34m\u001b[0m\u001b[0m\n\u001b[0m\u001b[1;32m    705\u001b[0m         )\n\u001b[1;32m    706\u001b[0m \u001b[0;34m\u001b[0m\u001b[0m\n",
      "\u001b[0;32m/usr/local/lib/python3.7/dist-packages/ipykernel/kernelbase.py\u001b[0m in \u001b[0;36m_input_request\u001b[0;34m(self, prompt, ident, parent, password)\u001b[0m\n\u001b[1;32m    732\u001b[0m             \u001b[0;32mexcept\u001b[0m \u001b[0mKeyboardInterrupt\u001b[0m\u001b[0;34m:\u001b[0m\u001b[0;34m\u001b[0m\u001b[0;34m\u001b[0m\u001b[0m\n\u001b[1;32m    733\u001b[0m                 \u001b[0;31m# re-raise KeyboardInterrupt, to truncate traceback\u001b[0m\u001b[0;34m\u001b[0m\u001b[0;34m\u001b[0m\u001b[0;34m\u001b[0m\u001b[0m\n\u001b[0;32m--> 734\u001b[0;31m                 \u001b[0;32mraise\u001b[0m \u001b[0mKeyboardInterrupt\u001b[0m\u001b[0;34m\u001b[0m\u001b[0;34m\u001b[0m\u001b[0m\n\u001b[0m\u001b[1;32m    735\u001b[0m             \u001b[0;32melse\u001b[0m\u001b[0;34m:\u001b[0m\u001b[0;34m\u001b[0m\u001b[0;34m\u001b[0m\u001b[0m\n\u001b[1;32m    736\u001b[0m                 \u001b[0;32mbreak\u001b[0m\u001b[0;34m\u001b[0m\u001b[0;34m\u001b[0m\u001b[0m\n",
      "\u001b[0;31mKeyboardInterrupt\u001b[0m: "
     ]
    }
   ],
   "source": [
    "set1 = set()\n",
    "while len(set1) < 5:\n",
    "  num = int(input(\"0~9까지의 정수를 입력 >> \"))\n",
    "  set1.add(num)\n",
    "\n",
    "print(\"모두 입력됬습니다.\")\n",
    "\n",
    "print(f\"입력된 값은 {set1} 입니다\")"
   ]
  },
  {
   "cell_type": "code",
   "execution_count": 79,
   "metadata": {
    "colab": {
     "base_uri": "https://localhost:8080/"
    },
    "id": "jNGk2hnZC-OW",
    "outputId": "e0c974fe-060f-4308-fa74-bc4644fa1a63"
   },
   "outputs": [
    {
     "name": "stdout",
     "output_type": "stream",
     "text": [
      "1\t2\t3\t4\t5\t6\t7\t8\t9\t10\n",
      "11\t12\t13\t14\t15\t16\t17\t18\t19\t20\n",
      "21\t22\t23\t24\t25\t26\t27\t28\t29\t30\n",
      "31\t32\t33\t34\t35\t36\t37\t38\t39\t40\n",
      "41\t42\t43\t44\t45\t46\t47\t48\t49\t50\n",
      "51\t52\t53\t54\t55\t56\t57\t58\t59\t60\n",
      "61\t62\t63\t64\t65\t66\t67\t68\t69\t70\n",
      "71\t72\t73\t74\t75\t76\t77\t78\t79\t80\n",
      "81\t82\t83\t84\t85\t86\t87\t88\t89\t90\n",
      "91\t92\t93\t94\t95\t96\t97\t98\t99\t100\n"
     ]
    }
   ],
   "source": [
    "num = 0       #이중 while을 사용한 풀이인데 if대신 while을 억지로 끼워 놓은 느낌\n",
    "while num < 100:\n",
    "  num += 1\n",
    "  while num % 10 == 0:\n",
    "    print(num)\n",
    "    num += 1\n",
    "    \n",
    "  if num < 100:  \n",
    "    print(num , end = \"\\t\")\n",
    "\n",
    "\n"
   ]
  },
  {
   "cell_type": "code",
   "execution_count": 88,
   "metadata": {
    "colab": {
     "base_uri": "https://localhost:8080/"
    },
    "id": "nSZaJdpWKv9B",
    "outputId": "3d01694d-901d-4c07-a566-3f93a114277c"
   },
   "outputs": [
    {
     "name": "stdout",
     "output_type": "stream",
     "text": [
      "1\t2\t3\t4\t5\t6\t7\t8\t9\t10\t\n",
      "11\t12\t13\t14\t15\t16\t17\t18\t19\t20\t\n",
      "21\t22\t23\t24\t25\t26\t27\t28\t29\t30\t\n",
      "31\t32\t33\t34\t35\t36\t37\t38\t39\t40\t\n",
      "41\t42\t43\t44\t45\t46\t47\t48\t49\t50\t\n",
      "51\t52\t53\t54\t55\t56\t57\t58\t59\t60\t\n",
      "61\t62\t63\t64\t65\t66\t67\t68\t69\t70\t\n",
      "71\t72\t73\t74\t75\t76\t77\t78\t79\t80\t\n",
      "81\t82\t83\t84\t85\t86\t87\t88\t89\t90\t\n",
      "91\t92\t93\t94\t95\t96\t97\t98\t99\t100\t\n"
     ]
    }
   ],
   "source": [
    "num = 0       #이중 while을 사용한 풀이 이 방법이 좋다\n",
    "while num < 100:\n",
    "  cnt = 1\n",
    "\n",
    "  while cnt <= 10:\n",
    "    num += 1\n",
    "    cnt += 1\n",
    "    print(num , end = \"\\t\")\n",
    "    \n",
    "  print(\"\")\n",
    "\n",
    "\n"
   ]
  },
  {
   "cell_type": "code",
   "execution_count": 89,
   "metadata": {
    "colab": {
     "base_uri": "https://localhost:8080/"
    },
    "id": "yFUz03VWJNdO",
    "outputId": "e1d8647c-625c-4c7e-bf0c-1dcdb38a8d21"
   },
   "outputs": [
    {
     "name": "stdout",
     "output_type": "stream",
     "text": [
      "1\t2\t3\t4\t5\t6\t7\t8\t9\t10\n",
      "11\t12\t13\t14\t15\t16\t17\t18\t19\t20\n",
      "21\t22\t23\t24\t25\t26\t27\t28\t29\t30\n",
      "31\t32\t33\t34\t35\t36\t37\t38\t39\t40\n",
      "41\t42\t43\t44\t45\t46\t47\t48\t49\t50\n",
      "51\t52\t53\t54\t55\t56\t57\t58\t59\t60\n",
      "61\t62\t63\t64\t65\t66\t67\t68\t69\t70\n",
      "71\t72\t73\t74\t75\t76\t77\t78\t79\t80\n",
      "81\t82\t83\t84\t85\t86\t87\t88\t89\t90\n",
      "91\t92\t93\t94\t95\t96\t97\t98\t99\t100\n"
     ]
    }
   ],
   "source": [
    "n = 1\n",
    "while n<=100:\n",
    "  if(n%10!=0):\n",
    "    print(n, end='\\t')\n",
    "  else:\n",
    "    print(n)\n",
    "  n += 1"
   ]
  },
  {
   "cell_type": "code",
   "execution_count": 93,
   "metadata": {
    "colab": {
     "base_uri": "https://localhost:8080/"
    },
    "id": "FRRfb9R4L38U",
    "outputId": "8a0fb31a-630d-4876-fe6c-51d512a54ee6"
   },
   "outputs": [
    {
     "name": "stdout",
     "output_type": "stream",
     "text": [
      "1\n",
      "2\n",
      "3\n",
      "h\n",
      "e\n",
      "l\n",
      "l\n",
      "o\n",
      "1\n",
      "2\n",
      "3\n",
      "1 3 "
     ]
    }
   ],
   "source": [
    "for i in [1,2,3]:\n",
    "  print(i)\n",
    "\n",
    "for i in \"hello\":\n",
    "  print(i)\n",
    "\n",
    "for i in (1,2,3):\n",
    "  print(i)\n",
    "\n",
    "for i in range(1,4,2):\n",
    "  print(i, end = \" \")"
   ]
  },
  {
   "cell_type": "code",
   "execution_count": 106,
   "metadata": {
    "colab": {
     "base_uri": "https://localhost:8080/"
    },
    "id": "-8YAZv61OHCC",
    "outputId": "9a357e86-50b7-432a-9320-af220fabf095"
   },
   "outputs": [
    {
     "name": "stdout",
     "output_type": "stream",
     "text": [
      "비밀번호 >> adf45\n",
      "사용 가능한 비번입니다.\n"
     ]
    }
   ],
   "source": [
    "pw = input(\"비밀번호 >> \")\n",
    "num = 0\n",
    "st = 0\n",
    "\n",
    "for i in range(len(pw)):\n",
    "  if pw[i].isalpha():\n",
    "    st += 1\n",
    "  elif pw[i].isnumeric():\n",
    "    num += 1\n",
    "\n",
    "if st > 0 and num > 0:\n",
    "  print(\"사용 가능한 비번입니다.\")\n",
    "else:\n",
    "  print(\"사용 불가능한 비번입니다.\")"
   ]
  },
  {
   "cell_type": "code",
   "execution_count": 110,
   "metadata": {
    "colab": {
     "base_uri": "https://localhost:8080/"
    },
    "id": "nv9SPm5DWHTL",
    "outputId": "21dd9d6f-fc58-4ae7-da19-bf75d1f44a2c"
   },
   "outputs": [
    {
     "name": "stdout",
     "output_type": "stream",
     "text": [
      "출력할 구국단을 입력하세요 >> 6\n",
      "6 X 1 = 6\n",
      "6 X 2 = 12\n",
      "6 X 3 = 18\n",
      "6 X 4 = 24\n",
      "6 X 5 = 30\n",
      "6 X 6 = 36\n",
      "6 X 7 = 42\n",
      "6 X 8 = 48\n",
      "6 X 9 = 54\n"
     ]
    }
   ],
   "source": [
    "dan = int(input(\"출력할 구국단을 입력하세요 >> \"))\n",
    "\n",
    "for i in range(1,10):\n",
    "  print(f\"{dan} X {i} = {dan*i}\")\n"
   ]
  },
  {
   "cell_type": "code",
   "execution_count": 120,
   "metadata": {
    "colab": {
     "base_uri": "https://localhost:8080/"
    },
    "id": "u13Z0XTaYFQP",
    "outputId": "d2a87f01-367a-4b81-f41c-88dba318d81c"
   },
   "outputs": [
    {
     "name": "stdout",
     "output_type": "stream",
     "text": [
      "바위\n",
      "가위\n",
      "보\n",
      "name\n",
      "age\n",
      "에밀리\n",
      "20\n"
     ]
    }
   ],
   "source": [
    "for i in {\"가위\", \"바위\", \"보\"}:\n",
    "  print(i)\n",
    "\n",
    "person = {\n",
    "    \"name\" : \"에밀리\",\n",
    "    \"age\" : \"20\"\n",
    "}\n",
    "\n",
    "for i in person:\n",
    "  print(i)\n",
    "\n",
    "for i in person:\n",
    "  print(person[i])"
   ]
  },
  {
   "cell_type": "code",
   "execution_count": 123,
   "metadata": {
    "colab": {
     "base_uri": "https://localhost:8080/"
    },
    "id": "YxKCZwONZLO-",
    "outputId": "1c867515-b638-4b7a-bffb-97c5b9c0c725"
   },
   "outputs": [
    {
     "name": "stdout",
     "output_type": "stream",
     "text": [
      "양의 정수를 입력 >> 5\n",
      "1부터 5사이의 모든 정수의 합계는 15입니다.\n"
     ]
    }
   ],
   "source": [
    "num = int(input(\"양의 정수를 입력 >> \"))\n",
    "sum = 0\n",
    "for i in range(1,num+1):\n",
    "  sum += i\n",
    "\n",
    "print(f\"1부터 {num}사이의 모든 정수의 합계는 {sum}입니다.\")"
   ]
  },
  {
   "cell_type": "code",
   "execution_count": 126,
   "metadata": {
    "colab": {
     "base_uri": "https://localhost:8080/"
    },
    "id": "0XdNLOEWatm_",
    "outputId": "8f3f5b60-d959-485c-84c3-dd3646582b94"
   },
   "outputs": [
    {
     "name": "stdout",
     "output_type": "stream",
     "text": [
      "정수를 입력 >> 1\n",
      "1번째 과일을 입력하세요 >> ㅁㄴ\n",
      "입력 받은 과일들은 ['ㅁㄴ'] 입니다.\n"
     ]
    }
   ],
   "source": [
    "num = int(input(\"정수를 입력 >> \"))\n",
    "list1 = []\n",
    "for i in range(num):\n",
    "  temp = input(f\"{i+1}번째 과일을 입력하세요 >> \")\n",
    "  list1.append(temp)\n",
    "\n",
    "print(f\"입력 받은 과일들은 {list1} 입니다.\")\n"
   ]
  },
  {
   "cell_type": "code",
   "execution_count": 155,
   "metadata": {
    "colab": {
     "base_uri": "https://localhost:8080/"
    },
    "id": "Wy2stnxJjKXH",
    "outputId": "5433e29b-9f08-4746-fb7a-adc91e3c16e9"
   },
   "outputs": [
    {
     "name": "stdout",
     "output_type": "stream",
     "text": [
      "1\t2\t짝\t4\t5\t짝\t7\t8\t짝\t10\t\n",
      "11\t12\t짝\t14\t15\t짝\t17\t18\t짝\t20\t\n",
      "21\t22\t짝\t24\t25\t짝\t27\t28\t짝\t짝\t\n",
      "짝\t짝\t짝짝\t짝\t짝\t짝짝\t짝\t짝\t짝짝\t40\t\n",
      "41\t42\t짝\t44\t45\t짝\t47\t48\t짝\t50\t\n",
      "51\t52\t짝\t54\t55\t짝\t57\t58\t짝\t짝\t\n",
      "짝\t짝\t짝짝\t짝\t짝\t짝짝\t짝\t짝\t짝짝\t70\t\n",
      "71\t72\t짝\t74\t75\t짝\t77\t78\t짝\t80\t\n",
      "81\t82\t짝\t84\t85\t짝\t87\t88\t짝\t짝\t\n",
      "짝\t짝\t짝짝\t짝\t짝\t짝짝\t짝\t짝\t짝짝\t"
     ]
    }
   ],
   "source": [
    "\n",
    "for i in range(1,100):\n",
    "  cnt = 0\n",
    "  str1 = str(i)\n",
    "\n",
    "  for j in str1:\n",
    "    if j == \"3\" or j == \"6\" or j == \"9\":\n",
    "      cnt += 1\n",
    "\n",
    "  if cnt == 1:\n",
    "    print(\"짝\", end = \"\\t\")\n",
    "  elif cnt ==2:\n",
    "    print(\"짝짝\", end = \"\\t\")\n",
    "  else:\n",
    "    print(i, end = \"\\t\")\n",
    "\n",
    "  if i%10==0:\n",
    "    print(\"\")\n",
    "  "
   ]
  }
 ],
 "metadata": {
  "colab": {
   "authorship_tag": "ABX9TyMWMhc66HM/SFpvhc8sLcxo",
   "collapsed_sections": [],
   "include_colab_link": true,
   "name": "Day03.ipynb",
   "provenance": []
  },
  "kernelspec": {
   "display_name": "Python 3 (ipykernel)",
   "language": "python",
   "name": "python3"
  },
  "language_info": {
   "codemirror_mode": {
    "name": "ipython",
    "version": 3
   },
   "file_extension": ".py",
   "mimetype": "text/x-python",
   "name": "python",
   "nbconvert_exporter": "python",
   "pygments_lexer": "ipython3",
   "version": "3.9.7"
  }
 },
 "nbformat": 4,
 "nbformat_minor": 1
}
