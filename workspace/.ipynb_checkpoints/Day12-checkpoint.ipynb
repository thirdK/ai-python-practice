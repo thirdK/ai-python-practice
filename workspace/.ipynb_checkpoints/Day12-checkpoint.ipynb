{
 "cells": [
  {
   "cell_type": "code",
   "execution_count": 2,
   "id": "b1559685",
   "metadata": {},
   "outputs": [
    {
     "name": "stdout",
     "output_type": "stream",
     "text": [
      "3.14\n"
     ]
    }
   ],
   "source": [
    "#Maths\n",
    "\n",
    "#Display a number rounded to two decimal places\n",
    "#round(args,n)소수점을 반올림하여 n번째까지만 보여줌\n",
    "num = 3.141592\n",
    "print(round(num,2)) "
   ]
  },
  {
   "cell_type": "code",
   "execution_count": 3,
   "id": "203681cb",
   "metadata": {},
   "outputs": [
    {
     "data": {
      "text/plain": [
       "100"
      ]
     },
     "execution_count": 3,
     "metadata": {},
     "output_type": "execute_result"
    }
   ],
   "source": [
    "# To the power of...\n",
    "# **은 거듭제곱 10^2\n",
    "\n",
    "10**2"
   ]
  },
  {
   "cell_type": "code",
   "execution_count": 5,
   "id": "ecfee327",
   "metadata": {},
   "outputs": [
    {
     "data": {
      "text/plain": [
       "10.0"
      ]
     },
     "execution_count": 5,
     "metadata": {},
     "output_type": "execute_result"
    }
   ],
   "source": [
    "import math\n",
    "\n",
    "math.sqrt(100)\n",
    "# The square root or a number but you must have the line 'import math'\n",
    "# at the top of your program for this to wok\n",
    "# math.sqrt(args) args의 제곱근을 반환"
   ]
  },
  {
   "cell_type": "code",
   "execution_count": 7,
   "id": "5ec1a481",
   "metadata": {},
   "outputs": [
    {
     "data": {
      "text/plain": [
       "3.141592653589793"
      ]
     },
     "execution_count": 7,
     "metadata": {},
     "output_type": "execute_result"
    }
   ],
   "source": [
    "math.pi\n",
    "# Gives you pi to decimal places, but you have the line 'import math'"
   ]
  },
  {
   "cell_type": "code",
   "execution_count": 10,
   "id": "c185dc54",
   "metadata": {},
   "outputs": [
    {
     "data": {
      "text/plain": [
       "7"
      ]
     },
     "execution_count": 10,
     "metadata": {},
     "output_type": "execute_result"
    }
   ],
   "source": [
    "15 // 2\n",
    "# Whole number division. 15//2 gives the answer 7."
   ]
  },
  {
   "cell_type": "code",
   "execution_count": 11,
   "id": "01a3a4a1",
   "metadata": {},
   "outputs": [
    {
     "data": {
      "text/plain": [
       "1"
      ]
     },
     "execution_count": 11,
     "metadata": {},
     "output_type": "execute_result"
    }
   ],
   "source": [
    "15 % 2\n",
    "# Finds the remainder. 15 % 2 gives the answer 1."
   ]
  },
  {
   "cell_type": "code",
   "execution_count": 13,
   "id": "820d520c",
   "metadata": {},
   "outputs": [
    {
     "name": "stdout",
     "output_type": "stream",
     "text": [
      "Enter a number over 500 : 800\n",
      "28.28\n"
     ]
    }
   ],
   "source": [
    "import math\n",
    "\n",
    "num = int(input('Enter a number over 500 : '))\n",
    "result = math.sqrt(num)\n",
    "print(round(result,2))"
   ]
  },
  {
   "cell_type": "code",
   "execution_count": 16,
   "id": "7886e632",
   "metadata": {},
   "outputs": [
    {
     "name": "stdout",
     "output_type": "stream",
     "text": [
      "Enter the radius of circle : 5\n",
      "78.53981633974483\n"
     ]
    }
   ],
   "source": [
    "num = int(input('Enter the radius of circle : '))\n",
    "result = math.pi * num**2\n",
    "\n",
    "print(result)"
   ]
  },
  {
   "cell_type": "code",
   "execution_count": 18,
   "id": "5aa5c6b0",
   "metadata": {},
   "outputs": [
    {
     "name": "stdout",
     "output_type": "stream",
     "text": [
      "Enter a first number : 45\n",
      "Enter a second number : 7\n",
      "45 divided by 7 is 6 with 3 remaining\n"
     ]
    }
   ],
   "source": [
    "num1 = int(input('Enter a first number : '))\n",
    "num2 = int(input('Enter a second number : '))\n",
    "\n",
    "print(f'{num1} divided by {num2} is {num1//num2} with {num1%num2} remaining')"
   ]
  },
  {
   "cell_type": "code",
   "execution_count": 24,
   "id": "ce73dad4",
   "metadata": {},
   "outputs": [
    {
     "name": "stdout",
     "output_type": "stream",
     "text": [
      "1) Square\n",
      "2) Triangle\n",
      "Enter a number : 4\n",
      "Incorrent option selected\n"
     ]
    }
   ],
   "source": [
    "import math\n",
    "print('1) Square')\n",
    "print('2) Triangle')\n",
    "num = int(input('Enter a number : '))\n",
    "\n",
    "if num == 1:\n",
    "    snum = int(input('Enter the length of one side : '))\n",
    "    print('The area of your chosen shape is', (snum*snum))\n",
    "elif num == 2:\n",
    "    bnum = int(input('Enter the length of the base : '))\n",
    "    hnum = int(input('Enter the height of the triangle :'))\n",
    "    print('The area of your chosen shape is', hnum*bnum/2)\n",
    "else:\n",
    "    print('Incorrent option selected')"
   ]
  },
  {
   "cell_type": "code",
   "execution_count": 26,
   "id": "f7e1f207",
   "metadata": {},
   "outputs": [
    {
     "name": "stdout",
     "output_type": "stream",
     "text": [
      "0\n",
      "1\n",
      "2\n",
      "3\n",
      "4\n"
     ]
    }
   ],
   "source": [
    "# For\n",
    "\n",
    "# The range function is often used in for loops and lists the starting number,\n",
    "#  the ending number and can also include the steps\n",
    "\n",
    "# for i in range(start, stop, step)\n",
    "\n",
    "for i in range(0,5):\n",
    "    print(i)\n",
    "    \n",
    "for i in range(0,5,1):\n",
    "    print(i)\n",
    "    \n",
    "for i in range(5):\n",
    "    print(i)"
   ]
  },
  {
   "cell_type": "code",
   "execution_count": 31,
   "id": "1acf6702",
   "metadata": {},
   "outputs": [
    {
     "name": "stdout",
     "output_type": "stream",
     "text": [
      "10\n",
      "7\n",
      "4\n"
     ]
    }
   ],
   "source": [
    "for i in range(10, 1, -3):\n",
    "    print(i)"
   ]
  },
  {
   "cell_type": "code",
   "execution_count": 32,
   "id": "c3fef77c",
   "metadata": {},
   "outputs": [
    {
     "name": "stdout",
     "output_type": "stream",
     "text": [
      "1\n",
      "2\n",
      "3\n",
      "4\n",
      "5\n"
     ]
    }
   ],
   "source": [
    "no = [1,2,3,4,5]\n",
    "\n",
    "for i in no:\n",
    "    print(i)"
   ]
  },
  {
   "cell_type": "code",
   "execution_count": 35,
   "id": "4e2a7163",
   "metadata": {},
   "outputs": [
    {
     "name": "stdout",
     "output_type": "stream",
     "text": [
      "name : qwe\n",
      "number : 4\n",
      "qwe\n",
      "qwe\n",
      "qwe\n",
      "qwe\n"
     ]
    }
   ],
   "source": [
    "name = input('your name? : ')\n",
    "num = int(input('how many? : '))\n",
    "\n",
    "for i in range(num):\n",
    "    print(name)"
   ]
  },
  {
   "cell_type": "code",
   "execution_count": 36,
   "id": "fdc9e90c",
   "metadata": {},
   "outputs": [
    {
     "name": "stdout",
     "output_type": "stream",
     "text": [
      "your name? : asdfqwer\n",
      "a\n",
      "s\n",
      "d\n",
      "f\n",
      "q\n",
      "w\n",
      "e\n",
      "r\n"
     ]
    }
   ],
   "source": [
    "name = input('your name? : ')\n",
    "\n",
    "for i in name:\n",
    "    print(i)"
   ]
  },
  {
   "cell_type": "code",
   "execution_count": 39,
   "id": "6616db0f",
   "metadata": {},
   "outputs": [
    {
     "name": "stdout",
     "output_type": "stream",
     "text": [
      "number : 45\n",
      "50\n",
      "49\n",
      "48\n",
      "47\n",
      "46\n",
      "45\n"
     ]
    }
   ],
   "source": [
    "num = int(input('number (not over 50) : '))\n",
    "\n",
    "for i in range(50, num-1, -1):\n",
    "    print(i)"
   ]
  },
  {
   "cell_type": "code",
   "execution_count": 42,
   "id": "8a047c44",
   "metadata": {},
   "outputs": [
    {
     "name": "stdout",
     "output_type": "stream",
     "text": [
      "1.Enter a number : 10\n",
      "\tyou want include in total?(y/n): y\n",
      "2.Enter a number : 33\n",
      "\tyou want include in total?(y/n): y\n",
      "3.Enter a number : 20\n",
      "\tyou want include in total?(y/n): n\n",
      "4.Enter a number : 40\n",
      "\tyou want include in total?(y/n): y\n",
      "5.Enter a number : 29\n",
      "\tyou want include in total?(y/n): n\n",
      "83\n"
     ]
    }
   ],
   "source": [
    "total = 0\n",
    "\n",
    "for i in range(5):\n",
    "    num = int(input(f'{i+1}.Enter a number : '))\n",
    "    asw = input('Do you want this number included? (y/n): ')\n",
    "    if asw.lower() == 'y':\n",
    "        total += num\n",
    "print(total)"
   ]
  },
  {
   "cell_type": "code",
   "execution_count": 46,
   "id": "88e342ab",
   "metadata": {},
   "outputs": [
    {
     "name": "stdout",
     "output_type": "stream",
     "text": [
      "[up / down] : down\n",
      "Enter number : 14\n",
      "20\n",
      "19\n",
      "18\n",
      "17\n",
      "16\n",
      "15\n",
      "14\n"
     ]
    }
   ],
   "source": [
    "asw = input('[up / down] : ')\n",
    "\n",
    "if asw == 'up':\n",
    "    num = int(input('Enter a number : '))\n",
    "    for i in range(1, num+1):\n",
    "        print(i)\n",
    "elif asw == 'down':\n",
    "    num = int(input('Enter a number below 20: '))\n",
    "    for i in range(20, num-1, -1):\n",
    "        print(i)\n",
    "else:\n",
    "    print('I dont understand')"
   ]
  },
  {
   "cell_type": "code",
   "execution_count": 49,
   "id": "3b221226",
   "metadata": {},
   "outputs": [
    {
     "name": "stdout",
     "output_type": "stream",
     "text": [
      "How many people invite to a party? : 214\n",
      "Too many people\n"
     ]
    }
   ],
   "source": [
    "num = int(input('How many people invited to a party? : '))\n",
    "\n",
    "if num <= 10:\n",
    "    for i in range(num):\n",
    "        name = input('Name : ')\n",
    "        print(f'{name} has been invited')\n",
    "elif num > 10:\n",
    "    print('Too many people')"
   ]
  },
  {
   "cell_type": "code",
   "execution_count": null,
   "id": "95c466ec",
   "metadata": {},
   "outputs": [],
   "source": [
    "# while\n",
    "\n",
    "# A while loop allows code to be repeted an unknown number of times\n",
    "# as long as a condition is being met\n",
    "# This may be 100 times, just the once or even never\n",
    "# It is important, therefore, to make sure the correct conditions are in place\n",
    "# to ruen the loop before it starts\n",
    "\n",
    "total = 0\n",
    "\n",
    "while total < 100:\n",
    "    num = int(input('Enter a number : '))\n",
    "    total = total + num\n",
    "print('The total is ', total)"
   ]
  },
  {
   "cell_type": "code",
   "execution_count": 51,
   "id": "d5e54aa7",
   "metadata": {},
   "outputs": [
    {
     "name": "stdout",
     "output_type": "stream",
     "text": [
      "Enter a number : 20\n",
      "The total is 20\n",
      "Enter a number : 30\n",
      "The total is 50\n",
      "Enter a number : 4\n",
      "The total is 54\n"
     ]
    }
   ],
   "source": [
    "total = 0\n",
    "\n",
    "while total <= 50:\n",
    "    print(f'The total is {total}')\n",
    "    num = int(input('Enter a number : '))\n",
    "    total += num\n",
    "    \n"
   ]
  },
  {
   "cell_type": "code",
   "execution_count": null,
   "id": "1fcef3cf",
   "metadata": {},
   "outputs": [],
   "source": []
  },
  {
   "cell_type": "code",
   "execution_count": null,
   "id": "386d13c6",
   "metadata": {},
   "outputs": [],
   "source": []
  },
  {
   "cell_type": "code",
   "execution_count": null,
   "id": "7907db7e",
   "metadata": {},
   "outputs": [],
   "source": []
  },
  {
   "cell_type": "code",
   "execution_count": null,
   "id": "70b7114d",
   "metadata": {},
   "outputs": [],
   "source": []
  },
  {
   "cell_type": "code",
   "execution_count": null,
   "id": "a597b911",
   "metadata": {},
   "outputs": [],
   "source": []
  },
  {
   "cell_type": "code",
   "execution_count": null,
   "id": "b6082063",
   "metadata": {},
   "outputs": [],
   "source": []
  }
 ],
 "metadata": {
  "kernelspec": {
   "display_name": "Python 3 (ipykernel)",
   "language": "python",
   "name": "python3"
  },
  "language_info": {
   "codemirror_mode": {
    "name": "ipython",
    "version": 3
   },
   "file_extension": ".py",
   "mimetype": "text/x-python",
   "name": "python",
   "nbconvert_exporter": "python",
   "pygments_lexer": "ipython3",
   "version": "3.9.7"
  }
 },
 "nbformat": 4,
 "nbformat_minor": 5
}
