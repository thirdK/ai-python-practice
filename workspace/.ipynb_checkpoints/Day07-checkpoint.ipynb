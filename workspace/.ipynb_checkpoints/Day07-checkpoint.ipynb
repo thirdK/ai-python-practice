{
 "cells": [
  {
   "cell_type": "code",
   "execution_count": 5,
   "id": "d9679e83",
   "metadata": {},
   "outputs": [
    {
     "name": "stdout",
     "output_type": "stream",
     "text": [
      "정수를 입력하세요 >> asd\n",
      "type(exception) : <class 'ValueError'>\n",
      "exception : invalid literal for int() with base 10: 'asd'\n"
     ]
    }
   ],
   "source": [
    "# 예외 처리 고급\n",
    "\n",
    "# 프로그램을 개발하다 보면 수많은 오류를 만나게 된다. 또한 처음 프로그램을 개발했을 때\n",
    "# 모든 오류를 예측하고 처리할 수는 없다. 개발이 완료된 후에도 예측하지 못한 오류들이\n",
    "# 계속 발생되기 때문에 유지보수가 필요하다.\n",
    "\n",
    "# try:\n",
    "# \t예외 발생 가능성 있는 구문\n",
    "# except:\n",
    "# \t예외가 발생했을 때 실행할 구문\n",
    "\n",
    "# try:\n",
    "# \t예외 발생 가능성 있는 구문\n",
    "# except 예외의 종류 as e(예외 객체를 활용할 변수이름):\n",
    "# \t예외가 발생했을 때 실행할 구문\n",
    "\n",
    "# 예외가 발생하면 예외 정보가 생기고 예외 정보는 예외 객체에 저장되어 생성된다.\n",
    "\n",
    "try:\n",
    "    num = int(input('정수를 입력하세요 >> '))\n",
    "    \n",
    "    print('입력한 정수 : ', num)\n",
    "except Exception as e:\n",
    "    print('type(exception) :', type(e))\n",
    "    print('exception :', e)\n",
    "    \n",
    "    \n",
    "# 만약 큰 큐모의 웹 서비스를 구축하게 된다면 다양한 예외가 분명히 발생한다.\n",
    "# 예외가 발생할 때 그 정보를 수집하면 이후 프로그램을 유지/보수 하는데 큰 도움이 된다."
   ]
  },
  {
   "cell_type": "code",
   "execution_count": 8,
   "id": "ad1d4099",
   "metadata": {},
   "outputs": [
    {
     "name": "stdout",
     "output_type": "stream",
     "text": [
      "정수입력 >> ㅁㄴㅇㄹ\n",
      "정수를 입력하셔야만 합니다.\n"
     ]
    }
   ],
   "source": [
    "#예외 구분하기\n",
    "lst = [52,273,32,72,100]\n",
    "\n",
    "try:\n",
    "    num = int(input('정수입력 >> '))\n",
    "    print(f'{num}번째 요소 : {lst[num]}')\n",
    "# except Exception as e:\n",
    "#     print(\"type(exception) :\", type(e))\n",
    "#     print('exception :', e)\n",
    "except ValueError:\n",
    "    print('정수를 입력하셔야만 합니다.')\n",
    "    \n",
    "except IndexError:\n",
    "    print('리스트 크기 보다 큰 수는 입력하실 수 없습니다.')"
   ]
  },
  {
   "cell_type": "code",
   "execution_count": 15,
   "id": "8df5b34b",
   "metadata": {},
   "outputs": [
    {
     "name": "stdout",
     "output_type": "stream",
     "text": [
      "정수입력 >> 1\n",
      "1번째 요소 : 273\n",
      "미리 파악하지 못한 예외 발생\n",
      "type(e) name '예외발생' is not defined\n"
     ]
    }
   ],
   "source": [
    "lst = [52,273,32,72,100]\n",
    "\n",
    "try:\n",
    "    num = int(input('정수입력 >> '))\n",
    "    print(f'{num}번째 요소 : {lst[num]}')\n",
    "    예외발생()\n",
    "# except Exception as e:\n",
    "#     print(\"type(exception) :\", type(e))\n",
    "#     print('exception :', e)\n",
    "except ValueError as e:\n",
    "    print('정수를 입력하셔야만 합니다.')\n",
    "    print('exception :', e)\n",
    "    \n",
    "except IndexError as e:\n",
    "    print('리스트 크기 보다 큰 수는 입력하실 수 없습니다.')\n",
    "    print('exception :', e)\n",
    "except Exception as e:\n",
    "    #나머지 모든 예기치 못한 예외를 여기서 처리하자\n",
    "    print('미리 파악하지 못한 예외 발생')\n",
    "    print('type(e)',e)\n",
    "\n",
    "#너무 치명적인 문제인데도 프로그램 강제 종료되지 않게 만들면 그 것으로 또 다른\n",
    "#더욱 커다란 문제될 수 있다.\n",
    "\n",
    "#큰 규모의 프로그램을 개발할때는 '예외 처리로 떡칠한다.' 라고 표현할 정도로 예외 처리를\n",
    "# 많이 사용하게 된다.\n",
    "\n",
    "# 예외 처리에서 가장 중요한것은 '이 코드에서 어떤 예외가 발생할 것인가?'를\n",
    "# 미리 잘 예측하는 것이다."
   ]
  },
  {
   "cell_type": "code",
   "execution_count": 17,
   "id": "22163a8c",
   "metadata": {},
   "outputs": [
    {
     "name": "stdout",
     "output_type": "stream",
     "text": [
      "정수입력 >> 123\n"
     ]
    },
    {
     "ename": "NameError",
     "evalue": "name 'NotimplementedError' is not defined",
     "output_type": "error",
     "traceback": [
      "\u001b[1;31m---------------------------------------------------------------------------\u001b[0m",
      "\u001b[1;31mNameError\u001b[0m                                 Traceback (most recent call last)",
      "\u001b[1;32m~\\AppData\\Local\\Temp/ipykernel_22536/3545044607.py\u001b[0m in \u001b[0;36m<module>\u001b[1;34m\u001b[0m\n\u001b[0;32m      4\u001b[0m \u001b[1;33m\u001b[0m\u001b[0m\n\u001b[0;32m      5\u001b[0m \u001b[1;32mif\u001b[0m \u001b[0mnum\u001b[0m \u001b[1;33m>\u001b[0m \u001b[1;36m0\u001b[0m\u001b[1;33m:\u001b[0m\u001b[1;33m\u001b[0m\u001b[1;33m\u001b[0m\u001b[0m\n\u001b[1;32m----> 6\u001b[1;33m     \u001b[1;32mraise\u001b[0m \u001b[0mNotimplementedError\u001b[0m\u001b[1;33m\u001b[0m\u001b[1;33m\u001b[0m\u001b[0m\n\u001b[0m\u001b[0;32m      7\u001b[0m \u001b[1;32melse\u001b[0m\u001b[1;33m:\u001b[0m\u001b[1;33m\u001b[0m\u001b[1;33m\u001b[0m\u001b[0m\n\u001b[0;32m      8\u001b[0m     \u001b[1;32mraise\u001b[0m \u001b[0mNotimplementedError\u001b[0m\u001b[1;33m\u001b[0m\u001b[1;33m\u001b[0m\u001b[0m\n",
      "\u001b[1;31mNameError\u001b[0m: name 'NotimplementedError' is not defined"
     ]
    }
   ],
   "source": [
    "#예외를 강제로 발생시키기.raise\n",
    "\n",
    "num = int(input('정수입력 >> '))\n",
    "\n",
    "if num > 0:\n",
    "    raise NotimplementedError\n",
    "else:\n",
    "    raise NotimplementedError "
   ]
  },
  {
   "cell_type": "code",
   "execution_count": 18,
   "id": "091fa968",
   "metadata": {},
   "outputs": [],
   "source": [
    "#모듈\n",
    "#여러 변수와 함수를 가지고 있는 집합체\n",
    "#파이썬에 기본적으로 내장되어 있는 모듈을 '표준 모듈'이라고 부르고\n",
    "#다른 사람이 만들어서 공개한 모듈을 '외부 모듈'이라고 부른다."
   ]
  },
  {
   "cell_type": "code",
   "execution_count": 21,
   "id": "772cbfaf",
   "metadata": {},
   "outputs": [
    {
     "name": "stdout",
     "output_type": "stream",
     "text": [
      "0.8414709848078965\n",
      "0.5403023058681398\n",
      "1.5574077246549023\n"
     ]
    }
   ],
   "source": [
    "# math 모듈 - 수학과 관련된 기능들을 가진 모듈 (라이브러리 인듯?)\n",
    "import math\n",
    "\n",
    "print(math.sin(1))\n",
    "print(math.cos(1))\n",
    "print(math.tan(1))\n",
    "\n",
    "# ceil() 올림\n",
    "# floor() 내림\n",
    "# round() 반올림"
   ]
  },
  {
   "cell_type": "code",
   "execution_count": 23,
   "id": "49f8e204",
   "metadata": {},
   "outputs": [
    {
     "name": "stdout",
     "output_type": "stream",
     "text": [
      "0.8414709848078965\n",
      "0.5403023058681398\n",
      "1.5574077246549023\n"
     ]
    }
   ],
   "source": [
    "# from math import sin, cos, tan ***\n",
    "#특정 메소드를 가져오면 해당 함수 사용시 클래스명이 생략가능\n",
    "\n",
    "from math import * # *은 해당 클래스의 모든 메소드를 가져오기 때문에 비추천\n",
    "\n",
    "print(sin(1)) # form import를 사용하여 math.은 생략가능\n",
    "print(cos(1))\n",
    "print(tan(1))"
   ]
  },
  {
   "cell_type": "code",
   "execution_count": 25,
   "id": "9875006c",
   "metadata": {},
   "outputs": [
    {
     "name": "stdout",
     "output_type": "stream",
     "text": [
      "0.8414709848078965\n",
      "0.5403023058681398\n",
      "1.5574077246549023\n"
     ]
    }
   ],
   "source": [
    "import math as m # math 클래스명 대신 m을 시용하게 해줌***\n",
    "\n",
    "print(m.sin(1)) # as를 사용하여 math.가 아닌 m.으로 사용가능\n",
    "print(m.cos(1))\n",
    "print(m.tan(1))"
   ]
  },
  {
   "cell_type": "code",
   "execution_count": 31,
   "id": "c75ac7e3",
   "metadata": {},
   "outputs": [],
   "source": [
    "# !pip install 모듈명   (다른사람이 만든 외부 모듈을 다운받을 때 사용)\n",
    "# !pip install selenium #다운받고\n",
    "import selenium  #import"
   ]
  },
  {
   "cell_type": "code",
   "execution_count": 66,
   "id": "e862b79d",
   "metadata": {
    "scrolled": true
   },
   "outputs": [
    {
     "name": "stdout",
     "output_type": "stream",
     "text": [
      "# random 모듈\n",
      "- random() : 0.8247121740934801\n",
      "- uniform(10,20) : 15.265527832574318\n",
      "- randrange(10,20) : 16\n",
      "- randrange(10) : 0\n",
      "- choice[1,2,3,4,5] : 3\n",
      "- shuffle[1,2,3,4,5] : None\n",
      "- shuffle[1,2,3,4,5] : [5, 3, 2, 4, 1]\n",
      "- sample[1,2,3,4,5] : [1, 2]\n"
     ]
    }
   ],
   "source": [
    "# random 모듈 - 랜덤한 숫자를 생성해주는 모듈\n",
    "import random\n",
    "\n",
    "print('# random 모듈')\n",
    "\n",
    "# 기본적으로 0.0에서 1.0 사이의 float 으로 난수를 발생시킨다. \n",
    "# (%로  난수 발생시키기에는 편함)\n",
    "\n",
    "print('- random() :', random.random())\n",
    "\n",
    "# uniform(min,max) : 지정한 범위 사이의 float을 발생시킨다.\n",
    "print('- uniform(10,20) :', random.uniform(10,20))\n",
    "\n",
    "# randrange() : 지정한 범위의 int를 발생시킨다.\n",
    "print('- randrange(10,20) :', random.randrange(10,20))\n",
    "print('- randrange(10) :', random.randrange(10))\n",
    "\n",
    "#choic(list): 리스트 내부에 있는 요소를 랜덤하게 선택한다.\n",
    "print('- choice[1,2,3,4,5] :', random.choice([1,2,3,4,5]))\n",
    "\n",
    "# shuffle(list) : 리스트의 요소들을 랜덤하게 섞어준다.\n",
    "# shuffle은 다른 메소드와 다르게 파괴적 처리를 하기때문에 데이터 자체 순서가 바뀐다.\n",
    "# 그렇기 때문에 shuffle()을 우선 실행해서 섞고 다음에 출력을 해야한다.\n",
    "a=[1,2,3,4,5]\n",
    "random.shuffle(a)\n",
    "print('- shuffle[1,2,3,4,5] :', a)\n",
    "\n",
    "# sample(list, k=숫자) : 리스트의 요소 중 k개를 랜덤하게 뽑아준다.\n",
    "print('- sample[1,2,3,4,5] :', random.sample([1,2,3,4,5], k=2))"
   ]
  },
  {
   "cell_type": "code",
   "execution_count": 96,
   "id": "290f91e0",
   "metadata": {},
   "outputs": [
    {
     "name": "stdout",
     "output_type": "stream",
     "text": [
      "[29, 37, 38, 15, 26, 24]\n",
      "[27, 31, 40, 38, 10, 4]\n",
      "[39, 12, 19, 10, 30, 33]\n",
      "[18, 42, 21, 31, 5, 17]\n",
      "[32, 34, 38, 15, 31, 22]\n"
     ]
    }
   ],
   "source": [
    "lst = [i for i in range(1,47)]\n",
    "\n",
    "for i in range(5):\n",
    "    print(random.sample(lst, k=6))"
   ]
  },
  {
   "cell_type": "code",
   "execution_count": 106,
   "id": "1fecf42e",
   "metadata": {},
   "outputs": [
    {
     "name": "stdout",
     "output_type": "stream",
     "text": [
      "현재 운영체제 nt\n",
      "현재 작업폴더 C:\\Users\\dla06\\OneDrive\\바탕 화면\\python\\ai-python-practice\\HW\n",
      "현재 폴더내부 ['.ipynb_checkpoints', '02HW20220126임태종32.ipynb', '03HW20220127임태종32.ipynb', '04HW20220207임태종32.ipynb', '05HW20220208임태종32.ipynb']\n",
      "현재 폴더내부 ['.ipynb_checkpoints', '02HW20220126임태종32.ipynb', '03HW20220127임태종32.ipynb', '04HW20220207임태종32.ipynb', '05HW20220208임태종32.ipynb']\n"
     ]
    }
   ],
   "source": [
    "# os 모듈\n",
    "import os\n",
    "\n",
    "print('현재 운영체제', os.name)\n",
    "print('현재 작업폴더', os.getcwd())\n",
    "print('현재 폴더내부', os.listdir())\n",
    "\n",
    "# os.mkdir('hello') 폴더 생성\n",
    "# print('현재 폴더내부', os.listdir())\n",
    "# os.rmdir('hello') 폴더 삭제\n",
    "print('현재 폴더내부', os.listdir())"
   ]
  },
  {
   "cell_type": "code",
   "execution_count": 107,
   "id": "ff5fe32b",
   "metadata": {},
   "outputs": [
    {
     "ename": "HTTPError",
     "evalue": "HTTP Error 406: Not Acceptable",
     "output_type": "error",
     "traceback": [
      "\u001b[1;31m---------------------------------------------------------------------------\u001b[0m",
      "\u001b[1;31mHTTPError\u001b[0m                                 Traceback (most recent call last)",
      "\u001b[1;32m~\\AppData\\Local\\Temp/ipykernel_22536/2253875892.py\u001b[0m in \u001b[0;36m<module>\u001b[1;34m\u001b[0m\n\u001b[0;32m      2\u001b[0m \u001b[1;32mfrom\u001b[0m \u001b[0murllib\u001b[0m \u001b[1;32mimport\u001b[0m \u001b[0mrequest\u001b[0m\u001b[1;33m\u001b[0m\u001b[1;33m\u001b[0m\u001b[0m\n\u001b[0;32m      3\u001b[0m \u001b[1;33m\u001b[0m\u001b[0m\n\u001b[1;32m----> 4\u001b[1;33m \u001b[0mtarget\u001b[0m \u001b[1;33m=\u001b[0m \u001b[0mrequest\u001b[0m\u001b[1;33m.\u001b[0m\u001b[0murlopen\u001b[0m\u001b[1;33m(\u001b[0m\u001b[1;34m'https://www.melon.com/chart/index.htm'\u001b[0m\u001b[1;33m)\u001b[0m\u001b[1;33m\u001b[0m\u001b[1;33m\u001b[0m\u001b[0m\n\u001b[0m\u001b[0;32m      5\u001b[0m \u001b[0moutput\u001b[0m \u001b[1;33m=\u001b[0m \u001b[0mtarget\u001b[0m\u001b[1;33m.\u001b[0m\u001b[0mread\u001b[0m\u001b[1;33m(\u001b[0m\u001b[1;33m)\u001b[0m\u001b[1;33m\u001b[0m\u001b[1;33m\u001b[0m\u001b[0m\n\u001b[0;32m      6\u001b[0m \u001b[1;33m\u001b[0m\u001b[0m\n",
      "\u001b[1;32m~\\anaconda3\\lib\\urllib\\request.py\u001b[0m in \u001b[0;36murlopen\u001b[1;34m(url, data, timeout, cafile, capath, cadefault, context)\u001b[0m\n\u001b[0;32m    212\u001b[0m     \u001b[1;32melse\u001b[0m\u001b[1;33m:\u001b[0m\u001b[1;33m\u001b[0m\u001b[1;33m\u001b[0m\u001b[0m\n\u001b[0;32m    213\u001b[0m         \u001b[0mopener\u001b[0m \u001b[1;33m=\u001b[0m \u001b[0m_opener\u001b[0m\u001b[1;33m\u001b[0m\u001b[1;33m\u001b[0m\u001b[0m\n\u001b[1;32m--> 214\u001b[1;33m     \u001b[1;32mreturn\u001b[0m \u001b[0mopener\u001b[0m\u001b[1;33m.\u001b[0m\u001b[0mopen\u001b[0m\u001b[1;33m(\u001b[0m\u001b[0murl\u001b[0m\u001b[1;33m,\u001b[0m \u001b[0mdata\u001b[0m\u001b[1;33m,\u001b[0m \u001b[0mtimeout\u001b[0m\u001b[1;33m)\u001b[0m\u001b[1;33m\u001b[0m\u001b[1;33m\u001b[0m\u001b[0m\n\u001b[0m\u001b[0;32m    215\u001b[0m \u001b[1;33m\u001b[0m\u001b[0m\n\u001b[0;32m    216\u001b[0m \u001b[1;32mdef\u001b[0m \u001b[0minstall_opener\u001b[0m\u001b[1;33m(\u001b[0m\u001b[0mopener\u001b[0m\u001b[1;33m)\u001b[0m\u001b[1;33m:\u001b[0m\u001b[1;33m\u001b[0m\u001b[1;33m\u001b[0m\u001b[0m\n",
      "\u001b[1;32m~\\anaconda3\\lib\\urllib\\request.py\u001b[0m in \u001b[0;36mopen\u001b[1;34m(self, fullurl, data, timeout)\u001b[0m\n\u001b[0;32m    521\u001b[0m         \u001b[1;32mfor\u001b[0m \u001b[0mprocessor\u001b[0m \u001b[1;32min\u001b[0m \u001b[0mself\u001b[0m\u001b[1;33m.\u001b[0m\u001b[0mprocess_response\u001b[0m\u001b[1;33m.\u001b[0m\u001b[0mget\u001b[0m\u001b[1;33m(\u001b[0m\u001b[0mprotocol\u001b[0m\u001b[1;33m,\u001b[0m \u001b[1;33m[\u001b[0m\u001b[1;33m]\u001b[0m\u001b[1;33m)\u001b[0m\u001b[1;33m:\u001b[0m\u001b[1;33m\u001b[0m\u001b[1;33m\u001b[0m\u001b[0m\n\u001b[0;32m    522\u001b[0m             \u001b[0mmeth\u001b[0m \u001b[1;33m=\u001b[0m \u001b[0mgetattr\u001b[0m\u001b[1;33m(\u001b[0m\u001b[0mprocessor\u001b[0m\u001b[1;33m,\u001b[0m \u001b[0mmeth_name\u001b[0m\u001b[1;33m)\u001b[0m\u001b[1;33m\u001b[0m\u001b[1;33m\u001b[0m\u001b[0m\n\u001b[1;32m--> 523\u001b[1;33m             \u001b[0mresponse\u001b[0m \u001b[1;33m=\u001b[0m \u001b[0mmeth\u001b[0m\u001b[1;33m(\u001b[0m\u001b[0mreq\u001b[0m\u001b[1;33m,\u001b[0m \u001b[0mresponse\u001b[0m\u001b[1;33m)\u001b[0m\u001b[1;33m\u001b[0m\u001b[1;33m\u001b[0m\u001b[0m\n\u001b[0m\u001b[0;32m    524\u001b[0m \u001b[1;33m\u001b[0m\u001b[0m\n\u001b[0;32m    525\u001b[0m         \u001b[1;32mreturn\u001b[0m \u001b[0mresponse\u001b[0m\u001b[1;33m\u001b[0m\u001b[1;33m\u001b[0m\u001b[0m\n",
      "\u001b[1;32m~\\anaconda3\\lib\\urllib\\request.py\u001b[0m in \u001b[0;36mhttp_response\u001b[1;34m(self, request, response)\u001b[0m\n\u001b[0;32m    630\u001b[0m         \u001b[1;31m# request was successfully received, understood, and accepted.\u001b[0m\u001b[1;33m\u001b[0m\u001b[1;33m\u001b[0m\u001b[0m\n\u001b[0;32m    631\u001b[0m         \u001b[1;32mif\u001b[0m \u001b[1;32mnot\u001b[0m \u001b[1;33m(\u001b[0m\u001b[1;36m200\u001b[0m \u001b[1;33m<=\u001b[0m \u001b[0mcode\u001b[0m \u001b[1;33m<\u001b[0m \u001b[1;36m300\u001b[0m\u001b[1;33m)\u001b[0m\u001b[1;33m:\u001b[0m\u001b[1;33m\u001b[0m\u001b[1;33m\u001b[0m\u001b[0m\n\u001b[1;32m--> 632\u001b[1;33m             response = self.parent.error(\n\u001b[0m\u001b[0;32m    633\u001b[0m                 'http', request, response, code, msg, hdrs)\n\u001b[0;32m    634\u001b[0m \u001b[1;33m\u001b[0m\u001b[0m\n",
      "\u001b[1;32m~\\anaconda3\\lib\\urllib\\request.py\u001b[0m in \u001b[0;36merror\u001b[1;34m(self, proto, *args)\u001b[0m\n\u001b[0;32m    559\u001b[0m         \u001b[1;32mif\u001b[0m \u001b[0mhttp_err\u001b[0m\u001b[1;33m:\u001b[0m\u001b[1;33m\u001b[0m\u001b[1;33m\u001b[0m\u001b[0m\n\u001b[0;32m    560\u001b[0m             \u001b[0margs\u001b[0m \u001b[1;33m=\u001b[0m \u001b[1;33m(\u001b[0m\u001b[0mdict\u001b[0m\u001b[1;33m,\u001b[0m \u001b[1;34m'default'\u001b[0m\u001b[1;33m,\u001b[0m \u001b[1;34m'http_error_default'\u001b[0m\u001b[1;33m)\u001b[0m \u001b[1;33m+\u001b[0m \u001b[0morig_args\u001b[0m\u001b[1;33m\u001b[0m\u001b[1;33m\u001b[0m\u001b[0m\n\u001b[1;32m--> 561\u001b[1;33m             \u001b[1;32mreturn\u001b[0m \u001b[0mself\u001b[0m\u001b[1;33m.\u001b[0m\u001b[0m_call_chain\u001b[0m\u001b[1;33m(\u001b[0m\u001b[1;33m*\u001b[0m\u001b[0margs\u001b[0m\u001b[1;33m)\u001b[0m\u001b[1;33m\u001b[0m\u001b[1;33m\u001b[0m\u001b[0m\n\u001b[0m\u001b[0;32m    562\u001b[0m \u001b[1;33m\u001b[0m\u001b[0m\n\u001b[0;32m    563\u001b[0m \u001b[1;31m# XXX probably also want an abstract factory that knows when it makes\u001b[0m\u001b[1;33m\u001b[0m\u001b[1;33m\u001b[0m\u001b[0m\n",
      "\u001b[1;32m~\\anaconda3\\lib\\urllib\\request.py\u001b[0m in \u001b[0;36m_call_chain\u001b[1;34m(self, chain, kind, meth_name, *args)\u001b[0m\n\u001b[0;32m    492\u001b[0m         \u001b[1;32mfor\u001b[0m \u001b[0mhandler\u001b[0m \u001b[1;32min\u001b[0m \u001b[0mhandlers\u001b[0m\u001b[1;33m:\u001b[0m\u001b[1;33m\u001b[0m\u001b[1;33m\u001b[0m\u001b[0m\n\u001b[0;32m    493\u001b[0m             \u001b[0mfunc\u001b[0m \u001b[1;33m=\u001b[0m \u001b[0mgetattr\u001b[0m\u001b[1;33m(\u001b[0m\u001b[0mhandler\u001b[0m\u001b[1;33m,\u001b[0m \u001b[0mmeth_name\u001b[0m\u001b[1;33m)\u001b[0m\u001b[1;33m\u001b[0m\u001b[1;33m\u001b[0m\u001b[0m\n\u001b[1;32m--> 494\u001b[1;33m             \u001b[0mresult\u001b[0m \u001b[1;33m=\u001b[0m \u001b[0mfunc\u001b[0m\u001b[1;33m(\u001b[0m\u001b[1;33m*\u001b[0m\u001b[0margs\u001b[0m\u001b[1;33m)\u001b[0m\u001b[1;33m\u001b[0m\u001b[1;33m\u001b[0m\u001b[0m\n\u001b[0m\u001b[0;32m    495\u001b[0m             \u001b[1;32mif\u001b[0m \u001b[0mresult\u001b[0m \u001b[1;32mis\u001b[0m \u001b[1;32mnot\u001b[0m \u001b[1;32mNone\u001b[0m\u001b[1;33m:\u001b[0m\u001b[1;33m\u001b[0m\u001b[1;33m\u001b[0m\u001b[0m\n\u001b[0;32m    496\u001b[0m                 \u001b[1;32mreturn\u001b[0m \u001b[0mresult\u001b[0m\u001b[1;33m\u001b[0m\u001b[1;33m\u001b[0m\u001b[0m\n",
      "\u001b[1;32m~\\anaconda3\\lib\\urllib\\request.py\u001b[0m in \u001b[0;36mhttp_error_default\u001b[1;34m(self, req, fp, code, msg, hdrs)\u001b[0m\n\u001b[0;32m    639\u001b[0m \u001b[1;32mclass\u001b[0m \u001b[0mHTTPDefaultErrorHandler\u001b[0m\u001b[1;33m(\u001b[0m\u001b[0mBaseHandler\u001b[0m\u001b[1;33m)\u001b[0m\u001b[1;33m:\u001b[0m\u001b[1;33m\u001b[0m\u001b[1;33m\u001b[0m\u001b[0m\n\u001b[0;32m    640\u001b[0m     \u001b[1;32mdef\u001b[0m \u001b[0mhttp_error_default\u001b[0m\u001b[1;33m(\u001b[0m\u001b[0mself\u001b[0m\u001b[1;33m,\u001b[0m \u001b[0mreq\u001b[0m\u001b[1;33m,\u001b[0m \u001b[0mfp\u001b[0m\u001b[1;33m,\u001b[0m \u001b[0mcode\u001b[0m\u001b[1;33m,\u001b[0m \u001b[0mmsg\u001b[0m\u001b[1;33m,\u001b[0m \u001b[0mhdrs\u001b[0m\u001b[1;33m)\u001b[0m\u001b[1;33m:\u001b[0m\u001b[1;33m\u001b[0m\u001b[1;33m\u001b[0m\u001b[0m\n\u001b[1;32m--> 641\u001b[1;33m         \u001b[1;32mraise\u001b[0m \u001b[0mHTTPError\u001b[0m\u001b[1;33m(\u001b[0m\u001b[0mreq\u001b[0m\u001b[1;33m.\u001b[0m\u001b[0mfull_url\u001b[0m\u001b[1;33m,\u001b[0m \u001b[0mcode\u001b[0m\u001b[1;33m,\u001b[0m \u001b[0mmsg\u001b[0m\u001b[1;33m,\u001b[0m \u001b[0mhdrs\u001b[0m\u001b[1;33m,\u001b[0m \u001b[0mfp\u001b[0m\u001b[1;33m)\u001b[0m\u001b[1;33m\u001b[0m\u001b[1;33m\u001b[0m\u001b[0m\n\u001b[0m\u001b[0;32m    642\u001b[0m \u001b[1;33m\u001b[0m\u001b[0m\n\u001b[0;32m    643\u001b[0m \u001b[1;32mclass\u001b[0m \u001b[0mHTTPRedirectHandler\u001b[0m\u001b[1;33m(\u001b[0m\u001b[0mBaseHandler\u001b[0m\u001b[1;33m)\u001b[0m\u001b[1;33m:\u001b[0m\u001b[1;33m\u001b[0m\u001b[1;33m\u001b[0m\u001b[0m\n",
      "\u001b[1;31mHTTPError\u001b[0m: HTTP Error 406: Not Acceptable"
     ]
    }
   ],
   "source": [
    "# urllib 크롤링 등 웹 접근 라이브러리\n",
    "# 원하는 데이터를 특정 사이트에서 긁어오는것\n",
    "from urllib import request\n",
    "\n",
    "target = request.urlopen('https://music.bugs.co.kr/chart')\n",
    "output = target.read()\n",
    "\n",
    "print(output)\n",
    "\n"
   ]
  }
 ],
 "metadata": {
  "kernelspec": {
   "display_name": "Python 3 (ipykernel)",
   "language": "python",
   "name": "python3"
  },
  "language_info": {
   "codemirror_mode": {
    "name": "ipython",
    "version": 3
   },
   "file_extension": ".py",
   "mimetype": "text/x-python",
   "name": "python",
   "nbconvert_exporter": "python",
   "pygments_lexer": "ipython3",
   "version": "3.9.7"
  }
 },
 "nbformat": 4,
 "nbformat_minor": 5
}
