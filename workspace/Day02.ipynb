{
  "nbformat": 4,
  "nbformat_minor": 0,
  "metadata": {
    "colab": {
      "name": "Day02.ipynb",
      "provenance": [],
      "collapsed_sections": [],
      "authorship_tag": "ABX9TyMoM/YZBgrKA4ZcDi5bCwPH",
      "include_colab_link": true
    },
    "kernelspec": {
      "name": "python3",
      "display_name": "Python 3"
    },
    "language_info": {
      "name": "python"
    }
  },
  "cells": [
    {
      "cell_type": "markdown",
      "metadata": {
        "id": "view-in-github",
        "colab_type": "text"
      },
      "source": [
        "<a href=\"https://colab.research.google.com/github/thirdK/ai/blob/main/Day02.ipynb\" target=\"_parent\"><img src=\"https://colab.research.google.com/assets/colab-badge.svg\" alt=\"Open In Colab\"/></a>"
      ]
    },
    {
      "cell_type": "code",
      "execution_count": null,
      "metadata": {
        "colab": {
          "base_uri": "https://localhost:8080/"
        },
        "id": "Fb9snzoPzq0N",
        "outputId": "d9342e87-3aa4-4b18-be21-fb4be742a673"
      },
      "outputs": [
        {
          "output_type": "stream",
          "name": "stdout",
          "text": [
            "r\n",
            "d\n",
            "2\n",
            "강남구\n"
          ]
        }
      ],
      "source": [
        "#인덱싱 (슬라이싱)\n",
        "s = \"world\"\n",
        "print(s[2])\n",
        "print(s[-1]) #-1은 마지막 index를 가리킨다.\n",
        "\n",
        "ss = \"990212-2345243\"\n",
        "print(ss[7]) #하나만 추출할 때 indexing\n",
        "addr = \"서울시 강남구 역삼동 1번지\"\n",
        "print(addr[4:7]) #여러개를 추출할 때 slicing"
      ]
    },
    {
      "cell_type": "code",
      "source": [
        "list = [1,2,3,4,5]\n",
        "print(list)\n",
        "\n",
        "score = [80, 90, 70, 60]\n",
        "print(score)\n",
        "\n",
        "print(score[0])\n",
        "print(score[1:3])\n",
        "\n",
        "score[0] = 100;\n",
        "print(score)\n",
        "\n",
        "list_a = [1,2,3]\n",
        "list_b = [4,5,6]\n",
        "print(\"list_a = \", list_a)\n",
        "print(\"list_b = \", list_b)\n",
        "\n",
        "print(list_a + list_b)\n",
        "print(list_a * 3)\n",
        "print(len(list_a))"
      ],
      "metadata": {
        "colab": {
          "base_uri": "https://localhost:8080/"
        },
        "id": "giWcDNPr_vTt",
        "outputId": "a93ecd63-6b32-4ad7-acff-66fe9f1ff153"
      },
      "execution_count": null,
      "outputs": [
        {
          "output_type": "stream",
          "name": "stdout",
          "text": [
            "[1, 2, 3, 4, 5]\n",
            "[80, 90, 70, 60]\n",
            "80\n",
            "[90, 70]\n",
            "[100, 90, 70, 60]\n",
            "list_a =  [1, 2, 3]\n",
            "list_b =  [4, 5, 6]\n",
            "[1, 2, 3, 4, 5, 6]\n",
            "[1, 2, 3, 1, 2, 3, 1, 2, 3]\n",
            "3\n"
          ]
        }
      ]
    },
    {
      "cell_type": "code",
      "source": [
        "list = []\n",
        "list.append(90)\n",
        "list.append(60)\n",
        "list.append(30)\n",
        "print(list)\n",
        "list.insert(0, 10)\n",
        "print(list)"
      ],
      "metadata": {
        "colab": {
          "base_uri": "https://localhost:8080/"
        },
        "id": "3Or2YCr8I2Yy",
        "outputId": "d2c4dbe5-de05-4193-aaa3-6e1cad052f4c"
      },
      "execution_count": null,
      "outputs": [
        {
          "output_type": "stream",
          "name": "stdout",
          "text": [
            "[90, 60, 30]\n",
            "[10, 90, 60, 30]\n"
          ]
        }
      ]
    },
    {
      "cell_type": "code",
      "source": [
        "list_a = [1, 2, 3]\n",
        "list_a.extend([4, 5, 6])\n",
        "list_a"
      ],
      "metadata": {
        "colab": {
          "base_uri": "https://localhost:8080/"
        },
        "id": "XpdxWRNhKWew",
        "outputId": "b784dedb-f414-4c84-b69c-8725d26b8fd5"
      },
      "execution_count": null,
      "outputs": [
        {
          "output_type": "execute_result",
          "data": {
            "text/plain": [
              "[1, 2, 3, 4, 5, 6]"
            ]
          },
          "metadata": {},
          "execution_count": 5
        }
      ]
    },
    {
      "cell_type": "code",
      "source": [
        "list_a = [1, 2, 3]\n",
        "list_b = [4, 5, 6]\n",
        "list_a + list_b"
      ],
      "metadata": {
        "colab": {
          "base_uri": "https://localhost:8080/"
        },
        "id": "bkPS3PBcKr-p",
        "outputId": "b598412a-358f-4f45-d616-d05cafb805c8"
      },
      "execution_count": null,
      "outputs": [
        {
          "output_type": "execute_result",
          "data": {
            "text/plain": [
              "[1, 2, 3, 4, 5, 6]"
            ]
          },
          "metadata": {},
          "execution_count": 6
        }
      ]
    },
    {
      "cell_type": "code",
      "source": [
        "list_a = [0,1,2,3,4,5]\n",
        "del list_a[1]\n",
        "list_a"
      ],
      "metadata": {
        "colab": {
          "base_uri": "https://localhost:8080/"
        },
        "id": "7aeM_YJfM4JA",
        "outputId": "afcdd2d4-3b32-4e1b-c18d-77db310a5f75"
      },
      "execution_count": null,
      "outputs": [
        {
          "output_type": "execute_result",
          "data": {
            "text/plain": [
              "[0, 2, 3, 4, 5]"
            ]
          },
          "metadata": {},
          "execution_count": 7
        }
      ]
    },
    {
      "cell_type": "code",
      "source": [
        "list = [222,434, 65, 123, 547, 876]\n",
        "222 in list"
      ],
      "metadata": {
        "colab": {
          "base_uri": "https://localhost:8080/"
        },
        "id": "W_q3ag-WQkES",
        "outputId": "a9d17f64-8667-46b2-bc4c-486758bbfa78"
      },
      "execution_count": null,
      "outputs": [
        {
          "output_type": "execute_result",
          "data": {
            "text/plain": [
              "True"
            ]
          },
          "metadata": {},
          "execution_count": 8
        }
      ]
    },
    {
      "cell_type": "code",
      "source": [
        "dict = {\n",
        "    \"name\": \"엔드게임\",\n",
        "    \"type\": \"히어로 무비\",\n",
        "    \"price\": 10000\n",
        "}\n",
        "print(dict)\n",
        "dict[\"name\"]"
      ],
      "metadata": {
        "colab": {
          "base_uri": "https://localhost:8080/",
          "height": 54
        },
        "id": "gEdJoGd7j3wz",
        "outputId": "771f5033-7bf2-4123-a8a3-85606da6193b"
      },
      "execution_count": null,
      "outputs": [
        {
          "output_type": "stream",
          "name": "stdout",
          "text": [
            "{'name': '엔드게임', 'type': '히어로 무비', 'price': 10000}\n"
          ]
        },
        {
          "output_type": "execute_result",
          "data": {
            "application/vnd.google.colaboratory.intrinsic+json": {
              "type": "string"
            },
            "text/plain": [
              "'엔드게임'"
            ]
          },
          "metadata": {},
          "execution_count": 9
        }
      ]
    },
    {
      "cell_type": "code",
      "source": [
        "dict = {\n",
        "    \"감독\": [\"안토니\", \"루소\"],\n",
        "    \"배우\": [\"타노스\", \"토르\", \"헐크\"]\n",
        "}\n",
        "print(dict)\n",
        "dict[\"감독\"]"
      ],
      "metadata": {
        "colab": {
          "base_uri": "https://localhost:8080/"
        },
        "id": "uje0brhlltWg",
        "outputId": "b151d702-baf4-4e24-a0c8-2cf91e502b83"
      },
      "execution_count": null,
      "outputs": [
        {
          "output_type": "stream",
          "name": "stdout",
          "text": [
            "{'감독': ['안토니', '루소'], '배우': ['타노스', '토르', '헐크']}\n"
          ]
        },
        {
          "output_type": "execute_result",
          "data": {
            "text/plain": [
              "['안토니', '루소']"
            ]
          },
          "metadata": {},
          "execution_count": 10
        }
      ]
    },
    {
      "cell_type": "code",
      "source": [
        "dict = {\n",
        "    \"name\" : \"건조 망고\",\n",
        "    \"type\" : \"절임 과일\",\n",
        "    \"ingredient\" : [\"망고\", \"설탕\", \"색소\"],\n",
        "    \"origin\" : \"필리핀\"\n",
        "}\n",
        "\n",
        "print(\"name:\", dict[\"name\"])\n",
        "print(\"type:\", dict[\"type\"])\n",
        "print(\"ingredient:\", dict[\"ingredient\"])\n",
        "print(\"origin:\", dict[\"origin\"])\n",
        "\n",
        "dict[\"name\"] = \"망고\"\n",
        "print(dict[\"name\"])\n",
        "\n",
        "print(dict[\"ingredient\"][1])\n",
        "\n",
        "dict[\"price\"] = 5000\n",
        "\n",
        "print(dict)\n",
        "\n",
        "del dict[\"price\"]\n",
        "print(dict)"
      ],
      "metadata": {
        "colab": {
          "base_uri": "https://localhost:8080/"
        },
        "id": "K7_7inF9mGGZ",
        "outputId": "b5fe425c-b306-412e-837e-df02eb4e4d95"
      },
      "execution_count": null,
      "outputs": [
        {
          "output_type": "stream",
          "name": "stdout",
          "text": [
            "name: 건조 망고\n",
            "type: 절임 과일\n",
            "ingredient: ['망고', '설탕', '색소']\n",
            "origin: 필리핀\n",
            "망고\n",
            "설탕\n",
            "{'name': '망고', 'type': '절임 과일', 'ingredient': ['망고', '설탕', '색소'], 'origin': '필리핀', 'price': 5000}\n",
            "{'name': '망고', 'type': '절임 과일', 'ingredient': ['망고', '설탕', '색소'], 'origin': '필리핀'}\n"
          ]
        }
      ]
    },
    {
      "cell_type": "code",
      "source": [
        "dict = {}\n",
        "\n",
        "dict[\"name\"] = \"새이름\"\n",
        "dict[\"height\"] = 185\n",
        "dict[\"weight\"] = 75\n",
        "\n",
        "print(dict)\n",
        "del dict[\"weight\"]\n",
        "print(dict)"
      ],
      "metadata": {
        "colab": {
          "base_uri": "https://localhost:8080/"
        },
        "id": "n3GFohMtorh0",
        "outputId": "561b09e3-aca7-4ae0-ef56-2143f3e30ae5"
      },
      "execution_count": null,
      "outputs": [
        {
          "output_type": "stream",
          "name": "stdout",
          "text": [
            "{'name': '새이름', 'height': 185, 'weight': 75}\n",
            "{'name': '새이름', 'height': 185}\n"
          ]
        }
      ]
    },
    {
      "cell_type": "code",
      "source": [
        "dict = {\n",
        "    \"name\" : \"건조 망고\",\n",
        "    \"type\" : \"절임 과일\",\n",
        "    \"ingredient\" : [\"망고\", \"설탕\", \"색소\"],\n",
        "    \"origin\" : \"필리핀\"\n",
        "}\n",
        "\n",
        "key = input(\"삭제하려는 데이터의 키값 >> \")\n",
        "\n",
        "if key in dict:\n",
        "  print(dict[key])\n",
        "else:\n",
        "  print(\"존재하지 않는 키에 접근하고 있습니다..\")"
      ],
      "metadata": {
        "colab": {
          "base_uri": "https://localhost:8080/"
        },
        "id": "Hp3UwkGhpp76",
        "outputId": "0c4ba3cd-e768-4d55-f97a-2a4f9c9c849c"
      },
      "execution_count": null,
      "outputs": [
        {
          "output_type": "stream",
          "name": "stdout",
          "text": [
            "삭제하려는 데이터의 키값 >> 123\n",
            "존재하지 않는 키에 접근하고 있습니다..\n"
          ]
        }
      ]
    },
    {
      "cell_type": "code",
      "source": [
        "t = (1,2)\n",
        "print(t)\n",
        "print(type(t))\n",
        "\n",
        "t2 = 3, 5\n",
        "print(t2)\n",
        "print(type(t2))"
      ],
      "metadata": {
        "colab": {
          "base_uri": "https://localhost:8080/"
        },
        "id": "TpxSc2SFxbVt",
        "outputId": "0ea1d885-01dc-47d8-80ac-87846ddcea89"
      },
      "execution_count": null,
      "outputs": [
        {
          "output_type": "stream",
          "name": "stdout",
          "text": [
            "(1, 2)\n",
            "<class 'tuple'>\n",
            "(3, 5)\n",
            "<class 'tuple'>\n"
          ]
        }
      ]
    },
    {
      "cell_type": "code",
      "source": [
        "set = {1,1,2,2,2,3,4}\n",
        "print(set)\n",
        "#특정 값을 꺼낼 수 없다."
      ],
      "metadata": {
        "colab": {
          "base_uri": "https://localhost:8080/"
        },
        "id": "YkLUVA-C1mXA",
        "outputId": "a2d6a3a6-1e09-4552-8110-01dd7432334c"
      },
      "execution_count": null,
      "outputs": [
        {
          "output_type": "stream",
          "name": "stdout",
          "text": [
            "{1, 2, 3, 4}\n"
          ]
        }
      ]
    },
    {
      "cell_type": "code",
      "source": [
        "s1 = set([1,1,2,3])\n",
        "print(type(s1))\n",
        "print(s1)\n",
        "\n",
        "li = list(s1)\n",
        "print(type(li))"
      ],
      "metadata": {
        "colab": {
          "base_uri": "https://localhost:8080/"
        },
        "id": "UWsw2jsZ2rhH",
        "outputId": "4beb52d6-5a3f-40b9-c16b-bece6c27d74c"
      },
      "execution_count": null,
      "outputs": [
        {
          "output_type": "stream",
          "name": "stdout",
          "text": [
            "<class 'set'>\n",
            "{1, 2, 3}\n",
            "<class 'list'>\n"
          ]
        }
      ]
    },
    {
      "cell_type": "code",
      "source": [
        "set1 = {1,2,3}\n",
        "set2 = {2,3,4}\n",
        "\n",
        "print(type(set1))\n",
        "print(type(set2))\n",
        "\n",
        "print(set1 & set2)\n",
        "print(set1.intersection(set2))\n",
        "print(set1 | set2)\n",
        "print(set1.union(set2))\n",
        "print(set1 - set2)\n",
        "print(set1.difference(set2))"
      ],
      "metadata": {
        "colab": {
          "base_uri": "https://localhost:8080/"
        },
        "id": "n7bp0tiY4tfL",
        "outputId": "cc70d52a-ff7e-4cbc-e79d-16933f468c59"
      },
      "execution_count": null,
      "outputs": [
        {
          "output_type": "stream",
          "name": "stdout",
          "text": [
            "<class 'set'>\n",
            "<class 'set'>\n",
            "{2, 3}\n",
            "{2, 3}\n",
            "{1, 2, 3, 4}\n",
            "{1, 2, 3, 4}\n",
            "{1}\n",
            "{1}\n"
          ]
        }
      ]
    },
    {
      "cell_type": "code",
      "source": [
        "set1 = {1,2,3}\n",
        "print(set1)\n",
        "set1.add(4)\n",
        "print(set1)\n",
        "\n",
        "set1.update([5,6,7,8])\n",
        "print(set1)\n",
        "\n",
        "set1.remove(4)\n",
        "print(set1)"
      ],
      "metadata": {
        "colab": {
          "base_uri": "https://localhost:8080/"
        },
        "id": "3A-j3SXV6s4w",
        "outputId": "6b69b808-d393-4964-fa50-b09ca9d377ed"
      },
      "execution_count": null,
      "outputs": [
        {
          "output_type": "stream",
          "name": "stdout",
          "text": [
            "{1, 2, 3}\n",
            "{1, 2, 3, 4}\n",
            "{1, 2, 3, 4, 5, 6, 7, 8}\n",
            "{1, 2, 3, 5, 6, 7, 8}\n"
          ]
        }
      ]
    },
    {
      "cell_type": "code",
      "source": [
        "# Q1 학번 31025 \n",
        "stuNum = input(\"학번을 입력하세요(5자리) >> \")\n",
        "print(f\"{stuNum[0]}학년 {stuNum[1:3]}반 {stuNum[3:]}번\")\n",
        "\n",
        "\n",
        "\n"
      ],
      "metadata": {
        "colab": {
          "base_uri": "https://localhost:8080/"
        },
        "id": "meaEbJdV_ofD",
        "outputId": "c0eb4bf8-0097-49d3-c0ff-693d15a53eff"
      },
      "execution_count": null,
      "outputs": [
        {
          "output_type": "stream",
          "name": "stdout",
          "text": [
            "학번을 입력하세요(5자리) >> 1234\n",
            "1학년 23반 4번\n"
          ]
        }
      ]
    },
    {
      "cell_type": "code",
      "source": [
        "carNum = input(\"차량번호를 입력하세요 >> \")\n",
        "print(f\"{carNum}의 차량번호 끝 4자리는 {carNum[-4:]} 입니다.\")"
      ],
      "metadata": {
        "colab": {
          "base_uri": "https://localhost:8080/"
        },
        "id": "x9l-r-MrCDml",
        "outputId": "b3bdc35f-961f-4eca-a25a-64c854c53de2"
      },
      "execution_count": null,
      "outputs": [
        {
          "output_type": "stream",
          "name": "stdout",
          "text": [
            "차량번호를 입력하세요 >> 1234\n",
            "1234의 차량번호 끝 4자리는 1234 입니다.\n"
          ]
        }
      ]
    },
    {
      "cell_type": "code",
      "source": [
        "inputStr = input(\"홀수 갯수의 문자열 입력 >> \")\n",
        "# num = int(len(inputStr)/2)\n",
        "num = len(inputStr)//2  # //는 몫만 추출한다.\n",
        "print(f\"문자열 가운데 글자는 {inputStr[num]}입니다.\")\n"
      ],
      "metadata": {
        "colab": {
          "base_uri": "https://localhost:8080/"
        },
        "id": "PH9mikgPDk9j",
        "outputId": "5e2383ce-c49d-41a7-b032-afbaa62e1558"
      },
      "execution_count": null,
      "outputs": [
        {
          "output_type": "stream",
          "name": "stdout",
          "text": [
            "홀수 갯수의 문자열 입력 >> 1234567\n",
            "문자열 가운데 글자는 4입니다.\n"
          ]
        }
      ]
    },
    {
      "cell_type": "code",
      "source": [
        "listN = [1,2,3,4,5,6,7,8,9]\n",
        "print(listN[2:7][1])"
      ],
      "metadata": {
        "colab": {
          "base_uri": "https://localhost:8080/"
        },
        "id": "_Uuwxb_KHnex",
        "outputId": "92722b4c-dcd3-41b3-fcd7-283651f2bdaf"
      },
      "execution_count": null,
      "outputs": [
        {
          "output_type": "stream",
          "name": "stdout",
          "text": [
            "4\n"
          ]
        }
      ]
    },
    {
      "cell_type": "code",
      "source": [
        "if False:\n",
        "    print(\"만족\")\n",
        "else:\n",
        "    print(\"불만족\")"
      ],
      "metadata": {
        "colab": {
          "base_uri": "https://localhost:8080/"
        },
        "id": "A3Ip-FCXN1sn",
        "outputId": "7d13b966-27af-483a-c446-1fd9fb2cd47f"
      },
      "execution_count": null,
      "outputs": [
        {
          "output_type": "stream",
          "name": "stdout",
          "text": [
            "불만족\n"
          ]
        }
      ]
    },
    {
      "cell_type": "code",
      "source": [
        "age = int(input(\"나이를 입력 >> \"))\n",
        "if age >= 18:\n",
        "  print(\"당신은 성인입니다.\")\n",
        "else:\n",
        "  print(\"당신은 성인이 아닙니다.\")"
      ],
      "metadata": {
        "colab": {
          "base_uri": "https://localhost:8080/"
        },
        "id": "swrNzSCmPCGo",
        "outputId": "f1df9ba2-2f7a-4169-8a4a-3ecbf603d398"
      },
      "execution_count": null,
      "outputs": [
        {
          "output_type": "stream",
          "name": "stdout",
          "text": [
            "나이를 입력 >> 123\n",
            "당신은 성인입니다.\n"
          ]
        }
      ]
    },
    {
      "cell_type": "code",
      "source": [
        "age = int(input(\"나이를 입력 >> \"))\n",
        "if age < 10:\n",
        "  print(\"당신은 유아입니다.\")\n",
        "elif age <20:\n",
        "  print(\"당신은 10대입니다.\")\n",
        "elif age <30:\n",
        "  print(\"당신은 20대입니다.\")\n",
        "elif age <40:\n",
        "  print(\"당신은 30대입니다.\")\n",
        "elif age <50:\n",
        "  print(\"당신은 40대입니다.\") \n",
        "elif age <60:\n",
        "  print(\"당신은 50대입니다.\")\n",
        "elif age <70:\n",
        "  print(\"당신은 60대입니다.\")\n",
        "else:\n",
        "  print(\"당신은 노인입니다..\")"
      ],
      "metadata": {
        "colab": {
          "base_uri": "https://localhost:8080/"
        },
        "id": "YyBxLFvxPqA4",
        "outputId": "a1f1db56-62b6-4bb7-b045-9203d6893cb1"
      },
      "execution_count": null,
      "outputs": [
        {
          "output_type": "stream",
          "name": "stdout",
          "text": [
            "나이를 입력 >> 22\n",
            "당신은 20대입니다.\n"
          ]
        }
      ]
    },
    {
      "cell_type": "code",
      "source": [
        "score = int(input(\"당신의 점수를 입력하세요 >> \"))\n",
        "gr = \"\"\n",
        "if score >=90:\n",
        "  gr = \"A\"\n",
        "elif score >=80:\n",
        "  gr = \"B\"\n",
        "elif score >=70:\n",
        "  gr = \"C\"\n",
        "elif score >=60:\n",
        "  gr = \"D\"\n",
        "else:\n",
        "  gr = \"F\"\n",
        "\n",
        "print(f\"당신의 점수는 {score}점 이고 학점은 {gr}학점입니다.\")"
      ],
      "metadata": {
        "colab": {
          "base_uri": "https://localhost:8080/"
        },
        "id": "gh2s2QkwRbjz",
        "outputId": "323cdfbe-775b-4d4b-ae2f-ba331bcd8bd7"
      },
      "execution_count": null,
      "outputs": [
        {
          "output_type": "stream",
          "name": "stdout",
          "text": [
            "당신의 점수를 입력하세요 >> 12\n",
            "당신의 점수는 12점 이고 학점은 F학점입니다.\n"
          ]
        }
      ]
    },
    {
      "cell_type": "code",
      "source": [
        "num = int(input(\"정수 입력하세요 >> \"))\n",
        "\n",
        "if num%3==0:\n",
        "  res = \"입니다.\"\n",
        "else:\n",
        "  res = \"가 아닙니다.\"\n",
        "\n",
        "print(f\"{num}은 3의 배수{res}\")"
      ],
      "metadata": {
        "colab": {
          "base_uri": "https://localhost:8080/"
        },
        "id": "3oUXwo8mTrGg",
        "outputId": "a9e50454-f3b5-4d81-d05b-cb259379166c"
      },
      "execution_count": null,
      "outputs": [
        {
          "output_type": "stream",
          "name": "stdout",
          "text": [
            "정수 입력하세요 >> 16\n",
            "16은 3의 배수가 아닙니다.\n"
          ]
        }
      ]
    },
    {
      "cell_type": "code",
      "source": [
        "num1 =  int(input(\"정수1 입력 >> \"))\n",
        "num2 =  int(input(\"정수2 입력 >> \"))\n",
        "num3 =  int(input(\"정수3 입력 >> \"))\n",
        "\n",
        "max = num1\n",
        "\n",
        "if num2 > max:\n",
        "  max = num2\n",
        "\n",
        "if num3 > max:\n",
        "  max = num3\n",
        "\n",
        "print(f\"가장 큰 수는 {max}입니다.\")\n",
        "\n"
      ],
      "metadata": {
        "colab": {
          "base_uri": "https://localhost:8080/"
        },
        "id": "PoEMzttOU2qm",
        "outputId": "61efe357-977f-460f-a720-49a8796d87bc"
      },
      "execution_count": null,
      "outputs": [
        {
          "output_type": "stream",
          "name": "stdout",
          "text": [
            "정수1 입력 >> 5\n",
            "정수2 입력 >> 89\n",
            "정수3 입력 >> 4\n",
            "가장 큰 수는 89입니다.\n"
          ]
        }
      ]
    }
  ]
}