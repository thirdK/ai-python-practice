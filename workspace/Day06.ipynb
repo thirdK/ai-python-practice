{
 "cells": [
  {
   "cell_type": "code",
   "execution_count": 2,
   "id": "1d5c6350",
   "metadata": {},
   "outputs": [
    {
     "ename": "SyntaxError",
     "evalue": "EOL while scanning string literal (Temp/ipykernel_2684/3385757419.py, line 6)",
     "output_type": "error",
     "traceback": [
      "\u001b[1;36m  File \u001b[1;32m\"C:\\Users\\dla06\\AppData\\Local\\Temp/ipykernel_2684/3385757419.py\"\u001b[1;36m, line \u001b[1;32m6\u001b[0m\n\u001b[1;33m    print(\"예외를 강제로 발생)\u001b[0m\n\u001b[1;37m                      ^\u001b[0m\n\u001b[1;31mSyntaxError\u001b[0m\u001b[1;31m:\u001b[0m EOL while scanning string literal\n"
     ]
    }
   ],
   "source": [
    "# 예외 처리 (에러 처리, 오류 처리, 버그 처리...)\n",
    "\n",
    "# 프로그램 실행 전에 발생하는 오류 - 구문 오류 sysntax error\n",
    "# 프로그램 실행 중에 발생하는 오류 - 런타임 오류 runtime error, 예외 exception\n",
    "\n",
    "print(\"예외를 강제로 발생)\n",
    "#EOL End of Line 실행 조차 되지 않는 오류"
   ]
  },
  {
   "cell_type": "code",
   "execution_count": 4,
   "id": "88c53fcc",
   "metadata": {},
   "outputs": [
    {
     "name": "stdout",
     "output_type": "stream",
     "text": [
      "프로그램이 시작되었습니다.\n"
     ]
    },
    {
     "ename": "NameError",
     "evalue": "name 'lst' is not defined",
     "output_type": "error",
     "traceback": [
      "\u001b[1;31m---------------------------------------------------------------------------\u001b[0m",
      "\u001b[1;31mNameError\u001b[0m                                 Traceback (most recent call last)",
      "\u001b[1;32m~\\AppData\\Local\\Temp/ipykernel_2684/2800954819.py\u001b[0m in \u001b[0;36m<module>\u001b[1;34m\u001b[0m\n\u001b[0;32m      1\u001b[0m \u001b[0mprint\u001b[0m\u001b[1;33m(\u001b[0m\u001b[1;34m'프로그램이 시작되었습니다.'\u001b[0m\u001b[1;33m)\u001b[0m\u001b[1;33m\u001b[0m\u001b[1;33m\u001b[0m\u001b[0m\n\u001b[1;32m----> 2\u001b[1;33m \u001b[0mlst\u001b[0m\u001b[1;33m[\u001b[0m\u001b[1;36m0\u001b[0m\u001b[1;33m]\u001b[0m\u001b[1;33m\u001b[0m\u001b[1;33m\u001b[0m\u001b[0m\n\u001b[0m",
      "\u001b[1;31mNameError\u001b[0m: name 'lst' is not defined"
     ]
    }
   ],
   "source": [
    "print('프로그램이 시작되었습니다.')\n",
    "lst[0]"
   ]
  },
  {
   "cell_type": "code",
   "execution_count": 9,
   "id": "2d0f775d",
   "metadata": {},
   "outputs": [
    {
     "name": "stdout",
     "output_type": "stream",
     "text": [
      "정수 입력 >> 13\n",
      "원의 반지름 :  13\n",
      "원의 둘레 :  81.64\n",
      "원의 넓이 :  530.66\n"
     ]
    }
   ],
   "source": [
    "num_input = int(input('정수 입력 >> '))\n",
    "print('원의 반지름 : ', num_input)\n",
    "print('원의 둘레 : ', 2 * 3.14 * num_input)\n",
    "print('원의 넓이 : ', 3.14 * num_input*num_input)"
   ]
  },
  {
   "cell_type": "code",
   "execution_count": 17,
   "id": "e9e2159b",
   "metadata": {},
   "outputs": [
    {
     "name": "stdout",
     "output_type": "stream",
     "text": [
      "정수 입력 >> 45\n",
      "원의 반지름 :  45\n",
      "원의 둘레 :  282.6\n",
      "원의 넓이 :  6358.500000000001\n"
     ]
    }
   ],
   "source": [
    "#if로 예외처리가 가능하지만 많이 사용하지 않는다.\n",
    "num_input = input('정수 입력 >> ')\n",
    "if num_input.isdigit():\n",
    "    num_a = int(num_input)\n",
    "    print('원의 반지름 : ', num_a)\n",
    "    print('원의 둘레 : ', 2 * 3.14 * num_a)\n",
    "    print('원의 넓이 : ', 3.14 * num_a*num_a)\n",
    "else:\n",
    "    print('정수를 입력하세요')"
   ]
  },
  {
   "cell_type": "code",
   "execution_count": 27,
   "id": "7f5ccd1c",
   "metadata": {},
   "outputs": [
    {
     "name": "stdout",
     "output_type": "stream",
     "text": [
      "정수 입력 >> 12\n",
      "원의 반지름 :  12\n",
      "원의 둘레 :  75.36\n",
      "원의 넓이 :  452.15999999999997\n"
     ]
    }
   ],
   "source": [
    "#try exept를 사용하여 예외처리를 한다.\n",
    "try:\n",
    "    num_input = input('정수 입력 >> ')\n",
    "    num_a = int(num_input)\n",
    "    print('원의 반지름 : ', num_a)\n",
    "    print('원의 둘레 : ', 2 * 3.14 * num_a)\n",
    "    print('원의 넓이 : ', 3.14 * num_a*num_a)\n",
    "except:\n",
    "    print('정수를 입력하세요')"
   ]
  },
  {
   "cell_type": "code",
   "execution_count": 31,
   "id": "a42e7e21",
   "metadata": {},
   "outputs": [
    {
     "name": "stdout",
     "output_type": "stream",
     "text": [
      "['52', '273', '32', '103']\n"
     ]
    }
   ],
   "source": [
    "#숫자만 추출하는 프로그램\n",
    "list_all = ['52', '273', '32', '스파이', '103']\n",
    "\n",
    "list_num = []\n",
    "\n",
    "for i in list_all:\n",
    "    try:\n",
    "        float(i)\n",
    "        list_num.append(i)\n",
    "    except:\n",
    "        pass\n",
    "print(list_num)"
   ]
  },
  {
   "cell_type": "code",
   "execution_count": 33,
   "id": "cf0d18f3",
   "metadata": {},
   "outputs": [
    {
     "name": "stdout",
     "output_type": "stream",
     "text": [
      "존재하지 않는 인덱스 번호입니다.\n"
     ]
    }
   ],
   "source": [
    "list_all = ['52', '273', '32', '스파이', '103']\n",
    "try:\n",
    "    print(list_all[5])\n",
    "except:\n",
    "    print('존재하지 않는 인덱스 번호입니다.')"
   ]
  },
  {
   "cell_type": "code",
   "execution_count": 34,
   "id": "73249abc",
   "metadata": {},
   "outputs": [
    {
     "ename": "IndentationError",
     "evalue": "expected an indented block (Temp/ipykernel_2684/224632808.py, line 4)",
     "output_type": "error",
     "traceback": [
      "\u001b[1;36m  File \u001b[1;32m\"C:\\Users\\dla06\\AppData\\Local\\Temp/ipykernel_2684/224632808.py\"\u001b[1;36m, line \u001b[1;32m4\u001b[0m\n\u001b[1;33m    except:\u001b[0m\n\u001b[1;37m    ^\u001b[0m\n\u001b[1;31mIndentationError\u001b[0m\u001b[1;31m:\u001b[0m expected an indented block\n"
     ]
    }
   ],
   "source": [
    "try:\n",
    "#예외가 발생할 가능성이 있는 코드\n",
    "    \n",
    "except:\n",
    "#예외 발생했을 때 실행할 코드\n",
    "\n",
    "else:\n",
    "#예외가 발생하지 않앗을 때 실행할 코드\n"
   ]
  },
  {
   "cell_type": "code",
   "execution_count": 39,
   "id": "b9a908b2",
   "metadata": {},
   "outputs": [
    {
     "name": "stdout",
     "output_type": "stream",
     "text": [
      "정수를 입력하세요 >> 45\n",
      "입력한 정수는 45 입니다.\n"
     ]
    }
   ],
   "source": [
    "try:\n",
    "    num = int(input('정수를 입력하세요 >> '))\n",
    "except:\n",
    "    print('정수를 입력하지 않았습니다.')\n",
    "else:\n",
    "    print('입력한 정수는', num, '입니다.')\n",
    "    \n",
    "#else 는 다른 대부분의 언어에서는 없다. else 사용을 권장하지는 않는다."
   ]
  },
  {
   "cell_type": "code",
   "execution_count": 40,
   "id": "8a96cb89",
   "metadata": {},
   "outputs": [
    {
     "ename": "IndentationError",
     "evalue": "expected an indented block (Temp/ipykernel_2684/839615973.py, line 4)",
     "output_type": "error",
     "traceback": [
      "\u001b[1;36m  File \u001b[1;32m\"C:\\Users\\dla06\\AppData\\Local\\Temp/ipykernel_2684/839615973.py\"\u001b[1;36m, line \u001b[1;32m4\u001b[0m\n\u001b[1;33m    except:\u001b[0m\n\u001b[1;37m    ^\u001b[0m\n\u001b[1;31mIndentationError\u001b[0m\u001b[1;31m:\u001b[0m expected an indented block\n"
     ]
    }
   ],
   "source": [
    "try:\n",
    "#예외가 발생할 가능성이 있는 코드\n",
    "    \n",
    "except:\n",
    "#예외 발생했을 때 실행할 코드\n",
    "\n",
    "else:\n",
    "#예외가 발생하지 않앗을 때 실행할 코드\n",
    "\n",
    "finally:\n",
    "#항상 실행 시킬 코드\n",
    "\n",
    "#사용되는 예\n",
    "#try + except\n",
    "#try + except + else\n",
    "#try + except + finally\n",
    "#try + except + else + finally\n",
    "#try + finally"
   ]
  },
  {
   "cell_type": "code",
   "execution_count": 43,
   "id": "f85eb173",
   "metadata": {},
   "outputs": [
    {
     "name": "stdout",
     "output_type": "stream",
     "text": [
      "정수를 입력하세요 >> 453\n",
      "입력한 정수는 453 입니다.\n",
      "프로그램이 완전히 종료되었습니다.\n"
     ]
    }
   ],
   "source": [
    "try:\n",
    "    num = int(input('정수를 입력하세요 >> '))\n",
    "except:\n",
    "    print('정수를 입력하지 않았습니다.')\n",
    "else:\n",
    "    print('입력한 정수는', num, '입니다.')\n",
    "finally:\n",
    "    print('프로그램이 완전히 종료되었습니다.')"
   ]
  },
  {
   "cell_type": "code",
   "execution_count": 47,
   "id": "9a46b77c",
   "metadata": {},
   "outputs": [
    {
     "ename": "MyError",
     "evalue": "",
     "output_type": "error",
     "traceback": [
      "\u001b[1;31m---------------------------------------------------------------------------\u001b[0m",
      "\u001b[1;31mMyError\u001b[0m                                   Traceback (most recent call last)",
      "\u001b[1;32m~\\AppData\\Local\\Temp/ipykernel_2684/1003897167.py\u001b[0m in \u001b[0;36m<module>\u001b[1;34m\u001b[0m\n\u001b[0;32m      8\u001b[0m     \u001b[0mprint\u001b[0m\u001b[1;33m(\u001b[0m\u001b[0mnick\u001b[0m\u001b[1;33m)\u001b[0m\u001b[1;33m\u001b[0m\u001b[1;33m\u001b[0m\u001b[0m\n\u001b[0;32m      9\u001b[0m \u001b[1;33m\u001b[0m\u001b[0m\n\u001b[1;32m---> 10\u001b[1;33m \u001b[0msay_nick\u001b[0m\u001b[1;33m(\u001b[0m\u001b[1;34m'바보'\u001b[0m\u001b[1;33m)\u001b[0m\u001b[1;33m\u001b[0m\u001b[1;33m\u001b[0m\u001b[0m\n\u001b[0m\u001b[0;32m     11\u001b[0m \u001b[1;33m\u001b[0m\u001b[0m\n\u001b[0;32m     12\u001b[0m \u001b[1;33m\u001b[0m\u001b[0m\n",
      "\u001b[1;32m~\\AppData\\Local\\Temp/ipykernel_2684/1003897167.py\u001b[0m in \u001b[0;36msay_nick\u001b[1;34m(nick)\u001b[0m\n\u001b[0;32m      5\u001b[0m \u001b[1;32mdef\u001b[0m \u001b[0msay_nick\u001b[0m\u001b[1;33m(\u001b[0m\u001b[0mnick\u001b[0m\u001b[1;33m)\u001b[0m\u001b[1;33m:\u001b[0m\u001b[1;33m\u001b[0m\u001b[1;33m\u001b[0m\u001b[0m\n\u001b[0;32m      6\u001b[0m     \u001b[1;32mif\u001b[0m \u001b[0mnick\u001b[0m \u001b[1;33m==\u001b[0m \u001b[1;34m'바보'\u001b[0m\u001b[1;33m:\u001b[0m\u001b[1;33m\u001b[0m\u001b[1;33m\u001b[0m\u001b[0m\n\u001b[1;32m----> 7\u001b[1;33m         \u001b[1;32mraise\u001b[0m \u001b[0mMyError\u001b[0m\u001b[1;33m(\u001b[0m\u001b[1;33m)\u001b[0m\u001b[1;33m\u001b[0m\u001b[1;33m\u001b[0m\u001b[0m\n\u001b[0m\u001b[0;32m      8\u001b[0m     \u001b[0mprint\u001b[0m\u001b[1;33m(\u001b[0m\u001b[0mnick\u001b[0m\u001b[1;33m)\u001b[0m\u001b[1;33m\u001b[0m\u001b[1;33m\u001b[0m\u001b[0m\n\u001b[0;32m      9\u001b[0m \u001b[1;33m\u001b[0m\u001b[0m\n",
      "\u001b[1;31mMyError\u001b[0m: "
     ]
    }
   ],
   "source": [
    "#예외 만들기\n",
    "class MyError(Exception):#상속\n",
    "    pass\n",
    "\n",
    "def say_nick(nick):\n",
    "    if nick == '바보':\n",
    "        raise MyError()\n",
    "    print(nick)\n",
    "    \n",
    "say_nick('바보')\n",
    "\n",
    "\n"
   ]
  }
 ],
 "metadata": {
  "kernelspec": {
   "display_name": "Python 3 (ipykernel)",
   "language": "python",
   "name": "python3"
  },
  "language_info": {
   "codemirror_mode": {
    "name": "ipython",
    "version": 3
   },
   "file_extension": ".py",
   "mimetype": "text/x-python",
   "name": "python",
   "nbconvert_exporter": "python",
   "pygments_lexer": "ipython3",
   "version": "3.9.7"
  }
 },
 "nbformat": 4,
 "nbformat_minor": 5
}
