{
 "cells": [
  {
   "cell_type": "code",
   "execution_count": 2,
   "id": "b82af4a1",
   "metadata": {},
   "outputs": [],
   "source": [
    "from selenium import webdriver #파이썬으로 브라우저 컨트롤 모듈\n",
    "from bs4 import BeautifulSoup as bs #크롤링한 데이터 정제\n",
    "import pandas as pd #데이터 분석 모듈"
   ]
  },
  {
   "cell_type": "code",
   "execution_count": 26,
   "id": "1f908601",
   "metadata": {},
   "outputs": [
    {
     "name": "stderr",
     "output_type": "stream",
     "text": [
      "C:\\Users\\dla06\\AppData\\Local\\Temp/ipykernel_20192/2198966681.py:1: DeprecationWarning: executable_path has been deprecated, please pass in a Service object\n",
      "  driver = webdriver.Chrome('chromedriver.exe')\n"
     ]
    }
   ],
   "source": [
    "driver = webdriver.Chrome('chromedriver.exe')\n",
    "driver.get('https://www.starbucks.co.kr/store/store_map.do')"
   ]
  },
  {
   "cell_type": "code",
   "execution_count": 27,
   "id": "3a4a2d9f",
   "metadata": {},
   "outputs": [
    {
     "name": "stderr",
     "output_type": "stream",
     "text": [
      "C:\\Users\\dla06\\AppData\\Local\\Temp/ipykernel_20192/2162603177.py:2: DeprecationWarning: find_element_by_* commands are deprecated. Please use find_element() instead\n",
      "  driver.find_element_by_css_selector(area_btn).click()\n"
     ]
    }
   ],
   "source": [
    "area_btn = '#container > div > form > fieldset > div > section > article.find_store_cont > article > header.loca_search > h3 > a'\n",
    "driver.find_element_by_css_selector(area_btn).click()"
   ]
  },
  {
   "cell_type": "code",
   "execution_count": 28,
   "id": "d7202032",
   "metadata": {},
   "outputs": [
    {
     "name": "stderr",
     "output_type": "stream",
     "text": [
      "C:\\Users\\dla06\\AppData\\Local\\Temp/ipykernel_20192/2589158098.py:2: DeprecationWarning: find_element_by_* commands are deprecated. Please use find_element() instead\n",
      "  driver.find_element_by_css_selector(seoul_btn).click()\n"
     ]
    }
   ],
   "source": [
    "seoul_btn ='#container > div > form > fieldset > div > section > article.find_store_cont > article > article:nth-child(4) > div.loca_step1 > div.loca_step1_cont > ul > li:nth-child(1) > a'\n",
    "driver.find_element_by_css_selector(seoul_btn).click()"
   ]
  },
  {
   "cell_type": "code",
   "execution_count": 29,
   "id": "45766ad1",
   "metadata": {},
   "outputs": [
    {
     "name": "stderr",
     "output_type": "stream",
     "text": [
      "C:\\Users\\dla06\\AppData\\Local\\Temp/ipykernel_20192/2684697461.py:2: DeprecationWarning: find_element_by_* commands are deprecated. Please use find_element() instead\n",
      "  driver.find_element_by_css_selector(all_btn).click()\n"
     ]
    }
   ],
   "source": [
    "all_btn = '#mCSB_2_container > ul > li:nth-child(1) > a'\n",
    "driver.find_element_by_css_selector(all_btn).click()"
   ]
  },
  {
   "cell_type": "code",
   "execution_count": 42,
   "id": "75f733ce",
   "metadata": {},
   "outputs": [
    {
     "data": {
      "text/plain": [
       "569"
      ]
     },
     "execution_count": 42,
     "metadata": {},
     "output_type": "execute_result"
    }
   ],
   "source": [
    "html = driver.page_source #전체 페이지 소스 읽어오기\n",
    "soup = bs(html)      # bs로 데이터 정제\n",
    "\n",
    "starbucks_list = soup.select('#mCSB_3_container > ul > li')\n",
    "# starbucks_list[568]\n",
    "len(starbucks_list)"
   ]
  },
  {
   "cell_type": "code",
   "execution_count": 146,
   "id": "67f73236",
   "metadata": {},
   "outputs": [
    {
     "data": {
      "text/plain": [
       "<li class=\"quickResultLstCon\" data-code=\"3893\" data-hlytag=\"null\" data-index=\"6\" data-lat=\"37.5227934\" data-long=\"127.0286009\" data-name=\"압구정윤성빌딩\" data-storecd=\"1650\" style=\"background:#fff\"> <strong data-my_siren_order_store_yn=\"N\" data-name=\"압구정윤성빌딩\" data-store=\"1650\" data-yn=\"N\">압구정윤성빌딩  </strong> <p class=\"result_details\">서울특별시 강남구 논현로 834 (신사동)<br/>1522-3232</p> <i class=\"pin_general\">리저브 매장 2번</i></li>"
      ]
     },
     "execution_count": 146,
     "metadata": {},
     "output_type": "execute_result"
    }
   ],
   "source": [
    "star = starbucks_list[6]\n",
    "star"
   ]
  },
  {
   "cell_type": "code",
   "execution_count": 167,
   "id": "c2f13f40",
   "metadata": {},
   "outputs": [
    {
     "name": "stdout",
     "output_type": "stream",
     "text": [
      "서울특별시 강남구 논현로 834 \n",
      "1522-3232\n"
     ]
    }
   ],
   "source": [
    "# name = star['data-name']\n",
    "name = star.select('strong')[0].text.strip()\n",
    "lat = star['data-lat']\n",
    "long = star['data-long']\n",
    "\n",
    "addr = star.select('p')[0].text.split('(')[0]\n",
    "print(addr)\n",
    "tel = star.select('p')[0].text.split(')')[1]\n",
    "print(tel)"
   ]
  },
  {
   "cell_type": "code",
   "execution_count": 181,
   "id": "b52326d4",
   "metadata": {},
   "outputs": [
    {
     "name": "stdout",
     "output_type": "stream",
     "text": [
      "<p class=\"result_details\">서울특별시 강남구 논현로 834 (신사동)<br/>1522-3232</p>\n"
     ]
    },
    {
     "data": {
      "text/plain": [
       "'1522-3232'"
      ]
     },
     "execution_count": 181,
     "metadata": {},
     "output_type": "execute_result"
    }
   ],
   "source": [
    "addr = star.select('p')[0]\n",
    "print(addr)\n",
    "str(star.select('p')[0]).split('<br/>')[0].split('>')[1]\n",
    "str(star.select('p')[0]).split('<br/>')[1].split('<')[0]"
   ]
  },
  {
   "cell_type": "code",
   "execution_count": 187,
   "id": "387354d8",
   "metadata": {},
   "outputs": [],
   "source": [
    "starbucks = []\n",
    "for star in starbucks_list:\n",
    "    name = star.select('strong')[0].text.strip()\n",
    "    lat = star['data-lat']\n",
    "    lng = star['data-long']\n",
    "    str(star.select('p')[0]).split('<br/>')[0].split('>')[1]\n",
    "    str(star.select('p')[0]).split('<br/>')[1].split('<')[0]\n",
    "    \n",
    "    starbucks.append([name, lat, lng, addr, tel])\n",
    "    \n",
    "df = pd.DataFrame(starbucks, columns = ['매장명', '위도', '경도', '주소', '전화번호'])\n",
    "df\n",
    "\n",
    "df.to_excel('starbucks.xlsx', index = False)"
   ]
  },
  {
   "cell_type": "code",
   "execution_count": null,
   "id": "7e80d110",
   "metadata": {},
   "outputs": [],
   "source": []
  }
 ],
 "metadata": {
  "kernelspec": {
   "display_name": "Python 3 (ipykernel)",
   "language": "python",
   "name": "python3"
  },
  "language_info": {
   "codemirror_mode": {
    "name": "ipython",
    "version": 3
   },
   "file_extension": ".py",
   "mimetype": "text/x-python",
   "name": "python",
   "nbconvert_exporter": "python",
   "pygments_lexer": "ipython3",
   "version": "3.9.7"
  }
 },
 "nbformat": 4,
 "nbformat_minor": 5
}
