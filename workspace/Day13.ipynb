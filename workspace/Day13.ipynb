{
 "cells": [
  {
   "cell_type": "code",
   "execution_count": 3,
   "id": "5d88791f",
   "metadata": {},
   "outputs": [
    {
     "name": "stdout",
     "output_type": "stream",
     "text": [
      "Enter a nuber : 1\n",
      "Enter a nuber : 2\n",
      "Enter a nuber : 3\n",
      "Enter a nuber : 4\n",
      "Enter a nuber : 5\n",
      "Enter a nuber : 6\n",
      "The last number you entered was a 6\n"
     ]
    }
   ],
   "source": [
    "num = 0\n",
    "\n",
    "while num <= 5:\n",
    "    num = int(input('Enter a nuber : '))\n",
    "print(f'The last number you entered was a {num}')"
   ]
  },
  {
   "cell_type": "code",
   "execution_count": 11,
   "id": "eaae2bcf",
   "metadata": {},
   "outputs": [
    {
     "name": "stdout",
     "output_type": "stream",
     "text": [
      "Enter a number : 1\n",
      "Enter a number : 2\n",
      "Do you want to add another number? (y/n) : n\n",
      "The total is 3\n"
     ]
    }
   ],
   "source": [
    "total = int(input('Enter a number : '))\n",
    "\n",
    "ans = 'y'\n",
    "while ans == 'y':\n",
    "    num = int(input('Enter a number : '))\n",
    "    total += num\n",
    "    ans = input('Do you want to add another number? (y/n) : ')\n",
    "print(f'The total is {total}')"
   ]
  },
  {
   "cell_type": "code",
   "execution_count": 13,
   "id": "5220b3df",
   "metadata": {},
   "outputs": [
    {
     "name": "stdout",
     "output_type": "stream",
     "text": [
      "invite : a\n",
      "a has now been invited\n",
      "Do you want to invite another people? (y/n)y\n",
      "invite : b\n",
      "b has now been invited\n",
      "Do you want to invite another people? (y/n)y\n",
      "invite : c\n",
      "c has now been invited\n",
      "Do you want to invite another people? (y/n)n\n",
      "3 people invited\n"
     ]
    }
   ],
   "source": [
    "cnt = 0\n",
    "ans = 'y'\n",
    "while ans == 'y':\n",
    "    name = input('Enter a name of somebody you want to invite to the party? : ')\n",
    "    print(f'{name} has been invited')\n",
    "    cnt += 1\n",
    "    ans = input('Do you want to invite somebody else? (y/n)')\n",
    "\n",
    "print(f'{cnt} people invited')"
   ]
  },
  {
   "cell_type": "code",
   "execution_count": 30,
   "id": "eeecf6d8",
   "metadata": {},
   "outputs": [
    {
     "name": "stdout",
     "output_type": "stream",
     "text": [
      "78\n",
      "Enter a number  : 78\n",
      "Well done, you took 1 apptmpts\n"
     ]
    }
   ],
   "source": [
    "import random\n",
    "compnum = random.randint(1,100)\n",
    "\n",
    "num = 0\n",
    "cnt = 0\n",
    "while num != compnum:\n",
    "    num = int(input('Enter a number  : '))\n",
    "    cnt += 1\n",
    "    if num > compnum:\n",
    "        print('down')\n",
    "    elif num < compnum:\n",
    "        print('up')\n",
    "        \n",
    "print(f'Well done, you took {cnt} apptmpts')"
   ]
  },
  {
   "cell_type": "code",
   "execution_count": 32,
   "id": "e2c69f3f",
   "metadata": {},
   "outputs": [
    {
     "name": "stdout",
     "output_type": "stream",
     "text": [
      "There are 10 green bottles hanging on the wall.\n",
      "10 green bottles hanging on the wall,\n",
      "and if 1 green bottle should accidentally fall\n",
      "\n",
      "How many green bottles will be hanging on the wall?9\n",
      "\n",
      "There will be9 green bottles hanging on the wall\n",
      "\n",
      "There are 9 green bottles hanging on the wall.\n",
      "9 green bottles hanging on the wall,\n",
      "and if 1 green bottle should accidentally fall\n",
      "\n",
      "How many green bottles will be hanging on the wall?8\n",
      "\n",
      "There will be8 green bottles hanging on the wall\n",
      "\n",
      "There are 8 green bottles hanging on the wall.\n",
      "8 green bottles hanging on the wall,\n",
      "and if 1 green bottle should accidentally fall\n",
      "\n",
      "How many green bottles will be hanging on the wall?8\n",
      "No, try again : 8\n",
      "No, try again : 8\n",
      "No, try again : 8\n",
      "No, try again : 8\n",
      "No, try again : 8\n",
      "No, try again : 8\n",
      "No, try again : 7\n",
      "There are 7 green bottles hanging on the wall.\n",
      "7 green bottles hanging on the wall,\n",
      "and if 1 green bottle should accidentally fall\n",
      "\n",
      "How many green bottles will be hanging on the wall?60\n",
      "No, try again : 6\n",
      "There are 6 green bottles hanging on the wall.\n",
      "6 green bottles hanging on the wall,\n",
      "and if 1 green bottle should accidentally fall\n",
      "\n",
      "How many green bottles will be hanging on the wall?5\n",
      "\n",
      "There will be5 green bottles hanging on the wall\n",
      "\n",
      "There are 5 green bottles hanging on the wall.\n",
      "5 green bottles hanging on the wall,\n",
      "and if 1 green bottle should accidentally fall\n",
      "\n",
      "How many green bottles will be hanging on the wall?4\n",
      "\n",
      "There will be4 green bottles hanging on the wall\n",
      "\n",
      "There are 4 green bottles hanging on the wall.\n",
      "4 green bottles hanging on the wall,\n",
      "and if 1 green bottle should accidentally fall\n",
      "\n",
      "How many green bottles will be hanging on the wall?3\n",
      "\n",
      "There will be3 green bottles hanging on the wall\n",
      "\n",
      "There are 3 green bottles hanging on the wall.\n",
      "3 green bottles hanging on the wall,\n",
      "and if 1 green bottle should accidentally fall\n",
      "\n",
      "How many green bottles will be hanging on the wall?2\n",
      "\n",
      "There will be2 green bottles hanging on the wall\n",
      "\n",
      "There are 2 green bottles hanging on the wall.\n",
      "2 green bottles hanging on the wall,\n",
      "and if 1 green bottle should accidentally fall\n",
      "\n",
      "How many green bottles will be hanging on the wall?1\n",
      "\n",
      "There will be1 green bottles hanging on the wall\n",
      "\n",
      "There are 1 green bottles hanging on the wall.\n",
      "1 green bottles hanging on the wall,\n",
      "and if 1 green bottle should accidentally fall\n",
      "\n",
      "How many green bottles will be hanging on the wall?0\n",
      "\n",
      "There will be0 green bottles hanging on the wall\n",
      "\n",
      "There are no more green bottles hanging on the wall\n"
     ]
    }
   ],
   "source": [
    "num = 10\n",
    "\n",
    "\n",
    "while num > 0:\n",
    "    print(f'There are {num} green bottles hanging on the wall.')\n",
    "    print(num, 'green bottles hanging on the wall,')\n",
    "    print('and if 1 green bottle should accidentally fall')\n",
    "    num -= 1\n",
    "    ans = int(input('\\nHow many green bottles will be hanging on the wall?'))\n",
    "    if ans == num:\n",
    "        print(f'\\nThere will be{num} green bottles hanging on the wall\\n')\n",
    "    else:\n",
    "        while ans != num:\n",
    "            ans = int(input('No, try again : '))\n",
    "\n",
    "print('There are no more green bottles hanging on the wall')"
   ]
  },
  {
   "cell_type": "code",
   "execution_count": 33,
   "id": "b1ec3e19",
   "metadata": {},
   "outputs": [],
   "source": [
    "# Random : Python can generate random values\n",
    "\n",
    "# - Random numbers within a specified range.\n",
    "# - A random choice from a range of items tha are input\n",
    "\n",
    "# To use these two options, you will need to import the random module.\n",
    "# You do this by typing import random at the start of your program\n"
   ]
  },
  {
   "cell_type": "code",
   "execution_count": 34,
   "id": "d6a611da",
   "metadata": {},
   "outputs": [
    {
     "name": "stdout",
     "output_type": "stream",
     "text": [
      "0.3339764954457327\n"
     ]
    }
   ],
   "source": [
    "import random\n",
    "num = random.random()\n",
    "print(num)\n",
    "\n",
    "# random floating number between 0 and 1"
   ]
  },
  {
   "cell_type": "code",
   "execution_count": 35,
   "id": "400ce176",
   "metadata": {},
   "outputs": [
    {
     "name": "stdout",
     "output_type": "stream",
     "text": [
      "2\n"
     ]
    }
   ],
   "source": [
    "num = int((random.random()) * 10)\n",
    "print(num)"
   ]
  },
  {
   "cell_type": "code",
   "execution_count": 36,
   "id": "4f9530df",
   "metadata": {},
   "outputs": [
    {
     "name": "stdout",
     "output_type": "stream",
     "text": [
      "9\n"
     ]
    }
   ],
   "source": [
    "# Selects a random whole number between 0 and 9(inclusive)\n",
    "\n",
    "num = random.randint(0,9) #9(inclusive)\n",
    "print(num)"
   ]
  },
  {
   "cell_type": "code",
   "execution_count": 363,
   "id": "50c7dd5f",
   "metadata": {},
   "outputs": [
    {
     "name": "stdout",
     "output_type": "stream",
     "text": [
      "5\n"
     ]
    }
   ],
   "source": [
    "# Picks a random number between the numbers 0 and 100(inclusive) in  steps of five\n",
    "# it will only pick from 0,5,10,15,20....\n",
    "num = random.randrange(0,100,5)\n",
    "print(num)"
   ]
  },
  {
   "cell_type": "code",
   "execution_count": 364,
   "id": "c9399f3f",
   "metadata": {},
   "outputs": [
    {
     "name": "stdout",
     "output_type": "stream",
     "text": [
      "red\n"
     ]
    }
   ],
   "source": [
    "# Picks a random value from the options...\n",
    "\n",
    "color = random.choice(['red', 'black', 'blue', 'green', 'white'])\n",
    "print(color)\n"
   ]
  },
  {
   "cell_type": "code",
   "execution_count": 371,
   "id": "d0198e9e",
   "metadata": {},
   "outputs": [
    {
     "name": "stdout",
     "output_type": "stream",
     "text": [
      "choice (h/t) : h\n",
      "You Win\n",
      "h\n"
     ]
    }
   ],
   "source": [
    "import random\n",
    "\n",
    "coin = random.choice(['h', 't'])\n",
    "ans = input('choice (h/t) : ')\n",
    "\n",
    "if coin == ans:\n",
    "    print('You Win')\n",
    "else :\n",
    "    print('Bad luck')\n",
    "\n",
    "print(coin)"
   ]
  },
  {
   "cell_type": "code",
   "execution_count": 373,
   "id": "1df353f4",
   "metadata": {},
   "outputs": [
    {
     "name": "stdout",
     "output_type": "stream",
     "text": [
      "1 + 6 = 7\n",
      "3 + 3 = 6\n",
      "9 + 5 = 14\n",
      "9 + 7 = 1\n",
      "5 + 2 = 2\n",
      "3\n"
     ]
    }
   ],
   "source": [
    "import random\n",
    "\n",
    "score = 0\n",
    "\n",
    "for i in range(5):\n",
    "    num1 = random.randint(1,9)\n",
    "    num2 = random.randint(1,9)\n",
    "    corr = num1 + num2\n",
    "    ans = int(input(f'{num1} + {num2} = '))\n",
    "    \n",
    "    if corr == ans:\n",
    "        score += 1\n",
    "print(f'You scored {score} out of 5')\n",
    "\n",
    "    "
   ]
  },
  {
   "cell_type": "code",
   "execution_count": 401,
   "id": "2fdca201",
   "metadata": {},
   "outputs": [
    {
     "name": "stdout",
     "output_type": "stream",
     "text": [
      "red / blue / yellow / green / black / \n",
      "choice color : blz\n",
      "dark\n",
      "choice color : black\n",
      "Well done\n"
     ]
    }
   ],
   "source": [
    "import random\n",
    "\n",
    "hint = {'red':'glow', \n",
    "        'blue':'smurf', \n",
    "        'yellow':'chick', \n",
    "        'green':'tree', \n",
    "        'black':'dark'}\n",
    "color = random.choice(list(hint.keys()))\n",
    "\n",
    "for i in list(hint.keys()):\n",
    "    print(i, end=' / ')\n",
    "print()\n",
    "while True:\n",
    "    ans = input('choice color : ')\n",
    "    if color == ans:\n",
    "        print('Well done')\n",
    "        break\n",
    "    else:\n",
    "        print(hint[color])"
   ]
  }
 ],
 "metadata": {
  "kernelspec": {
   "display_name": "Python 3 (ipykernel)",
   "language": "python",
   "name": "python3"
  },
  "language_info": {
   "codemirror_mode": {
    "name": "ipython",
    "version": 3
   },
   "file_extension": ".py",
   "mimetype": "text/x-python",
   "name": "python",
   "nbconvert_exporter": "python",
   "pygments_lexer": "ipython3",
   "version": "3.9.7"
  }
 },
 "nbformat": 4,
 "nbformat_minor": 5
}
