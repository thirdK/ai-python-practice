{
 "cells": [
  {
   "cell_type": "code",
   "execution_count": 3,
   "id": "895a0a93",
   "metadata": {},
   "outputs": [
    {
     "name": "stdout",
     "output_type": "stream",
     "text": [
      "First Name:qkdi\n",
      "Hello qkdi\n"
     ]
    }
   ],
   "source": [
    "# 001\n",
    "fname = input('First Name:')\n",
    "print(f'Hello {fname}')"
   ]
  },
  {
   "cell_type": "code",
   "execution_count": 4,
   "id": "ae1ab999",
   "metadata": {},
   "outputs": [
    {
     "name": "stdout",
     "output_type": "stream",
     "text": [
      "First Name :IM\n",
      "Surname :TAJONG\n",
      "Hello IM TAJONG\n"
     ]
    }
   ],
   "source": [
    "# 002\n",
    "fname = input('First Name :')\n",
    "sname = input('Surname :')\n",
    "print(f'Hello {fname} {sname}')"
   ]
  },
  {
   "cell_type": "code",
   "execution_count": 8,
   "id": "4d60fc68",
   "metadata": {},
   "outputs": [
    {
     "name": "stdout",
     "output_type": "stream",
     "text": [
      "정수1 >>4\n",
      "정수2 >>2\n",
      "The total is 6\n"
     ]
    }
   ],
   "source": [
    "num1 = int(input('Please enter your first number >>'))\n",
    "num2 = int(input('Please enter your second number >>'))\n",
    "\n",
    "print(f'The total is {num1+num2}')"
   ]
  },
  {
   "cell_type": "code",
   "execution_count": 11,
   "id": "2d1b8aa2",
   "metadata": {},
   "outputs": [
    {
     "name": "stdout",
     "output_type": "stream",
     "text": [
      "Enter the number of slices of pizza you started whith >>8\n",
      "How many slices have you eaten?4\n",
      "The answer if 4\n"
     ]
    }
   ],
   "source": [
    "num1 = int(input('Enter the number of slices of pizza you started whith >> '))\n",
    "num2 = int(input('How many slices have you eaten? '))\n",
    "print(f'The answer if {num1-num2}')"
   ]
  },
  {
   "cell_type": "code",
   "execution_count": 17,
   "id": "dbb33270",
   "metadata": {},
   "outputs": [
    {
     "name": "stdout",
     "output_type": "stream",
     "text": [
      "Enter the number of days >> 1\n",
      "In 1 days there are...\n",
      "24 hours,\n",
      "1440 minutes,\n",
      "86400 seconds\n"
     ]
    }
   ],
   "source": [
    "day = int(input('Enter the number of days >> '))\n",
    "print(f'In {day} days there are...\\n{day*24} hours,\\n{day*24*60} minutes,\\n{day*24*60*60} seconds')"
   ]
  },
  {
   "cell_type": "code",
   "execution_count": 20,
   "id": "62d81243",
   "metadata": {},
   "outputs": [
    {
     "name": "stdout",
     "output_type": "stream",
     "text": [
      "enter the number over 100 : 150\n",
      "Enter the number under 10 : 4\n",
      "150 goes into 4 answer 37\n"
     ]
    }
   ],
   "source": [
    "num1 = int(input('enter the number over 100 : '))\n",
    "num2 = int(input('Enter the number under 10 : '))\n",
    "\n",
    "print(f'{num1} goes into {num2} answer {num1//num2}')"
   ]
  },
  {
   "cell_type": "code",
   "execution_count": 23,
   "id": "0e68f3f3",
   "metadata": {},
   "outputs": [
    {
     "name": "stdout",
     "output_type": "stream",
     "text": [
      "Enter first number : 87\n",
      "Enter second number : 45\n",
      "45 87\n"
     ]
    }
   ],
   "source": [
    "num1 = int(input('Enter first number : '))\n",
    "num2 = int(input('Enter second number : '))\n",
    "if num1 > num2:\n",
    "    print(num2, num1)\n",
    "else:\n",
    "    print(num1, num2)\n"
   ]
  },
  {
   "cell_type": "code",
   "execution_count": 32,
   "id": "aa0c5eb7",
   "metadata": {},
   "outputs": [
    {
     "name": "stdout",
     "output_type": "stream",
     "text": [
      "231\n",
      "incorrect number\n"
     ]
    }
   ],
   "source": [
    "num1 = int(input('Enter a number between 10 and 20'))\n",
    "\n",
    "if num1>=10 and num1<=20:\n",
    "    print('Thank you')\n",
    "else:\n",
    "    print('incorrect number')"
   ]
  },
  {
   "cell_type": "code",
   "execution_count": 39,
   "id": "41b0ac73",
   "metadata": {},
   "outputs": [
    {
     "name": "stdout",
     "output_type": "stream",
     "text": [
      "favorite color : qw\n",
      "I don't like qw, iprefer red\n"
     ]
    }
   ],
   "source": [
    "color = input('favorite color : ')\n",
    "\n",
    "if color in ['red','RED','Red']:\n",
    "    print('I like red too')\n",
    "else:\n",
    "    print(f\"I don't like {color}, iprefer red\")"
   ]
  },
  {
   "cell_type": "code",
   "execution_count": 54,
   "id": "c52eff3e",
   "metadata": {},
   "outputs": [
    {
     "name": "stdout",
     "output_type": "stream",
     "text": [
      "Is it raining ? no\n",
      "Enjoy your day\n",
      "tesd\n"
     ]
    }
   ],
   "source": [
    "st1 = input('Is it raining ? ')\n",
    "if st1.lower() == 'yes':\n",
    "    st2 = input('Is it windy ? ')\n",
    "    if st2.lower() == 'yes':\n",
    "        print('It is too windy for an umbrella')\n",
    "    else:\n",
    "        print('Take an umbrella')\n",
    "else:\n",
    "    print('Enjoy your day')\n"
   ]
  },
  {
   "cell_type": "code",
   "execution_count": 58,
   "id": "f41c378b",
   "metadata": {},
   "outputs": [
    {
     "name": "stdout",
     "output_type": "stream",
     "text": [
      "tesd\n"
     ]
    }
   ],
   "source": [
    "test = 'TEsd'\n",
    "test = str.lower(test)\n",
    "# test = test.lower()\n",
    "print(test)"
   ]
  },
  {
   "cell_type": "code",
   "execution_count": 66,
   "id": "6316f13b",
   "metadata": {},
   "outputs": [
    {
     "name": "stdout",
     "output_type": "stream",
     "text": [
      "age >> 2\n",
      "You can go Trick or Treating\n"
     ]
    }
   ],
   "source": [
    "age = int(input('What is your age? '))\n",
    "\n",
    "if age >= 18:\n",
    "    print('You can vote')\n",
    "elif age == 17:\n",
    "    print('You can learn to drive')\n",
    "elif age == 16:\n",
    "    print('You can by a lottery ticket')\n",
    "else:\n",
    "    print('You can go Trick or Treating')"
   ]
  },
  {
   "cell_type": "code",
   "execution_count": 70,
   "id": "7c768d22",
   "metadata": {},
   "outputs": [
    {
     "name": "stdout",
     "output_type": "stream",
     "text": [
      "What your name? >> 124wqr\n",
      "6\n"
     ]
    }
   ],
   "source": [
    "name = input('What your name? >> ')\n",
    "print(f'{len(name)}')"
   ]
  },
  {
   "cell_type": "code",
   "execution_count": 71,
   "id": "889b1941",
   "metadata": {},
   "outputs": [
    {
     "name": "stdout",
     "output_type": "stream",
     "text": [
      "first name :im\n",
      "lastname : taejon\n",
      "Im Taejon\n"
     ]
    }
   ],
   "source": [
    "name1 = input('first name :')\n",
    "name2 = input('lastname : ')\n",
    "\n",
    "name1 = name1.title()\n",
    "name2 = name2.title()\n",
    "\n",
    "print(f'{name1} {name2}')"
   ]
  },
  {
   "cell_type": "code",
   "execution_count": 76,
   "id": "252a785d",
   "metadata": {},
   "outputs": [
    {
     "name": "stdout",
     "output_type": "stream",
     "text": [
      "first name >> wqe\n",
      "last name >> IetqwO\n",
      "WQEIETQWO\n"
     ]
    }
   ],
   "source": [
    "fname = input('first name >> ')\n",
    "\n",
    "if len(fname) < 5:\n",
    "    lname = input('last name >> ')\n",
    "    result = fname.upper() + lname.upper()\n",
    "    print(result)\n",
    "else:\n",
    "    print(fname.lower())"
   ]
  },
  {
   "cell_type": "code",
   "execution_count": 91,
   "id": "39938afe",
   "metadata": {},
   "outputs": [
    {
     "name": "stdout",
     "output_type": "stream",
     "text": [
      "Please enter a word >> pig\n",
      "igpay\n",
      "ig\n"
     ]
    }
   ],
   "source": [
    "word = input('Please enter a word >> ')\n",
    "\n",
    "first = word[0]\n",
    "length = len(word)\n",
    "rest = word[1:length]\n",
    "\n",
    "if first in ['a','e','i','o','u']:\n",
    "    newword = word + 'way'\n",
    "else:\n",
    "    newword = rest + first + 'ay'\n",
    "    \n",
    "\n",
    "print(newword.lower())\n",
    "print(word[1:length])"
   ]
  },
  {
   "cell_type": "code",
   "execution_count": 9,
   "id": "0d8c5c09",
   "metadata": {},
   "outputs": [
    {
     "data": {
      "text/plain": [
       "[0, 1, 4, 9, 16]"
      ]
     },
     "execution_count": 9,
     "metadata": {},
     "output_type": "execute_result"
    }
   ],
   "source": [
    "list(map(lambda x: x ** 2, range(5)))"
   ]
  }
 ],
 "metadata": {
  "kernelspec": {
   "display_name": "Python 3 (ipykernel)",
   "language": "python",
   "name": "python3"
  },
  "language_info": {
   "codemirror_mode": {
    "name": "ipython",
    "version": 3
   },
   "file_extension": ".py",
   "mimetype": "text/x-python",
   "name": "python",
   "nbconvert_exporter": "python",
   "pygments_lexer": "ipython3",
   "version": "3.9.7"
  }
 },
 "nbformat": 4,
 "nbformat_minor": 5
}
