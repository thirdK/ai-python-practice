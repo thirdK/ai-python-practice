{
  "nbformat": 4,
  "nbformat_minor": 0,
  "metadata": {
    "colab": {
      "name": "Untitled0.ipynb",
      "provenance": [],
      "collapsed_sections": [],
      "toc_visible": true,
      "authorship_tag": "ABX9TyMpAUi/t5IizvRsuqU1Tszl",
      "include_colab_link": true
    },
    "kernelspec": {
      "name": "python3",
      "display_name": "Python 3"
    },
    "language_info": {
      "name": "python"
    }
  },
  "cells": [
    {
      "cell_type": "markdown",
      "metadata": {
        "id": "view-in-github",
        "colab_type": "text"
      },
      "source": [
        "<a href=\"https://colab.research.google.com/github/thirdK/ai/blob/main/Day01.ipynb\" target=\"_parent\"><img src=\"https://colab.research.google.com/assets/colab-badge.svg\" alt=\"Open In Colab\"/></a>"
      ]
    },
    {
      "cell_type": "code",
      "execution_count": null,
      "metadata": {
        "id": "Va3-jTqUwy14"
      },
      "outputs": [],
      "source": [
        "''' \n",
        "작성자 : 홍길동\n",
        "작성일 : 2022-01-25\n",
        "버전 : 0.1\n",
        "'''\n",
        "# 보통 삼중 따옴표 주석은 여러줄을 \n",
        "# 주석으로 사용할 때 사용한다.\n",
        "\n",
        "# 주석 붙이는 위치\n",
        "print('Hello World') #보통 행의 우측 또는 위에 주석을 붙인다."
      ]
    },
    {
      "cell_type": "code",
      "source": [
        "score = 100\n",
        "print(score)\n",
        "\n",
        "score = 300\n",
        "print(score)"
      ],
      "metadata": {
        "id": "mZ9Kl2nS_VgS"
      },
      "execution_count": null,
      "outputs": []
    },
    {
      "cell_type": "code",
      "source": [
        "a = 20\n",
        "b = 1500\n",
        "\n",
        "student_avg = 20\n"
      ],
      "metadata": {
        "id": "cgrA6kbuCX0M"
      },
      "execution_count": null,
      "outputs": []
    },
    {
      "cell_type": "code",
      "source": [
        "name = 'Alice'\n",
        "age = 25\n",
        "address = '우편번호 12345 서울시 영등포구 여의도동 서울빌딩 501호'\n",
        "boyfriend = None\n",
        "height = 168.5\n",
        "\n",
        "print(name)\n",
        "print(age)\n",
        "print(address)\n",
        "print(boyfriend)\n",
        "print(height)"
      ],
      "metadata": {
        "id": "t6QreFrfC-j_"
      },
      "execution_count": null,
      "outputs": []
    },
    {
      "cell_type": "code",
      "source": [
        "a = int(1.9)\n",
        "print(a)\n",
        "b = int(True)\n",
        "print(b)\n",
        "c = int(False)\n",
        "print(c)\n"
      ],
      "metadata": {
        "id": "5uTCEWHcEaPB"
      },
      "execution_count": null,
      "outputs": []
    },
    {
      "cell_type": "code",
      "source": [
        "a = 100\n",
        "b = '100'\n",
        "print(type(a))\n",
        "print(type(b))\n",
        "\n",
        "print(a)\n",
        "print(b)\n",
        "print(a==b)\n",
        "\n",
        "c = int(b)\n",
        "print(type(c))\n",
        "print(a == c)"
      ],
      "metadata": {
        "id": "jpsPlZU-E94j"
      },
      "execution_count": null,
      "outputs": []
    },
    {
      "cell_type": "code",
      "source": [
        "a = float(1)\n",
        "print(a)\n",
        "\n",
        "b = float"
      ],
      "metadata": {
        "colab": {
          "base_uri": "https://localhost:8080/"
        },
        "id": "QhgDN9GrGYAc",
        "outputId": "03ca4aea-e008-4d42-88a6-1cf342ac3bad"
      },
      "execution_count": 87,
      "outputs": [
        {
          "output_type": "stream",
          "name": "stdout",
          "text": [
            "1.0\n"
          ]
        }
      ]
    },
    {
      "cell_type": "code",
      "source": [
        "a = bool(0)\n",
        "print(a)\n",
        "\n",
        "b = bool()\n",
        "print(b)\n",
        "\n",
        "c=bool([])\n",
        "print(c)\n",
        "\n",
        "d=bool()\n",
        "print(d)"
      ],
      "metadata": {
        "colab": {
          "base_uri": "https://localhost:8080/"
        },
        "id": "gZUw76lBattV",
        "outputId": "6ad956b1-b8c2-495a-bbcb-13889156e7a5"
      },
      "execution_count": 91,
      "outputs": [
        {
          "output_type": "stream",
          "name": "stdout",
          "text": [
            "False\n",
            "False\n",
            "False\n",
            "False\n"
          ]
        }
      ]
    },
    {
      "cell_type": "code",
      "source": [
        "a = '대한민국'\n",
        "a = \"대한민국\"\n",
        "\n",
        "b = str(100)\n",
        "print(b)\n",
        "print(type(b))\n",
        "\n",
        "c=str(True)\n",
        "print(c)\n",
        "print(type(c))"
      ],
      "metadata": {
        "colab": {
          "base_uri": "https://localhost:8080/"
        },
        "id": "GvD9X_2mbca7",
        "outputId": "5c8ddc12-42b2-4e06-9422-18e2dad0f422"
      },
      "execution_count": 95,
      "outputs": [
        {
          "output_type": "stream",
          "name": "stdout",
          "text": [
            "100\n",
            "<class 'str'>\n",
            "True\n",
            "<class 'str'>\n"
          ]
        }
      ]
    },
    {
      "cell_type": "code",
      "source": [
        "#문자열 인덱싱\n",
        "\n",
        "s = 'Hello'\n",
        "print(s[4])\n",
        "\n",
        "print(s[-1])\n",
        "print(s[-5])\n",
        "print(s[-5] == s[0])\n",
        "\n",
        "ss = \"990211-1005432\"\n",
        "print(ss[7])"
      ],
      "metadata": {
        "colab": {
          "base_uri": "https://localhost:8080/"
        },
        "id": "j_liT4B8b9wz",
        "outputId": "4b4dd8ec-a979-4dab-c3d6-b74ec1076e83"
      },
      "execution_count": 100,
      "outputs": [
        {
          "output_type": "stream",
          "name": "stdout",
          "text": [
            "o\n",
            "o\n",
            "H\n",
            "True\n",
            "1\n"
          ]
        }
      ]
    },
    {
      "cell_type": "code",
      "source": [
        "ss = \"990211-1005432\"\n",
        "print(ss[0:7:2])"
      ],
      "metadata": {
        "colab": {
          "base_uri": "https://localhost:8080/"
        },
        "id": "UHG8mvhtfJHt",
        "outputId": "db7039ec-9490-45c7-d91f-68e9f24cccd4"
      },
      "execution_count": 103,
      "outputs": [
        {
          "output_type": "stream",
          "name": "stdout",
          "text": [
            "901-\n"
          ]
        }
      ]
    },
    {
      "cell_type": "code",
      "source": [
        "#print\n",
        "print(\"Hello \\'World\\'\")\n",
        "\n",
        "print(\"이름 \\n전화\")\n",
        "\n",
        "print(\"이름\\t연락처\")\n",
        "print(\"홍길동\\t010-1123-1234\")"
      ],
      "metadata": {
        "colab": {
          "base_uri": "https://localhost:8080/"
        },
        "id": "i-yApICrgUl7",
        "outputId": "ec25b05b-4c79-4d2b-929c-4830602036d0"
      },
      "execution_count": 108,
      "outputs": [
        {
          "output_type": "stream",
          "name": "stdout",
          "text": [
            "Hello 'World'\n",
            "이름 \n",
            "전화\n",
            "이름\t연락처\n",
            "홍길동\t010-1123-1234\n"
          ]
        }
      ]
    },
    {
      "cell_type": "code",
      "source": [
        "print(\"재미있는\", \"파이썬\")\n",
        "\n",
        "print(\"평점\", end=':')\n",
        "print(\"5점\")"
      ],
      "metadata": {
        "colab": {
          "base_uri": "https://localhost:8080/"
        },
        "id": "ivxBLLqfjYMC",
        "outputId": "46bf4f99-6f8a-48ad-b37d-d644db969ba8"
      },
      "execution_count": 115,
      "outputs": [
        {
          "output_type": "stream",
          "name": "stdout",
          "text": [
            "재미있는 파이썬\n",
            "평점:5점\n"
          ]
        }
      ]
    },
    {
      "cell_type": "code",
      "source": [
        "print(\"국어\", \"영어\", \"수학\")\n",
        "print(\"국어\", \"영어\", \"수학\", sep = '/')\n",
        "print(\"국어\", \"영어\", \"수학\", sep = ',')\n",
        "print(\"국어\", \"영어\", \"수학\", sep = '\\n')\n",
        "print(\"국어\\n영어\\n수학\")"
      ],
      "metadata": {
        "colab": {
          "base_uri": "https://localhost:8080/"
        },
        "id": "ONP1MPUvotTn",
        "outputId": "160b6e65-3ff9-499c-d471-dd4692fb0fac"
      },
      "execution_count": 118,
      "outputs": [
        {
          "output_type": "stream",
          "name": "stdout",
          "text": [
            "국어 영어 수학\n",
            "국어/영어/수학\n",
            "국어,영어,수학\n",
            "국어\n",
            "영어\n",
            "수학\n",
            "국어\n",
            "영어\n",
            "수학\n"
          ]
        }
      ]
    },
    {
      "cell_type": "code",
      "source": [
        "print(10)\n",
        "print('%d 을 입력하세요' % 10)\n",
        "print('원주율은 %f 입니다.' % 3.14)\n",
        "print(\"원주율을 %s 입니다.\" % 3.14)\n",
        "print('저는 %s입니다.' % '학생')\n",
        "std = \"대학생\"\n",
        "print('저는 %s입니다.' % std)\n",
        "print('저는', std, '입니다.')"
      ],
      "metadata": {
        "colab": {
          "base_uri": "https://localhost:8080/"
        },
        "id": "LD5Jw2RgqUIX",
        "outputId": "432b7854-b898-47c5-f718-a9754e285934"
      },
      "execution_count": 130,
      "outputs": [
        {
          "output_type": "stream",
          "name": "stdout",
          "text": [
            "10\n",
            "10 을 입력하세요\n",
            "원주율은 3.140000 입니다.\n",
            "원주율을 3.14 입니다.\n",
            "저는 학생입니다.\n",
            "저는 대학생입니다.\n",
            "저는 대학생 입니다.\n"
          ]
        }
      ]
    },
    {
      "cell_type": "code",
      "source": [
        "print(\"%d\" % 1)\n",
        "print(\"%5d\" % 1)\n",
        "print(\"%-5d\" % 1)\n",
        "print(\"%5d\"%11) "
      ],
      "metadata": {
        "colab": {
          "base_uri": "https://localhost:8080/"
        },
        "id": "OJxeXEi9to8O",
        "outputId": "bb5b2239-15e1-415c-e9c8-8412c1cf1f0d"
      },
      "execution_count": 131,
      "outputs": [
        {
          "output_type": "stream",
          "name": "stdout",
          "text": [
            "1\n",
            "    1\n",
            "1    \n",
            "   11\n"
          ]
        }
      ]
    },
    {
      "cell_type": "code",
      "source": [
        "print('원주율은 %f 입니다' % 3.14)\n",
        "print(\"원주율은 %5.1f 입니다.\" % 3.14)\n",
        "print(\"원주율은 %-5.1f 입니다.\" % 3.14)\n",
        "print(\"원주율은 %.2f 입니다.\" %3.14)"
      ],
      "metadata": {
        "colab": {
          "base_uri": "https://localhost:8080/"
        },
        "id": "gcHHuzRhufLs",
        "outputId": "2756d142-7c4d-47b0-eb32-915e3e445cc3"
      },
      "execution_count": 137,
      "outputs": [
        {
          "output_type": "stream",
          "name": "stdout",
          "text": [
            "원주율은 3.140000 입니다\n",
            "원주율은   3.1 입니다.\n",
            "원주율은 3.1   입니다.\n",
            "원주율은 3.14 입니다.\n"
          ]
        }
      ]
    },
    {
      "cell_type": "code",
      "source": [
        "height = 185.5\n",
        "name = \"홍길동\"\n",
        "print(\"내 키는 %.1f입니다.\" % height)\n",
        "print(\"내 키는 %s입니다.\" % height)\n",
        "print(\"내 키는 %s이고 이름은 %s입니다.\" % (height, name))"
      ],
      "metadata": {
        "colab": {
          "base_uri": "https://localhost:8080/"
        },
        "id": "xwJcUiGEwBId",
        "outputId": "e367c3aa-9637-43e4-f053-0fb48b680469"
      },
      "execution_count": 141,
      "outputs": [
        {
          "output_type": "stream",
          "name": "stdout",
          "text": [
            "내 키는 185.5입니다.\n",
            "내 키는 185.5입니다.\n",
            "내 키는 185.5이고 이름은 홍길동입니다.\n"
          ]
        }
      ]
    },
    {
      "cell_type": "code",
      "source": [
        "height = 185.5\n",
        "name = \"홍길동\"\n",
        "zipcode = '06236'\n",
        "print(\"우편번호 : %s\" % zipcode)\n",
        "print(\"우편번호 : {}\".format(zipcode))\n",
        "print(\"내 키는 {}이고 이름은 {}입니다.\".format(height, name))"
      ],
      "metadata": {
        "colab": {
          "base_uri": "https://localhost:8080/"
        },
        "id": "ktPTIq7BwOgV",
        "outputId": "14246fd5-c37a-46e2-8c1b-b069c3e81092"
      },
      "execution_count": 143,
      "outputs": [
        {
          "output_type": "stream",
          "name": "stdout",
          "text": [
            "우편번호 : 06236\n",
            "우편번호 : 06236\n",
            "내 키는 185.5이고 이름은 홍길동입니다.\n"
          ]
        }
      ]
    },
    {
      "cell_type": "code",
      "source": [
        "print(\"My name is {}. I\\'m {} years old.\".format('James', 25))\n",
        "print(\"My name is {1}. I\\'m {0} years old.\".format(25, 'James'))\n",
        "print(\"My name is {name}. I\\'m {age} years old.\".format(age=25, name=\"James\"))"
      ],
      "metadata": {
        "colab": {
          "base_uri": "https://localhost:8080/"
        },
        "id": "OaHH590YxREE",
        "outputId": "04f3184d-21d6-4790-d486-bbcfb1d3a18f"
      },
      "execution_count": 147,
      "outputs": [
        {
          "output_type": "stream",
          "name": "stdout",
          "text": [
            "My name is James. I'm 25 years old.\n",
            "My name is James. I'm 25 years old.\n",
            "My name is James. I'm 25 years old.\n"
          ]
        }
      ]
    },
    {
      "cell_type": "code",
      "source": [
        "who = \"you\"\n",
        "how = \"happy\"\n",
        "print(f'{who} make me {how}')\n",
        "\n",
        "age = 25\n",
        "print(f\"내년에는 {age+1} 입니다.\")"
      ],
      "metadata": {
        "colab": {
          "base_uri": "https://localhost:8080/"
        },
        "id": "n6uxGqbj21M6",
        "outputId": "bc648a65-5157-4741-b138-05a716f82956"
      },
      "execution_count": 150,
      "outputs": [
        {
          "output_type": "stream",
          "name": "stdout",
          "text": [
            "you make me happy\n",
            "내년에는 26 입니다.\n"
          ]
        }
      ]
    },
    {
      "cell_type": "code",
      "source": [
        "n = input(\"당신의 나이를 입력하세요 >> \")\n",
        "print(f\"당신의 나이는 {n} 입니다.\")\n",
        "print(\"당신의 나이는\", n, \"입니다.\")"
      ],
      "metadata": {
        "colab": {
          "base_uri": "https://localhost:8080/"
        },
        "id": "HER1Hmuv4aBC",
        "outputId": "954c51d9-43d3-4623-91f3-c39cc338c06a"
      },
      "execution_count": 160,
      "outputs": [
        {
          "output_type": "stream",
          "name": "stdout",
          "text": [
            "당신의 나이를 입력하세요 >> 123\n",
            "당신의 나이는 123 입니다.\n",
            "당신의 나이는 123 입니다.\n"
          ]
        }
      ]
    },
    {
      "cell_type": "code",
      "source": [
        "name = input(\"이름 >> \")\n",
        "age = input(\"나이 >> \")\n",
        "print(f\"당신의 이름은 {name} 이고 나이는 {age} 입니다.\")\n",
        "print(\"당신의 이름은\" , name, \"이고 나이는\", age, \"입니다.\")\n",
        "print(\"당신의 이름은 %s 이고 나이는 %s 입니다.\" % (name, age))\n",
        "print(\"당신의 이름은 {} 인고 나이는 {} 입니다.\".format(name, age))\n",
        "\n",
        "print(name, type(name))\n",
        "print(age, type(age))"
      ],
      "metadata": {
        "colab": {
          "base_uri": "https://localhost:8080/"
        },
        "id": "-Zy1yjuY5fcK",
        "outputId": "fcdaacc7-7fe6-4407-81a8-2d3b5915673c"
      },
      "execution_count": 170,
      "outputs": [
        {
          "output_type": "stream",
          "name": "stdout",
          "text": [
            "이름 >> qwer\n",
            "나이 >> 123\n",
            "당신의 이름은 qwer 이고 나이는 123 입니다.\n",
            "당신의 이름은 qwer 이고 나이는 123 입니다.\n",
            "당신의 이름은 qwer 이고 나이는 123 입니다.\n",
            "당신의 이름은 qwer 인고 나이는 123 입니다.\n",
            "qwer <class 'str'>\n",
            "123 <class 'str'>\n"
          ]
        }
      ]
    },
    {
      "cell_type": "code",
      "source": [
        "month = int(input(\"할부 개월 입력 >> \"))\n",
        "money = round(50000/month, 2)\n",
        "print(f\"{month}개월 동안 매달 내는 금액은 {money}원 입니다.\")\n",
        "print(month, \"개월 동안 매달 내는 금액은\", money,\"원 입니다.\")\n",
        "print(\"%d개월 동안 매달 내는 금액은 %s원 입니다.\" % (month, money))\n",
        "print(\"{}개월 동안 매달 내는 금액은 {}원 입니다.\".format(month, money))"
      ],
      "metadata": {
        "colab": {
          "base_uri": "https://localhost:8080/"
        },
        "id": "49kqC6lC93gI",
        "outputId": "11e93f39-fdd2-4f7c-c641-61ee83ea8531"
      },
      "execution_count": 182,
      "outputs": [
        {
          "output_type": "stream",
          "name": "stdout",
          "text": [
            "할부 개월 입력 >> 3\n",
            "3개월 동안 매달 내는 금액은 16666.67원 입니다.\n",
            "3 개월 동안 매달 내는 금액은 16666.67 원 입니다.\n",
            "3개월 동안 매달 내는 금액은 16666.67원 입니다.\n",
            "3개월 동안 매달 내는 금액은 16666.67원 입니다.\n"
          ]
        }
      ]
    },
    {
      "cell_type": "code",
      "source": [
        "num1 = float(input(\"실수 1 >> \"))\n",
        "num2 = float(input(\"실수 2 >> \"))\n",
        "sum = num1 + num2\n",
        "print(f\"{num1}과 {num2}의 합계는 {sum}\")\n"
      ],
      "metadata": {
        "colab": {
          "base_uri": "https://localhost:8080/"
        },
        "id": "KeiGoFlMFJrn",
        "outputId": "7003d7ae-6b4f-4054-b499-545a0c39d7fe"
      },
      "execution_count": 184,
      "outputs": [
        {
          "output_type": "stream",
          "name": "stdout",
          "text": [
            "실수 1 >> 12.1\n",
            "실수 2 >> 12.3\n",
            "12.1과 12.3의 합계는 24.4\n"
          ]
        }
      ]
    }
  ]
}