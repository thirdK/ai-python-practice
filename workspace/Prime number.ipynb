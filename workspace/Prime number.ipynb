{
 "cells": [
  {
   "cell_type": "code",
   "execution_count": 6,
   "id": "015e42eb",
   "metadata": {},
   "outputs": [
    {
     "name": "stdout",
     "output_type": "stream",
     "text": [
      "11\n"
     ]
    }
   ],
   "source": [
    "# prime number 소수\n",
    "# 에라토스의 채 참고  \n",
    "\n",
    "\n",
    "# 소수 출력\n",
    "number = 100\n",
    "prime = []\n",
    "\n",
    "for i in range(2, number+1):\n",
    "    if num % i  == 0:"
   ]
  },
  {
   "cell_type": "code",
   "execution_count": 7,
   "id": "a75718e9",
   "metadata": {},
   "outputs": [
    {
     "name": "stdout",
     "output_type": "stream",
     "text": [
      "11\n"
     ]
    }
   ],
   "source": [
    "n = 10\n",
    "answer = 1 #변수 초기화\n",
    "for i in range(3, n+1):\n",
    "    for j in range(2, i):\n",
    "        if i % j == 0: #나누어 떨어지면\n",
    "            break\n",
    "        else:\n",
    "            answer += 1\n",
    "    \n",
    "print(answer)"
   ]
  },
  {
   "cell_type": "code",
   "execution_count": null,
   "id": "00d9076e",
   "metadata": {},
   "outputs": [],
   "source": [
    "n까지의 숫자중 소수를 찾으려면 n의 제곱근까지의 소수를 확인하고\n",
    "그 소수들의 배수를 모두 지우면 된다.\n",
    "1.소수로 나눈 나머지가 0이면 없엔다.\n",
    "2.소수만큼 증가시킨 값은 넣지 않는다.(지운다?)\n",
    "\n",
    "소수는 1과 자신으로만 나눠지는 수이다.\n",
    "임의의 정수 n이 소수인지 확인하는방법은 \n",
    "1부터 n의 제곱근까지만 나눠떨어지는 수가 있는지 확인하면된다.\n",
    "\n",
    "n = input\n",
    "num = [1부터 n까지]\n",
    "ch_num = int(n**0.5) <-- 제곱근\n",
    "\n",
    "for i in range(2,ch_num+1):\n",
    "    for j in range(2,int(math.sqrt(i))):\n",
    "        if i%j == 0:\n",
    "\n",
    "            break\n",
    "    "
   ]
  },
  {
   "cell_type": "code",
   "execution_count": 109,
   "id": "b37d1834",
   "metadata": {},
   "outputs": [
    {
     "name": "stdout",
     "output_type": "stream",
     "text": [
      "num : 100\n"
     ]
    },
    {
     "data": {
      "text/plain": [
       "25"
      ]
     },
     "execution_count": 109,
     "metadata": {},
     "output_type": "execute_result"
    }
   ],
   "source": [
    "import math\n",
    "\n",
    "def isPrime(args): #소수를 판별하는 함수\n",
    "    result = True\n",
    "    sqrtN = int(math.sqrt(args))\n",
    "\n",
    "    for i in range(2,sqrtN+1):\n",
    "        if args%i == 0:\n",
    "                return False \n",
    "    return True\n",
    "\n",
    "\n",
    "num = int(input('num : '))\n",
    "lst = [i for i in range(2, num)]\n",
    "result = []\n",
    "for i in lst:\n",
    "    if isPrime(i):\n",
    "        result.append(i)\n",
    "\n",
    "len(result)"
   ]
  }
 ],
 "metadata": {
  "kernelspec": {
   "display_name": "Python 3 (ipykernel)",
   "language": "python",
   "name": "python3"
  },
  "language_info": {
   "codemirror_mode": {
    "name": "ipython",
    "version": 3
   },
   "file_extension": ".py",
   "mimetype": "text/x-python",
   "name": "python",
   "nbconvert_exporter": "python",
   "pygments_lexer": "ipython3",
   "version": "3.9.7"
  }
 },
 "nbformat": 4,
 "nbformat_minor": 5
}
