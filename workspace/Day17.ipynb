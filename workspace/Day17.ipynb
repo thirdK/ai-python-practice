{
 "cells": [
  {
   "cell_type": "code",
   "execution_count": 5,
   "id": "ec886357",
   "metadata": {},
   "outputs": [
    {
     "name": "stdout",
     "output_type": "stream",
     "text": [
      "Enter your name : aa\n",
      "Hello aa\n"
     ]
    }
   ],
   "source": [
    "# Function (subprograms)\n",
    "\n",
    "# Blocks of code whicht perform specific tasks and can be called upon at anytime\n",
    "# in the program to run that code.\n",
    "\n",
    "# Advantages\n",
    "# - it can be used and reused at diffenent times during the program\n",
    "# - it makes the program simpler to understand as the code is grouped \n",
    "#   together into chunks.\n",
    "def print_Msg(n):\n",
    "    print(f'Hello', n)\n",
    "\n",
    "def get_name():\n",
    "    user_name = input('Enter your name : ')\n",
    "    return user_name\n",
    "\n",
    "def main():\n",
    "    user_name = get_name()\n",
    "    print_Msg(user_name)\n",
    "\n",
    "main()"
   ]
  },
  {
   "cell_type": "code",
   "execution_count": 16,
   "id": "2525984e",
   "metadata": {},
   "outputs": [
    {
     "name": "stdout",
     "output_type": "stream",
     "text": [
      "Enter your name : aa\n",
      "Enter your age : 5\n",
      "Hi aa\n"
     ]
    }
   ],
   "source": [
    "def get_data():#4\n",
    "    user_name = input('Enter your name : ') #5\n",
    "    user_age = int(input('Enter your age : ')) #6\n",
    "    data_tuple = (user_name, user_age) #7\n",
    "    return data_tuple #8\n",
    "\n",
    "def message(user_name, user_age):#11\n",
    "    if user_age <= 10: #12\n",
    "        print('Hi', user_name)\n",
    "    else:\n",
    "        print('Hello', user_name) #13\n",
    "\n",
    "def main():#2\n",
    "    user_name, user_age = get_data()#3 #9\n",
    "    message(user_name, user_age)#10 #14\n",
    "\n",
    "main() #1"
   ]
  },
  {
   "cell_type": "code",
   "execution_count": 22,
   "id": "b57073ef",
   "metadata": {},
   "outputs": [
    {
     "name": "stdout",
     "output_type": "stream",
     "text": [
      "Enter a number10\n",
      "10\n"
     ]
    }
   ],
   "source": [
    "def n():\n",
    "    num = int(input('Enter a number'))\n",
    "    return num\n",
    "def c(num):\n",
    "    cnt=0\n",
    "    for i in range(1,num+1):\n",
    "        cnt+=1\n",
    "    print(cnt)\n",
    "def main():\n",
    "    num = n()\n",
    "    c(num)\n",
    "main()"
   ]
  },
  {
   "cell_type": "code",
   "execution_count": 12,
   "id": "f3bed928",
   "metadata": {},
   "outputs": [
    {
     "name": "stdout",
     "output_type": "stream",
     "text": [
      "Enter the bottom of the range : 1\n",
      "Enter the top of the range : 10\n",
      "I am thinking of a number...\n",
      "WHat am I thinking of : 5\n",
      "too low, try again\n",
      "I am thinking of a number...\n",
      "WHat am I thinking of : 8\n",
      "too low, try again\n",
      "I am thinking of a number...\n",
      "WHat am I thinking of : 9\n",
      "too low, try again\n",
      "I am thinking of a number...\n",
      "WHat am I thinking of : 10\n",
      "Correct, you win\n"
     ]
    }
   ],
   "source": [
    "import random\n",
    "\n",
    "def d1():\n",
    "    num1 = int(input('Enter the bottom of the range : '))\n",
    "    num2 = int(input('Enter the top of the range : ')) \n",
    "    return random.randint(num1, num2)\n",
    "\n",
    "def d2():\n",
    "    print('I am thinking of a number...')\n",
    "    return int(input('WHat am I thinking of : ')) \n",
    "\n",
    "def d3(num, ans):\n",
    "    if num == ans:\n",
    "        print('Correct, you win')\n",
    "        return False\n",
    "    elif num < ans:\n",
    "        print('too high, try again')\n",
    "    else:\n",
    "        print('too low, try again')\n",
    "    return True\n",
    "\n",
    "def main():\n",
    "    comp_num = d1()\n",
    "    isA = True\n",
    "    while isA:\n",
    "        ans = d2()\n",
    "        isA = d3(comp_num, ans)\n",
    "main()"
   ]
  },
  {
   "cell_type": "code",
   "execution_count": null,
   "id": "169afdb4",
   "metadata": {},
   "outputs": [],
   "source": []
  },
  {
   "cell_type": "code",
   "execution_count": null,
   "id": "d8b10d19",
   "metadata": {},
   "outputs": [],
   "source": []
  },
  {
   "cell_type": "code",
   "execution_count": null,
   "id": "d6d657cd",
   "metadata": {},
   "outputs": [],
   "source": []
  },
  {
   "cell_type": "code",
   "execution_count": null,
   "id": "ddb40562",
   "metadata": {},
   "outputs": [],
   "source": []
  },
  {
   "cell_type": "code",
   "execution_count": null,
   "id": "626d2f8c",
   "metadata": {},
   "outputs": [],
   "source": []
  },
  {
   "cell_type": "code",
   "execution_count": null,
   "id": "1e9a8b93",
   "metadata": {},
   "outputs": [],
   "source": []
  },
  {
   "cell_type": "code",
   "execution_count": null,
   "id": "7b67d352",
   "metadata": {},
   "outputs": [],
   "source": []
  },
  {
   "cell_type": "code",
   "execution_count": null,
   "id": "95b0548b",
   "metadata": {},
   "outputs": [],
   "source": []
  }
 ],
 "metadata": {
  "kernelspec": {
   "display_name": "Python 3 (ipykernel)",
   "language": "python",
   "name": "python3"
  },
  "language_info": {
   "codemirror_mode": {
    "name": "ipython",
    "version": 3
   },
   "file_extension": ".py",
   "mimetype": "text/x-python",
   "name": "python",
   "nbconvert_exporter": "python",
   "pygments_lexer": "ipython3",
   "version": "3.9.7"
  }
 },
 "nbformat": 4,
 "nbformat_minor": 5
}
