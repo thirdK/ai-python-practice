{
 "cells": [
  {
   "cell_type": "code",
   "execution_count": 7,
   "id": "596da39d",
   "metadata": {},
   "outputs": [
    {
     "name": "stdout",
     "output_type": "stream",
     "text": [
      "cherry\n",
      "2\n"
     ]
    }
   ],
   "source": [
    "#Tuple, List and Dict\n",
    "\n",
    "# There are several ways that collections of data candb stored as a single itme\n",
    "# There of the simpler ones are:\n",
    "# 1. Tuple\n",
    "# 2. List\n",
    "# 3. Dict\n",
    "# (4). Set\n",
    "\n",
    "# Tuple() : Once a tuple is defined you cannot change what is stored in it(imutable)\n",
    "# List[] : The contents of a list canbe changed while the program is running and lists\n",
    "#       are one of the most common ways to store a collection of data in Python\n",
    "#       (mutable)\n",
    "\n",
    "# Dict{} : can also be chaged while the program is running. mutable\n",
    "#        Each value is given an index or key you can define to help identify each\n",
    "#        piece of data\n",
    "\n",
    "fruit_tuple = ('apple', 'banana', 'cherry', 'orange')\n",
    "print(fruit_tuple[2])\n",
    "print(fruit_tuple.index('cherry'))\n",
    "# del fruit_tuple[1]  튜플은 imutable이기 때문에 삭제도 안됨"
   ]
  },
  {
   "cell_type": "code",
   "execution_count": 14,
   "id": "a3b21999",
   "metadata": {},
   "outputs": [
    {
     "data": {
      "text/plain": [
       "['John', 'Sam']"
      ]
     },
     "execution_count": 14,
     "metadata": {},
     "output_type": "execute_result"
    }
   ],
   "source": [
    "names_list = ['John', 'Tim', 'Sam']\n",
    "del names_list[1]\n",
    "names_list"
   ]
  },
  {
   "cell_type": "code",
   "execution_count": 16,
   "id": "75758ed6",
   "metadata": {},
   "outputs": [
    {
     "name": "stdout",
     "output_type": "stream",
     "text": [
      "Add a name : Rick\n"
     ]
    },
    {
     "data": {
      "text/plain": [
       "['John', 'Sam', 'Tj', 'Rick']"
      ]
     },
     "execution_count": 16,
     "metadata": {},
     "output_type": "execute_result"
    }
   ],
   "source": [
    "names_list.append(input('Add a name : '))\n",
    "names_list"
   ]
  },
  {
   "cell_type": "code",
   "execution_count": 18,
   "id": "f82c094e",
   "metadata": {},
   "outputs": [
    {
     "name": "stdout",
     "output_type": "stream",
     "text": [
      "['John', 'Rick', 'Sam', 'Tj']\n"
     ]
    }
   ],
   "source": [
    "names_list.sort()\n",
    "# Sort[list] into alphabetical order and saves the list in the noew order\n",
    "# 리스트 자체를 정렬하여 저장함\n",
    "print(names_list)"
   ]
  },
  {
   "cell_type": "code",
   "execution_count": 23,
   "id": "f8e8ddcb",
   "metadata": {},
   "outputs": [
    {
     "name": "stdout",
     "output_type": "stream",
     "text": [
      "['John', 'Sam', 'Tim']\n",
      "['John', 'Tim', 'Sam']\n"
     ]
    }
   ],
   "source": [
    "names_list = ['John', 'Tim', 'Sam']\n",
    "print(sorted(names_list))\n",
    "# Displays names_list in alphabet order but does not change the order of the\n",
    "# original list.\n",
    "# 리스트는 건들지 않고 정렬하여 반환함\n",
    "print(names_list)"
   ]
  },
  {
   "cell_type": "code",
   "execution_count": 25,
   "id": "56f9e103",
   "metadata": {},
   "outputs": [
    {
     "name": "stdout",
     "output_type": "stream",
     "text": [
      "blue\n"
     ]
    }
   ],
   "source": [
    "color = {1:'red', 2:'blue', 3:'green'}\n",
    "\n",
    "# Creates a dict called 'color', where each item is assigned an index of your choosing\n",
    "\n",
    "print(color[2])"
   ]
  },
  {
   "cell_type": "code",
   "execution_count": 31,
   "id": "17520b16",
   "metadata": {},
   "outputs": [
    {
     "name": "stdout",
     "output_type": "stream",
     "text": [
      "('Korea', 'America', 'Italy', 'Rusia', 'Japan')\n",
      "Enter a country : Italy\n",
      "Italy has index number 2\n"
     ]
    }
   ],
   "source": [
    "country = ('Korea', 'America', 'Italy', 'Rusia', 'Japan')\n",
    "print(country)\n",
    "ans = input('Enter a country : ')\n",
    "\n",
    "print(f'{ans} has index number {countries.index(ans)}')\n"
   ]
  },
  {
   "cell_type": "code",
   "execution_count": 33,
   "id": "d4b86c81",
   "metadata": {},
   "outputs": [
    {
     "name": "stdout",
     "output_type": "stream",
     "text": [
      "('Korea', 'America', 'Italy', 'Rusia', 'Japan')\n",
      "Enter a index : 0\n",
      "0 index >> Korea\n"
     ]
    }
   ],
   "source": [
    "country = ('Korea', 'America', 'Italy', 'Rusia', 'Japan')\n",
    "print(country)\n",
    "ans = int(input('Enter a nuber between 0 and 4 : '))\n",
    "\n",
    "print(f'{ans} index >> {country[ans]}')"
   ]
  },
  {
   "cell_type": "code",
   "execution_count": 36,
   "id": "6cd231ce",
   "metadata": {},
   "outputs": [
    {
     "name": "stdout",
     "output_type": "stream",
     "text": [
      "['Baseball', 'soccer']\n",
      "Enter a favorite sports : asd\n",
      "['Baseball', 'asd', 'soccer']\n"
     ]
    }
   ],
   "source": [
    "lst = ['Baseball', 'soccer']\n",
    "print(lst)\n",
    "ans = input('Enter a favorite sports : ')\n",
    "lst.append(ans)\n",
    "print(sorted(lst))"
   ]
  },
  {
   "cell_type": "code",
   "execution_count": 55,
   "id": "a89d0718",
   "metadata": {},
   "outputs": [
    {
     "name": "stdout",
     "output_type": "stream",
     "text": [
      "Enter a food you like : a\n",
      "Enter a food you like : b\n",
      "Enter a food you like : c\n",
      "Enter a food you like : d\n",
      "{1: 'a', 2: 'b', 3: 'c', 4: 'd'}\n",
      "Which of these do you want to get rid of?3\n",
      "['a', 'b', 'd']\n"
     ]
    }
   ],
   "source": [
    "food = {}\n",
    "for i in range(1, 5):\n",
    "    food[i] = input('Enter a food you like : ')\n",
    "print(food)\n",
    "\n",
    "remove = int(input('Which of these do you want to get rid of?'))\n",
    "del food[remove]\n",
    "print(sorted(food.values()))"
   ]
  }
 ],
 "metadata": {
  "kernelspec": {
   "display_name": "Python 3 (ipykernel)",
   "language": "python",
   "name": "python3"
  },
  "language_info": {
   "codemirror_mode": {
    "name": "ipython",
    "version": 3
   },
   "file_extension": ".py",
   "mimetype": "text/x-python",
   "name": "python",
   "nbconvert_exporter": "python",
   "pygments_lexer": "ipython3",
   "version": "3.9.7"
  }
 },
 "nbformat": 4,
 "nbformat_minor": 5
}
