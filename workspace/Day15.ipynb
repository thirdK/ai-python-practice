{
 "cells": [
  {
   "cell_type": "code",
   "execution_count": 8,
   "id": "e39a751e",
   "metadata": {},
   "outputs": [
    {
     "name": "stdout",
     "output_type": "stream",
     "text": [
      "['a', 'b', 'c', 'd']\n",
      "Enter another TV show >> ㅁ\n",
      "Enter a number between 0 and 3 >> 3\n",
      "['a', 'b', 'c', 'ㅁ', 'd']\n"
     ]
    }
   ],
   "source": [
    "lst = ['a', 'b', 'c', 'd']\n",
    "print(lst)\n",
    "n = input('Enter another TV show >> ')\n",
    "idx = int(input('Enter a number between 0 and 3 >> '))\n",
    "lst.insert(idx, n)\n",
    "print(lst)"
   ]
  },
  {
   "cell_type": "code",
   "execution_count": 15,
   "id": "c9da85dc",
   "metadata": {},
   "outputs": [
    {
     "name": "stdout",
     "output_type": "stream",
     "text": [
      "Enter a nuber : 1\n",
      "[1]\n",
      "Enter a nuber : 2\n",
      "[1, 2]\n",
      "Enter a nuber : 3\n",
      "[1, 2, 3]\n",
      "Do you want the last number save?(y/n) : n\n",
      "[1, 2]\n"
     ]
    }
   ],
   "source": [
    "nums = []\n",
    "for i in range(3):\n",
    "    nums.append(int(input('Enter a nuber : ')))\n",
    "    print(nums)\n",
    "ans = input('Do you want the last number saved?(y/n) : ')\n",
    "\n",
    "if ans == 'n':\n",
    "    nums.pop()\n",
    "\n",
    "print(nums)    "
   ]
  },
  {
   "cell_type": "code",
   "execution_count": 16,
   "id": "50f0d57a",
   "metadata": {},
   "outputs": [],
   "source": [
    "# More String Manipulation 다양한 문자열 처리\n",
    "# Here we have a variable called name which is assigned the value 'Simon'\n",
    "\n",
    "name = 'Simon'\n",
    "\n",
    "# 'Simon' can be thought of as a sequence of individual characters and \n",
    "# each character in that string can be identified by its index\n",
    "\n",
    "# Node how string s start indexing from 0 and not 1\n",
    "# If the string had a space in it the space would also be counted as a character"
   ]
  },
  {
   "cell_type": "code",
   "execution_count": 18,
   "id": "b601ed40",
   "metadata": {},
   "outputs": [
    {
     "name": "stdout",
     "output_type": "stream",
     "text": [
      "This is not in uppercase\n"
     ]
    }
   ],
   "source": [
    "msg = 'HELLo'\n",
    "if msg.isupper():\n",
    "    print(\"Uppercase\")\n",
    "else:\n",
    "    print(\"This is not in uppercase\")"
   ]
  },
  {
   "cell_type": "code",
   "execution_count": 19,
   "id": "b93c3929",
   "metadata": {},
   "outputs": [
    {
     "name": "stdout",
     "output_type": "stream",
     "text": [
      "H*e*l*l*o*"
     ]
    }
   ],
   "source": [
    "msg = 'Hello'\n",
    "for letter in msg:\n",
    "    print(letter, end='*')"
   ]
  },
  {
   "cell_type": "code",
   "execution_count": 24,
   "id": "2c6e546c",
   "metadata": {},
   "outputs": [
    {
     "name": "stdout",
     "output_type": "stream",
     "text": [
      "Enter a message in uppercase : qwer\n",
      "Try again\n",
      "Enter a message in uppercase : QWqwer\n",
      "Try again\n",
      "Enter a message in uppercase : QWER\n",
      "QWER\n"
     ]
    }
   ],
   "source": [
    "while True:\n",
    "    eng = input('Enter a message in uppercase : ')\n",
    "    if eng.isupper():\n",
    "        print(eng)\n",
    "        break\n",
    "    else:\n",
    "        print('Try again')"
   ]
  },
  {
   "cell_type": "code",
   "execution_count": 30,
   "id": "9b971ecb",
   "metadata": {},
   "outputs": [
    {
     "name": "stdout",
     "output_type": "stream",
     "text": [
      "Enter a new password : qwer\n",
      "Enter the password again : q\n",
      "Incorrect\n"
     ]
    }
   ],
   "source": [
    "pw = input('Enter a new password : ')\n",
    "pw2 = input('Enter the password again : ')\n",
    "\n",
    "if pw == pw2:\n",
    "    print('thank you')\n",
    "elif pw.lower() == pw2.lower():\n",
    "    print('They must be in the same case')  \n",
    "else:\n",
    "    print('Incorrect')\n",
    "\n"
   ]
  },
  {
   "cell_type": "code",
   "execution_count": null,
   "id": "df586bb5",
   "metadata": {},
   "outputs": [],
   "source": []
  },
  {
   "cell_type": "code",
   "execution_count": null,
   "id": "da13f9d0",
   "metadata": {},
   "outputs": [],
   "source": []
  },
  {
   "cell_type": "code",
   "execution_count": null,
   "id": "66a2e778",
   "metadata": {},
   "outputs": [],
   "source": []
  },
  {
   "cell_type": "code",
   "execution_count": null,
   "id": "b792f12a",
   "metadata": {},
   "outputs": [],
   "source": []
  },
  {
   "cell_type": "code",
   "execution_count": null,
   "id": "8642ca27",
   "metadata": {},
   "outputs": [],
   "source": []
  },
  {
   "cell_type": "code",
   "execution_count": null,
   "id": "b6a713e1",
   "metadata": {},
   "outputs": [],
   "source": []
  },
  {
   "cell_type": "code",
   "execution_count": null,
   "id": "fe18c7bd",
   "metadata": {},
   "outputs": [],
   "source": []
  },
  {
   "cell_type": "code",
   "execution_count": null,
   "id": "93571448",
   "metadata": {},
   "outputs": [],
   "source": []
  },
  {
   "cell_type": "code",
   "execution_count": null,
   "id": "6ed61b54",
   "metadata": {},
   "outputs": [],
   "source": []
  },
  {
   "cell_type": "code",
   "execution_count": null,
   "id": "b13d4fd3",
   "metadata": {},
   "outputs": [],
   "source": []
  },
  {
   "cell_type": "code",
   "execution_count": null,
   "id": "a2a1d30f",
   "metadata": {},
   "outputs": [],
   "source": []
  },
  {
   "cell_type": "code",
   "execution_count": null,
   "id": "7e9a30d7",
   "metadata": {},
   "outputs": [],
   "source": []
  },
  {
   "cell_type": "code",
   "execution_count": null,
   "id": "f5c53d7d",
   "metadata": {},
   "outputs": [],
   "source": []
  },
  {
   "cell_type": "code",
   "execution_count": null,
   "id": "418d8b97",
   "metadata": {},
   "outputs": [],
   "source": []
  },
  {
   "cell_type": "code",
   "execution_count": null,
   "id": "7e6f7a1a",
   "metadata": {},
   "outputs": [],
   "source": []
  },
  {
   "cell_type": "code",
   "execution_count": null,
   "id": "1b9b5241",
   "metadata": {},
   "outputs": [],
   "source": []
  },
  {
   "cell_type": "code",
   "execution_count": null,
   "id": "7c6d42d3",
   "metadata": {},
   "outputs": [],
   "source": []
  },
  {
   "cell_type": "code",
   "execution_count": null,
   "id": "77b84eb2",
   "metadata": {},
   "outputs": [],
   "source": []
  },
  {
   "cell_type": "code",
   "execution_count": null,
   "id": "bb11458b",
   "metadata": {},
   "outputs": [],
   "source": []
  }
 ],
 "metadata": {
  "kernelspec": {
   "display_name": "Python 3 (ipykernel)",
   "language": "python",
   "name": "python3"
  },
  "language_info": {
   "codemirror_mode": {
    "name": "ipython",
    "version": 3
   },
   "file_extension": ".py",
   "mimetype": "text/x-python",
   "name": "python",
   "nbconvert_exporter": "python",
   "pygments_lexer": "ipython3",
   "version": "3.9.7"
  }
 },
 "nbformat": 4,
 "nbformat_minor": 5
}
