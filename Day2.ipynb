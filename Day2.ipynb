{
  "nbformat": 4,
  "nbformat_minor": 0,
  "metadata": {
    "colab": {
      "name": "Untitled1.ipynb",
      "provenance": [],
      "collapsed_sections": [],
      "authorship_tag": "ABX9TyMDjTjqvmPU3JbZvVPoQ/DW",
      "include_colab_link": true
    },
    "kernelspec": {
      "name": "python3",
      "display_name": "Python 3"
    },
    "language_info": {
      "name": "python"
    }
  },
  "cells": [
    {
      "cell_type": "markdown",
      "metadata": {
        "id": "view-in-github",
        "colab_type": "text"
      },
      "source": [
        "<a href=\"https://colab.research.google.com/github/thirdK/ai/blob/main/Day2.ipynb\" target=\"_parent\"><img src=\"https://colab.research.google.com/assets/colab-badge.svg\" alt=\"Open In Colab\"/></a>"
      ]
    },
    {
      "cell_type": "code",
      "execution_count": 1,
      "metadata": {
        "colab": {
          "base_uri": "https://localhost:8080/"
        },
        "id": "Fb9snzoPzq0N",
        "outputId": "fada49e1-6a0f-4cf6-8314-5a0567045519"
      },
      "outputs": [
        {
          "output_type": "stream",
          "name": "stdout",
          "text": [
            "r\n",
            "d\n",
            "2\n",
            "강남구\n"
          ]
        }
      ],
      "source": [
        "#인덱싱 (슬라이싱)\n",
        "s = \"world\"\n",
        "print(s[2])\n",
        "print(s[-1]) #-1은 마지막 index를 가리킨다.\n",
        "\n",
        "ss = \"990212-2345243\"\n",
        "print(ss[7]) #하나만 추출할 때 indexing\n",
        "addr = \"서울시 강남구 역삼동 1번지\"\n",
        "print(addr[4:7]) #여러개를 추출할 때 slicing"
      ]
    },
    {
      "cell_type": "code",
      "source": [
        "list = [1,2,3,4,5]\n",
        "print(list)\n",
        "\n",
        "score = [80, 90, 70, 60]\n",
        "print(score)\n",
        "\n",
        "print(score[0])\n",
        "print(score[1:3])\n",
        "\n",
        "score[0] = 100;\n",
        "print(score)\n",
        "\n",
        "list_a = [1,2,3]\n",
        "list_b = [4,5,6]\n",
        "print(\"list_a = \", list_a)\n",
        "print(\"list_b = \", list_b)\n",
        "\n",
        "print(list_a + list_b)\n",
        "print(list_a * 3)\n",
        "print(len(list_a))"
      ],
      "metadata": {
        "colab": {
          "base_uri": "https://localhost:8080/"
        },
        "id": "giWcDNPr_vTt",
        "outputId": "948c23ee-bdb8-49ed-f6c8-1b52d4d0809a"
      },
      "execution_count": 3,
      "outputs": [
        {
          "output_type": "stream",
          "name": "stdout",
          "text": [
            "[1, 2, 3, 4, 5]\n",
            "[80, 90, 70, 60]\n",
            "80\n",
            "[90, 70]\n",
            "[100, 90, 70, 60]\n",
            "list_a =  [1, 2, 3]\n",
            "list_b =  [4, 5, 6]\n",
            "[1, 2, 3, 4, 5, 6]\n",
            "[1, 2, 3, 1, 2, 3, 1, 2, 3]\n",
            "3\n"
          ]
        }
      ]
    },
    {
      "cell_type": "code",
      "source": [
        "list = []\n",
        "list.append(90)\n",
        "list.append(60)\n",
        "list.append(30)\n",
        "print(list)\n",
        "list.insert(0, 10)\n",
        "print(list)"
      ],
      "metadata": {
        "colab": {
          "base_uri": "https://localhost:8080/"
        },
        "id": "3Or2YCr8I2Yy",
        "outputId": "ea7b61bf-8b08-498d-b938-b09253c375c0"
      },
      "execution_count": 10,
      "outputs": [
        {
          "output_type": "stream",
          "name": "stdout",
          "text": [
            "[90, 60, 30]\n",
            "[10, 90, 60, 30]\n"
          ]
        }
      ]
    },
    {
      "cell_type": "code",
      "source": [
        "list_a = [1, 2, 3]\n",
        "list_a.extend([4, 5, 6])\n",
        "list_a"
      ],
      "metadata": {
        "colab": {
          "base_uri": "https://localhost:8080/"
        },
        "id": "XpdxWRNhKWew",
        "outputId": "6c04c4f6-b0fc-479d-f0e5-212dc40206ac"
      },
      "execution_count": 14,
      "outputs": [
        {
          "output_type": "execute_result",
          "data": {
            "text/plain": [
              "[1, 2, 3, 4, 5, 6]"
            ]
          },
          "metadata": {},
          "execution_count": 14
        }
      ]
    },
    {
      "cell_type": "code",
      "source": [
        "list_a = [1, 2, 3]\n",
        "list_b = [4, 5, 6]\n",
        "list_a + list_b"
      ],
      "metadata": {
        "colab": {
          "base_uri": "https://localhost:8080/"
        },
        "id": "bkPS3PBcKr-p",
        "outputId": "81f89cb1-c7a2-4769-bc4f-ba225339b7d2"
      },
      "execution_count": 16,
      "outputs": [
        {
          "output_type": "execute_result",
          "data": {
            "text/plain": [
              "[1, 2, 3, 4, 5, 6]"
            ]
          },
          "metadata": {},
          "execution_count": 16
        }
      ]
    },
    {
      "cell_type": "code",
      "source": [
        "list_a = [0,1,2,3,4,5]\n",
        "del list_a[1]\n",
        "list_a"
      ],
      "metadata": {
        "colab": {
          "base_uri": "https://localhost:8080/"
        },
        "id": "7aeM_YJfM4JA",
        "outputId": "a7e34127-2b08-45f7-cc89-ca8f7e1e61c8"
      },
      "execution_count": 18,
      "outputs": [
        {
          "output_type": "execute_result",
          "data": {
            "text/plain": [
              "[0, 2, 3, 4, 5]"
            ]
          },
          "metadata": {},
          "execution_count": 18
        }
      ]
    },
    {
      "cell_type": "code",
      "source": [
        "list = [222,434, 65, 123, 547, 876]\n",
        "222 in list"
      ],
      "metadata": {
        "colab": {
          "base_uri": "https://localhost:8080/"
        },
        "id": "W_q3ag-WQkES",
        "outputId": "648ec248-fa82-4a94-ee8f-ffde90a2c20a"
      },
      "execution_count": 19,
      "outputs": [
        {
          "output_type": "execute_result",
          "data": {
            "text/plain": [
              "True"
            ]
          },
          "metadata": {},
          "execution_count": 19
        }
      ]
    }
  ]
}