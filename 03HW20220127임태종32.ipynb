{
  "nbformat": 4,
  "nbformat_minor": 0,
  "metadata": {
    "colab": {
      "name": "03HW20220127임태종32.ipynb",
      "provenance": [],
      "collapsed_sections": [],
      "authorship_tag": "ABX9TyM9vNOoRSb7+6tU2Wqlut7e",
      "include_colab_link": true
    },
    "kernelspec": {
      "name": "python3",
      "display_name": "Python 3"
    },
    "language_info": {
      "name": "python"
    }
  },
  "cells": [
    {
      "cell_type": "markdown",
      "metadata": {
        "id": "view-in-github",
        "colab_type": "text"
      },
      "source": [
        "<a href=\"https://colab.research.google.com/github/thirdK/ai/blob/main/03HW20220127%EC%9E%84%ED%83%9C%EC%A2%8532.ipynb\" target=\"_parent\"><img src=\"https://colab.research.google.com/assets/colab-badge.svg\" alt=\"Open In Colab\"/></a>"
      ]
    },
    {
      "cell_type": "code",
      "execution_count": 3,
      "metadata": {
        "id": "ZGbHfbiwpIm1"
      },
      "outputs": [],
      "source": [
        "#091\n",
        "\n",
        "inventory = {\n",
        "    \"메로나\" : [300, 20],\n",
        "    \"비비빅\" : [400, 3],\n",
        "    \"죠스바\" : [250, 100]\n",
        "}"
      ]
    },
    {
      "cell_type": "code",
      "source": [
        "#092\n",
        "inventory = {\n",
        "    \"메로나\" : [300, 20],\n",
        "    \"비비빅\" : [400, 3],\n",
        "    \"죠스바\" : [250, 100]\n",
        "}\n",
        "print(inventory[\"메로나\"][0] , \"원\")"
      ],
      "metadata": {
        "colab": {
          "base_uri": "https://localhost:8080/"
        },
        "id": "JHAprAdDqXbw",
        "outputId": "8e9d9d8f-62d4-4b98-e072-deb8669c3093"
      },
      "execution_count": 8,
      "outputs": [
        {
          "output_type": "stream",
          "name": "stdout",
          "text": [
            "300 원\n"
          ]
        }
      ]
    },
    {
      "cell_type": "code",
      "source": [
        "#093\n",
        "inventory = {\n",
        "    \"메로나\" : [300, 20],\n",
        "    \"비비빅\" : [400, 3],\n",
        "    \"죠스바\" : [250, 100]\n",
        "}\n",
        "print(inventory[\"메로나\"][1], \"개\")"
      ],
      "metadata": {
        "colab": {
          "base_uri": "https://localhost:8080/"
        },
        "id": "CO27YiVerqZC",
        "outputId": "3ece63a7-2500-4c3e-b232-8a5ed9d92048"
      },
      "execution_count": 11,
      "outputs": [
        {
          "output_type": "stream",
          "name": "stdout",
          "text": [
            "20 개\n"
          ]
        }
      ]
    },
    {
      "cell_type": "code",
      "source": [
        "#094\n",
        "inventory = {\n",
        "    \"메로나\" : [300, 20],\n",
        "    \"비비빅\" : [400, 3],\n",
        "    \"죠스바\" : [250, 100]\n",
        "}\n",
        "\n",
        "inventory[\"월드콘\"] = [500, 7]\n"
      ],
      "metadata": {
        "id": "MfLfnx2Ur4st"
      },
      "execution_count": 14,
      "outputs": []
    },
    {
      "cell_type": "code",
      "source": [
        "#095\n",
        "icecream = {\n",
        "    \"탱크보이\" : 1200,\n",
        "    \"폴라포\" : 1200,\n",
        "    \"빵빠레\" : 1800,\n",
        "    \"월드콘\" : 1500,\n",
        "    \"메로나\" : 1000\n",
        "}\n",
        "\n",
        "list_key = list(icecream.keys())\n",
        "print(list_key)"
      ],
      "metadata": {
        "colab": {
          "base_uri": "https://localhost:8080/"
        },
        "id": "_-eHhf7UsQDa",
        "outputId": "c0e72122-bc54-4075-8134-20967f478ba7"
      },
      "execution_count": 26,
      "outputs": [
        {
          "output_type": "execute_result",
          "data": {
            "text/plain": [
              "['탱크보이', '폴라포', '빵빠레', '월드콘', '메로나']"
            ]
          },
          "metadata": {},
          "execution_count": 26
        }
      ]
    },
    {
      "cell_type": "code",
      "source": [
        "#096\n",
        "icecream = {\n",
        "    \"탱크보이\" : 1200,\n",
        "    \"폴라포\" : 1200,\n",
        "    \"빵빠레\" : 1800,\n",
        "    \"월드콘\" : 1500,\n",
        "    \"메로나\" : 1000\n",
        "}\n",
        "\n",
        "list_val = list(icecream.values())\n",
        "print(list_val)"
      ],
      "metadata": {
        "colab": {
          "base_uri": "https://localhost:8080/"
        },
        "id": "YYNRVbiKvF1v",
        "outputId": "5f74ff19-8aa9-40a6-c05f-af22a8dd35ee"
      },
      "execution_count": 37,
      "outputs": [
        {
          "output_type": "stream",
          "name": "stdout",
          "text": [
            "[1200, 1200, 1800, 1500, 1000]\n"
          ]
        }
      ]
    },
    {
      "cell_type": "code",
      "source": [
        "#097\n",
        "icecream = {\n",
        "    \"탱크보이\" : 1200,\n",
        "    \"폴라포\" : 1200,\n",
        "    \"빵빠레\" : 1800,\n",
        "    \"월드콘\" : 1500,\n",
        "    \"메로나\" : 1000\n",
        "}\n",
        "\n",
        "list_val = list(icecream.values())\n",
        "\n",
        "total = 0\n",
        "\n",
        "for i in list_val:\n",
        "  total += i\n",
        "\n",
        "print(total)"
      ],
      "metadata": {
        "colab": {
          "base_uri": "https://localhost:8080/"
        },
        "id": "SIH21nVWwBEo",
        "outputId": "28678cb7-6e03-4f27-c6ea-d1f24b82a04d"
      },
      "execution_count": 32,
      "outputs": [
        {
          "output_type": "stream",
          "name": "stdout",
          "text": [
            "6700\n"
          ]
        }
      ]
    },
    {
      "cell_type": "code",
      "source": [
        "#098\n",
        "icecream = {\n",
        "    \"탱크보이\" : 1200,\n",
        "    \"폴라포\" : 1200,\n",
        "    \"빵빠레\" : 1800,\n",
        "    \"월드콘\" : 1500,\n",
        "    \"메로나\" : 1000\n",
        "}\n",
        "\n",
        "new_product = {\n",
        "    \"팥빙수\" : 2700,\n",
        "    '아맛나' : 1000\n",
        "}\n",
        "\n",
        "icecream.update(new_product)\n",
        "\n",
        "print(icecream)\n"
      ],
      "metadata": {
        "colab": {
          "base_uri": "https://localhost:8080/"
        },
        "id": "8ydIXzchwTbF",
        "outputId": "fa58bf5c-00bd-4494-bc73-cab27833f44c"
      },
      "execution_count": 38,
      "outputs": [
        {
          "output_type": "stream",
          "name": "stdout",
          "text": [
            "{'탱크보이': 1200, '폴라포': 1200, '빵빠레': 1800, '월드콘': 1500, '메로나': 1000, '팥빙수': 2700, '아맛나': 1000}\n"
          ]
        }
      ]
    },
    {
      "cell_type": "code",
      "source": [
        "#099\n",
        "\n",
        "keys = (\"apple\", \"pear\", \"peach\")\n",
        "vals = (300, 250, 400)\n",
        "\n",
        "result = dict(zip(keys, vals))    #zip메소드로 묶음\n",
        "\n",
        "print(result)"
      ],
      "metadata": {
        "colab": {
          "base_uri": "https://localhost:8080/"
        },
        "id": "7wEVHEEtxP3U",
        "outputId": "2a6556db-20c4-4d5e-a132-ab9097b6623f"
      },
      "execution_count": 42,
      "outputs": [
        {
          "output_type": "stream",
          "name": "stdout",
          "text": [
            "{'apple': 300, 'pear': 250, 'peach': 400}\n"
          ]
        }
      ]
    },
    {
      "cell_type": "code",
      "source": [
        "#100\n",
        "\n",
        "date = ['09/05', '09/06','09/07','09/08','09/09']\n",
        "close_price = [10500, 10300, 10100, 10800, 11000]\n",
        "\n",
        "close_table = dict(zip(date, close_price))\n",
        "\n",
        "print(close_table)"
      ],
      "metadata": {
        "colab": {
          "base_uri": "https://localhost:8080/"
        },
        "id": "ZxMXZumVyVfE",
        "outputId": "8227e69d-a459-453b-cef2-7148df1a4a9b"
      },
      "execution_count": 44,
      "outputs": [
        {
          "output_type": "stream",
          "name": "stdout",
          "text": [
            "{'09/05': 10500, '09/06': 10300, '09/07': 10100, '09/08': 10800, '09/09': 11000}\n"
          ]
        }
      ]
    },
    {
      "cell_type": "code",
      "source": [
        "#151\n",
        "\n",
        "list_n = [3, -20, -3, 44]\n",
        "\n",
        "for i in list_n:\n",
        "  if(i < 0):    #0보다 작으면 출력\n",
        "    print(i)"
      ],
      "metadata": {
        "colab": {
          "base_uri": "https://localhost:8080/"
        },
        "id": "eMzVKiH9y2ak",
        "outputId": "ad2cafff-d25b-4606-d264-9b4b4c22d5ea"
      },
      "execution_count": 48,
      "outputs": [
        {
          "output_type": "stream",
          "name": "stdout",
          "text": [
            "-20\n",
            "-3\n"
          ]
        }
      ]
    },
    {
      "cell_type": "code",
      "source": [
        "#152\n",
        "list_n = [3,100,23,44]\n",
        "\n",
        "for i in list_n:\n",
        "  if i%3 == 0:  \n",
        "    print(i)"
      ],
      "metadata": {
        "colab": {
          "base_uri": "https://localhost:8080/"
        },
        "id": "7qo_8FPnzKmt",
        "outputId": "596b01c5-5753-4d6a-e32b-395f446a4866"
      },
      "execution_count": 50,
      "outputs": [
        {
          "output_type": "stream",
          "name": "stdout",
          "text": [
            "3\n"
          ]
        }
      ]
    },
    {
      "cell_type": "code",
      "source": [
        "#153\n",
        "list_n = [13, 21, 12, 14, 30, 18]\n",
        "\n",
        "for i in list_n:\n",
        "  if i < 20 and i%3==0: #20보다 작고 3의 배수\n",
        "    print(i)"
      ],
      "metadata": {
        "colab": {
          "base_uri": "https://localhost:8080/"
        },
        "id": "V4tN2fYyzYpV",
        "outputId": "0884be79-ffa6-4fc2-cabd-cd31695184a9"
      },
      "execution_count": 52,
      "outputs": [
        {
          "output_type": "stream",
          "name": "stdout",
          "text": [
            "12\n",
            "18\n"
          ]
        }
      ]
    },
    {
      "cell_type": "code",
      "source": [
        "#154\n",
        "list_str = ['I', 'study', 'python', 'language', '!']\n",
        "\n",
        "for i in list_str:\n",
        "  if len(i) >= 3:\n",
        "    print(i)"
      ],
      "metadata": {
        "colab": {
          "base_uri": "https://localhost:8080/"
        },
        "id": "gzbWunWezq71",
        "outputId": "1b6405ba-29c0-4101-9ebe-f37d01db93ec"
      },
      "execution_count": 54,
      "outputs": [
        {
          "output_type": "stream",
          "name": "stdout",
          "text": [
            "study\n",
            "python\n",
            "language\n"
          ]
        }
      ]
    },
    {
      "cell_type": "code",
      "source": [
        "#155\n",
        "list_alpha = ['A', 'b', 'c', 'D']\n",
        "\n",
        "for i in list_alpha:\n",
        "  if i.isupper():\n",
        "    print(i)"
      ],
      "metadata": {
        "colab": {
          "base_uri": "https://localhost:8080/"
        },
        "id": "Aw_uyXg70ERP",
        "outputId": "e24ebe0c-8b78-476c-ab40-adf6d1992d8e"
      },
      "execution_count": 58,
      "outputs": [
        {
          "output_type": "stream",
          "name": "stdout",
          "text": [
            "A\n",
            "D\n"
          ]
        }
      ]
    },
    {
      "cell_type": "code",
      "source": [
        "#156\n",
        "list_alpha = ['A', 'b', 'c', 'D']\n",
        "\n",
        "for i in list_alpha:\n",
        "  if i.islower():\n",
        "    print(i)"
      ],
      "metadata": {
        "colab": {
          "base_uri": "https://localhost:8080/"
        },
        "id": "t5QhAnzz0p4w",
        "outputId": "ca966907-1500-4f4f-c2cc-1bf33249943a"
      },
      "execution_count": 60,
      "outputs": [
        {
          "output_type": "stream",
          "name": "stdout",
          "text": [
            "b\n",
            "c\n"
          ]
        }
      ]
    },
    {
      "cell_type": "code",
      "source": [
        "#157\n",
        "list_ani = ['dog', 'cat', 'parrot']\n",
        "\n",
        "for i in list_ani:\n",
        "  str1 = i[0].upper() + i[1:]\n",
        "  print(str1)\n",
        "\n"
      ],
      "metadata": {
        "colab": {
          "base_uri": "https://localhost:8080/"
        },
        "id": "b1rJAD5g098q",
        "outputId": "2a8f3d8f-b66f-409f-d3d9-260e57f12b28"
      },
      "execution_count": 71,
      "outputs": [
        {
          "output_type": "stream",
          "name": "stdout",
          "text": [
            "Dog\n",
            "Cat\n",
            "Parrot\n"
          ]
        }
      ]
    },
    {
      "cell_type": "code",
      "source": [
        "#158\n",
        "list1 = ['hello.py', 'ex01.py', 'intro.hwp']\n",
        "\n",
        "for i in list1:\n",
        "  name = i.split(\".\")[0]\n",
        "  print(name)"
      ],
      "metadata": {
        "colab": {
          "base_uri": "https://localhost:8080/"
        },
        "id": "MxL24HcB3HlQ",
        "outputId": "2c8de445-af3f-41da-b645-5cabe0f0dd2e"
      },
      "execution_count": 73,
      "outputs": [
        {
          "output_type": "stream",
          "name": "stdout",
          "text": [
            "hello\n",
            "ex01\n",
            "intro\n"
          ]
        }
      ]
    },
    {
      "cell_type": "code",
      "source": [
        "#159\n",
        "list1 = ['intra.h', 'intra.c' , 'define.h', 'run.py']\n",
        "\n",
        "for i in list1:\n",
        "  if i.split(\".\")[1] == 'h':\n",
        "    print(i)"
      ],
      "metadata": {
        "colab": {
          "base_uri": "https://localhost:8080/"
        },
        "id": "pgN6n-YS3lSZ",
        "outputId": "8bc0519c-6b34-4369-9b58-350e28b7c9a5"
      },
      "execution_count": 75,
      "outputs": [
        {
          "output_type": "stream",
          "name": "stdout",
          "text": [
            "intra.h\n",
            "define.h\n"
          ]
        }
      ]
    },
    {
      "cell_type": "code",
      "source": [
        "# 160\n",
        "list1 = ['intra.h', 'intra.c' , 'define.h', 'run.py']\n",
        "\n",
        "for i in list1:\n",
        "  if i.split('.')[1] == 'h' or i.split('.')[1] == 'c':\n",
        "    print(i)"
      ],
      "metadata": {
        "colab": {
          "base_uri": "https://localhost:8080/"
        },
        "id": "AKjxptGY4DHB",
        "outputId": "a0bfc87d-77dd-42ec-95a3-690874d41f6d"
      },
      "execution_count": 76,
      "outputs": [
        {
          "output_type": "stream",
          "name": "stdout",
          "text": [
            "intra.h\n",
            "intra.c\n",
            "define.h\n"
          ]
        }
      ]
    }
  ]
}